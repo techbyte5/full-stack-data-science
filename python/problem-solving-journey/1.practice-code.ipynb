{
 "cells": [
  {
   "cell_type": "markdown",
   "id": "fd9a8a7e-9aff-4209-91fe-4661627dc3da",
   "metadata": {},
   "source": [
    "1. you have to write a function which will take string and return a length of it without using a inbuilt function length.\n",
    "2. write a function which will be able to print an index of all premitive element which you will pass.\n",
    "3. write a function which will take input as a dict and give me out as a list of all the values even in case of 2 level nesting it should work.\n",
    "4. write a function which will take another function as an input and return me an output.\n",
    "5. write a function which will take multiple list as a input and give me concatnation of all the element as and output.\n",
    "6. write a function which will be able to take a list as an input return an index of each element like a inbuilt index function but even if we have repetative element it should return index.\n",
    "7. write a function which will return list of all the file name from a directory.\n",
    "8. write a function which will be able to show your system configuration.\n",
    "9. write a function which will be able to show date and time.\n",
    "10. write a function which will be able to read a image file and show it to you.\n",
    "11. write a function which can read video file and play for you.\n",
    "12. write a function which can move a file from one directory to another directory.\n",
    "13. write a function which will be able to shutdown your system.\n",
    "14. write a function which will be able to access your mail.\n",
    "15. write a function by which i can send a mail to anyone.\n",
    "16. write a function to read a complete PDF file.\n",
    "17. write a function to read a word file.\n",
    "18. write a function which can help you to filter only word file from a directory.\n",
    "19. write a function by which you can print an ip address of your system.\n",
    "20. write a function by which you will be able to append two PDF files. "
   ]
  },
  {
   "cell_type": "code",
   "execution_count": 1,
   "id": "21d02591-0d6d-4a24-b3fc-41096871d46b",
   "metadata": {},
   "outputs": [
    {
     "name": "stdin",
     "output_type": "stream",
     "text": [
      " syntax is the set of rules.\n"
     ]
    },
    {
     "data": {
      "text/plain": [
       "27"
      ]
     },
     "execution_count": 1,
     "metadata": {},
     "output_type": "execute_result"
    }
   ],
   "source": [
    "def string_length(s):\n",
    "    if type(s) == str:\n",
    "        length = 0\n",
    "        for i in s:\n",
    "            length += 1\n",
    "        return length\n",
    "    else:\n",
    "        return print(\"not string\")\n",
    "\n",
    "string_length(input())"
   ]
  },
  {
   "cell_type": "code",
   "execution_count": null,
   "id": "2ed77906-6da8-4940-8823-5e24c0b49784",
   "metadata": {},
   "outputs": [],
   "source": []
  }
 ],
 "metadata": {
  "kernelspec": {
   "display_name": "Python 3 (ipykernel)",
   "language": "python",
   "name": "python3"
  },
  "language_info": {
   "codemirror_mode": {
    "name": "ipython",
    "version": 3
   },
   "file_extension": ".py",
   "mimetype": "text/x-python",
   "name": "python",
   "nbconvert_exporter": "python",
   "pygments_lexer": "ipython3",
   "version": "3.12.7"
  }
 },
 "nbformat": 4,
 "nbformat_minor": 5
}
