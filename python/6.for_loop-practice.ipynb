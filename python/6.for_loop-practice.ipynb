{
 "cells": [
  {
   "cell_type": "code",
   "execution_count": 1,
   "id": "12b59df9-5672-4060-bf96-946296e59685",
   "metadata": {},
   "outputs": [],
   "source": [
    "s = \"this is basic python class\""
   ]
  },
  {
   "cell_type": "code",
   "execution_count": 2,
   "id": "4dc9ac8c-8b34-4d77-8f5d-f88f5645aa54",
   "metadata": {},
   "outputs": [
    {
     "data": {
      "text/plain": [
       "26"
      ]
     },
     "execution_count": 2,
     "metadata": {},
     "output_type": "execute_result"
    }
   ],
   "source": [
    "len(s)"
   ]
  },
  {
   "cell_type": "code",
   "execution_count": 3,
   "id": "436de8fd-972f-4b5f-a861-6957973fabfb",
   "metadata": {},
   "outputs": [
    {
     "name": "stdout",
     "output_type": "stream",
     "text": [
      "26\n"
     ]
    }
   ],
   "source": [
    "count = 0\n",
    "for i in s:\n",
    "    # count = count + 1\n",
    "    count += 1\n",
    "print(count)"
   ]
  },
  {
   "cell_type": "code",
   "execution_count": 4,
   "id": "e40ab8ab-a91a-4a1e-85eb-aff259419306",
   "metadata": {},
   "outputs": [
    {
     "data": {
      "text/plain": [
       "'ssalc nohtyp cisab si siht'"
      ]
     },
     "execution_count": 4,
     "metadata": {},
     "output_type": "execute_result"
    }
   ],
   "source": [
    "s[::-1]"
   ]
  },
  {
   "cell_type": "code",
   "execution_count": 5,
   "id": "d371f2ef-cc1f-48cb-a8fd-effce680e407",
   "metadata": {},
   "outputs": [
    {
     "name": "stdout",
     "output_type": "stream",
     "text": [
      "ssalc nohtyp cisab si siht"
     ]
    }
   ],
   "source": [
    "for i in range(len(s) - 1, -1, -1):\n",
    "    print(s[i], end = \"\") "
   ]
  },
  {
   "cell_type": "code",
   "execution_count": 6,
   "id": "a14f371a-7de6-4c0d-a893-93b514fba8a2",
   "metadata": {},
   "outputs": [
    {
     "name": "stdout",
     "output_type": "stream",
     "text": [
      "ssalc nohtyp cisab si siht"
     ]
    }
   ],
   "source": [
    "i = len(s) - 1\n",
    "while i >= 0:\n",
    "    print(s[i], end = \"\")\n",
    "    i -= 1"
   ]
  },
  {
   "cell_type": "code",
   "execution_count": 7,
   "id": "635a35b0-c746-4198-9e2f-52c63be6e656",
   "metadata": {},
   "outputs": [
    {
     "name": "stdout",
     "output_type": "stream",
     "text": [
      "E  - vowel\n",
      "d  - not vowel\n",
      "u  - vowel\n",
      "c  - not vowel\n",
      "a  - vowel\n",
      "t  - not vowel\n",
      "i  - vowel\n",
      "o  - vowel\n",
      "n  - not vowel\n"
     ]
    }
   ],
   "source": [
    "s = \"Education\"\n",
    "v = \"AaEeIiOouU\"\n",
    "for i in s:\n",
    "    if i in v:\n",
    "        print(i, \" - vowel\")\n",
    "    else:\n",
    "        print(i, \" - not vowel\")"
   ]
  },
  {
   "cell_type": "code",
   "execution_count": 8,
   "id": "14deadc2-c85a-4fe5-a851-e85a9e4e80cf",
   "metadata": {},
   "outputs": [
    {
     "name": "stdin",
     "output_type": "stream",
     "text": [
      " raceCAR\n"
     ]
    },
    {
     "name": "stdout",
     "output_type": "stream",
     "text": [
      "palindrome\n"
     ]
    }
   ],
   "source": [
    "p = input().lower()\n",
    "flag = \"palindrome\"\n",
    "for i in range(len(p)):\n",
    "    if (p[i] != p[-i-1]):\n",
    "        flag = \"not palindrom\"\n",
    "        break\n",
    "print(flag)"
   ]
  },
  {
   "cell_type": "code",
   "execution_count": 9,
   "id": "5a2bc3a9-ce92-4da2-8a6c-5673bab85a25",
   "metadata": {},
   "outputs": [
    {
     "name": "stdout",
     "output_type": "stream",
     "text": [
      "list less than or equal to 5 -  ['india', 'iran', 'iraq']\n",
      "list greater than 5 -  ['canada', 'united states', 'united kingdom']\n"
     ]
    }
   ],
   "source": [
    "country = {\"india\" : \"IN\",\n",
    "           \"canada\": \"CA\",\n",
    "           \"united states\" : \"US\",\n",
    "           \"united kingdom\" : \"UL\",\n",
    "           \"iran\": \"IR\",\n",
    "           \"iraq\": \"IQ\"\n",
    "          }\n",
    "l1 = []\n",
    "l2 = []\n",
    "for i in country:\n",
    "    if len(i) <= 5:\n",
    "        l1.append(i)\n",
    "    else:\n",
    "        l2.append(i)\n",
    "print(\"list less than or equal to 5 - \", l1)\n",
    "print(\"list greater than 5 - \", l2)"
   ]
  },
  {
   "cell_type": "code",
   "execution_count": 10,
   "id": "c1b9dcac-d186-4ef5-97c4-7a3a8dc761fa",
   "metadata": {},
   "outputs": [
    {
     "name": "stdout",
     "output_type": "stream",
     "text": [
      "18\n",
      "54\n"
     ]
    }
   ],
   "source": [
    "d = {\"ineuron\": { \"a\": 10, \"b\": 18, \"c\":14},\n",
    "     \"course\": {\"d\": 54, \"e\": 13, \"f\": 2}}\n",
    "for i in d.values():\n",
    "    print(max(i.values()))"
   ]
  },
  {
   "cell_type": "code",
   "execution_count": 11,
   "id": "b5d0e68b-592b-40f3-bc17-f929e148a8ad",
   "metadata": {},
   "outputs": [
    {
     "name": "stdout",
     "output_type": "stream",
     "text": [
      "18\n",
      "54\n"
     ]
    }
   ],
   "source": [
    "d = {\"ineuron\": {\"a\": 10, \"b\": 18, \"c\": 14},\n",
    "     \"course\" : {\"d\": 54, \"e\": 13, \"f\": 2}\n",
    "    }\n",
    "for i in d.values():\n",
    "    mx = 0\n",
    "    for j in i.values():\n",
    "        if mx < j:\n",
    "            mx = j\n",
    "    print(mx)"
   ]
  }
 ],
 "metadata": {
  "kernelspec": {
   "display_name": "Python 3 (ipykernel)",
   "language": "python",
   "name": "python3"
  },
  "language_info": {
   "codemirror_mode": {
    "name": "ipython",
    "version": 3
   },
   "file_extension": ".py",
   "mimetype": "text/x-python",
   "name": "python",
   "nbconvert_exporter": "python",
   "pygments_lexer": "ipython3",
   "version": "3.12.7"
  }
 },
 "nbformat": 4,
 "nbformat_minor": 5
}
