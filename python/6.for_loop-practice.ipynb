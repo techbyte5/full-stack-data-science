{
 "cells": [
  {
   "cell_type": "markdown",
   "id": "14213161",
   "metadata": {},
   "source": [
    "---\n",
    "# Python Loops – Real-World Tasks – EXPLANATION & NOTES\n",
    "\n",
    "<details>\n",
    "<summary><strong>Overview</strong></summary>\n",
    "\n",
    "This notebook practices **for loops** with real-world tasks:\n",
    "\n",
    "- String processing (counting characters, reversing, palindrome checking)  \n",
    "- Dictionary manipulation (filtering keys, finding max values)  \n",
    "- Combines loops with built-in functions for efficiency  \n",
    "\n",
    "Builds on basic loop concepts to solve practical problems.\n",
    "\n",
    "</details>\n",
    "\n",
    "<details>\n",
    "<summary><strong>Cell-wise Purpose and Workflow</strong></summary>\n",
    "\n",
    "- **Sections 1-3:** Character counting and string reversal using loops vs built-in methods  \n",
    "- **Section 4:** Classifying vowels in a string  \n",
    "- **Section 5:** Checking if an input string is a palindrome  \n",
    "- **Section 6:** Filtering dictionary keys based on length  \n",
    "- **Sections 7-8:** Finding maximum values in nested dictionaries  \n",
    "\n",
    "Workflow: Demonstrates both manual loop operations and Pythonic alternatives, then applies loops to solve practical string and dictionary problems.\n",
    "\n",
    "</details>\n",
    "\n",
    "<details>\n",
    "<summary><strong>Function-wise Explanation</strong></summary>\n",
    "\n",
    "**Built-in functions/methods used:**\n",
    "\n",
    "- `len()`: Length of string or list  \n",
    "- `max()`: Maximum value in a sequence  \n",
    "- `input()`: Take user input  \n",
    "- `lower()`: Convert string to lowercase for case-insensitive comparisons  \n",
    "- `range()`: Generate indices for iteration  \n",
    "\n",
    "Each function assists with **loop operations** or **data processing**.\n",
    "\n",
    "</details>\n",
    "\n",
    "<details>\n",
    "<summary><strong>Algorithm & Logic Explanation</strong></summary>\n",
    "\n",
    "- **Counting:** Increment a counter variable for each character or condition met  \n",
    "- **Reversal:** Iterate over characters backward or use slicing  \n",
    "- **Palindrome check:** Compare symmetric characters from start and end; exit early if mismatch  \n",
    "- **Filtering dict keys:** Check key lengths, append matching keys to a new list  \n",
    "- **Finding max in nested dicts:** Track maximum value while iterating over inner dictionaries  \n",
    "\n",
    "</details>\n",
    "\n",
    "<details>\n",
    "<summary><strong>Best Practices and Improvements</strong></summary>\n",
    "\n",
    "- Prefer **built-ins** like `len()` and slicing for efficiency  \n",
    "- Convert strings to lowercase (`lower()`) for consistent comparison  \n",
    "- Initialize counters and accumulators before loops  \n",
    "- Use `break` for early exit in checks (e.g., palindrome detection)  \n",
    "- Use descriptive variable names for readability (`count`, `mx`, `filtered_keys`)  \n",
    "\n",
    "</details>\n",
    "\n",
    "<details>\n",
    "<summary><strong>Common Mistakes and Pitfalls</strong></summary>\n",
    "\n",
    "- Typos in variable names or logic (`palindrom` → `palindrome`)  \n",
    "- Forgetting to initialize counters or accumulators (`count`, `mx`)  \n",
    "- Case-sensitive comparisons without normalization  \n",
    "- Incorrect loop bounds when iterating over sequences  \n",
    "- Using nested loops unnecessarily for simple tasks  \n",
    "\n",
    "</details>\n",
    "\n",
    "<details>\n",
    "<summary><strong>Data Processing Explanations</strong></summary>\n",
    "\n",
    "- **Strings:** Iterate character-by-character to analyze or transform data  \n",
    "- **Dictionaries:** Process keys and values for filtering or aggregation  \n",
    "\n",
    "</details>\n",
    "\n",
    "<details>\n",
    "<summary><strong>Performance or Optimization Tips</strong></summary>\n",
    "\n",
    "- Built-in methods (`len()`, slicing, `max()`) are faster than manual loops  \n",
    "- Avoid nested loops if a single-pass approach is possible  \n",
    "- For very long strings or large dictionaries, consider generator expressions  \n",
    "\n",
    "</details>\n",
    "\n",
    "<details>\n",
    "<summary><strong>Debugging Hints</strong></summary>\n",
    "\n",
    "- Print intermediate values during iteration  \n",
    "- Test with known inputs to verify counts, reversals, or palindrome logic  \n",
    "- Check initialization of counters before loops  \n",
    "- Validate loop boundaries for string and dict traversal  \n",
    "\n",
    "</details>\n",
    "\n",
    "<details>\n",
    "<summary><strong>Encouragement</strong></summary>\n",
    "\n",
    "Great practice for mastering **loops with real-world string and dictionary tasks**!  \n",
    "Experiment with different strings and dictionary structures to strengthen understanding and efficiency of loop-based solutions.\n",
    "\n",
    "</details>"
   ]
  },
  {
   "cell_type": "markdown",
   "id": "b717e488",
   "metadata": {},
   "source": [
    "---\n",
    "### For Loop Practice Notebook\n",
    "\n",
    "This notebook provides practical exercises with for loops in Python:\n",
    "- String manipulation: counting, reversing, vowel checking\n",
    "- Palindrome detection\n",
    "- Dictionary operations: filtering keys, finding max values\n",
    "\n",
    "Demonstrates loop applications for common tasks.\n",
    "\n",
    "Note: Includes examples of string reversal, conditionals in loops, and dict iteration.\n",
    "      Minor typos (e.g., \"palindrom\") are present for realism."
   ]
  },
  {
   "cell_type": "markdown",
   "id": "44487bc9",
   "metadata": {},
   "source": [
    "---\n",
    "### Section 1: Counting Characters in String"
   ]
  },
  {
   "cell_type": "code",
   "execution_count": 1,
   "id": "12b59df9-5672-4060-bf96-946296e59685",
   "metadata": {},
   "outputs": [],
   "source": [
    "s = \"this is basic python class\"  # String"
   ]
  },
  {
   "cell_type": "code",
   "execution_count": 2,
   "id": "4dc9ac8c-8b34-4d77-8f5d-f88f5645aa54",
   "metadata": {},
   "outputs": [
    {
     "data": {
      "text/plain": [
       "26"
      ]
     },
     "execution_count": 2,
     "metadata": {},
     "output_type": "execute_result"
    }
   ],
   "source": [
    "len(s)  # Built-in length: 26"
   ]
  },
  {
   "cell_type": "code",
   "execution_count": 3,
   "id": "436de8fd-972f-4b5f-a861-6957973fabfb",
   "metadata": {},
   "outputs": [
    {
     "name": "stdout",
     "output_type": "stream",
     "text": [
      "26\n"
     ]
    }
   ],
   "source": [
    "count = 0  # Initialize counter\n",
    "for i in s:  # Iterate over each char\n",
    "    # count = count + 1  # Increment\n",
    "    count += 1  # Increment count\n",
    "print(count)  # Prints 26\n",
    "# Counting characters in a string without using built-in functions\n",
    "# Using for loop and manual counter increment"
   ]
  },
  {
   "cell_type": "markdown",
   "id": "58fc68ac",
   "metadata": {},
   "source": [
    "---\n",
    "### Section 2: Reversing String with For Loop"
   ]
  },
  {
   "cell_type": "code",
   "execution_count": 4,
   "id": "e40ab8ab-a91a-4a1e-85eb-aff259419306",
   "metadata": {},
   "outputs": [
    {
     "data": {
      "text/plain": [
       "'ssalc nohtyp cisab si siht'"
      ]
     },
     "execution_count": 4,
     "metadata": {},
     "output_type": "execute_result"
    }
   ],
   "source": [
    "s[::-1]  # Built-in reverse"
   ]
  },
  {
   "cell_type": "code",
   "execution_count": 5,
   "id": "d371f2ef-cc1f-48cb-a8fd-effce680e407",
   "metadata": {},
   "outputs": [
    {
     "name": "stdout",
     "output_type": "stream",
     "text": [
      "ssalc nohtyp cisab si siht"
     ]
    }
   ],
   "source": [
    "for i in range(len(s) - 1, -1, -1):  # From last index to 0\n",
    "    print(s[i], end = \"\")  # Print char without newline\n",
    "# Reversing a string using for loop and indexing\n",
    "# Without using built-in reverse functions"
   ]
  },
  {
   "cell_type": "markdown",
   "id": "b9cc5270",
   "metadata": {},
   "source": [
    "### Section 3: Reversing String with While Loop"
   ]
  },
  {
   "cell_type": "code",
   "execution_count": 6,
   "id": "a14f371a-7de6-4c0d-a893-93b514fba8a2",
   "metadata": {},
   "outputs": [
    {
     "name": "stdout",
     "output_type": "stream",
     "text": [
      "ssalc nohtyp cisab si siht"
     ]
    }
   ],
   "source": [
    "i = len(s) - 1  # Start from last index\n",
    "while i >= 0:  # While index >= 0\n",
    "    print(s[i], end = \"\")  # Print char\n",
    "    i -= 1  # Decrement index\n",
    "# Reversing a string using while loop and indexing\n",
    "# Without using built-in reverse functions"
   ]
  },
  {
   "cell_type": "markdown",
   "id": "8d8540c6",
   "metadata": {},
   "source": [
    "---\n",
    "### Section 4: Vowel Checker"
   ]
  },
  {
   "cell_type": "code",
   "execution_count": 7,
   "id": "635a35b0-c746-4198-9e2f-52c63be6e656",
   "metadata": {},
   "outputs": [
    {
     "name": "stdout",
     "output_type": "stream",
     "text": [
      "E  - vowel\n",
      "d  - not vowel\n",
      "u  - vowel\n",
      "c  - not vowel\n",
      "a  - vowel\n",
      "t  - not vowel\n",
      "i  - vowel\n",
      "o  - vowel\n",
      "n  - not vowel\n"
     ]
    }
   ],
   "source": [
    "s = \"Education\"  # New string\n",
    "v = \"AaEeIiOouU\"  # Vowels (upper and lower)\n",
    "for i in s:  # Iterate over chars\n",
    "    if i in v:  # If vowel\n",
    "        print(i, \" - vowel\")\n",
    "    else:  # Consonant\n",
    "        print(i, \" - not vowel\")\n",
    "# Checking vowels in a string using for loop and membership test"
   ]
  },
  {
   "cell_type": "markdown",
   "id": "f5a48b8d",
   "metadata": {},
   "source": [
    "-----\n",
    "### Section 5: Palindrome Checker"
   ]
  },
  {
   "cell_type": "code",
   "execution_count": 8,
   "id": "14deadc2-c85a-4fe5-a851-e85a9e4e80cf",
   "metadata": {},
   "outputs": [
    {
     "name": "stdin",
     "output_type": "stream",
     "text": [
      " raceCAR\n"
     ]
    },
    {
     "name": "stdout",
     "output_type": "stream",
     "text": [
      "palindrome\n"
     ]
    }
   ],
   "source": [
    "p = input().lower()  # User input, lowercase\n",
    "flag = \"palindrome\"  # Assume palindrome\n",
    "for i in range(len(p)):  # Iterate indices\n",
    "    if (p[i] != p[-i-1]):  # Compare char with mirror\n",
    "        flag = \"not palindrom\"  # Typo: should be \"palindrome\"\n",
    "        break  # Exit if mismatch\n",
    "print(flag)  # Print result\n",
    "# Palindrome checker using for loop and indexing\n",
    "# Note: Ignores spaces, punctuation, case sensitivity\n",
    "# Example inputs: \"madam\", \"nurses run\n",
    "# Outputs: \"palindrome\", \"not palindrome\"\n",
    "# Fix the typo in the flag assignment to \"not palindrome\""
   ]
  },
  {
   "cell_type": "markdown",
   "id": "f174e531",
   "metadata": {},
   "source": [
    "---\n",
    "### Section 6: Filtering Dictionary Keys by Length"
   ]
  },
  {
   "cell_type": "code",
   "execution_count": 9,
   "id": "5a2bc3a9-ce92-4da2-8a6c-5673bab85a25",
   "metadata": {},
   "outputs": [
    {
     "name": "stdout",
     "output_type": "stream",
     "text": [
      "list less than or equal to 5 -  ['india', 'iran', 'iraq']\n",
      "list greater than 5 -  ['canada', 'united states', 'united kingdom']\n"
     ]
    }
   ],
   "source": [
    "country = {\"india\" : \"IN\",  # Dict of countries\n",
    "           \"canada\": \"CA\",\n",
    "           \"united states\" : \"US\",\n",
    "           \"united kingdom\" : \"UL\",\n",
    "           \"iran\": \"IR\",\n",
    "           \"iraq\": \"IQ\"\n",
    "          }\n",
    "l1 = []  # For short keys\n",
    "l2 = []  # For long keys\n",
    "for i in country:  # Iterate keys\n",
    "    if len(i) <= 5:  # Short\n",
    "        l1.append(i)\n",
    "    else:  # Long\n",
    "        l2.append(i)\n",
    "print(\"list less than or equal to 5 - \", l1)\n",
    "print(\"list greater than 5 - \", l2)\n",
    "# Filtering dictionary keys by length using for loop and len()\n",
    "# Keys <= 5 chars in one list, others in another\n",
    "# Example output:\n",
    "# list less than or equal to 5 -  ['india', 'iran', 'iraq']\n",
    "# list greater than 5 -  ['canada', 'united states', 'united kingdom']"
   ]
  },
  {
   "cell_type": "markdown",
   "id": "41dcdda4",
   "metadata": {},
   "source": [
    "---\n",
    "### Section 7: Finding Max in Nested Dict Values"
   ]
  },
  {
   "cell_type": "code",
   "execution_count": 10,
   "id": "c1b9dcac-d186-4ef5-97c4-7a3a8dc761fa",
   "metadata": {},
   "outputs": [
    {
     "name": "stdout",
     "output_type": "stream",
     "text": [
      "18\n",
      "54\n"
     ]
    }
   ],
   "source": [
    "d = {\"ineuron\": { \"a\": 10, \"b\": 18, \"c\":14},  # Nested dict\n",
    "     \"course\": {\"d\": 54, \"e\": 13, \"f\": 2}}\n",
    "for i in d.values():  # Iterate inner dicts\n",
    "    print(max(i.values()))  # Print max value in each\n",
    "# Finding max in nested dictionary values using for loop and max()."
   ]
  },
  {
   "cell_type": "markdown",
   "id": "4a0ba378",
   "metadata": {},
   "source": [
    "### Section 8: Manual Max Finding"
   ]
  },
  {
   "cell_type": "code",
   "execution_count": 11,
   "id": "b5d0e68b-592b-40f3-bc17-f929e148a8ad",
   "metadata": {},
   "outputs": [
    {
     "name": "stdout",
     "output_type": "stream",
     "text": [
      "18\n",
      "54\n"
     ]
    }
   ],
   "source": [
    "d = {\"ineuron\": {\"a\": 10, \"b\": 18, \"c\": 14},  # Same dict\n",
    "     \"course\" : {\"d\": 54, \"e\": 13, \"f\": 2}\n",
    "    }\n",
    "for i in d.values():  # Iterate inner\n",
    "    mx = 0  # Initialize max\n",
    "    for j in i.values():  # Iterate values\n",
    "        if mx < j:  # If larger\n",
    "            mx = j  # Update max\n",
    "    print(mx)  # Print max\n",
    "# Manual max finding in nested dictionary values using for loops.\n",
    "# Without using built-in max()"
   ]
  },
  {
   "cell_type": "markdown",
   "id": "a52172ab",
   "metadata": {},
   "source": [
    "---"
   ]
  }
 ],
 "metadata": {
  "kernelspec": {
   "display_name": "Python 3 (ipykernel)",
   "language": "python",
   "name": "python3"
  },
  "language_info": {
   "codemirror_mode": {
    "name": "ipython",
    "version": 3
   },
   "file_extension": ".py",
   "mimetype": "text/x-python",
   "name": "python",
   "nbconvert_exporter": "python",
   "pygments_lexer": "ipython3",
   "version": "3.12.7"
  }
 },
 "nbformat": 4,
 "nbformat_minor": 5
}
