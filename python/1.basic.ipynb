{
 "cells": [
  {
   "cell_type": "markdown",
   "id": "0c64ad0e",
   "metadata": {
    "jp-MarkdownHeadingCollapsed": true
   },
   "source": [
    "-----\n",
    "# Python Basics Tutorial – EXPLANATION & NOTES\n",
    "\n",
    "<details>\n",
    "<summary><strong>Overview</strong></summary>\n",
    "\n",
    "This Jupyter Notebook serves as an **introductory tutorial to basic Python concepts**:\n",
    "\n",
    "- Variable assignment and reassignment  \n",
    "- Data types: int, float, str, complex, bool  \n",
    "- Arithmetic operations and type conversion  \n",
    "- Type checking using `type()`  \n",
    "- String operations and concatenation  \n",
    "- Boolean arithmetic  \n",
    "- Handling user input and errors  \n",
    "\n",
    "The notebook is structured as a sequence of code cells illustrating each concept, including intentional errors for learning.\n",
    "\n",
    "</details>\n",
    "\n",
    "<details>\n",
    "<summary><strong>Cell-wise Purpose and Workflow</strong></summary>\n",
    "\n",
    "- **Cells 1-4:** Basic output and arithmetic (`print()`, simple math)  \n",
    "- **Cells 5-15:** Variable assignment and data types; demonstrate int, str, complex numbers, type checking  \n",
    "- **Cells 16-22:** String handling and common syntax errors (missing quotes, invalid operators)  \n",
    "- **Cells 23-31:** Variable reassignment and display; dynamic typing  \n",
    "- **Cells 32-39:** Multiple assignment (unpacking)  \n",
    "- **Cells 40-49:** Unpacking errors and complex number attributes  \n",
    "- **Cells 50-53:** String concatenation and type conversion  \n",
    "- **Cells 54-58:** Boolean arithmetic (True=1, False=0)  \n",
    "- **Cells 59-68:** User input and type conversion with `input()`, `int()`, `float()`  \n",
    "\n",
    "Workflow progresses from **simple to complex**, with examples illustrating errors, dynamic typing, and type conversions.\n",
    "\n",
    "</details>\n",
    "\n",
    "<details>\n",
    "<summary><strong>Function-wise Explanation</strong></summary>\n",
    "\n",
    "No custom functions are defined in this notebook; all operations are top-level.\n",
    "\n",
    "**Built-in functions used:**\n",
    "\n",
    "- `print()` – outputs text to the console  \n",
    "- `type()` – returns the type of a variable  \n",
    "- `input()` – reads user input as a string  \n",
    "- `int()` / `float()` – converts string to numeric types  \n",
    "- `str()` – converts numbers to string for concatenation  \n",
    "\n",
    "</details>\n",
    "\n",
    "<details>\n",
    "<summary><strong>Algorithm & Logic Explanation</strong></summary>\n",
    "\n",
    "- Demonstrates **linear progression** from simple outputs to complex variable operations  \n",
    "- Highlights **dynamic typing**: variables can change type after reassignment  \n",
    "- Arithmetic and concatenation follow Python rules; errors illustrate type mismatches  \n",
    "- User input requires type conversion to perform arithmetic operations  \n",
    "\n",
    "</details>\n",
    "\n",
    "<details>\n",
    "<summary><strong>Best Practices and Improvements</strong></summary>\n",
    "\n",
    "- Use **descriptive variable names** (`number1`, `text`) instead of `a`, `b`  \n",
    "- Add **error handling**: wrap `int(input())` in try-except blocks  \n",
    "- Maintain **consistent formatting**: spaces around operators, readable code  \n",
    "- Use **docstrings or comments** at the top of cells for clarity  \n",
    "- Avoid frequent reassignment of variables; use new variables to reduce confusion  \n",
    "- Validate **user inputs** before performing operations  \n",
    "\n",
    "</details>\n",
    "\n",
    "<details>\n",
    "<summary><strong>Common Mistakes and Pitfalls</strong></summary>\n",
    "\n",
    "- Missing quotes for strings (`e = abc` → `e = \"abc\"`)  \n",
    "- Invalid syntax (`*a = 10`)  \n",
    "- Mixing incompatible types without conversion (`a + \"4\"`)  \n",
    "- Unpacking mismatches: number of variables ≠ number of values  \n",
    "- Forgetting type conversion for `input()` results in ValueError  \n",
    "\n",
    "</details>\n",
    "\n",
    "<details>\n",
    "<summary><strong>Data Processing Explanations</strong></summary>\n",
    "\n",
    "- Basic operations on **primitive types** (int, str, float, complex, bool)  \n",
    "- Type conversion is key for operations like string concatenation or arithmetic  \n",
    "- No advanced data processing (like Pandas or NumPy) in this notebook  \n",
    "\n",
    "</details>\n",
    "\n",
    "<details>\n",
    "<summary><strong>Debugging Hints and Error Fixes</strong></summary>\n",
    "\n",
    "- `NameError`: Check variable names or missing quotes  \n",
    "- `SyntaxError`: Look for invalid operators or missing colons  \n",
    "- `TypeError`: Ensure compatible types; use `int()`, `str()`, etc.  \n",
    "- `ValueError`: Ensure correct number of values in unpacking or type conversion  \n",
    "- Use `print()` to inspect variables  \n",
    "- Run cells individually to isolate errors  \n",
    "\n",
    "</details>\n",
    "\n",
    "<details>\n",
    "<summary><strong>Performance or Optimization Tips</strong></summary>\n",
    "\n",
    "- For small scripts, performance is not a concern  \n",
    "- Avoid unnecessary reassignments to reduce memory usage  \n",
    "- Use meaningful variable names for maintainability  \n",
    "- For large lists, consider list comprehensions or vectorized operations  \n",
    "\n",
    "</details>\n",
    "\n",
    "<details>\n",
    "<summary><strong>Project Folder Structure and Workflow</strong></summary>\n",
    "\n",
    "- Single notebook in `python/` folder  \n",
    "- Workflow: Execute cells sequentially → Learn concepts → Fix errors  \n",
    "- Organize similar notebooks in subfolders (`basics/`, `advanced/`)  \n",
    "- Version control: Use Git for tracking changes  \n",
    "\n",
    "</details>\n",
    "\n",
    "-----"
   ]
  },
  {
   "cell_type": "markdown",
   "id": "a0d218fe-056f-4eb0-92d4-9ab2dcb32653",
   "metadata": {},
   "source": [
    "# Basic Python Concepts\n",
    "\n",
    "<details>\n",
    "<summary><strong>Overview</strong></summary>\n",
    "\n",
    "This notebook introduces fundamental Python programming concepts, including:\n",
    "\n",
    "- Printing output and basic arithmetic operations  \n",
    "- Variable assignment and data types (integers, strings, complex numbers, booleans)  \n",
    "- Type checking using the `type()` function  \n",
    "- Handling errors and exceptions in code  \n",
    "- String concatenation and type conversion  \n",
    "- Boolean arithmetic and user input\n",
    "\n",
    "**Note:** This code contains intentional errors for educational purposes to demonstrate common mistakes. In a real scenario, these would be fixed to avoid runtime exceptions.\n",
    "\n",
    "</details>"
   ]
  },
  {
   "cell_type": "markdown",
   "id": "865017a6-aa2d-4a97-a5f8-391b5f08c946",
   "metadata": {},
   "source": [
    "-----\n",
    "### Cell 1: Importing the Zen of Python"
   ]
  },
  {
   "cell_type": "code",
   "execution_count": 1,
   "id": "08b184d9-aa89-44f7-b3c2-0a75841fcee3",
   "metadata": {
    "editable": true,
    "slideshow": {
     "slide_type": ""
    },
    "tags": []
   },
   "outputs": [
    {
     "name": "stdout",
     "output_type": "stream",
     "text": [
      "The Zen of Python, by Tim Peters\n",
      "\n",
      "Beautiful is better than ugly.\n",
      "Explicit is better than implicit.\n",
      "Simple is better than complex.\n",
      "Complex is better than complicated.\n",
      "Flat is better than nested.\n",
      "Sparse is better than dense.\n",
      "Readability counts.\n",
      "Special cases aren't special enough to break the rules.\n",
      "Although practicality beats purity.\n",
      "Errors should never pass silently.\n",
      "Unless explicitly silenced.\n",
      "In the face of ambiguity, refuse the temptation to guess.\n",
      "There should be one-- and preferably only one --obvious way to do it.\n",
      "Although that way may not be obvious at first unless you're Dutch.\n",
      "Now is better than never.\n",
      "Although never is often better than *right* now.\n",
      "If the implementation is hard to explain, it's a bad idea.\n",
      "If the implementation is easy to explain, it may be a good idea.\n",
      "Namespaces are one honking great idea -- let's do more of those!\n"
     ]
    }
   ],
   "source": [
    "import this  # Imports the 'this' module, which prints the Zen of Python (PEP 20) - a collection of guiding principles for Python programming"
   ]
  },
  {
   "cell_type": "markdown",
   "id": "9935de25-a0b8-461b-bb4e-cadf9462db11",
   "metadata": {},
   "source": [
    "### Cell 2: Basic print statement"
   ]
  },
  {
   "cell_type": "code",
   "execution_count": 2,
   "id": "17d2c7e4-56f3-4290-b7d1-914b559ab14b",
   "metadata": {},
   "outputs": [
    {
     "name": "stdout",
     "output_type": "stream",
     "text": [
      "this is my first program\n"
     ]
    }
   ],
   "source": [
    "print(\"this is my first program\")  # Prints the string \"this is my first program\" to the console. This is a simple output statement.\n",
    "# The code demonstrates basic Python syntax and the use of the print function to display output."
   ]
  },
  {
   "cell_type": "markdown",
   "id": "d4dc30f8-3e87-4578-a6b5-faf0bd0c4f3f",
   "metadata": {},
   "source": [
    "### Cell 3: Arithmetic operations   "
   ]
  },
  {
   "cell_type": "code",
   "execution_count": 3,
   "id": "436155d4-253c-4be2-9ea4-8f0d534cdc1d",
   "metadata": {},
   "outputs": [
    {
     "data": {
      "text/plain": [
       "3"
      ]
     },
     "execution_count": 3,
     "metadata": {},
     "output_type": "execute_result"
    }
   ],
   "source": [
    "1 + 2  # Performs addition: 1 + 2 = 3. In Jupyter, the result is displayed automatically.\n",
    "3 / 2  # Performs division: 3 divided by 2 = 1.5\n",
    "5 * 6  # Performs multiplication: 5 times 6 = 30.\n",
    "7 - 4  # Performs subtraction: 7 minus 4 = 3.\n",
    "# The code covers basic arithmetic operations.\n",
    "# Each operation is performed, and in a Jupyter notebook, the result of the last operation is displayed automatically."
   ]
  },
  {
   "cell_type": "markdown",
   "id": "f73bfd0e",
   "metadata": {},
   "source": [
    "### Cell 4: Division operation"
   ]
  },
  {
   "cell_type": "code",
   "execution_count": 4,
   "id": "da6f853c-649b-471e-847d-4df749dafbaa",
   "metadata": {},
   "outputs": [
    {
     "data": {
      "text/plain": [
       "0.42857142857142855"
      ]
     },
     "execution_count": 4,
     "metadata": {},
     "output_type": "execute_result"
    }
   ],
   "source": [
    "3 / 7  # Performs division: 3 divided by 7 = 0.42857142857142855. Note: In Python 3, / always returns a float."
   ]
  },
  {
   "cell_type": "markdown",
   "id": "0adc1b0b-049c-4181-af35-20be0e4d854e",
   "metadata": {},
   "source": [
    "-----\n",
    "### Cell 5: Variable assignment"
   ]
  },
  {
   "cell_type": "code",
   "execution_count": 5,
   "id": "72690eb0-cadd-4220-b277-f83360e7556f",
   "metadata": {},
   "outputs": [],
   "source": [
    "a = 1234  # Assigns the integer value 1234 to variable 'a'. Variables store data for later use."
   ]
  },
  {
   "cell_type": "markdown",
   "id": "7a74250c",
   "metadata": {},
   "source": [
    "### Cell 6: Another variable assignment\n"
   ]
  },
  {
   "cell_type": "code",
   "execution_count": 6,
   "id": "f04c6d58-5c69-40ec-a576-c01186007b36",
   "metadata": {},
   "outputs": [],
   "source": [
    "b = 5678  # Assigns the integer value 5678 to variable 'b'.\n",
    "# Variables are used to store data that can be referenced and manipulated later in the code."
   ]
  },
  {
   "cell_type": "markdown",
   "id": "3c4055a0",
   "metadata": {},
   "source": [
    "### Cell 7: Displaying variable value"
   ]
  },
  {
   "cell_type": "code",
   "execution_count": 7,
   "id": "889170c2-7500-476d-85de-2be5c6bd40ac",
   "metadata": {},
   "outputs": [
    {
     "data": {
      "text/plain": [
       "1234"
      ]
     },
     "execution_count": 7,
     "metadata": {},
     "output_type": "execute_result"
    }
   ],
   "source": [
    "a  # Displays the value of 'a', which is 1234."
   ]
  },
  {
   "cell_type": "markdown",
   "id": "de1f7247",
   "metadata": {},
   "source": [
    "### Cell 8: Displaying variable value\n"
   ]
  },
  {
   "cell_type": "code",
   "execution_count": 8,
   "id": "4b30f9e7-2034-4ea9-93bc-03abcfd9b57f",
   "metadata": {},
   "outputs": [
    {
     "data": {
      "text/plain": [
       "5678"
      ]
     },
     "execution_count": 8,
     "metadata": {},
     "output_type": "execute_result"
    }
   ],
   "source": [
    "b  # Displays the value of 'b', which is 5678.\n",
    "# In Jupyter, simply typing the variable name will display its value."
   ]
  },
  {
   "cell_type": "markdown",
   "id": "948217c3",
   "metadata": {},
   "source": [
    "### Cell 9: Type checking\n"
   ]
  },
  {
   "cell_type": "code",
   "execution_count": 9,
   "id": "3b83a7ce-9f4e-4b2d-bbef-9ba99f94755e",
   "metadata": {},
   "outputs": [
    {
     "data": {
      "text/plain": [
       "int"
      ]
     },
     "execution_count": 9,
     "metadata": {},
     "output_type": "execute_result"
    }
   ],
   "source": [
    "type(a)  # Returns the data type of 'a', which is <class 'int'> (integer)."
   ]
  },
  {
   "cell_type": "markdown",
   "id": "5f1ce857",
   "metadata": {},
   "source": [
    "### Cell 10: Type checking\n"
   ]
  },
  {
   "cell_type": "code",
   "execution_count": 10,
   "id": "f83353cf-3a88-4fea-87fe-045e0c2c9fe8",
   "metadata": {},
   "outputs": [
    {
     "data": {
      "text/plain": [
       "int"
      ]
     },
     "execution_count": 10,
     "metadata": {},
     "output_type": "execute_result"
    }
   ],
   "source": [
    "type(b)  # Returns the data type of 'b', which is <class 'int'> (integer).\n",
    "# The type() function is used to check the data type of a variable."
   ]
  },
  {
   "cell_type": "markdown",
   "id": "55936ecc",
   "metadata": {},
   "source": [
    "### Cell 11: String variable assignment\n"
   ]
  },
  {
   "cell_type": "code",
   "execution_count": 11,
   "id": "2bd0ee9a-0144-47f2-b99e-c046aa1c17eb",
   "metadata": {},
   "outputs": [],
   "source": [
    "c = \"abcd\"  # Assigns the string \"abcd\" to variable 'c'. Strings are sequences of characters."
   ]
  },
  {
   "cell_type": "markdown",
   "id": "68e39fa2",
   "metadata": {},
   "source": [
    "### Cell 12: Type checking for string"
   ]
  },
  {
   "cell_type": "code",
   "execution_count": 12,
   "id": "55610c89-0e16-4315-b715-9154a9c5ddb2",
   "metadata": {},
   "outputs": [
    {
     "data": {
      "text/plain": [
       "str"
      ]
     },
     "execution_count": 12,
     "metadata": {},
     "output_type": "execute_result"
    }
   ],
   "source": [
    "type(c)  # Returns the data type of 'c', which is <class 'str'> (string).\n",
    "# The type() function confirms that 'c' is of string type."
   ]
  },
  {
   "cell_type": "markdown",
   "id": "0d846d44",
   "metadata": {},
   "source": [
    "### Cell 13: Complex number assignment"
   ]
  },
  {
   "cell_type": "code",
   "execution_count": 13,
   "id": "846b0d7b-eeb9-4cb0-b461-debed67b5f18",
   "metadata": {},
   "outputs": [],
   "source": [
    "d = 5 + 6j  # Assigns a complex number (5 + 6i) to 'd'. 'j' represents the imaginary unit."
   ]
  },
  {
   "cell_type": "markdown",
   "id": "a966452c",
   "metadata": {},
   "source": [
    "### Cell 14: Type checking for complex number\n"
   ]
  },
  {
   "cell_type": "code",
   "execution_count": 14,
   "id": "11dc51c0-a04c-48c0-a1ae-306684414c58",
   "metadata": {},
   "outputs": [
    {
     "data": {
      "text/plain": [
       "complex"
      ]
     },
     "execution_count": 14,
     "metadata": {},
     "output_type": "execute_result"
    }
   ],
   "source": [
    "type(d)  # Returns <class 'complex'>, indicating that 'd' is a complex number.\n",
    "# Complex numbers have a real part and an imaginary part, and are used in advanced mathematical computations."
   ]
  },
  {
   "cell_type": "markdown",
   "id": "960238a8",
   "metadata": {},
   "source": [
    "### Cell 15: Displaying complex number"
   ]
  },
  {
   "cell_type": "code",
   "execution_count": 15,
   "id": "3e2ca17b-61cd-4695-b727-a1e15ec94563",
   "metadata": {},
   "outputs": [
    {
     "data": {
      "text/plain": [
       "(5+6j)"
      ]
     },
     "execution_count": 15,
     "metadata": {},
     "output_type": "execute_result"
    }
   ],
   "source": [
    "d  # Displays the complex number: (5+6j).\n",
    "# In Jupyter, typing the variable name 'd' will display its value.\n",
    "# Complex numbers are useful in various fields such as engineering and physics."
   ]
  },
  {
   "cell_type": "markdown",
   "id": "f7cabb5b",
   "metadata": {},
   "source": [
    "-----\n",
    "### Cell 16: Attempted variable assignment (Error: NameError)\n"
   ]
  },
  {
   "cell_type": "code",
   "execution_count": 16,
   "id": "df3cef56-6efa-4087-a44b-7cc507761527",
   "metadata": {},
   "outputs": [
    {
     "ename": "NameError",
     "evalue": "name 'abcdefghijkl' is not defined",
     "output_type": "error",
     "traceback": [
      "\u001b[0;31m---------------------------------------------------------------------------\u001b[0m",
      "\u001b[0;31mNameError\u001b[0m                                 Traceback (most recent call last)",
      "Cell \u001b[0;32mIn[16], line 1\u001b[0m\n\u001b[0;32m----> 1\u001b[0m e \u001b[38;5;241m=\u001b[39m abcdefghijkl\n",
      "\u001b[0;31mNameError\u001b[0m: name 'abcdefghijkl' is not defined"
     ]
    }
   ],
   "source": [
    "e = abcdefghijkl  # ERROR: 'abcdefghijkl' is not defined. This will raise a NameError because it's treated as a variable name, not a string. \n",
    "# Fix: Use quotes: e = \"abcdefghijkl\"\n",
    "# Error Example: Undefined Variable\n",
    "# Demonstrates NameError when using undefined variable."
   ]
  },
  {
   "cell_type": "markdown",
   "id": "c1bcbbf4",
   "metadata": {},
   "source": [
    "### Cell 17: Correct string assignment"
   ]
  },
  {
   "cell_type": "code",
   "execution_count": 17,
   "id": "cbfec166-7dcb-44e0-9483-ae0677b072b5",
   "metadata": {},
   "outputs": [],
   "source": [
    "f = \"abcdefghijklmn\"  # Assigns the string \"abcdefghijklmn\" to 'f'.\n",
    "# Correct way to assign a string."
   ]
  },
  {
   "cell_type": "markdown",
   "id": "43be7786",
   "metadata": {},
   "source": [
    "### Cell 18: Displaying string"
   ]
  },
  {
   "cell_type": "code",
   "execution_count": 18,
   "id": "57dded1c-4773-4966-9bba-4dc666831e76",
   "metadata": {},
   "outputs": [
    {
     "data": {
      "text/plain": [
       "'abcdefghijklmn'"
      ]
     },
     "execution_count": 18,
     "metadata": {},
     "output_type": "execute_result"
    }
   ],
   "source": [
    "f  # Displays the string.\n",
    "# In Jupyter, typing the variable name 'f' will display its value."
   ]
  },
  {
   "cell_type": "markdown",
   "id": "d223b1bb",
   "metadata": {},
   "source": [
    "### Cell 19: Boolean assignment"
   ]
  },
  {
   "cell_type": "code",
   "execution_count": 19,
   "id": "7c5a6453-7c68-48c2-96d2-95f841e02c41",
   "metadata": {},
   "outputs": [],
   "source": [
    "g = True  # Assigns the boolean value True to 'g'. Booleans represent True or False."
   ]
  },
  {
   "cell_type": "markdown",
   "id": "d69cdf65",
   "metadata": {},
   "source": [
    "### Cell 20: Type checking for boolean"
   ]
  },
  {
   "cell_type": "code",
   "execution_count": 20,
   "id": "fa25ae19-cb0d-4b12-809e-2a4096c15981",
   "metadata": {},
   "outputs": [
    {
     "data": {
      "text/plain": [
       "bool"
      ]
     },
     "execution_count": 20,
     "metadata": {},
     "output_type": "execute_result"
    }
   ],
   "source": [
    "type(g)  # Returns the data type of 'g', which is <class 'bool'> (boolean)."
   ]
  },
  {
   "cell_type": "markdown",
   "id": "9d20f4e1",
   "metadata": {},
   "source": [
    "### Cell 21: Attempted assignment (Error: SyntaxError)"
   ]
  },
  {
   "cell_type": "code",
   "execution_count": 21,
   "id": "65f531e7-5ee3-4e36-af5b-3129c08faf5e",
   "metadata": {},
   "outputs": [
    {
     "ename": "SyntaxError",
     "evalue": "starred assignment target must be in a list or tuple (650567682.py, line 1)",
     "output_type": "error",
     "traceback": [
      "\u001b[0;36m  Cell \u001b[0;32mIn[21], line 1\u001b[0;36m\u001b[0m\n\u001b[0;31m    *a = 10  # ERROR: SyntaxError - cannot assign to operator '*'. This is invalid syntax.\u001b[0m\n\u001b[0m    ^\u001b[0m\n\u001b[0;31mSyntaxError\u001b[0m\u001b[0;31m:\u001b[0m starred assignment target must be in a list or tuple\n"
     ]
    }
   ],
   "source": [
    "*a = 10  # ERROR: SyntaxError - cannot assign to operator '*'. This is invalid syntax. \n",
    "# Fix: Use a valid variable name, e.g., a = 10\n",
    "# Error Example: Invalid Assignment\n",
    "# Demonstrates SyntaxError with invalid variable name."
   ]
  },
  {
   "cell_type": "markdown",
   "id": "0b0e0971",
   "metadata": {},
   "source": [
    "### Cell 22: Valid variable assignment"
   ]
  },
  {
   "cell_type": "code",
   "execution_count": 22,
   "id": "1675fc61-0451-419f-94d6-374501d9b159",
   "metadata": {},
   "outputs": [],
   "source": [
    "\n",
    "_a = 10  # Assigns 10 to '_a'. \n",
    "# Variable names can start with underscore.\n",
    "# Valid Underscore Variable"
   ]
  },
  {
   "cell_type": "markdown",
   "id": "68e394a9",
   "metadata": {},
   "source": [
    "-----\n",
    "### Cell 23: Displaying variable"
   ]
  },
  {
   "cell_type": "code",
   "execution_count": 23,
   "id": "4368bd4a-97a8-4b18-ad55-fef0d7b1b623",
   "metadata": {},
   "outputs": [
    {
     "data": {
      "text/plain": [
       "1234"
      ]
     },
     "execution_count": 23,
     "metadata": {},
     "output_type": "execute_result"
    }
   ],
   "source": [
    "a  # Displays current value of 'a' (from earlier assignment)."
   ]
  },
  {
   "cell_type": "markdown",
   "id": "0c4acd0c",
   "metadata": {},
   "source": [
    "### Cell 24: Reassigning variable"
   ]
  },
  {
   "cell_type": "code",
   "execution_count": 24,
   "id": "be3afe48-4ac0-4d8a-9825-076dcbd2b88b",
   "metadata": {},
   "outputs": [],
   "source": [
    "a = 11  # Reassigns 'a' to 11. Variables can be reassigned."
   ]
  },
  {
   "cell_type": "markdown",
   "id": "f8bacd6a",
   "metadata": {},
   "source": [
    "### Cell 25: Displaying updated variable"
   ]
  },
  {
   "cell_type": "code",
   "execution_count": 25,
   "id": "7ecc8b95-1db3-4df7-b56f-0a89913ab11f",
   "metadata": {},
   "outputs": [
    {
     "data": {
      "text/plain": [
       "11"
      ]
     },
     "execution_count": 25,
     "metadata": {},
     "output_type": "execute_result"
    }
   ],
   "source": [
    "a  # Displays updated value of 'a', which is now 11.\n",
    "# Reassigning Variables\n",
    "# Changing values of existing variables."
   ]
  },
  {
   "cell_type": "markdown",
   "id": "ddc8e650",
   "metadata": {},
   "source": [
    "### Cell 26: Another reassignment"
   ]
  },
  {
   "cell_type": "code",
   "execution_count": 26,
   "id": "e237b77f",
   "metadata": {},
   "outputs": [],
   "source": [
    "a = 1234  # Reassigns 'a' back to 1234.\n",
    "# Variables can hold different data types."
   ]
  },
  {
   "cell_type": "markdown",
   "id": "bc06d1b7",
   "metadata": {},
   "source": [
    "### Cell 27: String assignment to 'b'"
   ]
  },
  {
   "cell_type": "code",
   "execution_count": 27,
   "id": "f6d054c8",
   "metadata": {},
   "outputs": [],
   "source": [
    "b = \"abcdef\"  # Reassigns 'b' to string \"abcdef\"."
   ]
  },
  {
   "cell_type": "markdown",
   "id": "83090baa",
   "metadata": {},
   "source": [
    "### Cell 28: Complex number to 'c'"
   ]
  },
  {
   "cell_type": "code",
   "execution_count": 28,
   "id": "ad313486",
   "metadata": {},
   "outputs": [],
   "source": [
    "c = 6 + 5j  # Reassigns 'c' to complex number."
   ]
  },
  {
   "cell_type": "markdown",
   "id": "35f70aad",
   "metadata": {},
   "source": [
    "### Cell 29: Boolean to 'd'"
   ]
  },
  {
   "cell_type": "code",
   "execution_count": 29,
   "id": "c9223cee",
   "metadata": {},
   "outputs": [],
   "source": [
    "d = True  # Reassigns 'd' to boolean."
   ]
  },
  {
   "cell_type": "markdown",
   "id": "1537a8e0",
   "metadata": {},
   "source": [
    "### Cell 30: Float to 'e'"
   ]
  },
  {
   "cell_type": "code",
   "execution_count": 30,
   "id": "252d5c44",
   "metadata": {},
   "outputs": [],
   "source": [
    "e = 123.5  # Assigns float 123.5 to 'e'."
   ]
  },
  {
   "cell_type": "markdown",
   "id": "6fcf5213",
   "metadata": {},
   "source": [
    "### Cell 31: Displaying 'a'"
   ]
  },
  {
   "cell_type": "code",
   "execution_count": 31,
   "id": "bf560679-7051-4f4b-bb86-3b062be86536",
   "metadata": {},
   "outputs": [
    {
     "data": {
      "text/plain": [
       "1234"
      ]
     },
     "execution_count": 31,
     "metadata": {},
     "output_type": "execute_result"
    }
   ],
   "source": [
    "a  # Displays 1234."
   ]
  },
  {
   "cell_type": "markdown",
   "id": "5bc4168a",
   "metadata": {},
   "source": [
    "-----\n",
    "### Cell 32: New variable"
   ]
  },
  {
   "cell_type": "code",
   "execution_count": 32,
   "id": "6d2bc5ec-1cdb-44c0-b4f8-cd88846ece0a",
   "metadata": {},
   "outputs": [],
   "source": [
    "a1 = 123  # Assigns 123 to 'a1'."
   ]
  },
  {
   "cell_type": "markdown",
   "id": "0e81d712",
   "metadata": {},
   "source": [
    "### Cell 33: Addition of variables"
   ]
  },
  {
   "cell_type": "code",
   "execution_count": 33,
   "id": "679b5470-406c-4da1-9f04-9fa2c72a97ac",
   "metadata": {},
   "outputs": [
    {
     "data": {
      "text/plain": [
       "1357"
      ]
     },
     "execution_count": 33,
     "metadata": {},
     "output_type": "execute_result"
    }
   ],
   "source": [
    "a + a1  # Adds 'a' (1234) and 'a1' (123) = 1357."
   ]
  },
  {
   "cell_type": "markdown",
   "id": "c2eaec70",
   "metadata": {},
   "source": [
    "### Cell 34: Multiple assignment (unpacking)"
   ]
  },
  {
   "cell_type": "code",
   "execution_count": 34,
   "id": "4bdbc71a-f1e3-44c7-8589-8fa3bfe1e7d4",
   "metadata": {},
   "outputs": [],
   "source": [
    "a, b, c, d, e = 123, \"abc\", 1 + 5j, False, 125.5  # Unpacks values into variables. All variables get assigned correctly."
   ]
  },
  {
   "cell_type": "markdown",
   "id": "117d380b",
   "metadata": {},
   "source": [
    "### Cell 35-39: Displaying variables"
   ]
  },
  {
   "cell_type": "code",
   "execution_count": 35,
   "id": "137292f1-0fe1-45f7-ab3b-d01188e25879",
   "metadata": {},
   "outputs": [
    {
     "data": {
      "text/plain": [
       "123"
      ]
     },
     "execution_count": 35,
     "metadata": {},
     "output_type": "execute_result"
    }
   ],
   "source": [
    "a  # 123"
   ]
  },
  {
   "cell_type": "code",
   "execution_count": 36,
   "id": "64b405cd-03ce-480a-a901-ee3a15904898",
   "metadata": {},
   "outputs": [
    {
     "data": {
      "text/plain": [
       "'abc'"
      ]
     },
     "execution_count": 36,
     "metadata": {},
     "output_type": "execute_result"
    }
   ],
   "source": [
    "b  # \"abc\""
   ]
  },
  {
   "cell_type": "code",
   "execution_count": 37,
   "id": "699aaf91-9664-40f1-9f63-6625a98b58a1",
   "metadata": {},
   "outputs": [
    {
     "data": {
      "text/plain": [
       "(1+5j)"
      ]
     },
     "execution_count": 37,
     "metadata": {},
     "output_type": "execute_result"
    }
   ],
   "source": [
    "c  # (1+5j)"
   ]
  },
  {
   "cell_type": "code",
   "execution_count": 38,
   "id": "ccf3ec41-9867-4eb6-8b39-42503b4dcbcc",
   "metadata": {},
   "outputs": [
    {
     "data": {
      "text/plain": [
       "False"
      ]
     },
     "execution_count": 38,
     "metadata": {},
     "output_type": "execute_result"
    }
   ],
   "source": [
    "d  # False"
   ]
  },
  {
   "cell_type": "code",
   "execution_count": 39,
   "id": "51ff7f43-362d-42c7-8ede-9b552af59e67",
   "metadata": {},
   "outputs": [
    {
     "data": {
      "text/plain": [
       "125.5"
      ]
     },
     "execution_count": 39,
     "metadata": {},
     "output_type": "execute_result"
    }
   ],
   "source": [
    "e  # 125.5"
   ]
  },
  {
   "cell_type": "markdown",
   "id": "473803d3",
   "metadata": {},
   "source": [
    "-----\n",
    "### Cell 40: Unpacking with fewer values (Error: ValueError)"
   ]
  },
  {
   "cell_type": "code",
   "execution_count": 40,
   "id": "93585b05-1125-4068-9311-a0e018090ea7",
   "metadata": {},
   "outputs": [
    {
     "ename": "ValueError",
     "evalue": "not enough values to unpack (expected 5, got 4)",
     "output_type": "error",
     "traceback": [
      "\u001b[0;31m---------------------------------------------------------------------------\u001b[0m",
      "\u001b[0;31mValueError\u001b[0m                                Traceback (most recent call last)",
      "Cell \u001b[0;32mIn[40], line 1\u001b[0m\n\u001b[0;32m----> 1\u001b[0m a, b, c, d, e \u001b[38;5;241m=\u001b[39m \u001b[38;5;241m123\u001b[39m, \u001b[38;5;124m\"\u001b[39m\u001b[38;5;124mabc\u001b[39m\u001b[38;5;124m\"\u001b[39m, \u001b[38;5;241m1\u001b[39m \u001b[38;5;241m+\u001b[39m \u001b[38;5;241m5\u001b[39mj, \u001b[38;5;28;01mFalse\u001b[39;00m\n",
      "\u001b[0;31mValueError\u001b[0m: not enough values to unpack (expected 5, got 4)"
     ]
    }
   ],
   "source": [
    "a, b, c, d, e = 123, \"abc\", 1 + 5j, False  # ERROR: ValueError - too few values to unpack. Need 5 values for 5 variables.\n",
    "# Fix: Provide 5 values or use fewer variables.\n",
    "# Error Example: Unpacking Mismatch\n",
    "# Too few values cause a ValueError."
   ]
  },
  {
   "cell_type": "markdown",
   "id": "4f5b5922",
   "metadata": {},
   "source": [
    "### Cell 41-45: Attempting to display (will error if previous fails)"
   ]
  },
  {
   "cell_type": "code",
   "execution_count": 41,
   "id": "d28f2dd1-6905-4987-b800-738ca5c4ed54",
   "metadata": {},
   "outputs": [
    {
     "data": {
      "text/plain": [
       "123"
      ]
     },
     "execution_count": 41,
     "metadata": {},
     "output_type": "execute_result"
    }
   ],
   "source": [
    "a"
   ]
  },
  {
   "cell_type": "code",
   "execution_count": 42,
   "id": "4290f991-b9f6-4b90-9af4-3eb19dd76024",
   "metadata": {},
   "outputs": [
    {
     "data": {
      "text/plain": [
       "'abc'"
      ]
     },
     "execution_count": 42,
     "metadata": {},
     "output_type": "execute_result"
    }
   ],
   "source": [
    "b"
   ]
  },
  {
   "cell_type": "code",
   "execution_count": 43,
   "id": "094c1964-2a2a-4021-8ef3-2d4e7f8f1762",
   "metadata": {},
   "outputs": [
    {
     "data": {
      "text/plain": [
       "(1+5j)"
      ]
     },
     "execution_count": 43,
     "metadata": {},
     "output_type": "execute_result"
    }
   ],
   "source": [
    "c"
   ]
  },
  {
   "cell_type": "code",
   "execution_count": 44,
   "id": "6be165b0-1a24-41f1-baa4-8c10fdf74914",
   "metadata": {},
   "outputs": [
    {
     "data": {
      "text/plain": [
       "False"
      ]
     },
     "execution_count": 44,
     "metadata": {},
     "output_type": "execute_result"
    }
   ],
   "source": [
    "d"
   ]
  },
  {
   "cell_type": "code",
   "execution_count": 45,
   "id": "7e6237b6-08a0-41ec-a01b-e888bf518e15",
   "metadata": {},
   "outputs": [
    {
     "data": {
      "text/plain": [
       "125.5"
      ]
     },
     "execution_count": 45,
     "metadata": {},
     "output_type": "execute_result"
    }
   ],
   "source": [
    "e"
   ]
  },
  {
   "cell_type": "markdown",
   "id": "5ea9a43f",
   "metadata": {},
   "source": [
    "### Cell 46: Type of 'c'"
   ]
  },
  {
   "cell_type": "code",
   "execution_count": 46,
   "id": "8eb2a2e6-d5c2-470a-803a-af5bc65c297f",
   "metadata": {},
   "outputs": [
    {
     "data": {
      "text/plain": [
       "complex"
      ]
     },
     "execution_count": 46,
     "metadata": {},
     "output_type": "execute_result"
    }
   ],
   "source": [
    "type(c)  # If 'c' is assigned, returns <class 'complex'>.\n",
    "# Complex Number Attributes"
   ]
  },
  {
   "cell_type": "markdown",
   "id": "ddf4bb11",
   "metadata": {},
   "source": [
    "### Cell 47: Imaginary part of complex"
   ]
  },
  {
   "cell_type": "code",
   "execution_count": 47,
   "id": "36b9d09f-89a7-4402-be0e-be902c11a05c",
   "metadata": {},
   "outputs": [
    {
     "data": {
      "text/plain": [
       "5.0"
      ]
     },
     "execution_count": 47,
     "metadata": {},
     "output_type": "execute_result"
    }
   ],
   "source": [
    "c.imag  # Returns imaginary part: 5.0 (if 'c' is 1+5j).\n",
    "# Accessing imaginary parts of complex number 'c'."
   ]
  },
  {
   "cell_type": "markdown",
   "id": "2bc2306d",
   "metadata": {},
   "source": [
    "### Cell 48: Real part of complex"
   ]
  },
  {
   "cell_type": "code",
   "execution_count": 48,
   "id": "49ff54d2-ce76-4737-84d6-cef00ad693b5",
   "metadata": {},
   "outputs": [
    {
     "data": {
      "text/plain": [
       "1.0"
      ]
     },
     "execution_count": 48,
     "metadata": {},
     "output_type": "execute_result"
    }
   ],
   "source": [
    "c.real  # Returns real part: 1.0.\n",
    "# Accessing real parts of complex number 'c'."
   ]
  },
  {
   "cell_type": "markdown",
   "id": "f0ae5329",
   "metadata": {},
   "source": [
    "### Cell 49: Displaying 'b'"
   ]
  },
  {
   "cell_type": "code",
   "execution_count": 49,
   "id": "102802ef-0cc3-40c0-b176-c452b576313a",
   "metadata": {},
   "outputs": [
    {
     "data": {
      "text/plain": [
       "'abc'"
      ]
     },
     "execution_count": 49,
     "metadata": {},
     "output_type": "execute_result"
    }
   ],
   "source": [
    "b  # Displays current 'b'."
   ]
  },
  {
   "cell_type": "markdown",
   "id": "ff2fdcbc",
   "metadata": {},
   "source": [
    "-----\n",
    "### Cell 50: String assignment"
   ]
  },
  {
   "cell_type": "code",
   "execution_count": 50,
   "id": "d69eeb50-d42a-4708-b226-b106526c7545",
   "metadata": {},
   "outputs": [],
   "source": [
    "a = \"abcde\"  # Reassigns 'a' to string."
   ]
  },
  {
   "cell_type": "markdown",
   "id": "1fcb6cca",
   "metadata": {},
   "source": [
    "### Cell 51: String + int (Error: TypeError)"
   ]
  },
  {
   "cell_type": "code",
   "execution_count": 51,
   "id": "cfd27ff0-d4b2-4acd-a836-5cbc8698893b",
   "metadata": {},
   "outputs": [
    {
     "ename": "TypeError",
     "evalue": "can only concatenate str (not \"int\") to str",
     "output_type": "error",
     "traceback": [
      "\u001b[0;31m---------------------------------------------------------------------------\u001b[0m",
      "\u001b[0;31mTypeError\u001b[0m                                 Traceback (most recent call last)",
      "Cell \u001b[0;32mIn[51], line 1\u001b[0m\n\u001b[0;32m----> 1\u001b[0m a \u001b[38;5;241m+\u001b[39m \u001b[38;5;241m4\u001b[39m\n",
      "\u001b[0;31mTypeError\u001b[0m: can only concatenate str (not \"int\") to str"
     ]
    }
   ],
   "source": [
    "a + 4  # ERROR: TypeError - cannot concatenate str and int.\n",
    "# Fix: Convert int to str: a + str(4)\n",
    "# Error Example: String + int (TypeError)\n",
    "# Demonstrates TypeError when combining string and integer."
   ]
  },
  {
   "cell_type": "markdown",
   "id": "ef7abe1e",
   "metadata": {},
   "source": [
    "### Cell 52: String concatenation"
   ]
  },
  {
   "cell_type": "code",
   "execution_count": 52,
   "id": "d9664e00-d6c7-452b-b0ac-f317a201e681",
   "metadata": {},
   "outputs": [
    {
     "data": {
      "text/plain": [
       "'abcde4'"
      ]
     },
     "execution_count": 52,
     "metadata": {},
     "output_type": "execute_result"
    }
   ],
   "source": [
    "a + \"4\"  # Concatenates \"abcde\" + \"4\" = \"abcde4\"\n",
    "# String Concatenation\n",
    "# Combining strings using + operator."
   ]
  },
  {
   "cell_type": "markdown",
   "id": "944375a2",
   "metadata": {},
   "source": [
    "### Cell 53: String + converted int"
   ]
  },
  {
   "cell_type": "code",
   "execution_count": 53,
   "id": "8269a78c-3b12-4efa-a7ed-7147707769ac",
   "metadata": {},
   "outputs": [
    {
     "data": {
      "text/plain": [
       "'abcde4'"
      ]
     },
     "execution_count": 53,
     "metadata": {},
     "output_type": "execute_result"
    }
   ],
   "source": [
    "a + str(4)  # Converts 4 to \"4\", then concatenates: \"abcde4\"\n",
    "# String + Converted int\n",
    "# Converts integer to string before concatenation."
   ]
  },
  {
   "cell_type": "markdown",
   "id": "1e7c65cb",
   "metadata": {},
   "source": [
    "-----\n",
    "### Cell 54-58: Boolean arithmetic\n",
    "- Booleans behave like integers (True=1, False=0)."
   ]
  },
  {
   "cell_type": "code",
   "execution_count": 54,
   "id": "43ba3d4f-693b-47a3-b2c4-7b0e7ee6ffdf",
   "metadata": {},
   "outputs": [
    {
     "data": {
      "text/plain": [
       "2"
      ]
     },
     "execution_count": 54,
     "metadata": {},
     "output_type": "execute_result"
    }
   ],
   "source": [
    "True + True  # 1 + 1 = 2 (True is 1, False is 0)"
   ]
  },
  {
   "cell_type": "code",
   "execution_count": 55,
   "id": "d49a934c-ec41-4db5-8328-8c39fcb2a8cc",
   "metadata": {},
   "outputs": [
    {
     "data": {
      "text/plain": [
       "1"
      ]
     },
     "execution_count": 55,
     "metadata": {},
     "output_type": "execute_result"
    }
   ],
   "source": [
    "True + False  # 1 + 0 = 1"
   ]
  },
  {
   "cell_type": "code",
   "execution_count": 56,
   "id": "487ab5a8-bade-4bbd-a939-7207451ee6ed",
   "metadata": {},
   "outputs": [
    {
     "data": {
      "text/plain": [
       "0"
      ]
     },
     "execution_count": 56,
     "metadata": {},
     "output_type": "execute_result"
    }
   ],
   "source": [
    "False + False  # 0 + 0 = 0\n",
    "# False + True  # 0 + 1 = 1"
   ]
  },
  {
   "cell_type": "code",
   "execution_count": 57,
   "id": "db1a806d-bdb8-4791-9ad5-6f6696936f7d",
   "metadata": {},
   "outputs": [
    {
     "data": {
      "text/plain": [
       "0"
      ]
     },
     "execution_count": 57,
     "metadata": {},
     "output_type": "execute_result"
    }
   ],
   "source": [
    "True - True  # 1 - 1 = 0\n",
    "# True - False  # 1 - 0 = 1"
   ]
  },
  {
   "cell_type": "code",
   "execution_count": 58,
   "id": "26960357-2eb5-4f47-aea9-8b4bb4b76e5b",
   "metadata": {},
   "outputs": [
    {
     "data": {
      "text/plain": [
       "1"
      ]
     },
     "execution_count": 58,
     "metadata": {},
     "output_type": "execute_result"
    }
   ],
   "source": [
    "2 - True  # 2 - 1 = 1\n",
    "# 2 - False  # 2 - 0 = 2"
   ]
  },
  {
   "cell_type": "markdown",
   "id": "23906f8d",
   "metadata": {},
   "source": [
    "-----\n",
    "### Cell 59: User input"
   ]
  },
  {
   "cell_type": "code",
   "execution_count": 59,
   "id": "075bcb52-470a-4f09-b1a9-1b3854196ca3",
   "metadata": {},
   "outputs": [
    {
     "name": "stdin",
     "output_type": "stream",
     "text": [
      " abcd\n"
     ]
    },
    {
     "data": {
      "text/plain": [
       "'abcd'"
      ]
     },
     "execution_count": 59,
     "metadata": {},
     "output_type": "execute_result"
    }
   ],
   "source": [
    "input()  # Prompts user for input, returns string. No prompt message.\n",
    "# User Input\n",
    "# Takes input from the user (always string)."
   ]
  },
  {
   "cell_type": "markdown",
   "id": "5ff4f289",
   "metadata": {},
   "source": [
    "### Cell 60: Assigning input to 'a'"
   ]
  },
  {
   "cell_type": "code",
   "execution_count": 60,
   "id": "536e83b6-9315-42f3-a963-a4e171f66e4a",
   "metadata": {},
   "outputs": [
    {
     "name": "stdin",
     "output_type": "stream",
     "text": [
      " abcdef\n"
     ]
    }
   ],
   "source": [
    "a = input()  # Assigns user input to 'a' as string."
   ]
  },
  {
   "cell_type": "markdown",
   "id": "3f7d79c5",
   "metadata": {},
   "source": [
    "### Cell 61: Displaying 'a'"
   ]
  },
  {
   "cell_type": "code",
   "execution_count": 61,
   "id": "5de26d02-a355-429e-9a56-c7d80211a9f7",
   "metadata": {},
   "outputs": [
    {
     "data": {
      "text/plain": [
       "'abcdef'"
      ]
     },
     "execution_count": 61,
     "metadata": {},
     "output_type": "execute_result"
    }
   ],
   "source": [
    "a  # Displays the input.\n",
    "# Cell 59: User input\n",
    "# Cell 60: Assigning input to 'a'\n",
    "# Cell 61: Displaying 'a'"
   ]
  },
  {
   "cell_type": "markdown",
   "id": "45386997",
   "metadata": {},
   "source": [
    "### Cell 62: Assigning 'b'"
   ]
  },
  {
   "cell_type": "code",
   "execution_count": 62,
   "id": "b22b30ca-99b8-4cdf-bea2-d3f322f887ba",
   "metadata": {},
   "outputs": [],
   "source": [
    "b = 10  # Assigns 10 to 'b'."
   ]
  },
  {
   "cell_type": "markdown",
   "id": "710cbc56",
   "metadata": {},
   "source": [
    "### Cell 63: String + int (Error: TypeError)"
   ]
  },
  {
   "cell_type": "code",
   "execution_count": 63,
   "id": "2cc0cb52-07c2-4a7a-8983-a92724aea665",
   "metadata": {},
   "outputs": [
    {
     "ename": "TypeError",
     "evalue": "can only concatenate str (not \"int\") to str",
     "output_type": "error",
     "traceback": [
      "\u001b[0;31m---------------------------------------------------------------------------\u001b[0m",
      "\u001b[0;31mTypeError\u001b[0m                                 Traceback (most recent call last)",
      "Cell \u001b[0;32mIn[63], line 1\u001b[0m\n\u001b[0;32m----> 1\u001b[0m a \u001b[38;5;241m+\u001b[39m b\n",
      "\u001b[0;31mTypeError\u001b[0m: can only concatenate str (not \"int\") to str"
     ]
    }
   ],
   "source": [
    "a + b  # ERROR: If 'a' is string from input, TypeError.\n",
    "# Fix: Convert 'a' to int if numeric."
   ]
  },
  {
   "cell_type": "markdown",
   "id": "680fd02b",
   "metadata": {},
   "source": [
    "### Cell 64: Another input"
   ]
  },
  {
   "cell_type": "code",
   "execution_count": 64,
   "id": "ce9791b4-ef68-4eb9-95c4-3a1870d5a1d9",
   "metadata": {},
   "outputs": [
    {
     "name": "stdin",
     "output_type": "stream",
     "text": [
      " 1234\n"
     ]
    }
   ],
   "source": [
    "a = input()  # Reassigns 'a' with new input."
   ]
  },
  {
   "cell_type": "markdown",
   "id": "29bd7345",
   "metadata": {},
   "source": [
    "### Cell 65: Displaying 'a'"
   ]
  },
  {
   "cell_type": "code",
   "execution_count": 65,
   "id": "09bb5ebc-e6ed-4198-9b9d-fecfa82da546",
   "metadata": {},
   "outputs": [
    {
     "data": {
      "text/plain": [
       "'1234'"
      ]
     },
     "execution_count": 65,
     "metadata": {},
     "output_type": "execute_result"
    }
   ],
   "source": [
    "a     # Displays string input"
   ]
  },
  {
   "cell_type": "markdown",
   "id": "6d9a8a4e",
   "metadata": {},
   "source": [
    "### Cell 66: String + int (Error)"
   ]
  },
  {
   "cell_type": "code",
   "execution_count": 66,
   "id": "1857eebe-b6c1-4f4c-b2e8-61664cf2fd04",
   "metadata": {},
   "outputs": [
    {
     "ename": "TypeError",
     "evalue": "can only concatenate str (not \"int\") to str",
     "output_type": "error",
     "traceback": [
      "\u001b[0;31m---------------------------------------------------------------------------\u001b[0m",
      "\u001b[0;31mTypeError\u001b[0m                                 Traceback (most recent call last)",
      "Cell \u001b[0;32mIn[66], line 1\u001b[0m\n\u001b[0;32m----> 1\u001b[0m a \u001b[38;5;241m+\u001b[39m b\n",
      "\u001b[0;31mTypeError\u001b[0m: can only concatenate str (not \"int\") to str"
     ]
    }
   ],
   "source": [
    "a + b  # Same error as above.\n",
    "# Fix by converting string to int."
   ]
  },
  {
   "cell_type": "markdown",
   "id": "9672860c",
   "metadata": {},
   "source": [
    "### Cell 67: Converting and adding"
   ]
  },
  {
   "cell_type": "code",
   "execution_count": 67,
   "id": "df5e6e1e-8207-4908-8911-a00575692349",
   "metadata": {},
   "outputs": [
    {
     "data": {
      "text/plain": [
       "1244"
      ]
     },
     "execution_count": 67,
     "metadata": {},
     "output_type": "execute_result"
    }
   ],
   "source": [
    "int(a) + b  # Converts 'a' to int, then adds to 'b'. Assumes 'a' is numeric string.\n",
    "# int(a)  # Converts 'a' to integer.\n",
    "# Converting Input to Integer"
   ]
  },
  {
   "cell_type": "markdown",
   "id": "484ece50",
   "metadata": {},
   "source": [
    "### Cell 68: Converting string to int"
   ]
  },
  {
   "cell_type": "code",
   "execution_count": 68,
   "id": "825870c7-8510-4a6a-a569-ac4302369a69",
   "metadata": {},
   "outputs": [
    {
     "data": {
      "text/plain": [
       "23232"
      ]
     },
     "execution_count": 68,
     "metadata": {},
     "output_type": "execute_result"
    }
   ],
   "source": [
    "int('23232')  # Converts string \"23232\" to integer 23232.\n",
    "# Converting String to Integer\n",
    "# Example of explicit conversion."
   ]
  },
  {
   "cell_type": "markdown",
   "id": "eee321fc-0adb-4651-ae27-a575fe3c667e",
   "metadata": {},
   "source": [
    "-----"
   ]
  }
 ],
 "metadata": {
  "kernelspec": {
   "display_name": "Python 3 (ipykernel)",
   "language": "python",
   "name": "python3"
  },
  "language_info": {
   "codemirror_mode": {
    "name": "ipython",
    "version": 3
   },
   "file_extension": ".py",
   "mimetype": "text/x-python",
   "name": "python",
   "nbconvert_exporter": "python",
   "pygments_lexer": "ipython3",
   "version": "3.12.7"
  }
 },
 "nbformat": 4,
 "nbformat_minor": 5
}
