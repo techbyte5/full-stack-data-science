{
 "cells": [
  {
   "cell_type": "markdown",
   "id": "a0d218fe-056f-4eb0-92d4-9ab2dcb32653",
   "metadata": {},
   "source": [
    "# Basic Python Concepts Notebook – EXPLANATION & NOTES\n",
    "\n",
    "<details>\n",
    "<summary><strong>Overview</strong></summary>\n",
    "\n",
    "This notebook introduces fundamental Python programming concepts, including:\n",
    "\n",
    "- Printing output and basic arithmetic operations  \n",
    "- Variable assignment and data types (integers, strings, complex numbers, booleans)  \n",
    "- Type checking using the `type()` function  \n",
    "- Handling errors and exceptions in code  \n",
    "- String concatenation and type conversion  \n",
    "- Boolean arithmetic and user input\n",
    "\n",
    "**Note:** This code contains intentional errors for educational purposes to demonstrate common mistakes. In a real scenario, these would be fixed to avoid runtime exceptions.\n",
    "\n",
    "</details>"
   ]
  },
  {
   "cell_type": "markdown",
   "id": "865017a6-aa2d-4a97-a5f8-391b5f08c946",
   "metadata": {},
   "source": [
    "-----\n",
    "# Importing the Zen of Python\n",
    "Imports the 'this' module, which prints the Zen of Python (PEP 20) - a collection of guiding principles for Python programming."
   ]
  },
  {
   "cell_type": "code",
   "execution_count": 1,
   "id": "08b184d9-aa89-44f7-b3c2-0a75841fcee3",
   "metadata": {
    "editable": true,
    "slideshow": {
     "slide_type": ""
    },
    "tags": []
   },
   "outputs": [
    {
     "name": "stdout",
     "output_type": "stream",
     "text": [
      "The Zen of Python, by Tim Peters\n",
      "\n",
      "Beautiful is better than ugly.\n",
      "Explicit is better than implicit.\n",
      "Simple is better than complex.\n",
      "Complex is better than complicated.\n",
      "Flat is better than nested.\n",
      "Sparse is better than dense.\n",
      "Readability counts.\n",
      "Special cases aren't special enough to break the rules.\n",
      "Although practicality beats purity.\n",
      "Errors should never pass silently.\n",
      "Unless explicitly silenced.\n",
      "In the face of ambiguity, refuse the temptation to guess.\n",
      "There should be one-- and preferably only one --obvious way to do it.\n",
      "Although that way may not be obvious at first unless you're Dutch.\n",
      "Now is better than never.\n",
      "Although never is often better than *right* now.\n",
      "If the implementation is hard to explain, it's a bad idea.\n",
      "If the implementation is easy to explain, it may be a good idea.\n",
      "Namespaces are one honking great idea -- let's do more of those!\n"
     ]
    }
   ],
   "source": [
    "import this"
   ]
  },
  {
   "cell_type": "markdown",
   "id": "9935de25-a0b8-461b-bb4e-cadf9462db11",
   "metadata": {},
   "source": [
    "-----\n",
    "# Basic Print Statement\n",
    "Prints a simple string to the console."
   ]
  },
  {
   "cell_type": "code",
   "execution_count": 2,
   "id": "17d2c7e4-56f3-4290-b7d1-914b559ab14b",
   "metadata": {},
   "outputs": [
    {
     "name": "stdout",
     "output_type": "stream",
     "text": [
      "this is my first program\n"
     ]
    }
   ],
   "source": [
    "print(\"this is my first program\")"
   ]
  },
  {
   "cell_type": "markdown",
   "id": "d4dc30f8-3e87-4578-a6b5-faf0bd0c4f3f",
   "metadata": {},
   "source": [
    "-----\n",
    "# Basic Arithmetic Operations\n",
    "Performs addition and division operations."
   ]
  },
  {
   "cell_type": "code",
   "execution_count": 3,
   "id": "436155d4-253c-4be2-9ea4-8f0d534cdc1d",
   "metadata": {},
   "outputs": [
    {
     "data": {
      "text/plain": [
       "3"
      ]
     },
     "execution_count": 3,
     "metadata": {},
     "output_type": "execute_result"
    }
   ],
   "source": [
    "1 + 2       # Addition: 1 + 2 = 3"
   ]
  },
  {
   "cell_type": "code",
   "execution_count": 4,
   "id": "da6f853c-649b-471e-847d-4df749dafbaa",
   "metadata": {},
   "outputs": [
    {
     "data": {
      "text/plain": [
       "0.42857142857142855"
      ]
     },
     "execution_count": 4,
     "metadata": {},
     "output_type": "execute_result"
    }
   ],
   "source": [
    "3 / 7       # Division: 3 ÷ 7 = 0.42857142857142855 (always float in Python 3)"
   ]
  },
  {
   "cell_type": "markdown",
   "id": "0adc1b0b-049c-4181-af35-20be0e4d854e",
   "metadata": {},
   "source": [
    "-----\n",
    "# Variable Assignment\n",
    "Assigning integer values to variables. Variables store data for later use."
   ]
  },
  {
   "cell_type": "code",
   "execution_count": 5,
   "id": "72690eb0-cadd-4220-b277-f83360e7556f",
   "metadata": {},
   "outputs": [],
   "source": [
    "a = 1234    # Assigns 1234 to 'a'"
   ]
  },
  {
   "cell_type": "code",
   "execution_count": 6,
   "id": "f04c6d58-5c69-40ec-a576-c01186007b36",
   "metadata": {},
   "outputs": [],
   "source": [
    "b = 5678    # Assigns 5678 to 'b' "
   ]
  },
  {
   "cell_type": "markdown",
   "id": "3c4055a0",
   "metadata": {},
   "source": [
    "-----\n",
    "# Displaying Variables\n",
    "Showing variable values in Jupyter will output the stored values."
   ]
  },
  {
   "cell_type": "code",
   "execution_count": 7,
   "id": "889170c2-7500-476d-85de-2be5c6bd40ac",
   "metadata": {},
   "outputs": [
    {
     "data": {
      "text/plain": [
       "1234"
      ]
     },
     "execution_count": 7,
     "metadata": {},
     "output_type": "execute_result"
    }
   ],
   "source": [
    "a           # Displays 1234"
   ]
  },
  {
   "cell_type": "code",
   "execution_count": 8,
   "id": "4b30f9e7-2034-4ea9-93bc-03abcfd9b57f",
   "metadata": {},
   "outputs": [
    {
     "data": {
      "text/plain": [
       "5678"
      ]
     },
     "execution_count": 8,
     "metadata": {},
     "output_type": "execute_result"
    }
   ],
   "source": [
    "b           # Displays 5678 "
   ]
  },
  {
   "cell_type": "markdown",
   "id": "948217c3",
   "metadata": {},
   "source": [
    "-----\n",
    "# Type Checking\n",
    "Checking variable data types using type()."
   ]
  },
  {
   "cell_type": "code",
   "execution_count": 9,
   "id": "3b83a7ce-9f4e-4b2d-bbef-9ba99f94755e",
   "metadata": {},
   "outputs": [
    {
     "data": {
      "text/plain": [
       "int"
      ]
     },
     "execution_count": 9,
     "metadata": {},
     "output_type": "execute_result"
    }
   ],
   "source": [
    "type(a)     # Returns <class 'int'>"
   ]
  },
  {
   "cell_type": "code",
   "execution_count": 10,
   "id": "f83353cf-3a88-4fea-87fe-045e0c2c9fe8",
   "metadata": {},
   "outputs": [
    {
     "data": {
      "text/plain": [
       "int"
      ]
     },
     "execution_count": 10,
     "metadata": {},
     "output_type": "execute_result"
    }
   ],
   "source": [
    "type(b)     # Returns <class 'int'>  "
   ]
  },
  {
   "cell_type": "markdown",
   "id": "55936ecc",
   "metadata": {},
   "source": [
    "-----\n",
    "# String Assignment\n",
    "Assigning and checking string type."
   ]
  },
  {
   "cell_type": "code",
   "execution_count": 11,
   "id": "2bd0ee9a-0144-47f2-b99e-c046aa1c17eb",
   "metadata": {},
   "outputs": [],
   "source": [
    "c = \"abcd\"  # Assigns string to 'c'"
   ]
  },
  {
   "cell_type": "code",
   "execution_count": 12,
   "id": "55610c89-0e16-4315-b715-9154a9c5ddb2",
   "metadata": {},
   "outputs": [
    {
     "data": {
      "text/plain": [
       "str"
      ]
     },
     "execution_count": 12,
     "metadata": {},
     "output_type": "execute_result"
    }
   ],
   "source": [
    "type(c)     # Returns <class 'str'>  "
   ]
  },
  {
   "cell_type": "markdown",
   "id": "0d846d44",
   "metadata": {},
   "source": [
    "-----\n",
    "# Complex Numbers\n",
    "Working with complex numbers."
   ]
  },
  {
   "cell_type": "code",
   "execution_count": 13,
   "id": "846b0d7b-eeb9-4cb0-b461-debed67b5f18",
   "metadata": {},
   "outputs": [],
   "source": [
    "d = 5 + 6j  # Complex number with real=5, imag=6"
   ]
  },
  {
   "cell_type": "code",
   "execution_count": 14,
   "id": "11dc51c0-a04c-48c0-a1ae-306684414c58",
   "metadata": {},
   "outputs": [
    {
     "data": {
      "text/plain": [
       "complex"
      ]
     },
     "execution_count": 14,
     "metadata": {},
     "output_type": "execute_result"
    }
   ],
   "source": [
    "type(d)     # Returns <class 'complex'>"
   ]
  },
  {
   "cell_type": "code",
   "execution_count": 15,
   "id": "3e2ca17b-61cd-4695-b727-a1e15ec94563",
   "metadata": {},
   "outputs": [
    {
     "data": {
      "text/plain": [
       "(5+6j)"
      ]
     },
     "execution_count": 15,
     "metadata": {},
     "output_type": "execute_result"
    }
   ],
   "source": [
    "d           # Displays (5+6j) "
   ]
  },
  {
   "cell_type": "markdown",
   "id": "f7cabb5b",
   "metadata": {},
   "source": [
    "-----\n",
    "# Error Example: Undefined Variable\n",
    "Demonstrates NameError when using undefined variable.\n"
   ]
  },
  {
   "cell_type": "code",
   "execution_count": 16,
   "id": "df3cef56-6efa-4087-a44b-7cc507761527",
   "metadata": {},
   "outputs": [
    {
     "ename": "NameError",
     "evalue": "name 'abcdefghijkl' is not defined",
     "output_type": "error",
     "traceback": [
      "\u001b[0;31m---------------------------------------------------------------------------\u001b[0m",
      "\u001b[0;31mNameError\u001b[0m                                 Traceback (most recent call last)",
      "Cell \u001b[0;32mIn[16], line 1\u001b[0m\n\u001b[0;32m----> 1\u001b[0m e \u001b[38;5;241m=\u001b[39m abcdefghijkl\n",
      "\u001b[0;31mNameError\u001b[0m: name 'abcdefghijkl' is not defined"
     ]
    }
   ],
   "source": [
    "e = abcdefghijkl   # ERROR: not defined, should use quotes (\"\")"
   ]
  },
  {
   "cell_type": "markdown",
   "id": "c1bcbbf4",
   "metadata": {},
   "source": [
    "-----\n",
    "# String Assignment (Correct)\n",
    "Correct way to assign a string."
   ]
  },
  {
   "cell_type": "code",
   "execution_count": 17,
   "id": "cbfec166-7dcb-44e0-9483-ae0677b072b5",
   "metadata": {},
   "outputs": [],
   "source": [
    "f = \"abcdefghijklmn\"   # String assignment"
   ]
  },
  {
   "cell_type": "code",
   "execution_count": 18,
   "id": "57dded1c-4773-4966-9bba-4dc666831e76",
   "metadata": {},
   "outputs": [
    {
     "data": {
      "text/plain": [
       "'abcdefghijklmn'"
      ]
     },
     "execution_count": 18,
     "metadata": {},
     "output_type": "execute_result"
    }
   ],
   "source": [
    "f                      # Displays the string  "
   ]
  },
  {
   "cell_type": "markdown",
   "id": "d223b1bb",
   "metadata": {},
   "source": [
    "-----\n",
    "# Boolean Assignment\n",
    "Assigning and checking Boolean type."
   ]
  },
  {
   "cell_type": "code",
   "execution_count": 19,
   "id": "7c5a6453-7c68-48c2-96d2-95f841e02c41",
   "metadata": {},
   "outputs": [],
   "source": [
    "g = True    # Boolean value"
   ]
  },
  {
   "cell_type": "code",
   "execution_count": 20,
   "id": "fa25ae19-cb0d-4b12-809e-2a4096c15981",
   "metadata": {},
   "outputs": [
    {
     "data": {
      "text/plain": [
       "bool"
      ]
     },
     "execution_count": 20,
     "metadata": {},
     "output_type": "execute_result"
    }
   ],
   "source": [
    "type(g)     # Returns <class 'bool'>  "
   ]
  },
  {
   "cell_type": "markdown",
   "id": "9d20f4e1",
   "metadata": {},
   "source": [
    "-----\n",
    "# Error Example: Invalid Assignment\n",
    "Demonstrates SyntaxError with invalid variable name."
   ]
  },
  {
   "cell_type": "code",
   "execution_count": 21,
   "id": "65f531e7-5ee3-4e36-af5b-3129c08faf5e",
   "metadata": {},
   "outputs": [
    {
     "ename": "SyntaxError",
     "evalue": "starred assignment target must be in a list or tuple (4135415904.py, line 1)",
     "output_type": "error",
     "traceback": [
      "\u001b[0;36m  Cell \u001b[0;32mIn[21], line 1\u001b[0;36m\u001b[0m\n\u001b[0;31m    *a = 10     # ERROR: cannot assign to operator '*'\u001b[0m\n\u001b[0m    ^\u001b[0m\n\u001b[0;31mSyntaxError\u001b[0m\u001b[0;31m:\u001b[0m starred assignment target must be in a list or tuple\n"
     ]
    }
   ],
   "source": [
    "*a = 10     # ERROR: cannot assign to operator '*'  "
   ]
  },
  {
   "cell_type": "markdown",
   "id": "0b0e0971",
   "metadata": {},
   "source": [
    "-----\n",
    "# Valid Underscore Variable\n",
    "Variables can start with an underscore."
   ]
  },
  {
   "cell_type": "code",
   "execution_count": 22,
   "id": "1675fc61-0451-419f-94d6-374501d9b159",
   "metadata": {},
   "outputs": [],
   "source": [
    "\n",
    "_a = 10     # Valid assignment  "
   ]
  },
  {
   "cell_type": "markdown",
   "id": "68e394a9",
   "metadata": {},
   "source": [
    "-----\n",
    "# Reassigning Variables\n",
    "Changing values of existing variables."
   ]
  },
  {
   "cell_type": "code",
   "execution_count": 23,
   "id": "4368bd4a-97a8-4b18-ad55-fef0d7b1b623",
   "metadata": {},
   "outputs": [
    {
     "data": {
      "text/plain": [
       "1234"
      ]
     },
     "execution_count": 23,
     "metadata": {},
     "output_type": "execute_result"
    }
   ],
   "source": [
    "a           # Displays 1234 (previous value)"
   ]
  },
  {
   "cell_type": "code",
   "execution_count": 24,
   "id": "be3afe48-4ac0-4d8a-9825-076dcbd2b88b",
   "metadata": {},
   "outputs": [],
   "source": [
    "a = 11      # Reassign to 11"
   ]
  },
  {
   "cell_type": "code",
   "execution_count": 25,
   "id": "7ecc8b95-1db3-4df7-b56f-0a89913ab11f",
   "metadata": {},
   "outputs": [
    {
     "data": {
      "text/plain": [
       "11"
      ]
     },
     "execution_count": 25,
     "metadata": {},
     "output_type": "execute_result"
    }
   ],
   "source": [
    "a           # Displays 11"
   ]
  },
  {
   "cell_type": "markdown",
   "id": "ddc8e650",
   "metadata": {},
   "source": [
    "-----\n",
    "# Reassigning Different Data Types\n",
    "Variables can hold different data types."
   ]
  },
  {
   "cell_type": "code",
   "execution_count": 26,
   "id": "1df75bb8-2977-4965-9a21-bd7fb52c914a",
   "metadata": {},
   "outputs": [],
   "source": [
    "a = 1234        # Reassign back to 1234  \n",
    "b = \"abcdef\"    # String\n",
    "c = 6 + 5j      # Complex number\n",
    "d = True        # Boolean\n",
    "e = 123.5       # Float "
   ]
  },
  {
   "cell_type": "markdown",
   "id": "6fcf5213",
   "metadata": {},
   "source": [
    "-----\n",
    "# Displaying Variables\n",
    "Showing the updated values."
   ]
  },
  {
   "cell_type": "code",
   "execution_count": 27,
   "id": "bf560679-7051-4f4b-bb86-3b062be86536",
   "metadata": {},
   "outputs": [
    {
     "data": {
      "text/plain": [
       "1234"
      ]
     },
     "execution_count": 27,
     "metadata": {},
     "output_type": "execute_result"
    }
   ],
   "source": [
    "a           # 1234"
   ]
  },
  {
   "cell_type": "code",
   "execution_count": 28,
   "id": "6d2bc5ec-1cdb-44c0-b4f8-cd88846ece0a",
   "metadata": {},
   "outputs": [],
   "source": [
    "a1 = 123    # New variable"
   ]
  },
  {
   "cell_type": "code",
   "execution_count": 29,
   "id": "679b5470-406c-4da1-9f04-9fa2c72a97ac",
   "metadata": {},
   "outputs": [
    {
     "data": {
      "text/plain": [
       "1357"
      ]
     },
     "execution_count": 29,
     "metadata": {},
     "output_type": "execute_result"
    }
   ],
   "source": [
    "a + a1      # 1234 + 123 = 1357  "
   ]
  },
  {
   "cell_type": "markdown",
   "id": "c2eaec70",
   "metadata": {},
   "source": [
    "\n",
    "-----\n",
    "# Multiple Assignment (Unpacking)\n",
    "Assigning multiple variables at once."
   ]
  },
  {
   "cell_type": "code",
   "execution_count": 30,
   "id": "4bdbc71a-f1e3-44c7-8589-8fa3bfe1e7d4",
   "metadata": {},
   "outputs": [],
   "source": [
    "a, b, c, d, e = 123, \"abc\", 1 + 5j, False, 125.5  "
   ]
  },
  {
   "cell_type": "code",
   "execution_count": 31,
   "id": "137292f1-0fe1-45f7-ab3b-d01188e25879",
   "metadata": {},
   "outputs": [
    {
     "data": {
      "text/plain": [
       "123"
      ]
     },
     "execution_count": 31,
     "metadata": {},
     "output_type": "execute_result"
    }
   ],
   "source": [
    "a   # 123"
   ]
  },
  {
   "cell_type": "code",
   "execution_count": 32,
   "id": "64b405cd-03ce-480a-a901-ee3a15904898",
   "metadata": {},
   "outputs": [
    {
     "data": {
      "text/plain": [
       "'abc'"
      ]
     },
     "execution_count": 32,
     "metadata": {},
     "output_type": "execute_result"
    }
   ],
   "source": [
    "b   # \"abc\""
   ]
  },
  {
   "cell_type": "code",
   "execution_count": 33,
   "id": "699aaf91-9664-40f1-9f63-6625a98b58a1",
   "metadata": {},
   "outputs": [
    {
     "data": {
      "text/plain": [
       "(1+5j)"
      ]
     },
     "execution_count": 33,
     "metadata": {},
     "output_type": "execute_result"
    }
   ],
   "source": [
    "c   # (1+5j)"
   ]
  },
  {
   "cell_type": "code",
   "execution_count": 34,
   "id": "ccf3ec41-9867-4eb6-8b39-42503b4dcbcc",
   "metadata": {},
   "outputs": [
    {
     "data": {
      "text/plain": [
       "False"
      ]
     },
     "execution_count": 34,
     "metadata": {},
     "output_type": "execute_result"
    }
   ],
   "source": [
    "d   # False"
   ]
  },
  {
   "cell_type": "code",
   "execution_count": 35,
   "id": "51ff7f43-362d-42c7-8ede-9b552af59e67",
   "metadata": {},
   "outputs": [
    {
     "data": {
      "text/plain": [
       "125.5"
      ]
     },
     "execution_count": 35,
     "metadata": {},
     "output_type": "execute_result"
    }
   ],
   "source": [
    "e   # 125.5 "
   ]
  },
  {
   "cell_type": "markdown",
   "id": "473803d3",
   "metadata": {},
   "source": [
    "-----\n",
    "# Error Example: Unpacking Mismatch\n",
    "Too few values cause a ValueError."
   ]
  },
  {
   "cell_type": "code",
   "execution_count": 36,
   "id": "93585b05-1125-4068-9311-a0e018090ea7",
   "metadata": {},
   "outputs": [
    {
     "ename": "ValueError",
     "evalue": "not enough values to unpack (expected 5, got 4)",
     "output_type": "error",
     "traceback": [
      "\u001b[0;31m---------------------------------------------------------------------------\u001b[0m",
      "\u001b[0;31mValueError\u001b[0m                                Traceback (most recent call last)",
      "Cell \u001b[0;32mIn[36], line 1\u001b[0m\n\u001b[0;32m----> 1\u001b[0m a, b, c, d, e \u001b[38;5;241m=\u001b[39m \u001b[38;5;241m123\u001b[39m, \u001b[38;5;124m\"\u001b[39m\u001b[38;5;124mabc\u001b[39m\u001b[38;5;124m\"\u001b[39m, \u001b[38;5;241m1\u001b[39m \u001b[38;5;241m+\u001b[39m \u001b[38;5;241m5\u001b[39mj, \u001b[38;5;28;01mFalse\u001b[39;00m\n",
      "\u001b[0;31mValueError\u001b[0m: not enough values to unpack (expected 5, got 4)"
     ]
    }
   ],
   "source": [
    "a, b, c, d, e = 123, \"abc\", 1 + 5j, False   # ERROR: 4 values for 5 variables  \n"
   ]
  },
  {
   "cell_type": "code",
   "execution_count": 37,
   "id": "d28f2dd1-6905-4987-b800-738ca5c4ed54",
   "metadata": {},
   "outputs": [
    {
     "data": {
      "text/plain": [
       "123"
      ]
     },
     "execution_count": 37,
     "metadata": {},
     "output_type": "execute_result"
    }
   ],
   "source": [
    "a"
   ]
  },
  {
   "cell_type": "code",
   "execution_count": 38,
   "id": "4290f991-b9f6-4b90-9af4-3eb19dd76024",
   "metadata": {},
   "outputs": [
    {
     "data": {
      "text/plain": [
       "'abc'"
      ]
     },
     "execution_count": 38,
     "metadata": {},
     "output_type": "execute_result"
    }
   ],
   "source": [
    "b"
   ]
  },
  {
   "cell_type": "code",
   "execution_count": 39,
   "id": "094c1964-2a2a-4021-8ef3-2d4e7f8f1762",
   "metadata": {},
   "outputs": [
    {
     "data": {
      "text/plain": [
       "(1+5j)"
      ]
     },
     "execution_count": 39,
     "metadata": {},
     "output_type": "execute_result"
    }
   ],
   "source": [
    "c"
   ]
  },
  {
   "cell_type": "code",
   "execution_count": 40,
   "id": "6be165b0-1a24-41f1-baa4-8c10fdf74914",
   "metadata": {},
   "outputs": [
    {
     "data": {
      "text/plain": [
       "False"
      ]
     },
     "execution_count": 40,
     "metadata": {},
     "output_type": "execute_result"
    }
   ],
   "source": [
    "d"
   ]
  },
  {
   "cell_type": "code",
   "execution_count": 41,
   "id": "7e6237b6-08a0-41ec-a01b-e888bf518e15",
   "metadata": {},
   "outputs": [
    {
     "data": {
      "text/plain": [
       "125.5"
      ]
     },
     "execution_count": 41,
     "metadata": {},
     "output_type": "execute_result"
    }
   ],
   "source": [
    "e"
   ]
  },
  {
   "cell_type": "markdown",
   "id": "5ea9a43f",
   "metadata": {},
   "source": [
    "-----\n",
    "# Complex Number Attributes\n",
    "Accessing parts of a complex number."
   ]
  },
  {
   "cell_type": "code",
   "execution_count": 42,
   "id": "8eb2a2e6-d5c2-470a-803a-af5bc65c297f",
   "metadata": {},
   "outputs": [
    {
     "data": {
      "text/plain": [
       "complex"
      ]
     },
     "execution_count": 42,
     "metadata": {},
     "output_type": "execute_result"
    }
   ],
   "source": [
    "type(c)     # <class 'complex'>"
   ]
  },
  {
   "cell_type": "code",
   "execution_count": 43,
   "id": "36b9d09f-89a7-4402-be0e-be902c11a05c",
   "metadata": {},
   "outputs": [
    {
     "data": {
      "text/plain": [
       "5.0"
      ]
     },
     "execution_count": 43,
     "metadata": {},
     "output_type": "execute_result"
    }
   ],
   "source": [
    "c.imag      # Imaginary part → 5.0"
   ]
  },
  {
   "cell_type": "code",
   "execution_count": 44,
   "id": "49ff54d2-ce76-4737-84d6-cef00ad693b5",
   "metadata": {},
   "outputs": [
    {
     "data": {
      "text/plain": [
       "1.0"
      ]
     },
     "execution_count": 44,
     "metadata": {},
     "output_type": "execute_result"
    }
   ],
   "source": [
    "c.real      # Real part → 1.0  "
   ]
  },
  {
   "cell_type": "markdown",
   "id": "f0ae5329",
   "metadata": {},
   "source": [
    "-----\n",
    "# String Operations\n",
    "Working with strings."
   ]
  },
  {
   "cell_type": "code",
   "execution_count": 45,
   "id": "102802ef-0cc3-40c0-b176-c452b576313a",
   "metadata": {},
   "outputs": [
    {
     "data": {
      "text/plain": [
       "'abc'"
      ]
     },
     "execution_count": 45,
     "metadata": {},
     "output_type": "execute_result"
    }
   ],
   "source": [
    "b           # Displays current 'b'"
   ]
  },
  {
   "cell_type": "code",
   "execution_count": 46,
   "id": "d69eeb50-d42a-4708-b226-b106526c7545",
   "metadata": {},
   "outputs": [],
   "source": [
    "a = \"abcde\" # Assigns new string"
   ]
  },
  {
   "cell_type": "code",
   "execution_count": 47,
   "id": "cfd27ff0-d4b2-4acd-a836-5cbc8698893b",
   "metadata": {},
   "outputs": [
    {
     "ename": "TypeError",
     "evalue": "can only concatenate str (not \"int\") to str",
     "output_type": "error",
     "traceback": [
      "\u001b[0;31m---------------------------------------------------------------------------\u001b[0m",
      "\u001b[0;31mTypeError\u001b[0m                                 Traceback (most recent call last)",
      "Cell \u001b[0;32mIn[47], line 1\u001b[0m\n\u001b[0;32m----> 1\u001b[0m a \u001b[38;5;241m+\u001b[39m \u001b[38;5;241m4\u001b[39m\n",
      "\u001b[0;31mTypeError\u001b[0m: can only concatenate str (not \"int\") to str"
     ]
    }
   ],
   "source": [
    "a + 4       # ERROR: str + int not allowed"
   ]
  },
  {
   "cell_type": "code",
   "execution_count": 48,
   "id": "d9664e00-d6c7-452b-b0ac-f317a201e681",
   "metadata": {},
   "outputs": [
    {
     "data": {
      "text/plain": [
       "'abcde4'"
      ]
     },
     "execution_count": 48,
     "metadata": {},
     "output_type": "execute_result"
    }
   ],
   "source": [
    "a + \"4\"     # String concatenation → \"abcde4\""
   ]
  },
  {
   "cell_type": "code",
   "execution_count": 49,
   "id": "8269a78c-3b12-4efa-a7ed-7147707769ac",
   "metadata": {},
   "outputs": [
    {
     "data": {
      "text/plain": [
       "'abcde4'"
      ]
     },
     "execution_count": 49,
     "metadata": {},
     "output_type": "execute_result"
    }
   ],
   "source": [
    "a + str(4)  # Convert int to str → \"abcde4\" "
   ]
  },
  {
   "cell_type": "markdown",
   "id": "1e7c65cb",
   "metadata": {},
   "source": [
    "-----\n",
    "# Boolean Arithmetic\n",
    "Booleans behave like integers (True=1, False=0)."
   ]
  },
  {
   "cell_type": "code",
   "execution_count": 50,
   "id": "43ba3d4f-693b-47a3-b2c4-7b0e7ee6ffdf",
   "metadata": {},
   "outputs": [
    {
     "data": {
      "text/plain": [
       "2"
      ]
     },
     "execution_count": 50,
     "metadata": {},
     "output_type": "execute_result"
    }
   ],
   "source": [
    "True + True     # 2"
   ]
  },
  {
   "cell_type": "code",
   "execution_count": 51,
   "id": "d49a934c-ec41-4db5-8328-8c39fcb2a8cc",
   "metadata": {},
   "outputs": [
    {
     "data": {
      "text/plain": [
       "1"
      ]
     },
     "execution_count": 51,
     "metadata": {},
     "output_type": "execute_result"
    }
   ],
   "source": [
    "True + False    # 1"
   ]
  },
  {
   "cell_type": "code",
   "execution_count": 52,
   "id": "487ab5a8-bade-4bbd-a939-7207451ee6ed",
   "metadata": {},
   "outputs": [
    {
     "data": {
      "text/plain": [
       "0"
      ]
     },
     "execution_count": 52,
     "metadata": {},
     "output_type": "execute_result"
    }
   ],
   "source": [
    "False + False   # 0"
   ]
  },
  {
   "cell_type": "code",
   "execution_count": 53,
   "id": "db1a806d-bdb8-4791-9ad5-6f6696936f7d",
   "metadata": {},
   "outputs": [
    {
     "data": {
      "text/plain": [
       "0"
      ]
     },
     "execution_count": 53,
     "metadata": {},
     "output_type": "execute_result"
    }
   ],
   "source": [
    "True - True     # 0"
   ]
  },
  {
   "cell_type": "code",
   "execution_count": 54,
   "id": "26960357-2eb5-4f47-aea9-8b4bb4b76e5b",
   "metadata": {},
   "outputs": [
    {
     "data": {
      "text/plain": [
       "1"
      ]
     },
     "execution_count": 54,
     "metadata": {},
     "output_type": "execute_result"
    }
   ],
   "source": [
    "2 - True        # 1  "
   ]
  },
  {
   "cell_type": "markdown",
   "id": "23906f8d",
   "metadata": {},
   "source": [
    "-----\n",
    "# User Input\n",
    "Takes input from the user (always string)."
   ]
  },
  {
   "cell_type": "code",
   "execution_count": 55,
   "id": "075bcb52-470a-4f09-b1a9-1b3854196ca3",
   "metadata": {},
   "outputs": [
    {
     "name": "stdin",
     "output_type": "stream",
     "text": [
      " abcd\n"
     ]
    },
    {
     "data": {
      "text/plain": [
       "'abcd'"
      ]
     },
     "execution_count": 55,
     "metadata": {},
     "output_type": "execute_result"
    }
   ],
   "source": [
    "input()         # Prompts for input"
   ]
  },
  {
   "cell_type": "code",
   "execution_count": 56,
   "id": "536e83b6-9315-42f3-a963-a4e171f66e4a",
   "metadata": {},
   "outputs": [
    {
     "name": "stdin",
     "output_type": "stream",
     "text": [
      " abcdef\n"
     ]
    }
   ],
   "source": [
    "a = input()     # Stores input in variable 'a'"
   ]
  },
  {
   "cell_type": "code",
   "execution_count": 57,
   "id": "5de26d02-a355-429e-9a56-c7d80211a9f7",
   "metadata": {},
   "outputs": [
    {
     "data": {
      "text/plain": [
       "'abcdef'"
      ]
     },
     "execution_count": 57,
     "metadata": {},
     "output_type": "execute_result"
    }
   ],
   "source": [
    "a               # Displays input "
   ]
  },
  {
   "cell_type": "markdown",
   "id": "a39436d5",
   "metadata": {},
   "source": [
    "-----\n",
    "# String + Int Error\n",
    "Mixing types causes TypeError."
   ]
  },
  {
   "cell_type": "code",
   "execution_count": 58,
   "id": "b22b30ca-99b8-4cdf-bea2-d3f322f887ba",
   "metadata": {},
   "outputs": [],
   "source": [
    "b = 10"
   ]
  },
  {
   "cell_type": "code",
   "execution_count": 59,
   "id": "2cc0cb52-07c2-4a7a-8983-a92724aea665",
   "metadata": {},
   "outputs": [
    {
     "ename": "TypeError",
     "evalue": "can only concatenate str (not \"int\") to str",
     "output_type": "error",
     "traceback": [
      "\u001b[0;31m---------------------------------------------------------------------------\u001b[0m",
      "\u001b[0;31mTypeError\u001b[0m                                 Traceback (most recent call last)",
      "Cell \u001b[0;32mIn[59], line 1\u001b[0m\n\u001b[0;32m----> 1\u001b[0m a \u001b[38;5;241m+\u001b[39m b\n",
      "\u001b[0;31mTypeError\u001b[0m: can only concatenate str (not \"int\") to str"
     ]
    }
   ],
   "source": [
    "a + b           # ERROR if 'a' is string, int + str not allowed "
   ]
  },
  {
   "cell_type": "markdown",
   "id": "680fd02b",
   "metadata": {},
   "source": [
    "-----\n",
    "# Converting Input to Integer\n",
    "Fix by converting string to int."
   ]
  },
  {
   "cell_type": "code",
   "execution_count": 60,
   "id": "ce9791b4-ef68-4eb9-95c4-3a1870d5a1d9",
   "metadata": {},
   "outputs": [
    {
     "name": "stdin",
     "output_type": "stream",
     "text": [
      " 12345\n"
     ]
    }
   ],
   "source": [
    "a = input()     # User enters number as string"
   ]
  },
  {
   "cell_type": "code",
   "execution_count": 61,
   "id": "09bb5ebc-e6ed-4198-9b9d-fecfa82da546",
   "metadata": {},
   "outputs": [
    {
     "data": {
      "text/plain": [
       "'12345'"
      ]
     },
     "execution_count": 61,
     "metadata": {},
     "output_type": "execute_result"
    }
   ],
   "source": [
    "a               # Displays string input"
   ]
  },
  {
   "cell_type": "code",
   "execution_count": 62,
   "id": "1857eebe-b6c1-4f4c-b2e8-61664cf2fd04",
   "metadata": {},
   "outputs": [
    {
     "ename": "TypeError",
     "evalue": "can only concatenate str (not \"int\") to str",
     "output_type": "error",
     "traceback": [
      "\u001b[0;31m---------------------------------------------------------------------------\u001b[0m",
      "\u001b[0;31mTypeError\u001b[0m                                 Traceback (most recent call last)",
      "Cell \u001b[0;32mIn[62], line 1\u001b[0m\n\u001b[0;32m----> 1\u001b[0m a \u001b[38;5;241m+\u001b[39m b\n",
      "\u001b[0;31mTypeError\u001b[0m: can only concatenate str (not \"int\") to str"
     ]
    }
   ],
   "source": [
    "a + b           # ERROR: str + int"
   ]
  },
  {
   "cell_type": "code",
   "execution_count": 63,
   "id": "df5e6e1e-8207-4908-8911-a00575692349",
   "metadata": {},
   "outputs": [
    {
     "data": {
      "text/plain": [
       "12355"
      ]
     },
     "execution_count": 63,
     "metadata": {},
     "output_type": "execute_result"
    }
   ],
   "source": [
    "int(a) + b      # Converts 'a' to int before adding "
   ]
  },
  {
   "cell_type": "markdown",
   "id": "484ece50",
   "metadata": {},
   "source": [
    "-----\n",
    "# Converting String to Integer\n",
    "Example of explicit conversion."
   ]
  },
  {
   "cell_type": "code",
   "execution_count": 64,
   "id": "825870c7-8510-4a6a-a569-ac4302369a69",
   "metadata": {},
   "outputs": [
    {
     "data": {
      "text/plain": [
       "23232"
      ]
     },
     "execution_count": 64,
     "metadata": {},
     "output_type": "execute_result"
    }
   ],
   "source": [
    "int('23232')    # Converts string \"23232\" to integer 23232"
   ]
  },
  {
   "cell_type": "markdown",
   "id": "fe15e980",
   "metadata": {},
   "source": [
    "-----\n",
    "# Python Basics Tutorial – EXPLANATION & NOTES\n",
    "\n",
    "<details>\n",
    "<summary><strong>Overview</strong></summary>\n",
    "\n",
    "This Jupyter Notebook serves as an introductory tutorial to basic Python concepts. It covers variable assignment, data types, arithmetic operations, type checking, error handling, and user input. The notebook is structured as a series of code cells, each demonstrating a specific concept or operation. While educational, it includes intentional errors to illustrate common pitfalls for beginners.\n",
    "\n",
    "</details>\n",
    "\n",
    "<details>\n",
    "<summary><strong>Cell-wise Purpose and Workflow</strong></summary>\n",
    "\n",
    "**Cells 1-4:** Introduction to basic output and arithmetic. Demonstrates `print()` and simple math operations.  \n",
    "**Cells 5-15:** Variable assignment and data types. Shows integers, strings, complex numbers, and type checking with `type()`.  \n",
    "**Cells 16-22:** Handling strings and errors. Introduces string literals and common syntax errors (e.g., missing quotes, invalid operators).  \n",
    "**Cells 23-31:** Variable reassignment and display. Illustrates how variables can change values and types.  \n",
    "**Cells 32-39:** Multiple assignment (unpacking). Shows how to assign multiple values to variables in one line.  \n",
    "**Cells 40-49:** Unpacking errors and complex number attributes. Demonstrates errors from mismatched unpacking and accessing parts of complex numbers.  \n",
    "**Cells 50-53:** String concatenation. Covers string operations and type conversion to avoid errors.  \n",
    "**Cells 54-58:** Boolean arithmetic. Explains how booleans behave in mathematical operations (`True=1`, `False=0`).  \n",
    "**Cells 59-68:** User input and type conversion. Introduces `input()` for user interaction and converting strings to numbers for calculations.\n",
    "\n",
    "</details>\n",
    "\n",
    "<details>\n",
    "<summary><strong>Function-wise Explanation</strong></summary>\n",
    "\n",
    "No custom functions are defined in this notebook. All operations are at the top level.\n",
    "\n",
    "**Built-in functions used:**\n",
    "- `print()`: Outputs text to the console.  \n",
    "- `type()`: Returns the data type of a variable.  \n",
    "- `input()`: Reads user input as a string.  \n",
    "- `int()`: Converts a value to an integer.  \n",
    "- `str()`: Converts a value to a string.\n",
    "\n",
    "</details>\n",
    "\n",
    "<details>\n",
    "<summary><strong>Algorithm & Logic Explanation</strong></summary>\n",
    "\n",
    "- The notebook follows a linear progression from simple to complex concepts.  \n",
    "- Logic focuses on demonstrating Python's dynamic typing (variables can change types) and common operations.  \n",
    "- Arithmetic and concatenation follow standard rules, with errors highlighting type mismatches.\n",
    "\n",
    "</details>\n",
    "\n",
    "<details>\n",
    "<summary><strong>Best Practices and Improvements</strong></summary>\n",
    "\n",
    "- **Use descriptive variable names:** Instead of `a, b`, use `number1`, `text`, etc., for clarity.  \n",
    "- **Add error handling:** Use `try-except` blocks for potential errors, e.g., around `int(input())` to handle non-numeric input.  \n",
    "- **Consistent formatting:** Add spaces around operators (e.g., `a + b` instead of `a+b`) for readability.  \n",
    "- **Docstrings:** Although no functions, add comments at the top of cells for purpose.  \n",
    "- **Avoid reassigning variables frequently:** This can lead to confusion; use new variables when possible.  \n",
    "- **Test inputs:** For user input, validate types before operations.\n",
    "\n",
    "</details>\n",
    "\n",
    "<details>\n",
    "<summary><strong>Common Mistakes and Pitfalls</strong></summary>\n",
    "\n",
    "- Missing quotes for strings: `e = abcdefghijkl` should be `e = \"abcdefghijkl\"`.  \n",
    "- Invalid syntax: `*a = 10` is not allowed; use valid names.  \n",
    "- Type errors: Mixing strings and numbers without conversion, e.g., `a + 4`.  \n",
    "- Unpacking mismatches: Ensure the number of values matches variables.  \n",
    "- Input handling: `input()` returns strings; convert to numbers for math.\n",
    "\n",
    "</details>\n",
    "\n",
    "<details>\n",
    "<summary><strong>Data Processing Explanations</strong></summary>\n",
    "\n",
    "- No advanced data processing (e.g., Pandas) here. Basic operations on primitive types.  \n",
    "- Type conversion (e.g., `str(4)`) is key for string operations.\n",
    "\n",
    "</details>\n",
    "\n",
    "<details>\n",
    "<summary><strong>Debugging Hints and Error Fixes</strong></summary>\n",
    "\n",
    "- `NameError`: Check for typos in variable names or missing quotes.  \n",
    "- `SyntaxError`: Review code for invalid operators or assignments.  \n",
    "- `TypeError`: Ensure compatible types; use `int()`, `str()`, etc., for conversion.  \n",
    "- `ValueError`: For unpacking, match value count to variable count.  \n",
    "- Use `print()` statements to debug variable values.  \n",
    "- Run cells individually in Jupyter to isolate errors.\n",
    "\n",
    "</details>\n",
    "\n",
    "<details>\n",
    "<summary><strong>Performance or Optimization Tips</strong></summary>\n",
    "\n",
    "- For simple scripts like this, performance is not an issue.  \n",
    "- In larger programs, avoid unnecessary reassignments to reduce memory usage.  \n",
    "- Use meaningful names for better code maintainability.\n",
    "\n",
    "</details>\n",
    "\n",
    "<details>\n",
    "<summary><strong>Project Folder Structure and Workflow</strong></summary>\n",
    "\n",
    "- This is a single notebook in a `python/` folder.  \n",
    "- **Workflow:** Execute cells sequentially to learn concepts. Fix errors as encountered.  \n",
    "- Organize similar notebooks in subfolders (e.g., `basics/`, `advanced/`).  \n",
    "\n",
    "</details>\n"
   ]
  },
  {
   "cell_type": "markdown",
   "id": "c6ce09f0",
   "metadata": {},
   "source": [
    "-----"
   ]
  }
 ],
 "metadata": {
  "kernelspec": {
   "display_name": "Python 3 (ipykernel)",
   "language": "python",
   "name": "python3"
  },
  "language_info": {
   "codemirror_mode": {
    "name": "ipython",
    "version": 3
   },
   "file_extension": ".py",
   "mimetype": "text/x-python",
   "name": "python",
   "nbconvert_exporter": "python",
   "pygments_lexer": "ipython3",
   "version": "3.12.7"
  }
 },
 "nbformat": 4,
 "nbformat_minor": 5
}
