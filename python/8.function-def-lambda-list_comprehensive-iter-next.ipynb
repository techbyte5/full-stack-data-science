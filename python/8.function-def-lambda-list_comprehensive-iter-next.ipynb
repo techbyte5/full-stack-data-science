{
 "cells": [
  {
   "cell_type": "markdown",
   "id": "1425e452",
   "metadata": {},
   "source": [
    "---\n",
    "# Advanced Python Features – EXPLANATION & NOTES\n",
    "\n",
    "<details>\n",
    "<summary><strong>Overview</strong></summary>\n",
    "\n",
    "This notebook explores **advanced Python features**:\n",
    "\n",
    "- Variable arguments: `*args` (positional), `**kwargs` (keyword)  \n",
    "- Lambda (anonymous) functions  \n",
    "- List and dictionary comprehensions  \n",
    "- Iterators and generators using `iter()` and `next()`  \n",
    "\n",
    "Covers usage, best practices, and common pitfalls with examples.\n",
    "\n",
    "</details>\n",
    "\n",
    "<details>\n",
    "<summary><strong>Cell-wise Purpose and Workflow</strong></summary>\n",
    "\n",
    "- **Sections 1-8:** Using `*args` for variable positional arguments  \n",
    "- **Sections 9-13:** Using `**kwargs` for variable keyword arguments, rules for order  \n",
    "- **Sections 14-18:** Lambda functions, combining with `*args` and `**kwargs`, list/dict comprehensions  \n",
    "- **Sections 19-21:** Variable scope, list/dict comprehensions in different contexts  \n",
    "- **Sections 22-23:** Generators, iterators vs iterables, `iter()` and `next()` usage  \n",
    "\n",
    "Workflow: Introduces flexible functions, anonymous expressions, concise data processing, and memory-efficient iteration. Each section includes examples and common errors for better understanding.\n",
    "\n",
    "</details>\n",
    "\n",
    "<details>\n",
    "<summary><strong>Function-wise Explanation</strong></summary>\n",
    "\n",
    "- `*args`: Collects multiple positional arguments into a **tuple**  \n",
    "- `**kwargs`: Collects multiple keyword arguments into a **dictionary**  \n",
    "- `lambda`: Defines **anonymous, single-expression functions**  \n",
    "- **Comprehensions**: Build lists or dictionaries concisely without loops  \n",
    "- `iter()`: Returns an iterator from an iterable  \n",
    "- `next()`: Fetches the next item from an iterator  \n",
    "\n",
    "</details>\n",
    "\n",
    "<details>\n",
    "<summary><strong>Algorithm & Logic Explanation</strong></summary>\n",
    "\n",
    "- `*args` and `**kwargs` enable **flexible function calls** without predefining the number of arguments  \n",
    "- Lambda functions allow **short, on-the-fly operations**  \n",
    "- List and dict comprehensions replace loops for **concise collection creation**  \n",
    "- Iterators allow **memory-efficient traversal** of large datasets; `next()` retrieves elements one at a time  \n",
    "\n",
    "</details>\n",
    "\n",
    "<details>\n",
    "<summary><strong>Best Practices and Improvements</strong></summary>\n",
    "\n",
    "- Use `*args` for variable positional inputs  \n",
    "- Use `**kwargs` for variable keyword inputs  \n",
    "- Keep lambda functions simple; prefer `def` for complex logic  \n",
    "- Comprehensions improve readability over loops for simple transformations  \n",
    "- Use iterators/generators for large data instead of loading everything into memory  \n",
    "\n",
    "</details>\n",
    "\n",
    "<details>\n",
    "<summary><strong>Common Mistakes and Pitfalls</strong></summary>\n",
    "\n",
    "- Argument order must be: positional → `*args` → keyword → `**kwargs`  \n",
    "- Lambda functions **cannot contain statements**, only expressions  \n",
    "- Calling `next()` on a non-iterator raises `TypeError`  \n",
    "- Variable scope issues when using comprehensions or closures  \n",
    "- Forgetting to convert iterables to iterators before using `next()`  \n",
    "\n",
    "</details>\n",
    "\n",
    "<details>\n",
    "<summary><strong>Data Processing Explanations</strong></summary>\n",
    "\n",
    "- Comprehensions allow **transforming lists/dicts concisely**  \n",
    "- Iterators/generators handle **large datasets efficiently**, without creating full collections in memory  \n",
    "- Example: `[x**2 for x in numbers if x%2==0]` for filtering and squaring  \n",
    "\n",
    "</details>\n",
    "\n",
    "<details>\n",
    "<summary><strong>Performance or Optimization Tips</strong></summary>\n",
    "\n",
    "- Comprehensions are **faster** than equivalent `for` loops  \n",
    "- Generators and iterators reduce memory usage for large data  \n",
    "- Avoid repeatedly calling `iter()` on the same iterable unnecessarily  \n",
    "\n",
    "</details>\n",
    "\n",
    "<details>\n",
    "<summary><strong>Debugging Hints</strong></summary>\n",
    "\n",
    "- Check types before using `next()` (`isinstance(obj, Iterator)`)  \n",
    "- Use `print()` inside lambdas cautiously; prefer debugging with named functions  \n",
    "- For comprehensions, print intermediate results to verify logic  \n",
    "- Catch `StopIteration` when manually iterating with `next()`  \n",
    "\n",
    "</details>\n",
    "\n",
    "<details>\n",
    "<summary><strong>Encouragement</strong></summary>\n",
    "\n",
    "Great job exploring **advanced Python features**!  \n",
    "Practice combining `*args`, `**kwargs`, lambdas, and comprehensions for real-world tasks.  \n",
    "Use iterators and generators to handle **large datasets efficiently** and enhance your Python mastery.\n",
    "\n",
    "</details>"
   ]
  },
  {
   "cell_type": "markdown",
   "id": "6000b3d6",
   "metadata": {},
   "source": [
    "---\n",
    "### Advanced Functions, Lambda, List Comprehensions, Iterators Notebook\n",
    "\n",
    "This notebook covers advanced Python concepts:\n",
    "- *args and **kwargs for variable arguments\n",
    "- Lambda functions\n",
    "- List comprehensions\n",
    "- Iterators and next()\n",
    "\n",
    "Demonstrates flexible functions, concise expressions, and iteration.\n",
    "\n",
    "Note: Includes syntax errors (e.g., invalid lambda) and type errors.\n",
    "      Fix for proper execution."
   ]
  },
  {
   "cell_type": "markdown",
   "id": "19de08dd",
   "metadata": {},
   "source": [
    "---\n",
    "### Section 1: Function with Multiple Parameters"
   ]
  },
  {
   "cell_type": "code",
   "execution_count": 1,
   "id": "409b0aba-7e8a-4316-8ee8-1bc571b12d1d",
   "metadata": {},
   "outputs": [],
   "source": [
    "def test (a, b, c, d, e):  # Define with 5 parameters\n",
    "    return a, b, c, d, e  # Return tuple"
   ]
  },
  {
   "cell_type": "code",
   "execution_count": 2,
   "id": "6fb82ac8-6d85-42d0-bb96-757e7a396676",
   "metadata": {},
   "outputs": [
    {
     "data": {
      "text/plain": [
       "(125, 35, 1528, 127, 2)"
      ]
     },
     "execution_count": 2,
     "metadata": {},
     "output_type": "execute_result"
    }
   ],
   "source": [
    "test(125, 35, 1528, 127, 2)  # Call: (125, 35, 1528, 127, 2)"
   ]
  },
  {
   "cell_type": "markdown",
   "id": "bff5011b",
   "metadata": {},
   "source": [
    "### Section 2: *args for Variable Args"
   ]
  },
  {
   "cell_type": "code",
   "execution_count": 3,
   "id": "e4b0db5d-f22f-448c-aaf9-b49272872b5c",
   "metadata": {},
   "outputs": [],
   "source": [
    "def test1(*args):  # Define with *args for variable args\n",
    "# *args collects extra args as tuple\n",
    "    return args"
   ]
  },
  {
   "cell_type": "code",
   "execution_count": 4,
   "id": "e23f3004-f26c-4a9a-8328-41a13d6f38bb",
   "metadata": {},
   "outputs": [
    {
     "data": {
      "text/plain": [
       "(147, 2589, 456, 212)"
      ]
     },
     "execution_count": 4,
     "metadata": {},
     "output_type": "execute_result"
    }
   ],
   "source": [
    "test1(147, 2589, 456, 212)  # (147, 2589, 456, 212)"
   ]
  },
  {
   "cell_type": "code",
   "execution_count": 5,
   "id": "8bb8a4eb-d384-4d90-8fb4-6472b8d8912c",
   "metadata": {},
   "outputs": [
    {
     "data": {
      "text/plain": [
       "('code', 'python', 158, False, [54512, 454, 'language'], (1512, 41, 58))"
      ]
     },
     "execution_count": 5,
     "metadata": {},
     "output_type": "execute_result"
    }
   ],
   "source": [
    "test1(\"code\", \"python\", 158, False, [54512, 454, \"language\"], (1512, 41, 58))  # Mixed types"
   ]
  },
  {
   "cell_type": "markdown",
   "id": "735e84a4",
   "metadata": {},
   "source": [
    "### Section 3: *args with Custom Name"
   ]
  },
  {
   "cell_type": "code",
   "execution_count": 6,
   "id": "ef550033-4d95-43b5-9e82-f9d24d211c5b",
   "metadata": {},
   "outputs": [],
   "source": [
    "def test2(*abc):  # Same as *args\n",
    "    return abc"
   ]
  },
  {
   "cell_type": "code",
   "execution_count": 7,
   "id": "19e7b991-c0f2-49de-a3ef-feb6ef49cf4f",
   "metadata": {},
   "outputs": [
    {
     "data": {
      "text/plain": [
       "('code', 'list', 454, True)"
      ]
     },
     "execution_count": 7,
     "metadata": {},
     "output_type": "execute_result"
    }
   ],
   "source": [
    "test2(\"code\", \"list\", 454, True)  # (\"code\", \"list\", 454, True)"
   ]
  },
  {
   "cell_type": "markdown",
   "id": "1e374435",
   "metadata": {},
   "source": [
    "### Section 4: *args with Keyword Args"
   ]
  },
  {
   "cell_type": "code",
   "execution_count": 8,
   "id": "88243473-a573-4888-9d36-1386414956a2",
   "metadata": {},
   "outputs": [],
   "source": [
    "def test3(*abcd, a):  # *abcd for positional, a for keyword\n",
    "    return abcd, a"
   ]
  },
  {
   "cell_type": "code",
   "execution_count": 9,
   "id": "24f4056b-09b8-4aee-ac97-deac41a6738e",
   "metadata": {},
   "outputs": [
    {
     "ename": "TypeError",
     "evalue": "test3() missing 1 required keyword-only argument: 'a'",
     "output_type": "error",
     "traceback": [
      "\u001b[0;31m---------------------------------------------------------------------------\u001b[0m",
      "\u001b[0;31mTypeError\u001b[0m                                 Traceback (most recent call last)",
      "Cell \u001b[0;32mIn[9], line 1\u001b[0m\n\u001b[0;32m----> 1\u001b[0m test3(\u001b[38;5;241m345\u001b[39m, \u001b[38;5;241m456\u001b[39m, \u001b[38;5;241m752\u001b[39m)\n",
      "\u001b[0;31mTypeError\u001b[0m: test3() missing 1 required keyword-only argument: 'a'"
     ]
    }
   ],
   "source": [
    "test3(345, 456, 752)  # ERROR: TypeError - a not provided\n",
    "# Must provide keyword arg 'a'"
   ]
  },
  {
   "cell_type": "code",
   "execution_count": 10,
   "id": "c9d0487c-12c2-470d-ba57-81a290bc7353",
   "metadata": {},
   "outputs": [
    {
     "data": {
      "text/plain": [
       "((15, 125, 40), 5)"
      ]
     },
     "execution_count": 10,
     "metadata": {},
     "output_type": "execute_result"
    }
   ],
   "source": [
    "test3(15, 125, 40, a = 5)  # ((15, 125, 40), 5)\n",
    "# test3(a = 5)  # ((), 5) - no positional args\n",
    "# test3()  # ERROR: TypeError - a not provided\n",
    "# test3(15, 125, 40, 55)  # ERROR: TypeError - a not provided"
   ]
  },
  {
   "cell_type": "markdown",
   "id": "b71cd003",
   "metadata": {},
   "source": [
    "### Section 5: *args with Multiple Keywords"
   ]
  },
  {
   "cell_type": "code",
   "execution_count": 11,
   "id": "8d009491-8ec7-4ddc-b4e6-c88e4e1925dd",
   "metadata": {},
   "outputs": [],
   "source": [
    "def test4(*abc, a, b, c, d):  # *abc, then keywords\n",
    "    return abc, a, b, c, d"
   ]
  },
  {
   "cell_type": "code",
   "execution_count": 12,
   "id": "0fa823c8-df00-443d-8691-9809691d4f21",
   "metadata": {},
   "outputs": [
    {
     "data": {
      "text/plain": [
       "((51, 23, 115, 741), [54, 121, 84, 'code'], [15, 48, 652], 'string', 51.25)"
      ]
     },
     "execution_count": 12,
     "metadata": {},
     "output_type": "execute_result"
    }
   ],
   "source": [
    "test4(51, 23, 115, 741, a = [54, 121, 84, \"code\"], b = [15, 48, 652], c = \"string\", d = 51.25)  # ((51, 23, 115, 741), [...], [...], \"string\", 51.25)"
   ]
  },
  {
   "cell_type": "markdown",
   "id": "92c3136a",
   "metadata": {},
   "source": [
    "### Section 6: Positional with *args"
   ]
  },
  {
   "cell_type": "code",
   "execution_count": 13,
   "id": "a40a8f82-6cff-4746-9407-7b80b4f5f4a5",
   "metadata": {},
   "outputs": [],
   "source": [
    "def test5(a, *abcd):  # a positional, *abcd rest\n",
    "    return abcd, a"
   ]
  },
  {
   "cell_type": "code",
   "execution_count": 14,
   "id": "b3b2c5c3-12ec-46c3-9555-0f115c22b0d7",
   "metadata": {},
   "outputs": [
    {
     "ename": "TypeError",
     "evalue": "test5() got multiple values for argument 'a'",
     "output_type": "error",
     "traceback": [
      "\u001b[0;31m---------------------------------------------------------------------------\u001b[0m",
      "\u001b[0;31mTypeError\u001b[0m                                 Traceback (most recent call last)",
      "Cell \u001b[0;32mIn[14], line 1\u001b[0m\n\u001b[0;32m----> 1\u001b[0m test5(\u001b[38;5;124m\"\u001b[39m\u001b[38;5;124mcode\u001b[39m\u001b[38;5;124m\"\u001b[39m, \u001b[38;5;124m\"\u001b[39m\u001b[38;5;124mlist\u001b[39m\u001b[38;5;124m\"\u001b[39m, \u001b[38;5;241m56\u001b[39m, \u001b[38;5;241m52.5\u001b[39m, a \u001b[38;5;241m=\u001b[39m [\u001b[38;5;241m45\u001b[39m, \u001b[38;5;241m15\u001b[39m])\n",
      "\u001b[0;31mTypeError\u001b[0m: test5() got multiple values for argument 'a'"
     ]
    }
   ],
   "source": [
    "test5(\"code\", \"list\", 56, 52.5, a = [45, 15])  # ERROR: Multiple values for a\n",
    "# test5(\"code\", \"list\", 56, 52.5)  # (('list', 56, 52.5), 'code')"
   ]
  },
  {
   "cell_type": "markdown",
   "id": "a17b54c3",
   "metadata": {},
   "source": [
    "### Section 7: Returning First List from *args"
   ]
  },
  {
   "cell_type": "code",
   "execution_count": 15,
   "id": "c4f42870-73a7-48c7-bbc1-061c58803438",
   "metadata": {},
   "outputs": [],
   "source": [
    "def test6(*abc):  # *abc\n",
    "    for i in abc:  # Iterate\n",
    "        if type(i) == list:  # If list\n",
    "            return i  # Return first list\n",
    "    return \"No list found\"  # If no list"
   ]
  },
  {
   "cell_type": "code",
   "execution_count": 16,
   "id": "99392124-c0ec-4833-ba8e-804ab5011741",
   "metadata": {},
   "outputs": [
    {
     "data": {
      "text/plain": [
       "[151, 'a', False]"
      ]
     },
     "execution_count": 16,
     "metadata": {},
     "output_type": "execute_result"
    }
   ],
   "source": [
    "test6(545, 84854, 21, \"code\", [151, \"a\", False])  # [151, \"a\", False]\n",
    "# test6(545, 84854, 21, \"code\", (151, \"a\", False))  # No list found\n",
    "# test6(545, 84854, [21, \"code\"], (151, \"a\", False), [15, 48, 652])  # [21, \"code\"]\n"
   ]
  },
  {
   "cell_type": "markdown",
   "id": "f96d8bbd",
   "metadata": {},
   "source": [
    "### Section 8: Returning All Lists from *args"
   ]
  },
  {
   "cell_type": "code",
   "execution_count": 17,
   "id": "06684c35-248f-4278-b951-ca175389938c",
   "metadata": {},
   "outputs": [],
   "source": [
    "def test7(*abc):  # *abc\n",
    "    l = []  # Empty list\n",
    "    for i in abc:  # Iterate\n",
    "        if type(i) == list:  # If list\n",
    "            l.append(i)  # Append\n",
    "    return l  # Return all lists"
   ]
  },
  {
   "cell_type": "code",
   "execution_count": 18,
   "id": "60a178fe-14ba-46c8-bb58-ec4485cda8e0",
   "metadata": {},
   "outputs": [
    {
     "data": {
      "text/plain": [
       "[[15, 123, 158], [48, 258, 456]]"
      ]
     },
     "execution_count": 18,
     "metadata": {},
     "output_type": "execute_result"
    }
   ],
   "source": [
    "test7(51, 541, 75.58, [15, 123, 158], False, [48, 258, 456], 1252.5)  # [[15, 123, 158], [48, 258, 456]]\n",
    "# test7(51, 541, 75.58, (15, 123, 158), False, (48, 258, 456), 1252.5)  # []\n",
    "# test7()  # [] - No args"
   ]
  },
  {
   "cell_type": "markdown",
   "id": "902a0a61",
   "metadata": {},
   "source": [
    "---\n",
    "### Section 9: **kwargs for Keyword Args"
   ]
  },
  {
   "cell_type": "code",
   "execution_count": 19,
   "id": "15aa816e",
   "metadata": {},
   "outputs": [
    {
     "data": {
      "text/plain": [
       "[15, 25, 124]"
      ]
     },
     "execution_count": 19,
     "metadata": {},
     "output_type": "execute_result"
    }
   ],
   "source": [
    "d = {\"a\": [15, 25, 124], \"b\": [14, 28, 42]}  # Dict\n",
    "d[\"a\"]  # [15, 25, 124]"
   ]
  },
  {
   "cell_type": "code",
   "execution_count": 20,
   "id": "0365ed78",
   "metadata": {},
   "outputs": [],
   "source": [
    "def test8(**kwargs):  # **kwargs collects keyword args as dict\n",
    "    return kwargs"
   ]
  },
  {
   "cell_type": "code",
   "execution_count": 21,
   "id": "159fc017",
   "metadata": {},
   "outputs": [
    {
     "ename": "TypeError",
     "evalue": "test8() takes 0 positional arguments but 4 were given",
     "output_type": "error",
     "traceback": [
      "\u001b[0;31m---------------------------------------------------------------------------\u001b[0m",
      "\u001b[0;31mTypeError\u001b[0m                                 Traceback (most recent call last)",
      "Cell \u001b[0;32mIn[21], line 1\u001b[0m\n\u001b[0;32m----> 1\u001b[0m test8(\u001b[38;5;241m124\u001b[39m, \u001b[38;5;241m126\u001b[39m, \u001b[38;5;241m25\u001b[39m, \u001b[38;5;241m45\u001b[39m)\n",
      "\u001b[0;31mTypeError\u001b[0m: test8() takes 0 positional arguments but 4 were given"
     ]
    }
   ],
   "source": [
    "test8(124, 126, 25, 45)  # ERROR: TypeError - positional args not allowed\n",
    "# test8(a = [15, 25, 124], b = [14, 28, 42])  # {'a': [15, 25, 124], 'b': [14, 28, 42]}"
   ]
  },
  {
   "cell_type": "code",
   "execution_count": 22,
   "id": "8811ca97",
   "metadata": {},
   "outputs": [
    {
     "data": {
      "text/plain": [
       "{'a': 15, 'b': [15, 30, 45]}"
      ]
     },
     "execution_count": 22,
     "metadata": {},
     "output_type": "execute_result"
    }
   ],
   "source": [
    "test8(a = 15, b = [15, 30, 45])  # {\"a\": 15, \"b\": [15, 30, 45]}\n",
    "# test8(a = 15, b = [15, 30, 45], c = (15, 25, 35), d = \"code\", e = False)  # Mixed types\n",
    "# test8()  # {} - No args"
   ]
  },
  {
   "cell_type": "code",
   "execution_count": 23,
   "id": "24432934",
   "metadata": {},
   "outputs": [
    {
     "name": "stdout",
     "output_type": "stream",
     "text": [
      "hello\n",
      "['apple', 'banana']\n",
      "5\n",
      "Empty list\n",
      "[1, 'Empty list', 'a']\n",
      "[1, 2, 'a', 'b']\n"
     ]
    }
   ],
   "source": [
    "def test8(*abc):  # Return first string inside any list\n",
    "    for i in abc:\n",
    "        if type(i) == list:\n",
    "            for j in i:\n",
    "                if type(j) == str:\n",
    "                    return j\n",
    "    return \"No string found\"\n",
    "\n",
    "print(test8(123, [1, 2, \"hello\"], [\"world\", 5]))  # hello\n",
    "\n",
    "\n",
    "def test8_1(*abc):  # Return all strings inside all lists\n",
    "    l = []\n",
    "    for i in abc:\n",
    "        if type(i) == list:\n",
    "            for j in i:\n",
    "                if type(j) == str:\n",
    "                    l.append(j)\n",
    "    return l\n",
    "\n",
    "print(test8_1(123, [1, \"apple\"], [3, \"banana\", 7]))  # ['apple', 'banana']\n",
    "\n",
    "\n",
    "def test8_2(*abc):  # Return first element of first list\n",
    "    for i in abc:\n",
    "        if type(i) == list:\n",
    "            it = iter(i)\n",
    "            try:\n",
    "                return next(it)\n",
    "            except StopIteration:\n",
    "                return \"Empty list\"\n",
    "    return \"No list found\"\n",
    "\n",
    "print(test8_2(123, [5, \"apple\", 7], [1, 2, 3]))  # 5\n",
    "print(test8_2(123, [], [1, 2]))  # Empty list\n",
    "\n",
    "\n",
    "def test8_3(*abc):  # Return first element of every list\n",
    "    l = []\n",
    "    for i in abc:\n",
    "        if type(i) == list:\n",
    "            it = iter(i)\n",
    "            try:\n",
    "                l.append(next(it))\n",
    "            except StopIteration:\n",
    "                l.append(\"Empty list\")\n",
    "    return l\n",
    "\n",
    "print(test8_3(123, [1, 2, 3], [], [\"a\", \"b\"]))  # [1, 'Empty list', 'a']\n",
    "\n",
    "\n",
    "def test8_4(*abc):  # Return all elements from all lists\n",
    "    l = []\n",
    "    for i in abc:\n",
    "        if type(i) == list:\n",
    "            it = iter(i)\n",
    "            try:\n",
    "                while True:\n",
    "                    l.append(next(it))\n",
    "            except StopIteration:\n",
    "                pass\n",
    "    return l\n",
    "\n",
    "print(test8_4(123, [1, 2], [\"a\", \"b\"], \"xyz\", []))  # [1, 2, 'a', 'b']"
   ]
  },
  {
   "cell_type": "markdown",
   "id": "610af102",
   "metadata": {},
   "source": [
    "### Section 10: **kwargs with Custom Name"
   ]
  },
  {
   "cell_type": "code",
   "execution_count": 24,
   "id": "eea49939-2886-4930-a734-722994bb11bd",
   "metadata": {},
   "outputs": [],
   "source": [
    "d = {\"a\": [15, 25, 124], \"b\": [14, 28, 42]}  # Dict"
   ]
  },
  {
   "cell_type": "code",
   "execution_count": 25,
   "id": "1a1c0055-ddaa-48c6-9bd9-a3e205ea25f1",
   "metadata": {},
   "outputs": [
    {
     "data": {
      "text/plain": [
       "[15, 25, 124]"
      ]
     },
     "execution_count": 25,
     "metadata": {},
     "output_type": "execute_result"
    }
   ],
   "source": [
    "d[\"a\"]  # [15, 25, 124]"
   ]
  },
  {
   "cell_type": "code",
   "execution_count": 26,
   "id": "1cc3ad8c-6588-4e04-9bd4-bf2abd586757",
   "metadata": {},
   "outputs": [],
   "source": [
    "def test8(**kwargs):  # **kwargs collects keyword args as dict\n",
    "    return kwargs"
   ]
  },
  {
   "cell_type": "code",
   "execution_count": 27,
   "id": "e73e2181-233c-4754-8996-325a024d5baf",
   "metadata": {},
   "outputs": [
    {
     "ename": "TypeError",
     "evalue": "test8() takes 0 positional arguments but 4 were given",
     "output_type": "error",
     "traceback": [
      "\u001b[0;31m---------------------------------------------------------------------------\u001b[0m",
      "\u001b[0;31mTypeError\u001b[0m                                 Traceback (most recent call last)",
      "Cell \u001b[0;32mIn[27], line 1\u001b[0m\n\u001b[0;32m----> 1\u001b[0m test8(\u001b[38;5;241m124\u001b[39m, \u001b[38;5;241m126\u001b[39m, \u001b[38;5;241m25\u001b[39m, \u001b[38;5;241m45\u001b[39m)\n",
      "\u001b[0;31mTypeError\u001b[0m: test8() takes 0 positional arguments but 4 were given"
     ]
    }
   ],
   "source": [
    "test8(124, 126, 25, 45)  # ERROR: TypeError - positional args not allowed"
   ]
  },
  {
   "cell_type": "code",
   "execution_count": 28,
   "id": "c495d638-605b-49f0-843b-4ce456168940",
   "metadata": {},
   "outputs": [
    {
     "data": {
      "text/plain": [
       "{'a': 15, 'b': [15, 30, 45]}"
      ]
     },
     "execution_count": 28,
     "metadata": {},
     "output_type": "execute_result"
    }
   ],
   "source": [
    "test8(a = 15, b = [15, 30, 45])  # {\"a\": 15, \"b\": [15, 30, 45]}\n",
    "# test8(a = 15, b = [15, 30, 45], c = (15, 25, 35), d = \"code\", e = False)  # Mixed types\n",
    "# test8()  # {} - No args"
   ]
  },
  {
   "cell_type": "markdown",
   "id": "a039a7ae",
   "metadata": {},
   "source": [
    "### Section 10: **kwargs with Custom Name"
   ]
  },
  {
   "cell_type": "code",
   "execution_count": 29,
   "id": "17f8248a-051e-4aef-95a5-f892dc0f689a",
   "metadata": {},
   "outputs": [],
   "source": [
    "def test9(**abc):  # Same\n",
    "    return abc"
   ]
  },
  {
   "cell_type": "code",
   "execution_count": 30,
   "id": "dc5e9e9e-1e07-4cd5-a222-c50fd5007f8b",
   "metadata": {},
   "outputs": [
    {
     "data": {
      "text/plain": [
       "{'a': 4, 'b': [4, 8, 12, 6]}"
      ]
     },
     "execution_count": 30,
     "metadata": {},
     "output_type": "execute_result"
    }
   ],
   "source": [
    "test9(a = 4, b = [4, 8 ,12 ,6])  # {\"a\": 4, \"b\": [4, 8, 12, 6]}"
   ]
  },
  {
   "cell_type": "code",
   "execution_count": 31,
   "id": "9b7aff0b-a99e-4fb5-9dad-a2b8e3215576",
   "metadata": {},
   "outputs": [
    {
     "ename": "SyntaxError",
     "evalue": "expression cannot contain assignment, perhaps you meant \"==\"? (1797206246.py, line 1)",
     "output_type": "error",
     "traceback": [
      "\u001b[0;36m  Cell \u001b[0;32mIn[31], line 1\u001b[0;36m\u001b[0m\n\u001b[0;31m    test9(\"a\" = \"abcdef\")  # ERROR: SyntaxError - invalid key\u001b[0m\n\u001b[0m          ^\u001b[0m\n\u001b[0;31mSyntaxError\u001b[0m\u001b[0;31m:\u001b[0m expression cannot contain assignment, perhaps you meant \"==\"?\n"
     ]
    }
   ],
   "source": [
    "test9(\"a\" = \"abcdef\")  # ERROR: SyntaxError - invalid key\n",
    "# Keys must be valid identifiers\n",
    "# test9()  # {} - No args"
   ]
  },
  {
   "cell_type": "code",
   "execution_count": 32,
   "id": "e0289bbd-b7c6-42f0-a020-3b9656ac3d7a",
   "metadata": {},
   "outputs": [
    {
     "data": {
      "text/plain": [
       "{'a': 'abcdef'}"
      ]
     },
     "execution_count": 32,
     "metadata": {},
     "output_type": "execute_result"
    }
   ],
   "source": [
    "test9(a = \"abcdef\")  # {\"a\": \"abcdef\"}"
   ]
  },
  {
   "cell_type": "code",
   "execution_count": 33,
   "id": "8bb2179d-8609-4058-a6a6-d60e62f2091b",
   "metadata": {},
   "outputs": [
    {
     "ename": "SyntaxError",
     "evalue": "expression cannot contain assignment, perhaps you meant \"==\"? (839631763.py, line 1)",
     "output_type": "error",
     "traceback": [
      "\u001b[0;36m  Cell \u001b[0;32mIn[33], line 1\u001b[0;36m\u001b[0m\n\u001b[0;31m    test9(5 = \"abcdef\")  # ERROR: SyntaxError - key must be identifier\u001b[0m\n\u001b[0m          ^\u001b[0m\n\u001b[0;31mSyntaxError\u001b[0m\u001b[0;31m:\u001b[0m expression cannot contain assignment, perhaps you meant \"==\"?\n"
     ]
    }
   ],
   "source": [
    "test9(5 = \"abcdef\")  # ERROR: SyntaxError - key must be identifier\n",
    "# function arguments must use valid parameter names (identifiers), not values like 5. \n",
    "# You cannot assign a value to a number in a function call.\n",
    "# If your function expects a keyword argument, use a valid identifier: test9(arg=\"abcdef\")\n",
    "# If you want to pass 5 as a value, use positional arguments: test9(5)"
   ]
  },
  {
   "cell_type": "markdown",
   "id": "4f89bdd1",
   "metadata": {},
   "source": [
    "### Section 11: **kwargs Example"
   ]
  },
  {
   "cell_type": "code",
   "execution_count": 34,
   "id": "06f0e50b-119b-46f1-953c-af7e67b83657",
   "metadata": {},
   "outputs": [],
   "source": [
    "def test10(**abc):  # **abc\n",
    "    return abc"
   ]
  },
  {
   "cell_type": "code",
   "execution_count": 35,
   "id": "a0ddbcd3-757b-4f4f-bb88-179683d9bf4f",
   "metadata": {},
   "outputs": [
    {
     "data": {
      "text/plain": [
       "{'name': 'xyz',\n",
       " 'age': 15,\n",
       " 'phone_number': 987654321,\n",
       " 'mail_id': 'xyz@email.com',\n",
       " 'address': 'abcdefghij'}"
      ]
     },
     "execution_count": 35,
     "metadata": {},
     "output_type": "execute_result"
    }
   ],
   "source": [
    "test10(name = \"xyz\", age = 15, phone_number = 987654321, mail_id = \"xyz@email.com\", address = \"abcdefghij\")  # Dict of args"
   ]
  },
  {
   "cell_type": "markdown",
   "id": "81acbaf5",
   "metadata": {},
   "source": [
    "### Section 12: Positional with **kwargs"
   ]
  },
  {
   "cell_type": "code",
   "execution_count": 36,
   "id": "542bced0-55cf-4936-83c4-635f2da65757",
   "metadata": {},
   "outputs": [],
   "source": [
    "def test11(a, **abc):  # a positional, **abc\n",
    "    return abc, a"
   ]
  },
  {
   "cell_type": "code",
   "execution_count": 37,
   "id": "104e3225-2a8a-41c5-9a80-cf04a323ddbf",
   "metadata": {},
   "outputs": [
    {
     "ename": "TypeError",
     "evalue": "test11() takes 1 positional argument but 4 were given",
     "output_type": "error",
     "traceback": [
      "\u001b[0;31m---------------------------------------------------------------------------\u001b[0m",
      "\u001b[0;31mTypeError\u001b[0m                                 Traceback (most recent call last)",
      "Cell \u001b[0;32mIn[37], line 1\u001b[0m\n\u001b[0;32m----> 1\u001b[0m test11(\u001b[38;5;241m12\u001b[39m, \u001b[38;5;241m25\u001b[39m, \u001b[38;5;241m145\u001b[39m, \u001b[38;5;241m35\u001b[39m)\n",
      "\u001b[0;31mTypeError\u001b[0m: test11() takes 1 positional argument but 4 were given"
     ]
    }
   ],
   "source": [
    "test11(12, 25, 145, 35)  # ERROR: Positional after positional\n",
    "# provides four positional arguments, which is not allowed.\n",
    "# Only the first value goes to a. All others must be named (key=value) for **abc."
   ]
  },
  {
   "cell_type": "code",
   "execution_count": 38,
   "id": "824c8f55-8a6b-4b3a-aad7-f5a2e573be90",
   "metadata": {},
   "outputs": [
    {
     "ename": "TypeError",
     "evalue": "test11() got multiple values for argument 'a'",
     "output_type": "error",
     "traceback": [
      "\u001b[0;31m---------------------------------------------------------------------------\u001b[0m",
      "\u001b[0;31mTypeError\u001b[0m                                 Traceback (most recent call last)",
      "Cell \u001b[0;32mIn[38], line 1\u001b[0m\n\u001b[0;32m----> 1\u001b[0m test11(\u001b[38;5;241m15\u001b[39m, a \u001b[38;5;241m=\u001b[39m \u001b[38;5;241m12\u001b[39m, b \u001b[38;5;241m=\u001b[39m \u001b[38;5;241m154\u001b[39m, c \u001b[38;5;241m=\u001b[39m \u001b[38;5;241m457\u001b[39m, d \u001b[38;5;241m=\u001b[39m \u001b[38;5;241m11\u001b[39m)\n",
      "\u001b[0;31mTypeError\u001b[0m: test11() got multiple values for argument 'a'"
     ]
    }
   ],
   "source": [
    "test11(15, a = 12, b = 154, c = 457, d = 11)  # ERROR: a provided twice\n",
    "# Passing a both as a positional argument (15) and as a keyword argument (a=12).\n",
    "# Python does not allow a parameter to be assigned more than once in a function call.\n",
    "# Each parameter should be assigned only once per call."
   ]
  },
  {
   "cell_type": "code",
   "execution_count": 39,
   "id": "502405ce-8c73-4457-820c-2b8b7fd4927e",
   "metadata": {},
   "outputs": [
    {
     "data": {
      "text/plain": [
       "({'t': 12, 'b': 154, 'c': 457, 'd': 11}, 15)"
      ]
     },
     "execution_count": 39,
     "metadata": {},
     "output_type": "execute_result"
    }
   ],
   "source": [
    "test11(15, t = 12, b = 154, c = 457, d = 11)  # ({\"t\": 12, \"b\": 154, \"c\": 457, \"d\": 11}, 15)\n",
    "# test11(a = 15, t = 12, b = 154, c = 457, d = 11)  # ({'t': 12, 'b': 154, 'c': 457, 'd': 11}, 15)"
   ]
  },
  {
   "cell_type": "markdown",
   "id": "bb322d7c",
   "metadata": {},
   "source": [
    "### Section 13: Invalid Syntax"
   ]
  },
  {
   "cell_type": "code",
   "execution_count": 40,
   "id": "54765869-78cc-4c89-b33e-2e4ed2ebca92",
   "metadata": {},
   "outputs": [
    {
     "ename": "SyntaxError",
     "evalue": "arguments cannot follow var-keyword argument (1680015729.py, line 1)",
     "output_type": "error",
     "traceback": [
      "\u001b[0;36m  Cell \u001b[0;32mIn[40], line 1\u001b[0;36m\u001b[0m\n\u001b[0;31m    def test12(a, **abc, *xyz):  # ERROR: ** before *\u001b[0m\n\u001b[0m                         ^\u001b[0m\n\u001b[0;31mSyntaxError\u001b[0m\u001b[0;31m:\u001b[0m arguments cannot follow var-keyword argument\n"
     ]
    }
   ],
   "source": [
    "def test12(a, **abc, *xyz):  # ERROR: ** before *\n",
    "    return abc, a, xyz\n",
    "# **kwargs must be the last parameter in a function definition.\n",
    "# Any parameters after **kwargs cause a SyntaxError."
   ]
  },
  {
   "cell_type": "code",
   "execution_count": 41,
   "id": "3984ab6d-720e-4c7f-84aa-2e48e934d43a",
   "metadata": {},
   "outputs": [],
   "source": [
    "def test13(a, *abc, **xyz):  # Correct order\n",
    "    return a, abc, xyz"
   ]
  },
  {
   "cell_type": "code",
   "execution_count": 42,
   "id": "4f366264-0dcf-474a-acbe-c0d32e5687d4",
   "metadata": {},
   "outputs": [
    {
     "data": {
      "text/plain": [
       "(1, (11, 15, 45, 36, 7), {'g': 4555, 'l': 78})"
      ]
     },
     "execution_count": 42,
     "metadata": {},
     "output_type": "execute_result"
    }
   ],
   "source": [
    "test13(1, 11, 15, 45, 36, 7, g = 4555, l = 78)  # (1, (11, 15, 45, 36, 7), {\"g\": 4555, \"l\": 78})"
   ]
  },
  {
   "cell_type": "markdown",
   "id": "78347ac1",
   "metadata": {},
   "source": [
    "---\n",
    "### Section 14: Lambda Basics"
   ]
  },
  {
   "cell_type": "code",
   "execution_count": 43,
   "id": "f5330a7c-acd3-468d-ac49-97c0f0a9c230",
   "metadata": {},
   "outputs": [],
   "source": [
    "def test14(a, b):  # Regular function\n",
    "    return a * b"
   ]
  },
  {
   "cell_type": "code",
   "execution_count": 44,
   "id": "e3b64fb1-a199-4607-a983-339737bb86a9",
   "metadata": {},
   "outputs": [
    {
     "data": {
      "text/plain": [
       "168"
      ]
     },
     "execution_count": 44,
     "metadata": {},
     "output_type": "execute_result"
    }
   ],
   "source": [
    "test14(14, 12)  # 168"
   ]
  },
  {
   "cell_type": "code",
   "execution_count": 45,
   "id": "c87e9cef-559f-4a10-afe0-85c1271684a1",
   "metadata": {},
   "outputs": [
    {
     "data": {
      "text/plain": [
       "<function __main__.<lambda>(a, b)>"
      ]
     },
     "execution_count": 45,
     "metadata": {},
     "output_type": "execute_result"
    }
   ],
   "source": [
    "lambda a, b : a * b  # Lambda expression"
   ]
  },
  {
   "cell_type": "code",
   "execution_count": 46,
   "id": "132c0435-d691-49c4-a1ac-ab41ccf17746",
   "metadata": {},
   "outputs": [],
   "source": [
    "a = lambda a, b : a * b  # Assign to variable"
   ]
  },
  {
   "cell_type": "code",
   "execution_count": 47,
   "id": "bb67b4b0-07e2-4cfa-9b6d-2e1686f32312",
   "metadata": {},
   "outputs": [
    {
     "data": {
      "text/plain": [
       "675"
      ]
     },
     "execution_count": 47,
     "metadata": {},
     "output_type": "execute_result"
    }
   ],
   "source": [
    "a(45, 15)  # 675"
   ]
  },
  {
   "cell_type": "code",
   "execution_count": 48,
   "id": "bd641553-c869-4317-a902-fd63190bb462",
   "metadata": {},
   "outputs": [],
   "source": [
    "a = lambda a, b : (a * b, a + b)  # Multiple returns"
   ]
  },
  {
   "cell_type": "code",
   "execution_count": 49,
   "id": "bd884eaa-3b3c-4444-99c4-1b64c7cdeacf",
   "metadata": {},
   "outputs": [
    {
     "data": {
      "text/plain": [
       "(70, 17)"
      ]
     },
     "execution_count": 49,
     "metadata": {},
     "output_type": "execute_result"
    }
   ],
   "source": [
    "a(10, 7)  # (70, 17)"
   ]
  },
  {
   "cell_type": "markdown",
   "id": "416ecec3",
   "metadata": {},
   "source": [
    "### Section 15: Lambda with *args"
   ]
  },
  {
   "cell_type": "code",
   "execution_count": 50,
   "id": "25898d5d-9a2f-43ed-ba52-1833c602d439",
   "metadata": {},
   "outputs": [],
   "source": [
    "a = lambda *a : a  # *a"
   ]
  },
  {
   "cell_type": "code",
   "execution_count": 51,
   "id": "014c49e7-1b9b-49bc-9a22-55289121dfab",
   "metadata": {},
   "outputs": [
    {
     "data": {
      "text/plain": [
       "(5, 12, 7)"
      ]
     },
     "execution_count": 51,
     "metadata": {},
     "output_type": "execute_result"
    }
   ],
   "source": [
    "a(5, 12, 7)  # (5, 12, 7)"
   ]
  },
  {
   "cell_type": "code",
   "execution_count": 52,
   "id": "a01e7c1f-a483-4fa2-8cab-babcd1e60430",
   "metadata": {},
   "outputs": [],
   "source": [
    "x = lambda *a : a * a  # ERROR: TypeError - tuple * tuple\n",
    "# Tuple cannot be multiplied by another tuple.\n",
    "# To perform element-wise multiplication, use a loop or a library like NumPy.\n",
    "# Tuples can only be multiplied by integers (repeats the tuple).\n",
    "# To multiply all values, use reduce(mul, a).\n",
    "\n",
    "# If you want to multiply all arguments together, use functools.reduce and operator.mul:\n",
    "# from functools import reduce\n",
    "# from operator import mul\n",
    "# x = lambda *a: reduce(mul, a)\n",
    "# x(2, 5, 7)  # Returns 70"
   ]
  },
  {
   "cell_type": "code",
   "execution_count": 53,
   "id": "0328bc2d-e23c-423b-8150-500372cbd346",
   "metadata": {},
   "outputs": [
    {
     "ename": "TypeError",
     "evalue": "can't multiply sequence by non-int of type 'tuple'",
     "output_type": "error",
     "traceback": [
      "\u001b[0;31m---------------------------------------------------------------------------\u001b[0m",
      "\u001b[0;31mTypeError\u001b[0m                                 Traceback (most recent call last)",
      "Cell \u001b[0;32mIn[53], line 1\u001b[0m\n\u001b[0;32m----> 1\u001b[0m x(\u001b[38;5;241m2\u001b[39m, \u001b[38;5;241m5\u001b[39m, \u001b[38;5;241m7\u001b[39m)\n",
      "Cell \u001b[0;32mIn[52], line 1\u001b[0m, in \u001b[0;36m<lambda>\u001b[0;34m(*a)\u001b[0m\n\u001b[0;32m----> 1\u001b[0m x \u001b[38;5;241m=\u001b[39m \u001b[38;5;28;01mlambda\u001b[39;00m \u001b[38;5;241m*\u001b[39ma : a \u001b[38;5;241m*\u001b[39m a\n",
      "\u001b[0;31mTypeError\u001b[0m: can't multiply sequence by non-int of type 'tuple'"
     ]
    }
   ],
   "source": [
    "x(2, 5, 7)  # Error\n"
   ]
  },
  {
   "cell_type": "code",
   "execution_count": 54,
   "id": "6f3f777c-0b23-4fbe-9ae4-974c48cbe0c4",
   "metadata": {},
   "outputs": [
    {
     "ename": "TypeError",
     "evalue": "can't multiply sequence by non-int of type 'tuple'",
     "output_type": "error",
     "traceback": [
      "\u001b[0;31m---------------------------------------------------------------------------\u001b[0m",
      "\u001b[0;31mTypeError\u001b[0m                                 Traceback (most recent call last)",
      "Cell \u001b[0;32mIn[54], line 1\u001b[0m\n\u001b[0;32m----> 1\u001b[0m x(\u001b[38;5;241m4\u001b[39m, \u001b[38;5;241m7\u001b[39m)\n",
      "Cell \u001b[0;32mIn[52], line 1\u001b[0m, in \u001b[0;36m<lambda>\u001b[0;34m(*a)\u001b[0m\n\u001b[0;32m----> 1\u001b[0m x \u001b[38;5;241m=\u001b[39m \u001b[38;5;28;01mlambda\u001b[39;00m \u001b[38;5;241m*\u001b[39ma : a \u001b[38;5;241m*\u001b[39m a\n",
      "\u001b[0;31mTypeError\u001b[0m: can't multiply sequence by non-int of type 'tuple'"
     ]
    }
   ],
   "source": [
    "x(4, 7)  # Error"
   ]
  },
  {
   "cell_type": "code",
   "execution_count": 55,
   "id": "67eb1f8f-db6f-4a96-b5d3-50cb045c7669",
   "metadata": {},
   "outputs": [],
   "source": [
    "v = lambda *i : i ** 2  # ERROR: TypeError - tuple ** int\n",
    "# Tuples cannot be exponentially.\n",
    "# You cannot use ** directly on a tuple.\n",
    "\n",
    "# Use a loop or comprehension to apply ** to each element.\n",
    "# v = lambda *i: [x ** 2 for x in i]\n",
    "# v(12, 45)  # [144, 2025]"
   ]
  },
  {
   "cell_type": "code",
   "execution_count": 56,
   "id": "759d6a2e-0575-42de-9cbf-4b9fbb53e213",
   "metadata": {},
   "outputs": [
    {
     "ename": "TypeError",
     "evalue": "unsupported operand type(s) for ** or pow(): 'tuple' and 'int'",
     "output_type": "error",
     "traceback": [
      "\u001b[0;31m---------------------------------------------------------------------------\u001b[0m",
      "\u001b[0;31mTypeError\u001b[0m                                 Traceback (most recent call last)",
      "Cell \u001b[0;32mIn[56], line 1\u001b[0m\n\u001b[0;32m----> 1\u001b[0m v(\u001b[38;5;241m12\u001b[39m, \u001b[38;5;241m45\u001b[39m)\n",
      "Cell \u001b[0;32mIn[55], line 1\u001b[0m, in \u001b[0;36m<lambda>\u001b[0;34m(*i)\u001b[0m\n\u001b[0;32m----> 1\u001b[0m v \u001b[38;5;241m=\u001b[39m \u001b[38;5;28;01mlambda\u001b[39;00m \u001b[38;5;241m*\u001b[39mi : i \u001b[38;5;241m*\u001b[39m\u001b[38;5;241m*\u001b[39m \u001b[38;5;241m2\u001b[39m\n",
      "\u001b[0;31mTypeError\u001b[0m: unsupported operand type(s) for ** or pow(): 'tuple' and 'int'"
     ]
    }
   ],
   "source": [
    "v(12, 45)"
   ]
  },
  {
   "cell_type": "markdown",
   "id": "cb3c856e",
   "metadata": {},
   "source": [
    "### Section 16: Invalid Lambda"
   ]
  },
  {
   "cell_type": "code",
   "execution_count": 57,
   "id": "ab751014-6381-4592-9023-9c2ab5d4bb74",
   "metadata": {},
   "outputs": [
    {
     "ename": "SyntaxError",
     "evalue": "invalid syntax (4146554640.py, line 1)",
     "output_type": "error",
     "traceback": [
      "\u001b[0;36m  Cell \u001b[0;32mIn[57], line 1\u001b[0;36m\u001b[0m\n\u001b[0;31m    x = lambda x: (for i in x : print(i))  # ERROR: SyntaxError - no for in lambda\u001b[0m\n\u001b[0m                   ^\u001b[0m\n\u001b[0;31mSyntaxError\u001b[0m\u001b[0;31m:\u001b[0m invalid syntax\n"
     ]
    }
   ],
   "source": [
    "x = lambda x: (for i in x : print(i))  # ERROR: SyntaxError - no for in lambda\n",
    "# The error occurs because x by itself is not valid Python syntax.\n",
    "# If x is a variable or function, you need to use it properly:\n",
    "# To see its value, use print(x)\n",
    "# To call it (if it's a function), use x(arguments)"
   ]
  },
  {
   "cell_type": "code",
   "execution_count": 58,
   "id": "2ba95f97-5ad8-4e8a-827a-aaafcfa1acf9",
   "metadata": {},
   "outputs": [
    {
     "ename": "SyntaxError",
     "evalue": "invalid syntax (3731908976.py, line 1)",
     "output_type": "error",
     "traceback": [
      "\u001b[0;36m  Cell \u001b[0;32mIn[58], line 1\u001b[0;36m\u001b[0m\n\u001b[0;31m    x = lambda x: print(i) for i in x  # ERROR: SyntaxError\u001b[0m\n\u001b[0m                           ^\u001b[0m\n\u001b[0;31mSyntaxError\u001b[0m\u001b[0;31m:\u001b[0m invalid syntax\n"
     ]
    }
   ],
   "source": [
    "x = lambda x: print(i) for i in x  # ERROR: SyntaxError\n",
    "# The error is because you cannot use a for loop directly inside a lambda.\n",
    "# Lambdas only allow expressions, not statements like for.\n",
    "# To print each item in a list using a lambda, use a list comprehension: x = lambda x: [print(i) for i in x]"
   ]
  },
  {
   "cell_type": "code",
   "execution_count": 59,
   "id": "55efab7d-0bc7-4c48-bc6c-8625fa4c4b0e",
   "metadata": {},
   "outputs": [],
   "source": [
    "x = lambda x : [print(i) for i in x]  # Valid: list of prints"
   ]
  },
  {
   "cell_type": "code",
   "execution_count": 60,
   "id": "2afb30f9-eeb3-4575-8701-c4212ad38ac9",
   "metadata": {},
   "outputs": [
    {
     "name": "stdout",
     "output_type": "stream",
     "text": [
      "4\n",
      "6\n",
      "8\n",
      "10\n"
     ]
    },
    {
     "data": {
      "text/plain": [
       "[None, None, None, None]"
      ]
     },
     "execution_count": 60,
     "metadata": {},
     "output_type": "execute_result"
    }
   ],
   "source": [
    "x([4, 6, 8, 10])  # Prints each, returns [None, None, None, None]"
   ]
  },
  {
   "cell_type": "code",
   "execution_count": 61,
   "id": "fced524e-dbac-4589-8372-dd30a33e8db5",
   "metadata": {},
   "outputs": [],
   "source": [
    "x = lambda x : [i for i in x]  # List comprehension"
   ]
  },
  {
   "cell_type": "code",
   "execution_count": 62,
   "id": "45c99ea8-3010-46f4-a92a-357db2b64a5c",
   "metadata": {},
   "outputs": [
    {
     "data": {
      "text/plain": [
       "[458, 123, 456]"
      ]
     },
     "execution_count": 62,
     "metadata": {},
     "output_type": "execute_result"
    }
   ],
   "source": [
    "x([458, 123, 456])  # [458, 123, 456]"
   ]
  },
  {
   "cell_type": "code",
   "execution_count": 63,
   "id": "c00e1e46-a8a0-4290-a79c-9a449dc2d2b9",
   "metadata": {},
   "outputs": [
    {
     "ename": "TypeError",
     "evalue": "'function' object is not iterable",
     "output_type": "error",
     "traceback": [
      "\u001b[0;31m---------------------------------------------------------------------------\u001b[0m",
      "\u001b[0;31mTypeError\u001b[0m                                 Traceback (most recent call last)",
      "Cell \u001b[0;32mIn[63], line 1\u001b[0m\n\u001b[0;32m----> 1\u001b[0m x \u001b[38;5;241m=\u001b[39m [\u001b[38;5;28;01mlambda\u001b[39;00m x : i \u001b[38;5;28;01mfor\u001b[39;00m i \u001b[38;5;129;01min\u001b[39;00m x]\n",
      "\u001b[0;31mTypeError\u001b[0m: 'function' object is not iterable"
     ]
    }
   ],
   "source": [
    "x = [lambda x : i for i in x]  # ERROR: List of lambdas, but i not defined\n",
    "# You cannot iterate over a function.\n",
    "# Call the function with appropriate arguments to use it."
   ]
  },
  {
   "cell_type": "markdown",
   "id": "c4ee8130",
   "metadata": {},
   "source": [
    "### Section 17: List Comprehensions"
   ]
  },
  {
   "cell_type": "code",
   "execution_count": 64,
   "id": "c00a2e37-fa2e-4504-a5f9-a1baba8ee8f9",
   "metadata": {},
   "outputs": [],
   "source": [
    "l = [64, 45, 12, 78, 32]  # List"
   ]
  },
  {
   "cell_type": "code",
   "execution_count": 65,
   "id": "84f62d8e-92a1-4b64-b8ef-1ecbb3d1d01c",
   "metadata": {},
   "outputs": [],
   "source": [
    "l1 = []  # Empty\n",
    "for i in l:  # Loop\n",
    "    l1.append(i)  # Append"
   ]
  },
  {
   "cell_type": "code",
   "execution_count": 66,
   "id": "367a1856-174b-48a1-8449-2f776362d571",
   "metadata": {},
   "outputs": [
    {
     "data": {
      "text/plain": [
       "[64, 45, 12, 78, 32]"
      ]
     },
     "execution_count": 66,
     "metadata": {},
     "output_type": "execute_result"
    }
   ],
   "source": [
    "l1  # [64, 45, 12, 78, 32]"
   ]
  },
  {
   "cell_type": "code",
   "execution_count": 67,
   "id": "881e85ff-5f77-4524-ae93-cf9e98a8b87e",
   "metadata": {},
   "outputs": [
    {
     "data": {
      "text/plain": [
       "[64, 45, 12, 78, 32]"
      ]
     },
     "execution_count": 67,
     "metadata": {},
     "output_type": "execute_result"
    }
   ],
   "source": [
    "[i for i in l]  # Comprehension: [64, 45, 12, 78, 32]"
   ]
  },
  {
   "cell_type": "code",
   "execution_count": 68,
   "id": "4e2e921a-a3ee-4390-8db0-24087353d066",
   "metadata": {},
   "outputs": [],
   "source": [
    "x = lambda x : [i for i in x]  # Lambda with comprehension"
   ]
  },
  {
   "cell_type": "code",
   "execution_count": 69,
   "id": "3ac39c5b-746b-4fc3-a706-35eac8367449",
   "metadata": {},
   "outputs": [
    {
     "ename": "TypeError",
     "evalue": "'int' object is not iterable",
     "output_type": "error",
     "traceback": [
      "\u001b[0;31m---------------------------------------------------------------------------\u001b[0m",
      "\u001b[0;31mTypeError\u001b[0m                                 Traceback (most recent call last)",
      "Cell \u001b[0;32mIn[69], line 1\u001b[0m\n\u001b[0;32m----> 1\u001b[0m x(\u001b[38;5;241m45\u001b[39m)\n",
      "Cell \u001b[0;32mIn[68], line 1\u001b[0m, in \u001b[0;36m<lambda>\u001b[0;34m(x)\u001b[0m\n\u001b[0;32m----> 1\u001b[0m x \u001b[38;5;241m=\u001b[39m \u001b[38;5;28;01mlambda\u001b[39;00m x : [i \u001b[38;5;28;01mfor\u001b[39;00m i \u001b[38;5;129;01min\u001b[39;00m x]\n",
      "\u001b[0;31mTypeError\u001b[0m: 'int' object is not iterable"
     ]
    }
   ],
   "source": [
    "x(45)  # ERROR: int not iterable\n",
    "# To avoid this error, always pass an iterable to functions expecting one."
   ]
  },
  {
   "cell_type": "code",
   "execution_count": 70,
   "id": "28cdf02f-cab7-4a85-ae8d-eb9b3a0861b3",
   "metadata": {},
   "outputs": [
    {
     "data": {
      "text/plain": [
       "[12, 54, 32, 87, 5]"
      ]
     },
     "execution_count": 70,
     "metadata": {},
     "output_type": "execute_result"
    }
   ],
   "source": [
    "x([12, 54, 32, 87, 5])  # [12, 54, 32, 87, 5]"
   ]
  },
  {
   "cell_type": "markdown",
   "id": "2fd1d434",
   "metadata": {},
   "source": [
    "### Section 18: Lambda with **kwargs"
   ]
  },
  {
   "cell_type": "code",
   "execution_count": 71,
   "id": "22424099-2f7d-42bf-b1be-fb88455841e4",
   "metadata": {},
   "outputs": [],
   "source": [
    "a = lambda **kwargs : kwargs  # **kwargs"
   ]
  },
  {
   "cell_type": "code",
   "execution_count": 72,
   "id": "0e430f18-277d-4c93-853a-8bfb26cf07c0",
   "metadata": {},
   "outputs": [
    {
     "data": {
      "text/plain": [
       "{'a': 5, 'b': 75, 'c': 456}"
      ]
     },
     "execution_count": 72,
     "metadata": {},
     "output_type": "execute_result"
    }
   ],
   "source": [
    "a(a = 5, b = 75, c = 456)  # {\"a\": 5, \"b\": 75, \"c\": 456}"
   ]
  },
  {
   "cell_type": "markdown",
   "id": "103ef749",
   "metadata": {},
   "source": [
    "---\n",
    "### Section 19: Variable Scope"
   ]
  },
  {
   "cell_type": "code",
   "execution_count": 73,
   "id": "49eace2f-e29a-4fe6-ba96-78374a2afa18",
   "metadata": {},
   "outputs": [],
   "source": [
    "a = 10  # Global\n",
    "def test15(c, d):  # Function\n",
    "    return c * d  # Uses only parameters"
   ]
  },
  {
   "cell_type": "code",
   "execution_count": 74,
   "id": "ebddb950-59e2-425e-a038-6207e37ddb3a",
   "metadata": {},
   "outputs": [
    {
     "data": {
      "text/plain": [
       "150"
      ]
     },
     "execution_count": 74,
     "metadata": {},
     "output_type": "execute_result"
    }
   ],
   "source": [
    "test15(a, 15)  # 150"
   ]
  },
  {
   "cell_type": "code",
   "execution_count": 75,
   "id": "70c437de-4c11-4a74-8af3-230019ab72b1",
   "metadata": {},
   "outputs": [],
   "source": [
    "a = 10\n",
    "def test16(c, d):\n",
    "    a = 5  # Local\n",
    "    return c * d  # Uses parameters only"
   ]
  },
  {
   "cell_type": "code",
   "execution_count": 76,
   "id": "90f15966-d4a5-4f2d-896a-9767c27d8b91",
   "metadata": {},
   "outputs": [
    {
     "data": {
      "text/plain": [
       "150"
      ]
     },
     "execution_count": 76,
     "metadata": {},
     "output_type": "execute_result"
    }
   ],
   "source": [
    "test16(a, 15)  # 150 # (local a not used)"
   ]
  },
  {
   "cell_type": "code",
   "execution_count": 77,
   "id": "bd4f8e99-9919-4d86-85af-1df0cefd96e6",
   "metadata": {},
   "outputs": [],
   "source": [
    "a = 10\n",
    "def test17(c, d):\n",
    "    c = 5  # Local\n",
    "    return c * d  # Uses local c"
   ]
  },
  {
   "cell_type": "code",
   "execution_count": 78,
   "id": "32e86080-2898-400d-be5f-5d50220d1563",
   "metadata": {},
   "outputs": [
    {
     "data": {
      "text/plain": [
       "100"
      ]
     },
     "execution_count": 78,
     "metadata": {},
     "output_type": "execute_result"
    }
   ],
   "source": [
    "test17(a, 20)  # 100 (local c used)"
   ]
  },
  {
   "cell_type": "code",
   "execution_count": 79,
   "id": "34a2f95b-1e29-459b-bfa3-d22c4d0d85e1",
   "metadata": {},
   "outputs": [],
   "source": [
    "c = 10  # Global\n",
    "def test17(c, d):\n",
    "    c = 5  # Local\n",
    "    return c * d "
   ]
  },
  {
   "cell_type": "code",
   "execution_count": 80,
   "id": "9ba9f208-68b1-4d15-84df-613da32d3150",
   "metadata": {},
   "outputs": [
    {
     "data": {
      "text/plain": [
       "250"
      ]
     },
     "execution_count": 80,
     "metadata": {},
     "output_type": "execute_result"
    }
   ],
   "source": [
    "test17(10, 50)  # 250 (local c)"
   ]
  },
  {
   "cell_type": "code",
   "execution_count": 81,
   "id": "948e9ce5-f374-460d-8a12-4b0d738fa934",
   "metadata": {},
   "outputs": [
    {
     "data": {
      "text/plain": [
       "10"
      ]
     },
     "execution_count": 81,
     "metadata": {},
     "output_type": "execute_result"
    }
   ],
   "source": [
    "c  # 10 (global unchanged)"
   ]
  },
  {
   "cell_type": "markdown",
   "id": "64735a73",
   "metadata": {},
   "source": [
    "### Section 20: List Comprehension Examples"
   ]
  },
  {
   "cell_type": "code",
   "execution_count": 82,
   "id": "93224084-f50d-4eb0-b796-e89abcb6298c",
   "metadata": {},
   "outputs": [],
   "source": [
    "l = [1, 2, 3, 4, 5, 6, 7, 88]  # List"
   ]
  },
  {
   "cell_type": "code",
   "execution_count": 83,
   "id": "f0a82fa1",
   "metadata": {},
   "outputs": [],
   "source": [
    "l1 = []  # Empty\n",
    "for i in l:  # Loop\n",
    "    l1.append(i + 2)  # Add 2"
   ]
  },
  {
   "cell_type": "code",
   "execution_count": 84,
   "id": "16b5be25",
   "metadata": {},
   "outputs": [
    {
     "data": {
      "text/plain": [
       "[3, 4, 5, 6, 7, 8, 9, 90]"
      ]
     },
     "execution_count": 84,
     "metadata": {},
     "output_type": "execute_result"
    }
   ],
   "source": [
    "l1  # [3, 4, 5, 6, 7, 8, 9, 90]"
   ]
  },
  {
   "cell_type": "code",
   "execution_count": 85,
   "id": "6d04ee4d-02cd-461c-8d88-e6a2f5489cfb",
   "metadata": {},
   "outputs": [],
   "source": [
    "def test18(a):  # Function\n",
    "    l1 = []  # Local\n",
    "    for i in a:\n",
    "        l1.append(i + 2)\n",
    "    return l1"
   ]
  },
  {
   "cell_type": "code",
   "execution_count": 86,
   "id": "8207ccf9-2a40-4df8-bfb6-99a2c69d6eb4",
   "metadata": {},
   "outputs": [
    {
     "data": {
      "text/plain": [
       "[3, 4, 5, 6, 7, 8, 9, 90]"
      ]
     },
     "execution_count": 86,
     "metadata": {},
     "output_type": "execute_result"
    }
   ],
   "source": [
    "test18(l)  # [3, 4, 5, 6, 7, 8, 9, 90]"
   ]
  },
  {
   "cell_type": "code",
   "execution_count": 87,
   "id": "c9d98e08-4bdb-4de8-a94b-f27aa6121645",
   "metadata": {},
   "outputs": [],
   "source": [
    "a = lambda a: [i + 2 for i in a]  # Lambda  comprehension "
   ]
  },
  {
   "cell_type": "code",
   "execution_count": 88,
   "id": "54c75cf1-ef85-40a0-899a-8f73742c5f3b",
   "metadata": {},
   "outputs": [
    {
     "data": {
      "text/plain": [
       "[3, 4, 5, 6, 7, 8, 9, 90]"
      ]
     },
     "execution_count": 88,
     "metadata": {},
     "output_type": "execute_result"
    }
   ],
   "source": [
    "a(l)  # [3, 4, 5, 6, 7, 8, 9, 90]"
   ]
  },
  {
   "cell_type": "code",
   "execution_count": 89,
   "id": "2a7b283e-d09d-4055-a1f6-8f2d581ade10",
   "metadata": {},
   "outputs": [
    {
     "data": {
      "text/plain": [
       "[3, 4, 5, 6, 7, 8, 9, 90]"
      ]
     },
     "execution_count": 89,
     "metadata": {},
     "output_type": "execute_result"
    }
   ],
   "source": [
    "[i + 2 for i in l]  # Same"
   ]
  },
  {
   "cell_type": "code",
   "execution_count": 90,
   "id": "c91c97a5-bb85-4f5c-9c06-009aed0e0238",
   "metadata": {},
   "outputs": [
    {
     "data": {
      "text/plain": [
       "[(1, 2), (4, 4), (9, 6), (16, 8), (25, 10), (36, 12), (49, 14), (7744, 176)]"
      ]
     },
     "execution_count": 90,
     "metadata": {},
     "output_type": "execute_result"
    }
   ],
   "source": [
    "[(i ** 2, i + i) for i in l]  # List of tuples"
   ]
  },
  {
   "cell_type": "code",
   "execution_count": 91,
   "id": "ffe81dd4-90d5-4d90-bab2-6de3aca74799",
   "metadata": {},
   "outputs": [
    {
     "data": {
      "text/plain": [
       "[(1, 2), (4, 4), (9, 6)]"
      ]
     },
     "execution_count": 91,
     "metadata": {},
     "output_type": "execute_result"
    }
   ],
   "source": [
    "[(i ** 2, i + i) for i in l if i < 4]  # With condition: [(1, 2), (4, 4), (9, 6)]"
   ]
  },
  {
   "cell_type": "code",
   "execution_count": 92,
   "id": "eb03dadf-edcb-4e15-9512-165b71301549",
   "metadata": {},
   "outputs": [
    {
     "ename": "TypeError",
     "evalue": "list.append() takes exactly one argument (2 given)",
     "output_type": "error",
     "traceback": [
      "\u001b[0;31m---------------------------------------------------------------------------\u001b[0m",
      "\u001b[0;31mTypeError\u001b[0m                                 Traceback (most recent call last)",
      "Cell \u001b[0;32mIn[92], line 4\u001b[0m\n\u001b[1;32m      2\u001b[0m \u001b[38;5;28;01mfor\u001b[39;00m i \u001b[38;5;129;01min\u001b[39;00m l:\n\u001b[1;32m      3\u001b[0m     \u001b[38;5;28;01mif\u001b[39;00m i \u001b[38;5;241m<\u001b[39m \u001b[38;5;241m4\u001b[39m:\n\u001b[0;32m----> 4\u001b[0m         l1\u001b[38;5;241m.\u001b[39mappend(i \u001b[38;5;241m*\u001b[39m\u001b[38;5;241m*\u001b[39m \u001b[38;5;241m2\u001b[39m, i \u001b[38;5;241m+\u001b[39m i)\n",
      "\u001b[0;31mTypeError\u001b[0m: list.append() takes exactly one argument (2 given)"
     ]
    }
   ],
   "source": [
    "l1 = []  # Manual\n",
    "for i in l:\n",
    "    if i < 4:\n",
    "        l1.append(i ** 2, i + i)  # ERROR: append takes one arg"
   ]
  },
  {
   "cell_type": "code",
   "execution_count": 93,
   "id": "e0fe9cd7-9e4a-463d-8515-1578a7c8146c",
   "metadata": {},
   "outputs": [],
   "source": [
    "l1 = []\n",
    "for i in l:\n",
    "    if i < 4:\n",
    "        l1.append((i ** 2, i + i))  # Correct"
   ]
  },
  {
   "cell_type": "code",
   "execution_count": 94,
   "id": "5ae1f628-fa5e-43de-b14a-bee1e87cdb7f",
   "metadata": {},
   "outputs": [
    {
     "data": {
      "text/plain": [
       "[(1, 2), (4, 4), (9, 6)]"
      ]
     },
     "execution_count": 94,
     "metadata": {},
     "output_type": "execute_result"
    }
   ],
   "source": [
    "l1  # [(1, 2), (4, 4), (9, 6)]"
   ]
  },
  {
   "cell_type": "code",
   "execution_count": 95,
   "id": "e13ff9da-3eed-4727-887c-8d6655d615b0",
   "metadata": {},
   "outputs": [
    {
     "data": {
      "text/plain": [
       "[(9, 6)]"
      ]
     },
     "execution_count": 95,
     "metadata": {},
     "output_type": "execute_result"
    }
   ],
   "source": [
    "[(i ** 2, i + i) for i in l if i < 4 if i >= 3]  # Multiple conditions: [(9, 6)]"
   ]
  },
  {
   "cell_type": "markdown",
   "id": "027b2442",
   "metadata": {},
   "source": [
    "### Section 21: Dict Comprehension"
   ]
  },
  {
   "cell_type": "code",
   "execution_count": 96,
   "id": "c7ddbf62-ab59-469b-9292-3d31236c5e63",
   "metadata": {},
   "outputs": [
    {
     "data": {
      "text/plain": [
       "{0: 0, 1: 1, 2: 4, 3: 9, 4: 16, 5: 25, 6: 36, 7: 49, 8: 64, 9: 81}"
      ]
     },
     "execution_count": 96,
     "metadata": {},
     "output_type": "execute_result"
    }
   ],
   "source": [
    "{i: i ** 2 for i in range(10)}  # {0: 0, 1: 1, ..., 9: 81}"
   ]
  },
  {
   "cell_type": "code",
   "execution_count": 97,
   "id": "331808bf-2b83-4bfc-b9c4-59ee55d31da7",
   "metadata": {},
   "outputs": [],
   "source": [
    "d1 = {}  # Manual\n",
    "for i in range(10):\n",
    "    d1[i] = i ** 2"
   ]
  },
  {
   "cell_type": "code",
   "execution_count": 98,
   "id": "1f28996c-d260-4c64-8799-d87712c53acc",
   "metadata": {},
   "outputs": [
    {
     "data": {
      "text/plain": [
       "{0: 0, 1: 1, 2: 4, 3: 9, 4: 16, 5: 25, 6: 36, 7: 49, 8: 64, 9: 81}"
      ]
     },
     "execution_count": 98,
     "metadata": {},
     "output_type": "execute_result"
    }
   ],
   "source": [
    "d1  # Same"
   ]
  },
  {
   "cell_type": "markdown",
   "id": "74c717b4",
   "metadata": {},
   "source": [
    "---\n",
    "### Section 22: Generators"
   ]
  },
  {
   "cell_type": "code",
   "execution_count": 99,
   "id": "5c00d674-4906-4ec6-8982-7a7e8ba79467",
   "metadata": {},
   "outputs": [
    {
     "data": {
      "text/plain": [
       "<generator object <genexpr> at 0x7d42bd82ee00>"
      ]
     },
     "execution_count": 99,
     "metadata": {},
     "output_type": "execute_result"
    }
   ],
   "source": [
    "(i for i in range(10))  # Generator object"
   ]
  },
  {
   "cell_type": "code",
   "execution_count": 100,
   "id": "7e06132b-32ad-4505-9eea-d6e9bfe5b9c2",
   "metadata": {},
   "outputs": [
    {
     "data": {
      "text/plain": [
       "(0, 1, 2, 3, 4, 5, 6, 7, 8, 9)"
      ]
     },
     "execution_count": 100,
     "metadata": {},
     "output_type": "execute_result"
    }
   ],
   "source": [
    "tuple(i for i in range(10))  # (0, 1, ..., 9)"
   ]
  },
  {
   "cell_type": "markdown",
   "id": "352be159",
   "metadata": {},
   "source": [
    "### Section 23: Iterators"
   ]
  },
  {
   "cell_type": "code",
   "execution_count": 101,
   "id": "1dfc4c63-9fff-4348-a314-b0df39c88d34",
   "metadata": {},
   "outputs": [
    {
     "ename": "TypeError",
     "evalue": "'int' object is not iterable",
     "output_type": "error",
     "traceback": [
      "\u001b[0;31m---------------------------------------------------------------------------\u001b[0m",
      "\u001b[0;31mTypeError\u001b[0m                                 Traceback (most recent call last)",
      "Cell \u001b[0;32mIn[101], line 2\u001b[0m\n\u001b[1;32m      1\u001b[0m a \u001b[38;5;241m=\u001b[39m \u001b[38;5;241m56\u001b[39m  \u001b[38;5;66;03m# Int\u001b[39;00m\n\u001b[0;32m----> 2\u001b[0m \u001b[38;5;28;01mfor\u001b[39;00m i \u001b[38;5;129;01min\u001b[39;00m a:  \u001b[38;5;66;03m# ERROR: TypeError - int not iterable\u001b[39;00m\n\u001b[1;32m      3\u001b[0m     \u001b[38;5;28mprint\u001b[39m(i)\n",
      "\u001b[0;31mTypeError\u001b[0m: 'int' object is not iterable"
     ]
    }
   ],
   "source": [
    "a = 56  # Int\n",
    "for i in a:  # ERROR: TypeError - int not iterable\n",
    "    print(i)"
   ]
  },
  {
   "cell_type": "code",
   "execution_count": 102,
   "id": "ecaed8e1-3b25-41c7-8ff3-c814210fc115",
   "metadata": {},
   "outputs": [
    {
     "name": "stdout",
     "output_type": "stream",
     "text": [
      "c\n",
      "o\n",
      "d\n",
      "e\n"
     ]
    }
   ],
   "source": [
    "s = \"code\"  # String\n",
    "for i in s:  # Iterable\n",
    "    print(i)  # c o d e"
   ]
  },
  {
   "cell_type": "code",
   "execution_count": 103,
   "id": "0c57913b-a3d7-45cc-8fff-875849287168",
   "metadata": {},
   "outputs": [
    {
     "ename": "TypeError",
     "evalue": "'str' object is not an iterator",
     "output_type": "error",
     "traceback": [
      "\u001b[0;31m---------------------------------------------------------------------------\u001b[0m",
      "\u001b[0;31mTypeError\u001b[0m                                 Traceback (most recent call last)",
      "Cell \u001b[0;32mIn[103], line 1\u001b[0m\n\u001b[0;32m----> 1\u001b[0m \u001b[38;5;28mnext\u001b[39m(s)\n",
      "\u001b[0;31mTypeError\u001b[0m: 'str' object is not an iterator"
     ]
    }
   ],
   "source": [
    "next(s)  # ERROR: TypeError - str not iterator"
   ]
  },
  {
   "cell_type": "code",
   "execution_count": 104,
   "id": "5dc57a74-90b0-41b7-92d0-eb57d746ea55",
   "metadata": {},
   "outputs": [
    {
     "ename": "TypeError",
     "evalue": "'int' object is not an iterator",
     "output_type": "error",
     "traceback": [
      "\u001b[0;31m---------------------------------------------------------------------------\u001b[0m",
      "\u001b[0;31mTypeError\u001b[0m                                 Traceback (most recent call last)",
      "Cell \u001b[0;32mIn[104], line 1\u001b[0m\n\u001b[0;32m----> 1\u001b[0m \u001b[38;5;28mnext\u001b[39m(a)\n",
      "\u001b[0;31mTypeError\u001b[0m: 'int' object is not an iterator"
     ]
    }
   ],
   "source": [
    "next(a)  # ERROR: TypeError"
   ]
  },
  {
   "cell_type": "code",
   "execution_count": 105,
   "id": "5938c513-10df-4f37-a313-e44e338275ae",
   "metadata": {},
   "outputs": [
    {
     "ename": "TypeError",
     "evalue": "'int' object is not iterable",
     "output_type": "error",
     "traceback": [
      "\u001b[0;31m---------------------------------------------------------------------------\u001b[0m",
      "\u001b[0;31mTypeError\u001b[0m                                 Traceback (most recent call last)",
      "Cell \u001b[0;32mIn[105], line 1\u001b[0m\n\u001b[0;32m----> 1\u001b[0m \u001b[38;5;28miter\u001b[39m(a)\n",
      "\u001b[0;31mTypeError\u001b[0m: 'int' object is not iterable"
     ]
    }
   ],
   "source": [
    "iter(a)  # ERROR: TypeError - int not iterable"
   ]
  },
  {
   "cell_type": "code",
   "execution_count": 106,
   "id": "e2c4f442-27d1-498b-83c4-2c457a0f1d3d",
   "metadata": {},
   "outputs": [
    {
     "data": {
      "text/plain": [
       "<str_ascii_iterator at 0x7d42d44601f0>"
      ]
     },
     "execution_count": 106,
     "metadata": {},
     "output_type": "execute_result"
    }
   ],
   "source": [
    "iter(s)  # Iterator\n",
    "# NameError: name 's' is not defined"
   ]
  },
  {
   "cell_type": "code",
   "execution_count": 107,
   "id": "be79be2e-9324-459a-b18e-766dd5b8e105",
   "metadata": {},
   "outputs": [],
   "source": [
    "b = iter(s)  # Assign to variable"
   ]
  },
  {
   "cell_type": "code",
   "execution_count": 108,
   "id": "49d00069-17a5-4a4e-b234-61b184bd05c4",
   "metadata": {},
   "outputs": [
    {
     "data": {
      "text/plain": [
       "<str_ascii_iterator at 0x7d42d4460c10>"
      ]
     },
     "execution_count": 108,
     "metadata": {},
     "output_type": "execute_result"
    }
   ],
   "source": [
    "b  # <str_iterator object>"
   ]
  },
  {
   "cell_type": "markdown",
   "id": "a93157be-6c08-4d67-b3a2-93b0241a2e7b",
   "metadata": {},
   "source": [
    "* **Iterable** → An object whose elements can be accessed **in sequence**; some iterables (like lists, tuples, strings) also **hold indexes** so you can access by position (`obj[0]`).\n",
    "* **Indexing** → Accessing an element directly by its **position number** inside square brackets (`obj[0]` gives the first element).\n",
    "* **Iterator** → An object that remembers the current position while accessing elements one-by-one in sequence (cannot be accessed directly by index).\n",
    "* **`iter()`** → Makes an iterator from an iterable.\n",
    "* **`next()`** → Gets the next element from the iterator in sequence.\n",
    "\n",
    "**Example**\n",
    "* String `\"code\"` is **iterable** because you can loop over it and also access characters by **indexing** (`\"code\"[0] → 'c'` for the first character). But it is **not** an iterator. By using `iter(\"code\")`, it becomes an **iterator**, and you can use `next()` to get characters one by one without indexing."
   ]
  },
  {
   "cell_type": "code",
   "execution_count": 109,
   "id": "7e456e9d-c383-492a-801a-1d649548b374",
   "metadata": {},
   "outputs": [
    {
     "data": {
      "text/plain": [
       "'c'"
      ]
     },
     "execution_count": 109,
     "metadata": {},
     "output_type": "execute_result"
    }
   ],
   "source": [
    "next(b)  # 'c'"
   ]
  },
  {
   "cell_type": "code",
   "execution_count": 110,
   "id": "8bd1feab-52b0-4495-848e-b37c838e5f92",
   "metadata": {},
   "outputs": [
    {
     "data": {
      "text/plain": [
       "'o'"
      ]
     },
     "execution_count": 110,
     "metadata": {},
     "output_type": "execute_result"
    }
   ],
   "source": [
    "next(b)  # 'o'"
   ]
  },
  {
   "cell_type": "code",
   "execution_count": 111,
   "id": "4679488d-d036-4a4f-84d2-f2c423c8c4d3",
   "metadata": {},
   "outputs": [
    {
     "data": {
      "text/plain": [
       "'d'"
      ]
     },
     "execution_count": 111,
     "metadata": {},
     "output_type": "execute_result"
    }
   ],
   "source": [
    "next(b)  # 'd'"
   ]
  },
  {
   "cell_type": "code",
   "execution_count": 112,
   "id": "716cbd3c-12e5-4a85-84ee-0ef3eac09cb7",
   "metadata": {},
   "outputs": [
    {
     "data": {
      "text/plain": [
       "'e'"
      ]
     },
     "execution_count": 112,
     "metadata": {},
     "output_type": "execute_result"
    }
   ],
   "source": [
    "next(b)  # 'e'"
   ]
  },
  {
   "cell_type": "code",
   "execution_count": 113,
   "id": "e7bc2502-f6ee-4cb2-9cd7-8c64f7789b82",
   "metadata": {},
   "outputs": [
    {
     "ename": "StopIteration",
     "evalue": "",
     "output_type": "error",
     "traceback": [
      "\u001b[0;31m---------------------------------------------------------------------------\u001b[0m",
      "\u001b[0;31mStopIteration\u001b[0m                             Traceback (most recent call last)",
      "Cell \u001b[0;32mIn[113], line 1\u001b[0m\n\u001b[0;32m----> 1\u001b[0m \u001b[38;5;28mnext\u001b[39m(b)\n",
      "\u001b[0;31mStopIteration\u001b[0m: "
     ]
    }
   ],
   "source": [
    "next(b)  # ERROR: StopIteration"
   ]
  },
  {
   "cell_type": "code",
   "execution_count": 114,
   "id": "1a7afabc-00cb-4a0a-a18d-59cce5692590",
   "metadata": {},
   "outputs": [
    {
     "name": "stdout",
     "output_type": "stream",
     "text": [
      "c\n",
      "o\n",
      "d\n",
      "e\n"
     ]
    }
   ],
   "source": [
    "s = \"code\"\n",
    "for i in s:  # Internally uses iter and next    \n",
    "    print(i)"
   ]
  },
  {
   "cell_type": "code",
   "execution_count": 115,
   "id": "ad05b21a-a17e-456b-91f7-7ecbe2a9ffc8",
   "metadata": {},
   "outputs": [
    {
     "ename": "TypeError",
     "evalue": "'str' object is not an iterator",
     "output_type": "error",
     "traceback": [
      "\u001b[0;31m---------------------------------------------------------------------------\u001b[0m",
      "\u001b[0;31mTypeError\u001b[0m                                 Traceback (most recent call last)",
      "Cell \u001b[0;32mIn[115], line 1\u001b[0m\n\u001b[0;32m----> 1\u001b[0m \u001b[38;5;28mnext\u001b[39m(s)\n",
      "\u001b[0;31mTypeError\u001b[0m: 'str' object is not an iterator"
     ]
    }
   ],
   "source": [
    "next(s)  # ERROR"
   ]
  },
  {
   "cell_type": "code",
   "execution_count": 116,
   "id": "c76bf294-27f5-4889-81c3-12a81ae69ab3",
   "metadata": {},
   "outputs": [],
   "source": [
    "s = iter(s)  # Make iterator"
   ]
  },
  {
   "cell_type": "code",
   "execution_count": 117,
   "id": "b31cb9f4-1551-4043-b68b-c8e922586a4e",
   "metadata": {},
   "outputs": [
    {
     "data": {
      "text/plain": [
       "<str_ascii_iterator at 0x7d42d445d390>"
      ]
     },
     "execution_count": 117,
     "metadata": {},
     "output_type": "execute_result"
    }
   ],
   "source": [
    "s  # <str_iterator>"
   ]
  },
  {
   "cell_type": "code",
   "execution_count": 118,
   "id": "5bec53cf-addd-46ae-a382-4f256f8703d4",
   "metadata": {},
   "outputs": [
    {
     "data": {
      "text/plain": [
       "'c'"
      ]
     },
     "execution_count": 118,
     "metadata": {},
     "output_type": "execute_result"
    }
   ],
   "source": [
    "next(s)  # 'c'"
   ]
  },
  {
   "cell_type": "code",
   "execution_count": 119,
   "id": "f67e6997-da45-4f42-80b9-fcb8ff234277",
   "metadata": {},
   "outputs": [
    {
     "data": {
      "text/plain": [
       "'o'"
      ]
     },
     "execution_count": 119,
     "metadata": {},
     "output_type": "execute_result"
    }
   ],
   "source": [
    "next(s)  # 'o'"
   ]
  },
  {
   "cell_type": "code",
   "execution_count": 120,
   "id": "a5d3c050-1e7c-4202-831d-084a0b936993",
   "metadata": {},
   "outputs": [
    {
     "data": {
      "text/plain": [
       "'d'"
      ]
     },
     "execution_count": 120,
     "metadata": {},
     "output_type": "execute_result"
    }
   ],
   "source": [
    "next(s)  # 'd'"
   ]
  },
  {
   "cell_type": "code",
   "execution_count": 121,
   "id": "ceea5675-2093-4672-87d1-9c5cdb0ae5e3",
   "metadata": {},
   "outputs": [
    {
     "data": {
      "text/plain": [
       "'e'"
      ]
     },
     "execution_count": 121,
     "metadata": {},
     "output_type": "execute_result"
    }
   ],
   "source": [
    "next(s)  # 'e'"
   ]
  },
  {
   "cell_type": "code",
   "execution_count": 122,
   "id": "f06a7e86-d1a2-40a9-a30f-634d94d51586",
   "metadata": {},
   "outputs": [
    {
     "ename": "StopIteration",
     "evalue": "",
     "output_type": "error",
     "traceback": [
      "\u001b[0;31m---------------------------------------------------------------------------\u001b[0m",
      "\u001b[0;31mStopIteration\u001b[0m                             Traceback (most recent call last)",
      "Cell \u001b[0;32mIn[122], line 1\u001b[0m\n\u001b[0;32m----> 1\u001b[0m \u001b[38;5;28mnext\u001b[39m(s)\n",
      "\u001b[0;31mStopIteration\u001b[0m: "
     ]
    }
   ],
   "source": [
    "next(s)  # StopIteration"
   ]
  },
  {
   "cell_type": "code",
   "execution_count": 123,
   "id": "68c71920-c4b7-4da1-bba1-2e17cb9ad55a",
   "metadata": {},
   "outputs": [],
   "source": [
    "l = [1, 5, 11, 41, 112, 452, 23, 78]  # List"
   ]
  },
  {
   "cell_type": "code",
   "execution_count": 124,
   "id": "b9bfb553-7954-4009-ae32-450dfb4e066f",
   "metadata": {},
   "outputs": [
    {
     "data": {
      "text/plain": [
       "[1, 5, 11, 41, 112, 452, 23, 78]"
      ]
     },
     "execution_count": 124,
     "metadata": {},
     "output_type": "execute_result"
    }
   ],
   "source": [
    "l  # List"
   ]
  },
  {
   "cell_type": "code",
   "execution_count": 125,
   "id": "1f5a1b20-cc32-4b81-aa05-d7640bd8c10a",
   "metadata": {},
   "outputs": [
    {
     "ename": "TypeError",
     "evalue": "'list' object is not an iterator",
     "output_type": "error",
     "traceback": [
      "\u001b[0;31m---------------------------------------------------------------------------\u001b[0m",
      "\u001b[0;31mTypeError\u001b[0m                                 Traceback (most recent call last)",
      "Cell \u001b[0;32mIn[125], line 1\u001b[0m\n\u001b[0;32m----> 1\u001b[0m \u001b[38;5;28mnext\u001b[39m(l)\n",
      "\u001b[0;31mTypeError\u001b[0m: 'list' object is not an iterator"
     ]
    }
   ],
   "source": [
    "next(l)  # ERROR: TypeError"
   ]
  },
  {
   "cell_type": "code",
   "execution_count": 126,
   "id": "c97be619-ded1-4725-8b25-54ac52571e5b",
   "metadata": {},
   "outputs": [],
   "source": [
    "l = iter(l)  # Iterator"
   ]
  },
  {
   "cell_type": "code",
   "execution_count": 127,
   "id": "07a0bf60-ea25-4ec9-a47d-fd90712b4fed",
   "metadata": {},
   "outputs": [
    {
     "data": {
      "text/plain": [
       "1"
      ]
     },
     "execution_count": 127,
     "metadata": {},
     "output_type": "execute_result"
    }
   ],
   "source": [
    "next(l)  # 1"
   ]
  },
  {
   "cell_type": "code",
   "execution_count": 128,
   "id": "fdaae570-4942-405f-bc4b-e2cb31aedcb5",
   "metadata": {},
   "outputs": [
    {
     "data": {
      "text/plain": [
       "5"
      ]
     },
     "execution_count": 128,
     "metadata": {},
     "output_type": "execute_result"
    }
   ],
   "source": [
    "next(l)  # 5"
   ]
  },
  {
   "cell_type": "markdown",
   "id": "9d345403",
   "metadata": {},
   "source": [
    "-----"
   ]
  }
 ],
 "metadata": {
  "kernelspec": {
   "display_name": "Python 3 (ipykernel)",
   "language": "python",
   "name": "python3"
  },
  "language_info": {
   "codemirror_mode": {
    "name": "ipython",
    "version": 3
   },
   "file_extension": ".py",
   "mimetype": "text/x-python",
   "name": "python",
   "nbconvert_exporter": "python",
   "pygments_lexer": "ipython3",
   "version": "3.12.7"
  }
 },
 "nbformat": 4,
 "nbformat_minor": 5
}
