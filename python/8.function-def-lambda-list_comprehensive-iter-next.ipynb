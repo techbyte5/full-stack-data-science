{
 "cells": [
  {
   "cell_type": "code",
   "execution_count": 1,
   "id": "409b0aba-7e8a-4316-8ee8-1bc571b12d1d",
   "metadata": {},
   "outputs": [],
   "source": [
    "def test (a, b, c, d, e):\n",
    "    return a, b, c, d, e"
   ]
  },
  {
   "cell_type": "code",
   "execution_count": 2,
   "id": "6fb82ac8-6d85-42d0-bb96-757e7a396676",
   "metadata": {},
   "outputs": [
    {
     "data": {
      "text/plain": [
       "(125, 35, 1528, 127, 2)"
      ]
     },
     "execution_count": 2,
     "metadata": {},
     "output_type": "execute_result"
    }
   ],
   "source": [
    "test(125, 35, 1528, 127, 2)"
   ]
  },
  {
   "cell_type": "code",
   "execution_count": 3,
   "id": "e4b0db5d-f22f-448c-aaf9-b49272872b5c",
   "metadata": {},
   "outputs": [],
   "source": [
    "def test1(*args):\n",
    "    return args"
   ]
  },
  {
   "cell_type": "code",
   "execution_count": 4,
   "id": "e23f3004-f26c-4a9a-8328-41a13d6f38bb",
   "metadata": {},
   "outputs": [
    {
     "data": {
      "text/plain": [
       "(147, 2589, 456, 212)"
      ]
     },
     "execution_count": 4,
     "metadata": {},
     "output_type": "execute_result"
    }
   ],
   "source": [
    "test1(147, 2589, 456, 212)"
   ]
  },
  {
   "cell_type": "code",
   "execution_count": 5,
   "id": "8bb8a4eb-d384-4d90-8fb4-6472b8d8912c",
   "metadata": {},
   "outputs": [
    {
     "data": {
      "text/plain": [
       "('code', 'python', 158, False, [54512, 454, 'language'], (1512, 41, 58))"
      ]
     },
     "execution_count": 5,
     "metadata": {},
     "output_type": "execute_result"
    }
   ],
   "source": [
    "test1(\"code\", \"python\", 158, False, [54512, 454, \"language\"], (1512, 41, 58))"
   ]
  },
  {
   "cell_type": "code",
   "execution_count": 6,
   "id": "ef550033-4d95-43b5-9e82-f9d24d211c5b",
   "metadata": {},
   "outputs": [],
   "source": [
    "def test2(*abc):\n",
    "    return abc"
   ]
  },
  {
   "cell_type": "code",
   "execution_count": 7,
   "id": "19e7b991-c0f2-49de-a3ef-feb6ef49cf4f",
   "metadata": {},
   "outputs": [
    {
     "data": {
      "text/plain": [
       "('code', 'list', 454, True)"
      ]
     },
     "execution_count": 7,
     "metadata": {},
     "output_type": "execute_result"
    }
   ],
   "source": [
    "test2(\"code\", \"list\", 454, True)"
   ]
  },
  {
   "cell_type": "code",
   "execution_count": 8,
   "id": "88243473-a573-4888-9d36-1386414956a2",
   "metadata": {},
   "outputs": [],
   "source": [
    "def test3(*abcd, a):\n",
    "    return abcd, a"
   ]
  },
  {
   "cell_type": "code",
   "execution_count": 9,
   "id": "24f4056b-09b8-4aee-ac97-deac41a6738e",
   "metadata": {},
   "outputs": [
    {
     "ename": "TypeError",
     "evalue": "test3() missing 1 required keyword-only argument: 'a'",
     "output_type": "error",
     "traceback": [
      "\u001b[0;31m---------------------------------------------------------------------------\u001b[0m",
      "\u001b[0;31mTypeError\u001b[0m                                 Traceback (most recent call last)",
      "Cell \u001b[0;32mIn[9], line 1\u001b[0m\n\u001b[0;32m----> 1\u001b[0m test3(\u001b[38;5;241m345\u001b[39m, \u001b[38;5;241m456\u001b[39m, \u001b[38;5;241m752\u001b[39m)\n",
      "\u001b[0;31mTypeError\u001b[0m: test3() missing 1 required keyword-only argument: 'a'"
     ]
    }
   ],
   "source": [
    "test3(345, 456, 752)"
   ]
  },
  {
   "cell_type": "code",
   "execution_count": 10,
   "id": "c9d0487c-12c2-470d-ba57-81a290bc7353",
   "metadata": {},
   "outputs": [
    {
     "data": {
      "text/plain": [
       "((15, 125, 40), 5)"
      ]
     },
     "execution_count": 10,
     "metadata": {},
     "output_type": "execute_result"
    }
   ],
   "source": [
    "test3(15, 125, 40, a = 5)"
   ]
  },
  {
   "cell_type": "code",
   "execution_count": 11,
   "id": "8d009491-8ec7-4ddc-b4e6-c88e4e1925dd",
   "metadata": {},
   "outputs": [],
   "source": [
    "def test4(*abc, a, b, c, d):\n",
    "    return abc, a, b, c, d"
   ]
  },
  {
   "cell_type": "code",
   "execution_count": 12,
   "id": "0fa823c8-df00-443d-8691-9809691d4f21",
   "metadata": {},
   "outputs": [
    {
     "data": {
      "text/plain": [
       "((51, 23, 115, 741), [54, 121, 84, 'code'], [15, 48, 652], 'string', 51.25)"
      ]
     },
     "execution_count": 12,
     "metadata": {},
     "output_type": "execute_result"
    }
   ],
   "source": [
    "test4(51, 23, 115, 741, a = [54, 121, 84, \"code\"], b = [15, 48, 652], c = \"string\", d = 51.25)"
   ]
  },
  {
   "cell_type": "code",
   "execution_count": 13,
   "id": "a40a8f82-6cff-4746-9407-7b80b4f5f4a5",
   "metadata": {},
   "outputs": [],
   "source": [
    "def test5(a, *abcd):\n",
    "    return abcd, a"
   ]
  },
  {
   "cell_type": "code",
   "execution_count": 14,
   "id": "b3b2c5c3-12ec-46c3-9555-0f115c22b0d7",
   "metadata": {},
   "outputs": [
    {
     "ename": "TypeError",
     "evalue": "test() got multiple values for argument 'a'",
     "output_type": "error",
     "traceback": [
      "\u001b[0;31m---------------------------------------------------------------------------\u001b[0m",
      "\u001b[0;31mTypeError\u001b[0m                                 Traceback (most recent call last)",
      "Cell \u001b[0;32mIn[14], line 1\u001b[0m\n\u001b[0;32m----> 1\u001b[0m test(\u001b[38;5;124m\"\u001b[39m\u001b[38;5;124mcode\u001b[39m\u001b[38;5;124m\"\u001b[39m, \u001b[38;5;124m\"\u001b[39m\u001b[38;5;124mlist\u001b[39m\u001b[38;5;124m\"\u001b[39m, \u001b[38;5;241m56\u001b[39m, \u001b[38;5;241m52.5\u001b[39m, a \u001b[38;5;241m=\u001b[39m [\u001b[38;5;241m45\u001b[39m, \u001b[38;5;241m15\u001b[39m])\n",
      "\u001b[0;31mTypeError\u001b[0m: test() got multiple values for argument 'a'"
     ]
    }
   ],
   "source": [
    "test(\"code\", \"list\", 56, 52.5, a = [45, 15])"
   ]
  },
  {
   "cell_type": "code",
   "execution_count": 15,
   "id": "c4f42870-73a7-48c7-bbc1-061c58803438",
   "metadata": {},
   "outputs": [],
   "source": [
    "def test6(*abc):\n",
    "    for i in abc:\n",
    "        if type(i) == list:\n",
    "            return i"
   ]
  },
  {
   "cell_type": "code",
   "execution_count": 16,
   "id": "99392124-c0ec-4833-ba8e-804ab5011741",
   "metadata": {},
   "outputs": [
    {
     "data": {
      "text/plain": [
       "[151, 'a', False]"
      ]
     },
     "execution_count": 16,
     "metadata": {},
     "output_type": "execute_result"
    }
   ],
   "source": [
    "test6(545, 84854, 21, \"code\", [151, \"a\", False])"
   ]
  },
  {
   "cell_type": "code",
   "execution_count": 17,
   "id": "06684c35-248f-4278-b951-ca175389938c",
   "metadata": {},
   "outputs": [],
   "source": [
    "def test7(*abc):\n",
    "    l = []\n",
    "    for i in abc:\n",
    "        if type(i) == list:\n",
    "            l.append(i)\n",
    "    return l"
   ]
  },
  {
   "cell_type": "code",
   "execution_count": 18,
   "id": "60a178fe-14ba-46c8-bb58-ec4485cda8e0",
   "metadata": {},
   "outputs": [
    {
     "data": {
      "text/plain": [
       "[[15, 123, 158], [48, 258, 456]]"
      ]
     },
     "execution_count": 18,
     "metadata": {},
     "output_type": "execute_result"
    }
   ],
   "source": [
    "test7(51, 541, 75.58, [15, 123, 158], False, [48, 258, 456], 1252.5)"
   ]
  },
  {
   "cell_type": "code",
   "execution_count": 19,
   "id": "eea49939-2886-4930-a734-722994bb11bd",
   "metadata": {},
   "outputs": [],
   "source": [
    "d = {\"a\": [15, 25, 124], \"b\": [14, 28, 42]}"
   ]
  },
  {
   "cell_type": "code",
   "execution_count": 20,
   "id": "1a1c0055-ddaa-48c6-9bd9-a3e205ea25f1",
   "metadata": {},
   "outputs": [
    {
     "data": {
      "text/plain": [
       "[15, 25, 124]"
      ]
     },
     "execution_count": 20,
     "metadata": {},
     "output_type": "execute_result"
    }
   ],
   "source": [
    "d[\"a\"]"
   ]
  },
  {
   "cell_type": "code",
   "execution_count": 21,
   "id": "1cc3ad8c-6588-4e04-9bd4-bf2abd586757",
   "metadata": {},
   "outputs": [],
   "source": [
    "def test8(**kwargs):\n",
    "    return kwargs"
   ]
  },
  {
   "cell_type": "code",
   "execution_count": 22,
   "id": "e73e2181-233c-4754-8996-325a024d5baf",
   "metadata": {},
   "outputs": [
    {
     "ename": "TypeError",
     "evalue": "test8() takes 0 positional arguments but 4 were given",
     "output_type": "error",
     "traceback": [
      "\u001b[0;31m---------------------------------------------------------------------------\u001b[0m",
      "\u001b[0;31mTypeError\u001b[0m                                 Traceback (most recent call last)",
      "Cell \u001b[0;32mIn[22], line 1\u001b[0m\n\u001b[0;32m----> 1\u001b[0m test8(\u001b[38;5;241m124\u001b[39m, \u001b[38;5;241m126\u001b[39m, \u001b[38;5;241m25\u001b[39m, \u001b[38;5;241m45\u001b[39m)\n",
      "\u001b[0;31mTypeError\u001b[0m: test8() takes 0 positional arguments but 4 were given"
     ]
    }
   ],
   "source": [
    "test8(124, 126, 25, 45)"
   ]
  },
  {
   "cell_type": "code",
   "execution_count": 23,
   "id": "c495d638-605b-49f0-843b-4ce456168940",
   "metadata": {},
   "outputs": [
    {
     "data": {
      "text/plain": [
       "{'a': 15, 'b': [15, 30, 45]}"
      ]
     },
     "execution_count": 23,
     "metadata": {},
     "output_type": "execute_result"
    }
   ],
   "source": [
    "test8(a = 15, b = [15, 30, 45])"
   ]
  },
  {
   "cell_type": "code",
   "execution_count": 24,
   "id": "17f8248a-051e-4aef-95a5-f892dc0f689a",
   "metadata": {},
   "outputs": [],
   "source": [
    "def test9(**abc):\n",
    "    return abc"
   ]
  },
  {
   "cell_type": "code",
   "execution_count": 25,
   "id": "dc5e9e9e-1e07-4cd5-a222-c50fd5007f8b",
   "metadata": {},
   "outputs": [
    {
     "data": {
      "text/plain": [
       "{'a': 4, 'b': [4, 8, 12, 6]}"
      ]
     },
     "execution_count": 25,
     "metadata": {},
     "output_type": "execute_result"
    }
   ],
   "source": [
    "test9(a = 4, b = [4, 8 ,12 ,6])"
   ]
  },
  {
   "cell_type": "code",
   "execution_count": 26,
   "id": "9b7aff0b-a99e-4fb5-9dad-a2b8e3215576",
   "metadata": {},
   "outputs": [
    {
     "ename": "SyntaxError",
     "evalue": "expression cannot contain assignment, perhaps you meant \"==\"? (900444450.py, line 1)",
     "output_type": "error",
     "traceback": [
      "\u001b[0;36m  Cell \u001b[0;32mIn[26], line 1\u001b[0;36m\u001b[0m\n\u001b[0;31m    test9(\"a\" = \"abcdef\")\u001b[0m\n\u001b[0m          ^\u001b[0m\n\u001b[0;31mSyntaxError\u001b[0m\u001b[0;31m:\u001b[0m expression cannot contain assignment, perhaps you meant \"==\"?\n"
     ]
    }
   ],
   "source": [
    "test9(\"a\" = \"abcdef\")"
   ]
  },
  {
   "cell_type": "code",
   "execution_count": 27,
   "id": "e0289bbd-b7c6-42f0-a020-3b9656ac3d7a",
   "metadata": {},
   "outputs": [
    {
     "data": {
      "text/plain": [
       "{'a': 'abcdef'}"
      ]
     },
     "execution_count": 27,
     "metadata": {},
     "output_type": "execute_result"
    }
   ],
   "source": [
    "test9(a = \"abcdef\")"
   ]
  },
  {
   "cell_type": "code",
   "execution_count": 28,
   "id": "8bb2179d-8609-4058-a6a6-d60e62f2091b",
   "metadata": {},
   "outputs": [
    {
     "ename": "SyntaxError",
     "evalue": "expression cannot contain assignment, perhaps you meant \"==\"? (2084104172.py, line 1)",
     "output_type": "error",
     "traceback": [
      "\u001b[0;36m  Cell \u001b[0;32mIn[28], line 1\u001b[0;36m\u001b[0m\n\u001b[0;31m    test9(5 = \"abcdef\")\u001b[0m\n\u001b[0m          ^\u001b[0m\n\u001b[0;31mSyntaxError\u001b[0m\u001b[0;31m:\u001b[0m expression cannot contain assignment, perhaps you meant \"==\"?\n"
     ]
    }
   ],
   "source": [
    "test9(5 = \"abcdef\")"
   ]
  },
  {
   "cell_type": "code",
   "execution_count": 29,
   "id": "06f0e50b-119b-46f1-953c-af7e67b83657",
   "metadata": {},
   "outputs": [],
   "source": [
    "def test10(**abc):\n",
    "    return abc"
   ]
  },
  {
   "cell_type": "code",
   "execution_count": 30,
   "id": "a0ddbcd3-757b-4f4f-bb88-179683d9bf4f",
   "metadata": {},
   "outputs": [
    {
     "data": {
      "text/plain": [
       "{'name': 'xyz',\n",
       " 'age': 15,\n",
       " 'phone_number': 987654321,\n",
       " 'mail_id': 'xyz@email.com',\n",
       " 'address': 'abcdefghij'}"
      ]
     },
     "execution_count": 30,
     "metadata": {},
     "output_type": "execute_result"
    }
   ],
   "source": [
    "test10(name = \"xyz\", age = 15, phone_number = 987654321, mail_id = \"xyz@email.com\", address = \"abcdefghij\")"
   ]
  },
  {
   "cell_type": "code",
   "execution_count": 31,
   "id": "542bced0-55cf-4936-83c4-635f2da65757",
   "metadata": {},
   "outputs": [],
   "source": [
    "def test11(a, **abc):\n",
    "    return abc, a"
   ]
  },
  {
   "cell_type": "code",
   "execution_count": 32,
   "id": "104e3225-2a8a-41c5-9a80-cf04a323ddbf",
   "metadata": {},
   "outputs": [
    {
     "ename": "TypeError",
     "evalue": "test11() takes 1 positional argument but 4 were given",
     "output_type": "error",
     "traceback": [
      "\u001b[0;31m---------------------------------------------------------------------------\u001b[0m",
      "\u001b[0;31mTypeError\u001b[0m                                 Traceback (most recent call last)",
      "Cell \u001b[0;32mIn[32], line 1\u001b[0m\n\u001b[0;32m----> 1\u001b[0m test11(\u001b[38;5;241m12\u001b[39m, \u001b[38;5;241m25\u001b[39m, \u001b[38;5;241m145\u001b[39m, \u001b[38;5;241m35\u001b[39m)\n",
      "\u001b[0;31mTypeError\u001b[0m: test11() takes 1 positional argument but 4 were given"
     ]
    }
   ],
   "source": [
    "test11(12, 25, 145, 35)"
   ]
  },
  {
   "cell_type": "code",
   "execution_count": 33,
   "id": "824c8f55-8a6b-4b3a-aad7-f5a2e573be90",
   "metadata": {},
   "outputs": [
    {
     "ename": "TypeError",
     "evalue": "test11() got multiple values for argument 'a'",
     "output_type": "error",
     "traceback": [
      "\u001b[0;31m---------------------------------------------------------------------------\u001b[0m",
      "\u001b[0;31mTypeError\u001b[0m                                 Traceback (most recent call last)",
      "Cell \u001b[0;32mIn[33], line 1\u001b[0m\n\u001b[0;32m----> 1\u001b[0m test11(\u001b[38;5;241m15\u001b[39m, a \u001b[38;5;241m=\u001b[39m \u001b[38;5;241m12\u001b[39m, b \u001b[38;5;241m=\u001b[39m \u001b[38;5;241m154\u001b[39m, c \u001b[38;5;241m=\u001b[39m \u001b[38;5;241m457\u001b[39m, d \u001b[38;5;241m=\u001b[39m \u001b[38;5;241m11\u001b[39m)\n",
      "\u001b[0;31mTypeError\u001b[0m: test11() got multiple values for argument 'a'"
     ]
    }
   ],
   "source": [
    "test11(15, a = 12, b = 154, c = 457, d = 11)"
   ]
  },
  {
   "cell_type": "code",
   "execution_count": 34,
   "id": "502405ce-8c73-4457-820c-2b8b7fd4927e",
   "metadata": {},
   "outputs": [
    {
     "data": {
      "text/plain": [
       "({'t': 12, 'b': 154, 'c': 457, 'd': 11}, 15)"
      ]
     },
     "execution_count": 34,
     "metadata": {},
     "output_type": "execute_result"
    }
   ],
   "source": [
    "test11(15, t = 12, b = 154, c = 457, d = 11)"
   ]
  },
  {
   "cell_type": "code",
   "execution_count": 35,
   "id": "54765869-78cc-4c89-b33e-2e4ed2ebca92",
   "metadata": {},
   "outputs": [
    {
     "ename": "SyntaxError",
     "evalue": "arguments cannot follow var-keyword argument (4127325470.py, line 1)",
     "output_type": "error",
     "traceback": [
      "\u001b[0;36m  Cell \u001b[0;32mIn[35], line 1\u001b[0;36m\u001b[0m\n\u001b[0;31m    def test12(a, **abc, *xyz):\u001b[0m\n\u001b[0m                         ^\u001b[0m\n\u001b[0;31mSyntaxError\u001b[0m\u001b[0;31m:\u001b[0m arguments cannot follow var-keyword argument\n"
     ]
    }
   ],
   "source": [
    "def test12(a, **abc, *xyz):\n",
    "    return abc, a, xyz"
   ]
  },
  {
   "cell_type": "code",
   "execution_count": 36,
   "id": "3984ab6d-720e-4c7f-84aa-2e48e934d43a",
   "metadata": {},
   "outputs": [],
   "source": [
    "def test13(a, *abc, **xyz):\n",
    "    return a, abc, xyz"
   ]
  },
  {
   "cell_type": "code",
   "execution_count": 37,
   "id": "4f366264-0dcf-474a-acbe-c0d32e5687d4",
   "metadata": {},
   "outputs": [
    {
     "data": {
      "text/plain": [
       "(1, (11, 15, 45, 36, 7), {'g': 4555, 'l': 78})"
      ]
     },
     "execution_count": 37,
     "metadata": {},
     "output_type": "execute_result"
    }
   ],
   "source": [
    "test13(1, 11, 15, 45, 36, 7, g = 4555, l = 78)"
   ]
  },
  {
   "cell_type": "code",
   "execution_count": 38,
   "id": "f5330a7c-acd3-468d-ac49-97c0f0a9c230",
   "metadata": {},
   "outputs": [],
   "source": [
    "def test14(a, b):\n",
    "    return a * b"
   ]
  },
  {
   "cell_type": "code",
   "execution_count": 39,
   "id": "e3b64fb1-a199-4607-a983-339737bb86a9",
   "metadata": {},
   "outputs": [
    {
     "data": {
      "text/plain": [
       "168"
      ]
     },
     "execution_count": 39,
     "metadata": {},
     "output_type": "execute_result"
    }
   ],
   "source": [
    "test14(14, 12)"
   ]
  },
  {
   "cell_type": "code",
   "execution_count": 40,
   "id": "c87e9cef-559f-4a10-afe0-85c1271684a1",
   "metadata": {},
   "outputs": [
    {
     "data": {
      "text/plain": [
       "<function __main__.<lambda>(a, b)>"
      ]
     },
     "execution_count": 40,
     "metadata": {},
     "output_type": "execute_result"
    }
   ],
   "source": [
    "lambda a, b : a * b"
   ]
  },
  {
   "cell_type": "code",
   "execution_count": 41,
   "id": "132c0435-d691-49c4-a1ac-ab41ccf17746",
   "metadata": {},
   "outputs": [],
   "source": [
    "a = lambda a, b : a * b"
   ]
  },
  {
   "cell_type": "code",
   "execution_count": 42,
   "id": "bb67b4b0-07e2-4cfa-9b6d-2e1686f32312",
   "metadata": {},
   "outputs": [
    {
     "data": {
      "text/plain": [
       "675"
      ]
     },
     "execution_count": 42,
     "metadata": {},
     "output_type": "execute_result"
    }
   ],
   "source": [
    "a(45, 15)"
   ]
  },
  {
   "cell_type": "code",
   "execution_count": 43,
   "id": "bd641553-c869-4317-a902-fd63190bb462",
   "metadata": {},
   "outputs": [],
   "source": [
    "a = lambda a, b : (a * b, a + b)"
   ]
  },
  {
   "cell_type": "code",
   "execution_count": 44,
   "id": "bd884eaa-3b3c-4444-99c4-1b64c7cdeacf",
   "metadata": {},
   "outputs": [
    {
     "data": {
      "text/plain": [
       "(70, 17)"
      ]
     },
     "execution_count": 44,
     "metadata": {},
     "output_type": "execute_result"
    }
   ],
   "source": [
    "a(10, 7)"
   ]
  },
  {
   "cell_type": "code",
   "execution_count": 45,
   "id": "25898d5d-9a2f-43ed-ba52-1833c602d439",
   "metadata": {},
   "outputs": [],
   "source": [
    "a = lambda * a : a"
   ]
  },
  {
   "cell_type": "code",
   "execution_count": 46,
   "id": "014c49e7-1b9b-49bc-9a22-55289121dfab",
   "metadata": {},
   "outputs": [
    {
     "data": {
      "text/plain": [
       "(5, 12, 7)"
      ]
     },
     "execution_count": 46,
     "metadata": {},
     "output_type": "execute_result"
    }
   ],
   "source": [
    "a(5, 12, 7)"
   ]
  },
  {
   "cell_type": "code",
   "execution_count": 47,
   "id": "1e12c95d-7201-4d59-b882-59b291002983",
   "metadata": {},
   "outputs": [],
   "source": [
    "a = lambda *a : a"
   ]
  },
  {
   "cell_type": "code",
   "execution_count": 48,
   "id": "6d31bb32-3164-48f7-9fbb-6d81a10829f8",
   "metadata": {},
   "outputs": [
    {
     "data": {
      "text/plain": [
       "(15, 1258, 513)"
      ]
     },
     "execution_count": 48,
     "metadata": {},
     "output_type": "execute_result"
    }
   ],
   "source": [
    "a(15, 1258, 513)"
   ]
  },
  {
   "cell_type": "code",
   "execution_count": 49,
   "id": "a01e7c1f-a483-4fa2-8cab-babcd1e60430",
   "metadata": {},
   "outputs": [],
   "source": [
    "x = lambda *a : a * a"
   ]
  },
  {
   "cell_type": "code",
   "execution_count": 50,
   "id": "0328bc2d-e23c-423b-8150-500372cbd346",
   "metadata": {},
   "outputs": [
    {
     "ename": "TypeError",
     "evalue": "can't multiply sequence by non-int of type 'tuple'",
     "output_type": "error",
     "traceback": [
      "\u001b[0;31m---------------------------------------------------------------------------\u001b[0m",
      "\u001b[0;31mTypeError\u001b[0m                                 Traceback (most recent call last)",
      "Cell \u001b[0;32mIn[50], line 1\u001b[0m\n\u001b[0;32m----> 1\u001b[0m x(\u001b[38;5;241m2\u001b[39m, \u001b[38;5;241m5\u001b[39m, \u001b[38;5;241m7\u001b[39m)\n",
      "Cell \u001b[0;32mIn[49], line 1\u001b[0m, in \u001b[0;36m<lambda>\u001b[0;34m(*a)\u001b[0m\n\u001b[0;32m----> 1\u001b[0m x \u001b[38;5;241m=\u001b[39m \u001b[38;5;28;01mlambda\u001b[39;00m \u001b[38;5;241m*\u001b[39ma : a \u001b[38;5;241m*\u001b[39m a\n",
      "\u001b[0;31mTypeError\u001b[0m: can't multiply sequence by non-int of type 'tuple'"
     ]
    }
   ],
   "source": [
    "x(2, 5, 7)"
   ]
  },
  {
   "cell_type": "code",
   "execution_count": 51,
   "id": "6f3f777c-0b23-4fbe-9ae4-974c48cbe0c4",
   "metadata": {},
   "outputs": [
    {
     "ename": "TypeError",
     "evalue": "can't multiply sequence by non-int of type 'tuple'",
     "output_type": "error",
     "traceback": [
      "\u001b[0;31m---------------------------------------------------------------------------\u001b[0m",
      "\u001b[0;31mTypeError\u001b[0m                                 Traceback (most recent call last)",
      "Cell \u001b[0;32mIn[51], line 1\u001b[0m\n\u001b[0;32m----> 1\u001b[0m x(\u001b[38;5;241m4\u001b[39m, \u001b[38;5;241m7\u001b[39m)\n",
      "Cell \u001b[0;32mIn[49], line 1\u001b[0m, in \u001b[0;36m<lambda>\u001b[0;34m(*a)\u001b[0m\n\u001b[0;32m----> 1\u001b[0m x \u001b[38;5;241m=\u001b[39m \u001b[38;5;28;01mlambda\u001b[39;00m \u001b[38;5;241m*\u001b[39ma : a \u001b[38;5;241m*\u001b[39m a\n",
      "\u001b[0;31mTypeError\u001b[0m: can't multiply sequence by non-int of type 'tuple'"
     ]
    }
   ],
   "source": [
    "x(4, 7)"
   ]
  },
  {
   "cell_type": "code",
   "execution_count": 52,
   "id": "67eb1f8f-db6f-4a96-b5d3-50cb045c7669",
   "metadata": {},
   "outputs": [],
   "source": [
    "v = lambda *i : i ** 2"
   ]
  },
  {
   "cell_type": "code",
   "execution_count": 53,
   "id": "759d6a2e-0575-42de-9cbf-4b9fbb53e213",
   "metadata": {},
   "outputs": [
    {
     "ename": "TypeError",
     "evalue": "unsupported operand type(s) for ** or pow(): 'tuple' and 'int'",
     "output_type": "error",
     "traceback": [
      "\u001b[0;31m---------------------------------------------------------------------------\u001b[0m",
      "\u001b[0;31mTypeError\u001b[0m                                 Traceback (most recent call last)",
      "Cell \u001b[0;32mIn[53], line 1\u001b[0m\n\u001b[0;32m----> 1\u001b[0m v(\u001b[38;5;241m12\u001b[39m, \u001b[38;5;241m45\u001b[39m)\n",
      "Cell \u001b[0;32mIn[52], line 1\u001b[0m, in \u001b[0;36m<lambda>\u001b[0;34m(*i)\u001b[0m\n\u001b[0;32m----> 1\u001b[0m v \u001b[38;5;241m=\u001b[39m \u001b[38;5;28;01mlambda\u001b[39;00m \u001b[38;5;241m*\u001b[39mi : i \u001b[38;5;241m*\u001b[39m\u001b[38;5;241m*\u001b[39m \u001b[38;5;241m2\u001b[39m\n",
      "\u001b[0;31mTypeError\u001b[0m: unsupported operand type(s) for ** or pow(): 'tuple' and 'int'"
     ]
    }
   ],
   "source": [
    "v(12, 45)"
   ]
  },
  {
   "cell_type": "code",
   "execution_count": 54,
   "id": "ab751014-6381-4592-9023-9c2ab5d4bb74",
   "metadata": {},
   "outputs": [
    {
     "ename": "SyntaxError",
     "evalue": "invalid syntax (604260395.py, line 1)",
     "output_type": "error",
     "traceback": [
      "\u001b[0;36m  Cell \u001b[0;32mIn[54], line 1\u001b[0;36m\u001b[0m\n\u001b[0;31m    x = lambda x: (for i in x : print(i))\u001b[0m\n\u001b[0m                   ^\u001b[0m\n\u001b[0;31mSyntaxError\u001b[0m\u001b[0;31m:\u001b[0m invalid syntax\n"
     ]
    }
   ],
   "source": [
    "x = lambda x: (for i in x : print(i))"
   ]
  },
  {
   "cell_type": "code",
   "execution_count": 55,
   "id": "2ba95f97-5ad8-4e8a-827a-aaafcfa1acf9",
   "metadata": {},
   "outputs": [
    {
     "ename": "SyntaxError",
     "evalue": "invalid syntax (2253414481.py, line 1)",
     "output_type": "error",
     "traceback": [
      "\u001b[0;36m  Cell \u001b[0;32mIn[55], line 1\u001b[0;36m\u001b[0m\n\u001b[0;31m    x = lambda x: print(i) for i in x\u001b[0m\n\u001b[0m                           ^\u001b[0m\n\u001b[0;31mSyntaxError\u001b[0m\u001b[0;31m:\u001b[0m invalid syntax\n"
     ]
    }
   ],
   "source": [
    "x = lambda x: print(i) for i in x"
   ]
  },
  {
   "cell_type": "code",
   "execution_count": 56,
   "id": "55efab7d-0bc7-4c48-bc6c-8625fa4c4b0e",
   "metadata": {},
   "outputs": [],
   "source": [
    "x = lambda x : [print(i) for i in x]"
   ]
  },
  {
   "cell_type": "code",
   "execution_count": 57,
   "id": "2afb30f9-eeb3-4575-8701-c4212ad38ac9",
   "metadata": {},
   "outputs": [
    {
     "name": "stdout",
     "output_type": "stream",
     "text": [
      "4\n",
      "6\n",
      "8\n",
      "10\n"
     ]
    },
    {
     "data": {
      "text/plain": [
       "[None, None, None, None]"
      ]
     },
     "execution_count": 57,
     "metadata": {},
     "output_type": "execute_result"
    }
   ],
   "source": [
    "x([4, 6, 8, 10])"
   ]
  },
  {
   "cell_type": "code",
   "execution_count": 58,
   "id": "fced524e-dbac-4589-8372-dd30a33e8db5",
   "metadata": {},
   "outputs": [],
   "source": [
    "x = lambda x : [i for i in x]"
   ]
  },
  {
   "cell_type": "code",
   "execution_count": 59,
   "id": "45c99ea8-3010-46f4-a92a-357db2b64a5c",
   "metadata": {},
   "outputs": [
    {
     "data": {
      "text/plain": [
       "[458, 123, 456]"
      ]
     },
     "execution_count": 59,
     "metadata": {},
     "output_type": "execute_result"
    }
   ],
   "source": [
    "x([458, 123, 456])"
   ]
  },
  {
   "cell_type": "code",
   "execution_count": 60,
   "id": "c00e1e46-a8a0-4290-a79c-9a449dc2d2b9",
   "metadata": {},
   "outputs": [
    {
     "ename": "TypeError",
     "evalue": "'function' object is not iterable",
     "output_type": "error",
     "traceback": [
      "\u001b[0;31m---------------------------------------------------------------------------\u001b[0m",
      "\u001b[0;31mTypeError\u001b[0m                                 Traceback (most recent call last)",
      "Cell \u001b[0;32mIn[60], line 1\u001b[0m\n\u001b[0;32m----> 1\u001b[0m x \u001b[38;5;241m=\u001b[39m [\u001b[38;5;28;01mlambda\u001b[39;00m x : i \u001b[38;5;28;01mfor\u001b[39;00m i \u001b[38;5;129;01min\u001b[39;00m x]\n",
      "\u001b[0;31mTypeError\u001b[0m: 'function' object is not iterable"
     ]
    }
   ],
   "source": [
    "x = [lambda x : i for i in x]"
   ]
  },
  {
   "cell_type": "code",
   "execution_count": 61,
   "id": "c00a2e37-fa2e-4504-a5f9-a1baba8ee8f9",
   "metadata": {},
   "outputs": [],
   "source": [
    "l = [64, 45, 12, 78, 32]"
   ]
  },
  {
   "cell_type": "code",
   "execution_count": 62,
   "id": "84f62d8e-92a1-4b64-b8ef-1ecbb3d1d01c",
   "metadata": {},
   "outputs": [],
   "source": [
    "l1 = []\n",
    "for i in l:\n",
    "    l1.append(i)"
   ]
  },
  {
   "cell_type": "code",
   "execution_count": 63,
   "id": "367a1856-174b-48a1-8449-2f776362d571",
   "metadata": {},
   "outputs": [
    {
     "data": {
      "text/plain": [
       "[64, 45, 12, 78, 32]"
      ]
     },
     "execution_count": 63,
     "metadata": {},
     "output_type": "execute_result"
    }
   ],
   "source": [
    "l1"
   ]
  },
  {
   "cell_type": "code",
   "execution_count": 64,
   "id": "881e85ff-5f77-4524-ae93-cf9e98a8b87e",
   "metadata": {},
   "outputs": [
    {
     "data": {
      "text/plain": [
       "[64, 45, 12, 78, 32]"
      ]
     },
     "execution_count": 64,
     "metadata": {},
     "output_type": "execute_result"
    }
   ],
   "source": [
    "[i for i in l]"
   ]
  },
  {
   "cell_type": "code",
   "execution_count": 65,
   "id": "4e2e921a-a3ee-4390-8db0-24087353d066",
   "metadata": {},
   "outputs": [],
   "source": [
    "x = lambda x : [i for i in x]"
   ]
  },
  {
   "cell_type": "code",
   "execution_count": 66,
   "id": "3ac39c5b-746b-4fc3-a706-35eac8367449",
   "metadata": {},
   "outputs": [
    {
     "ename": "TypeError",
     "evalue": "'int' object is not iterable",
     "output_type": "error",
     "traceback": [
      "\u001b[0;31m---------------------------------------------------------------------------\u001b[0m",
      "\u001b[0;31mTypeError\u001b[0m                                 Traceback (most recent call last)",
      "Cell \u001b[0;32mIn[66], line 1\u001b[0m\n\u001b[0;32m----> 1\u001b[0m x(\u001b[38;5;241m45\u001b[39m)\n",
      "Cell \u001b[0;32mIn[65], line 1\u001b[0m, in \u001b[0;36m<lambda>\u001b[0;34m(x)\u001b[0m\n\u001b[0;32m----> 1\u001b[0m x \u001b[38;5;241m=\u001b[39m \u001b[38;5;28;01mlambda\u001b[39;00m x : [i \u001b[38;5;28;01mfor\u001b[39;00m i \u001b[38;5;129;01min\u001b[39;00m x]\n",
      "\u001b[0;31mTypeError\u001b[0m: 'int' object is not iterable"
     ]
    }
   ],
   "source": [
    "x(45)"
   ]
  },
  {
   "cell_type": "code",
   "execution_count": 67,
   "id": "28cdf02f-cab7-4a85-ae8d-eb9b3a0861b3",
   "metadata": {},
   "outputs": [
    {
     "data": {
      "text/plain": [
       "[12, 54, 32, 87, 5]"
      ]
     },
     "execution_count": 67,
     "metadata": {},
     "output_type": "execute_result"
    }
   ],
   "source": [
    "x([12, 54, 32, 87, 5])"
   ]
  },
  {
   "cell_type": "code",
   "execution_count": 68,
   "id": "22424099-2f7d-42bf-b1be-fb88455841e4",
   "metadata": {},
   "outputs": [],
   "source": [
    "a = lambda **kwargs : kwargs"
   ]
  },
  {
   "cell_type": "code",
   "execution_count": 69,
   "id": "0e430f18-277d-4c93-853a-8bfb26cf07c0",
   "metadata": {},
   "outputs": [
    {
     "data": {
      "text/plain": [
       "{'a': 5, 'b': 75, 'c': 456}"
      ]
     },
     "execution_count": 69,
     "metadata": {},
     "output_type": "execute_result"
    }
   ],
   "source": [
    "a(a = 5, b = 75, c = 456)"
   ]
  },
  {
   "cell_type": "code",
   "execution_count": 70,
   "id": "49eace2f-e29a-4fe6-ba96-78374a2afa18",
   "metadata": {},
   "outputs": [],
   "source": [
    "a = 10\n",
    "def test15(c, d):\n",
    "    return c * d"
   ]
  },
  {
   "cell_type": "code",
   "execution_count": 71,
   "id": "ebddb950-59e2-425e-a038-6207e37ddb3a",
   "metadata": {},
   "outputs": [
    {
     "data": {
      "text/plain": [
       "150"
      ]
     },
     "execution_count": 71,
     "metadata": {},
     "output_type": "execute_result"
    }
   ],
   "source": [
    "test15(a, 15)"
   ]
  },
  {
   "cell_type": "code",
   "execution_count": 72,
   "id": "70c437de-4c11-4a74-8af3-230019ab72b1",
   "metadata": {},
   "outputs": [],
   "source": [
    "a = 10\n",
    "def test16(c, d):\n",
    "    a = 5\n",
    "    return c * d"
   ]
  },
  {
   "cell_type": "code",
   "execution_count": 73,
   "id": "bd4f8e99-9919-4d86-85af-1df0cefd96e6",
   "metadata": {},
   "outputs": [],
   "source": [
    "a = 10\n",
    "def test17(c, d):\n",
    "    c = 5\n",
    "    return c * d"
   ]
  },
  {
   "cell_type": "code",
   "execution_count": 74,
   "id": "90f15966-d4a5-4f2d-896a-9767c27d8b91",
   "metadata": {},
   "outputs": [
    {
     "data": {
      "text/plain": [
       "150"
      ]
     },
     "execution_count": 74,
     "metadata": {},
     "output_type": "execute_result"
    }
   ],
   "source": [
    "test16(a, 15)"
   ]
  },
  {
   "cell_type": "code",
   "execution_count": 75,
   "id": "32e86080-2898-400d-be5f-5d50220d1563",
   "metadata": {},
   "outputs": [
    {
     "data": {
      "text/plain": [
       "100"
      ]
     },
     "execution_count": 75,
     "metadata": {},
     "output_type": "execute_result"
    }
   ],
   "source": [
    "test17(a, 20)"
   ]
  },
  {
   "cell_type": "code",
   "execution_count": 76,
   "id": "34a2f95b-1e29-459b-bfa3-d22c4d0d85e1",
   "metadata": {},
   "outputs": [],
   "source": [
    "c = 10\n",
    "def test17(c, d):\n",
    "    c = 5\n",
    "    return c * d"
   ]
  },
  {
   "cell_type": "code",
   "execution_count": 77,
   "id": "9ba9f208-68b1-4d15-84df-613da32d3150",
   "metadata": {},
   "outputs": [
    {
     "data": {
      "text/plain": [
       "250"
      ]
     },
     "execution_count": 77,
     "metadata": {},
     "output_type": "execute_result"
    }
   ],
   "source": [
    "test17(10, 50)"
   ]
  },
  {
   "cell_type": "code",
   "execution_count": 78,
   "id": "948e9ce5-f374-460d-8a12-4b0d738fa934",
   "metadata": {},
   "outputs": [
    {
     "data": {
      "text/plain": [
       "10"
      ]
     },
     "execution_count": 78,
     "metadata": {},
     "output_type": "execute_result"
    }
   ],
   "source": [
    "c"
   ]
  },
  {
   "cell_type": "code",
   "execution_count": 79,
   "id": "f069da3c-3303-4cd1-927d-8e8062dff4f7",
   "metadata": {},
   "outputs": [],
   "source": [
    "l = [1, 2, 3, 4, 5, 6, 7, 88]\n",
    "l1 = []\n",
    "for i in l:\n",
    "    l1.append(i + 2)"
   ]
  },
  {
   "cell_type": "code",
   "execution_count": 80,
   "id": "93224084-f50d-4eb0-b796-e89abcb6298c",
   "metadata": {},
   "outputs": [
    {
     "data": {
      "text/plain": [
       "[3, 4, 5, 6, 7, 8, 9, 90]"
      ]
     },
     "execution_count": 80,
     "metadata": {},
     "output_type": "execute_result"
    }
   ],
   "source": [
    "l1"
   ]
  },
  {
   "cell_type": "code",
   "execution_count": 81,
   "id": "6d04ee4d-02cd-461c-8d88-e6a2f5489cfb",
   "metadata": {},
   "outputs": [],
   "source": [
    "def test18(a):\n",
    "    l1 = []\n",
    "    for i in a:\n",
    "        l1.append(i + 2)\n",
    "    return l1"
   ]
  },
  {
   "cell_type": "code",
   "execution_count": 82,
   "id": "8207ccf9-2a40-4df8-bfb6-99a2c69d6eb4",
   "metadata": {},
   "outputs": [
    {
     "data": {
      "text/plain": [
       "[3, 4, 5, 6, 7, 8, 9, 90]"
      ]
     },
     "execution_count": 82,
     "metadata": {},
     "output_type": "execute_result"
    }
   ],
   "source": [
    "test18(l)"
   ]
  },
  {
   "cell_type": "code",
   "execution_count": 83,
   "id": "c9d98e08-4bdb-4de8-a94b-f27aa6121645",
   "metadata": {},
   "outputs": [],
   "source": [
    "a = lambda a: [i + 2 for i in a]"
   ]
  },
  {
   "cell_type": "code",
   "execution_count": 84,
   "id": "54c75cf1-ef85-40a0-899a-8f73742c5f3b",
   "metadata": {},
   "outputs": [
    {
     "data": {
      "text/plain": [
       "[3, 4, 5, 6, 7, 8, 9, 90]"
      ]
     },
     "execution_count": 84,
     "metadata": {},
     "output_type": "execute_result"
    }
   ],
   "source": [
    "a(l)"
   ]
  },
  {
   "cell_type": "code",
   "execution_count": 85,
   "id": "2a7b283e-d09d-4055-a1f6-8f2d581ade10",
   "metadata": {},
   "outputs": [
    {
     "data": {
      "text/plain": [
       "[3, 4, 5, 6, 7, 8, 9, 90]"
      ]
     },
     "execution_count": 85,
     "metadata": {},
     "output_type": "execute_result"
    }
   ],
   "source": [
    "[i + 2 for i in l]"
   ]
  },
  {
   "cell_type": "code",
   "execution_count": 86,
   "id": "c91c97a5-bb85-4f5c-9c06-009aed0e0238",
   "metadata": {},
   "outputs": [
    {
     "data": {
      "text/plain": [
       "[(1, 2), (4, 4), (9, 6), (16, 8), (25, 10), (36, 12), (49, 14), (7744, 176)]"
      ]
     },
     "execution_count": 86,
     "metadata": {},
     "output_type": "execute_result"
    }
   ],
   "source": [
    "[(i ** 2, i + i) for i in l]"
   ]
  },
  {
   "cell_type": "code",
   "execution_count": 87,
   "id": "ffe81dd4-90d5-4d90-bab2-6de3aca74799",
   "metadata": {},
   "outputs": [
    {
     "data": {
      "text/plain": [
       "[(1, 2), (4, 4), (9, 6)]"
      ]
     },
     "execution_count": 87,
     "metadata": {},
     "output_type": "execute_result"
    }
   ],
   "source": [
    "[(i ** 2, i + i) for i in l if i < 4]"
   ]
  },
  {
   "cell_type": "code",
   "execution_count": 88,
   "id": "eb03dadf-edcb-4e15-9512-165b71301549",
   "metadata": {},
   "outputs": [
    {
     "ename": "TypeError",
     "evalue": "list.append() takes exactly one argument (2 given)",
     "output_type": "error",
     "traceback": [
      "\u001b[0;31m---------------------------------------------------------------------------\u001b[0m",
      "\u001b[0;31mTypeError\u001b[0m                                 Traceback (most recent call last)",
      "Cell \u001b[0;32mIn[88], line 4\u001b[0m\n\u001b[1;32m      2\u001b[0m \u001b[38;5;28;01mfor\u001b[39;00m i \u001b[38;5;129;01min\u001b[39;00m l:\n\u001b[1;32m      3\u001b[0m     \u001b[38;5;28;01mif\u001b[39;00m i \u001b[38;5;241m<\u001b[39m \u001b[38;5;241m4\u001b[39m:\n\u001b[0;32m----> 4\u001b[0m         l1\u001b[38;5;241m.\u001b[39mappend(i \u001b[38;5;241m*\u001b[39m\u001b[38;5;241m*\u001b[39m \u001b[38;5;241m2\u001b[39m, i \u001b[38;5;241m+\u001b[39m i)\n",
      "\u001b[0;31mTypeError\u001b[0m: list.append() takes exactly one argument (2 given)"
     ]
    }
   ],
   "source": [
    "l1 = []\n",
    "for i in l:\n",
    "    if i < 4:\n",
    "        l1.append(i ** 2, i + i)"
   ]
  },
  {
   "cell_type": "code",
   "execution_count": 89,
   "id": "e0fe9cd7-9e4a-463d-8515-1578a7c8146c",
   "metadata": {},
   "outputs": [],
   "source": [
    "l1 = []\n",
    "for i in l:\n",
    "    if i < 4:\n",
    "        l1.append((i ** 2, i + i))"
   ]
  },
  {
   "cell_type": "code",
   "execution_count": 90,
   "id": "5ae1f628-fa5e-43de-b14a-bee1e87cdb7f",
   "metadata": {},
   "outputs": [
    {
     "data": {
      "text/plain": [
       "[(1, 2), (4, 4), (9, 6)]"
      ]
     },
     "execution_count": 90,
     "metadata": {},
     "output_type": "execute_result"
    }
   ],
   "source": [
    "l1"
   ]
  },
  {
   "cell_type": "code",
   "execution_count": 91,
   "id": "e13ff9da-3eed-4727-887c-8d6655d615b0",
   "metadata": {},
   "outputs": [
    {
     "data": {
      "text/plain": [
       "[(9, 6)]"
      ]
     },
     "execution_count": 91,
     "metadata": {},
     "output_type": "execute_result"
    }
   ],
   "source": [
    "[(i ** 2, i + i) for i in l if i < 4 if i >= 3]"
   ]
  },
  {
   "cell_type": "code",
   "execution_count": 92,
   "id": "c7ddbf62-ab59-469b-9292-3d31236c5e63",
   "metadata": {},
   "outputs": [
    {
     "data": {
      "text/plain": [
       "{0: 0, 1: 1, 2: 4, 3: 9, 4: 16, 5: 25, 6: 36, 7: 49, 8: 64, 9: 81}"
      ]
     },
     "execution_count": 92,
     "metadata": {},
     "output_type": "execute_result"
    }
   ],
   "source": [
    "{i: i ** 2 for i in range(10)}"
   ]
  },
  {
   "cell_type": "code",
   "execution_count": 93,
   "id": "331808bf-2b83-4bfc-b9c4-59ee55d31da7",
   "metadata": {},
   "outputs": [],
   "source": [
    "d1 = {}\n",
    "for i in range(10):\n",
    "    d1[i] = i ** 2"
   ]
  },
  {
   "cell_type": "code",
   "execution_count": 94,
   "id": "1f28996c-d260-4c64-8799-d87712c53acc",
   "metadata": {},
   "outputs": [
    {
     "data": {
      "text/plain": [
       "{0: 0, 1: 1, 2: 4, 3: 9, 4: 16, 5: 25, 6: 36, 7: 49, 8: 64, 9: 81}"
      ]
     },
     "execution_count": 94,
     "metadata": {},
     "output_type": "execute_result"
    }
   ],
   "source": [
    "d1"
   ]
  },
  {
   "cell_type": "code",
   "execution_count": 95,
   "id": "5c00d674-4906-4ec6-8982-7a7e8ba79467",
   "metadata": {},
   "outputs": [
    {
     "data": {
      "text/plain": [
       "<generator object <genexpr> at 0x7c27852cbc40>"
      ]
     },
     "execution_count": 95,
     "metadata": {},
     "output_type": "execute_result"
    }
   ],
   "source": [
    "(i for i in range(10))"
   ]
  },
  {
   "cell_type": "code",
   "execution_count": 96,
   "id": "7e06132b-32ad-4505-9eea-d6e9bfe5b9c2",
   "metadata": {},
   "outputs": [
    {
     "data": {
      "text/plain": [
       "(0, 1, 2, 3, 4, 5, 6, 7, 8, 9)"
      ]
     },
     "execution_count": 96,
     "metadata": {},
     "output_type": "execute_result"
    }
   ],
   "source": [
    "tuple(i for i in range(10))"
   ]
  },
  {
   "cell_type": "code",
   "execution_count": 97,
   "id": "1dfc4c63-9fff-4348-a314-b0df39c88d34",
   "metadata": {},
   "outputs": [
    {
     "ename": "TypeError",
     "evalue": "'int' object is not iterable",
     "output_type": "error",
     "traceback": [
      "\u001b[0;31m---------------------------------------------------------------------------\u001b[0m",
      "\u001b[0;31mTypeError\u001b[0m                                 Traceback (most recent call last)",
      "Cell \u001b[0;32mIn[97], line 2\u001b[0m\n\u001b[1;32m      1\u001b[0m a \u001b[38;5;241m=\u001b[39m \u001b[38;5;241m56\u001b[39m\n\u001b[0;32m----> 2\u001b[0m \u001b[38;5;28;01mfor\u001b[39;00m i \u001b[38;5;129;01min\u001b[39;00m a:\n\u001b[1;32m      3\u001b[0m     \u001b[38;5;28mprint\u001b[39m(i)\n",
      "\u001b[0;31mTypeError\u001b[0m: 'int' object is not iterable"
     ]
    }
   ],
   "source": [
    "a = 56\n",
    "for i in a:\n",
    "    print(i)"
   ]
  },
  {
   "cell_type": "code",
   "execution_count": 98,
   "id": "ecaed8e1-3b25-41c7-8ff3-c814210fc115",
   "metadata": {},
   "outputs": [
    {
     "name": "stdout",
     "output_type": "stream",
     "text": [
      "c\n",
      "o\n",
      "d\n",
      "e\n"
     ]
    }
   ],
   "source": [
    "s = \"code\"\n",
    "for i in s:\n",
    "    print(i)"
   ]
  },
  {
   "cell_type": "code",
   "execution_count": 99,
   "id": "0c57913b-a3d7-45cc-8fff-875849287168",
   "metadata": {},
   "outputs": [
    {
     "ename": "TypeError",
     "evalue": "'str' object is not an iterator",
     "output_type": "error",
     "traceback": [
      "\u001b[0;31m---------------------------------------------------------------------------\u001b[0m",
      "\u001b[0;31mTypeError\u001b[0m                                 Traceback (most recent call last)",
      "Cell \u001b[0;32mIn[99], line 1\u001b[0m\n\u001b[0;32m----> 1\u001b[0m \u001b[38;5;28mnext\u001b[39m(s)\n",
      "\u001b[0;31mTypeError\u001b[0m: 'str' object is not an iterator"
     ]
    }
   ],
   "source": [
    "next(s)"
   ]
  },
  {
   "cell_type": "code",
   "execution_count": 100,
   "id": "5dc57a74-90b0-41b7-92d0-eb57d746ea55",
   "metadata": {},
   "outputs": [
    {
     "ename": "TypeError",
     "evalue": "'int' object is not an iterator",
     "output_type": "error",
     "traceback": [
      "\u001b[0;31m---------------------------------------------------------------------------\u001b[0m",
      "\u001b[0;31mTypeError\u001b[0m                                 Traceback (most recent call last)",
      "Cell \u001b[0;32mIn[100], line 1\u001b[0m\n\u001b[0;32m----> 1\u001b[0m \u001b[38;5;28mnext\u001b[39m(a)\n",
      "\u001b[0;31mTypeError\u001b[0m: 'int' object is not an iterator"
     ]
    }
   ],
   "source": [
    "next(a)"
   ]
  },
  {
   "cell_type": "code",
   "execution_count": 101,
   "id": "5938c513-10df-4f37-a313-e44e338275ae",
   "metadata": {},
   "outputs": [
    {
     "ename": "TypeError",
     "evalue": "'int' object is not iterable",
     "output_type": "error",
     "traceback": [
      "\u001b[0;31m---------------------------------------------------------------------------\u001b[0m",
      "\u001b[0;31mTypeError\u001b[0m                                 Traceback (most recent call last)",
      "Cell \u001b[0;32mIn[101], line 1\u001b[0m\n\u001b[0;32m----> 1\u001b[0m \u001b[38;5;28miter\u001b[39m(a)\n",
      "\u001b[0;31mTypeError\u001b[0m: 'int' object is not iterable"
     ]
    }
   ],
   "source": [
    "iter(a)"
   ]
  },
  {
   "cell_type": "code",
   "execution_count": 102,
   "id": "e2c4f442-27d1-498b-83c4-2c457a0f1d3d",
   "metadata": {},
   "outputs": [
    {
     "data": {
      "text/plain": [
       "<str_ascii_iterator at 0x7c275e9a2950>"
      ]
     },
     "execution_count": 102,
     "metadata": {},
     "output_type": "execute_result"
    }
   ],
   "source": [
    "iter(s)"
   ]
  },
  {
   "cell_type": "code",
   "execution_count": 103,
   "id": "be79be2e-9324-459a-b18e-766dd5b8e105",
   "metadata": {},
   "outputs": [],
   "source": [
    "b = iter(s)"
   ]
  },
  {
   "cell_type": "code",
   "execution_count": 104,
   "id": "49d00069-17a5-4a4e-b234-61b184bd05c4",
   "metadata": {},
   "outputs": [
    {
     "data": {
      "text/plain": [
       "<str_ascii_iterator at 0x7c275e9a2e00>"
      ]
     },
     "execution_count": 104,
     "metadata": {},
     "output_type": "execute_result"
    }
   ],
   "source": [
    "b"
   ]
  },
  {
   "cell_type": "markdown",
   "id": "a93157be-6c08-4d67-b3a2-93b0241a2e7b",
   "metadata": {},
   "source": [
    "* **Iterable** → An object whose elements can be accessed **in sequence**; some iterables (like lists, tuples, strings) also **hold indexes** so you can access by position (`obj[0]`).\n",
    "* **Indexing** → Accessing an element directly by its **position number** inside square brackets (`obj[0]` gives the first element).\n",
    "* **Iterator** → An object that remembers the current position while accessing elements one-by-one in sequence (cannot be accessed directly by index).\n",
    "* **`iter()`** → Makes an iterator from an iterable.\n",
    "* **`next()`** → Gets the next element from the iterator in sequence.\n",
    "\n",
    "**Example**\n",
    "* String `\"code\"` is **iterable** because you can loop over it and also access characters by **indexing** (`\"code\"[0] → 'c'` for the first character). But it is **not** an iterator. By using `iter(\"code\")`, it becomes an **iterator**, and you can use `next()` to get characters one by one without indexing."
   ]
  },
  {
   "cell_type": "code",
   "execution_count": 105,
   "id": "7e456e9d-c383-492a-801a-1d649548b374",
   "metadata": {},
   "outputs": [
    {
     "data": {
      "text/plain": [
       "'c'"
      ]
     },
     "execution_count": 105,
     "metadata": {},
     "output_type": "execute_result"
    }
   ],
   "source": [
    "next(b)"
   ]
  },
  {
   "cell_type": "code",
   "execution_count": 106,
   "id": "8bd1feab-52b0-4495-848e-b37c838e5f92",
   "metadata": {},
   "outputs": [
    {
     "data": {
      "text/plain": [
       "'o'"
      ]
     },
     "execution_count": 106,
     "metadata": {},
     "output_type": "execute_result"
    }
   ],
   "source": [
    "next(b)"
   ]
  },
  {
   "cell_type": "code",
   "execution_count": 107,
   "id": "4679488d-d036-4a4f-84d2-f2c423c8c4d3",
   "metadata": {},
   "outputs": [
    {
     "data": {
      "text/plain": [
       "'d'"
      ]
     },
     "execution_count": 107,
     "metadata": {},
     "output_type": "execute_result"
    }
   ],
   "source": [
    "next(b)"
   ]
  },
  {
   "cell_type": "code",
   "execution_count": 108,
   "id": "716cbd3c-12e5-4a85-84ee-0ef3eac09cb7",
   "metadata": {},
   "outputs": [
    {
     "data": {
      "text/plain": [
       "'e'"
      ]
     },
     "execution_count": 108,
     "metadata": {},
     "output_type": "execute_result"
    }
   ],
   "source": [
    "next(b)"
   ]
  },
  {
   "cell_type": "code",
   "execution_count": 109,
   "id": "e7bc2502-f6ee-4cb2-9cd7-8c64f7789b82",
   "metadata": {},
   "outputs": [
    {
     "ename": "StopIteration",
     "evalue": "",
     "output_type": "error",
     "traceback": [
      "\u001b[0;31m---------------------------------------------------------------------------\u001b[0m",
      "\u001b[0;31mStopIteration\u001b[0m                             Traceback (most recent call last)",
      "Cell \u001b[0;32mIn[109], line 1\u001b[0m\n\u001b[0;32m----> 1\u001b[0m \u001b[38;5;28mnext\u001b[39m(b)\n",
      "\u001b[0;31mStopIteration\u001b[0m: "
     ]
    }
   ],
   "source": [
    "next(b)"
   ]
  },
  {
   "cell_type": "code",
   "execution_count": 110,
   "id": "1a7afabc-00cb-4a0a-a18d-59cce5692590",
   "metadata": {},
   "outputs": [
    {
     "name": "stdout",
     "output_type": "stream",
     "text": [
      "c\n",
      "o\n",
      "d\n",
      "e\n"
     ]
    }
   ],
   "source": [
    "s = \"code\"\n",
    "for i in s:  # internally convert s into iterator then access it through next()\n",
    "    print(i)"
   ]
  },
  {
   "cell_type": "code",
   "execution_count": 111,
   "id": "ad05b21a-a17e-456b-91f7-7ecbe2a9ffc8",
   "metadata": {},
   "outputs": [
    {
     "ename": "TypeError",
     "evalue": "'str' object is not an iterator",
     "output_type": "error",
     "traceback": [
      "\u001b[0;31m---------------------------------------------------------------------------\u001b[0m",
      "\u001b[0;31mTypeError\u001b[0m                                 Traceback (most recent call last)",
      "Cell \u001b[0;32mIn[111], line 1\u001b[0m\n\u001b[0;32m----> 1\u001b[0m \u001b[38;5;28mnext\u001b[39m(s)\n",
      "\u001b[0;31mTypeError\u001b[0m: 'str' object is not an iterator"
     ]
    }
   ],
   "source": [
    "next(s)"
   ]
  },
  {
   "cell_type": "code",
   "execution_count": 112,
   "id": "c76bf294-27f5-4889-81c3-12a81ae69ab3",
   "metadata": {},
   "outputs": [],
   "source": [
    "s = iter(s)"
   ]
  },
  {
   "cell_type": "code",
   "execution_count": 113,
   "id": "b31cb9f4-1551-4043-b68b-c8e922586a4e",
   "metadata": {},
   "outputs": [
    {
     "data": {
      "text/plain": [
       "<str_ascii_iterator at 0x7c275e9a1ff0>"
      ]
     },
     "execution_count": 113,
     "metadata": {},
     "output_type": "execute_result"
    }
   ],
   "source": [
    "s"
   ]
  },
  {
   "cell_type": "code",
   "execution_count": 114,
   "id": "5bec53cf-addd-46ae-a382-4f256f8703d4",
   "metadata": {},
   "outputs": [
    {
     "data": {
      "text/plain": [
       "'c'"
      ]
     },
     "execution_count": 114,
     "metadata": {},
     "output_type": "execute_result"
    }
   ],
   "source": [
    "next(s)"
   ]
  },
  {
   "cell_type": "code",
   "execution_count": 115,
   "id": "f67e6997-da45-4f42-80b9-fcb8ff234277",
   "metadata": {},
   "outputs": [
    {
     "data": {
      "text/plain": [
       "'o'"
      ]
     },
     "execution_count": 115,
     "metadata": {},
     "output_type": "execute_result"
    }
   ],
   "source": [
    "next(s)"
   ]
  },
  {
   "cell_type": "code",
   "execution_count": 116,
   "id": "a5d3c050-1e7c-4202-831d-084a0b936993",
   "metadata": {},
   "outputs": [
    {
     "data": {
      "text/plain": [
       "'d'"
      ]
     },
     "execution_count": 116,
     "metadata": {},
     "output_type": "execute_result"
    }
   ],
   "source": [
    "next(s)"
   ]
  },
  {
   "cell_type": "code",
   "execution_count": 117,
   "id": "ceea5675-2093-4672-87d1-9c5cdb0ae5e3",
   "metadata": {},
   "outputs": [
    {
     "data": {
      "text/plain": [
       "'e'"
      ]
     },
     "execution_count": 117,
     "metadata": {},
     "output_type": "execute_result"
    }
   ],
   "source": [
    "next(s)"
   ]
  },
  {
   "cell_type": "code",
   "execution_count": 118,
   "id": "f06a7e86-d1a2-40a9-a30f-634d94d51586",
   "metadata": {},
   "outputs": [
    {
     "ename": "StopIteration",
     "evalue": "",
     "output_type": "error",
     "traceback": [
      "\u001b[0;31m---------------------------------------------------------------------------\u001b[0m",
      "\u001b[0;31mStopIteration\u001b[0m                             Traceback (most recent call last)",
      "Cell \u001b[0;32mIn[118], line 1\u001b[0m\n\u001b[0;32m----> 1\u001b[0m \u001b[38;5;28mnext\u001b[39m(s)\n",
      "\u001b[0;31mStopIteration\u001b[0m: "
     ]
    }
   ],
   "source": [
    "next(s)"
   ]
  },
  {
   "cell_type": "code",
   "execution_count": 119,
   "id": "68c71920-c4b7-4da1-bba1-2e17cb9ad55a",
   "metadata": {},
   "outputs": [],
   "source": [
    "l = [1, 5, 11, 41, 112, 452, 23, 78]"
   ]
  },
  {
   "cell_type": "code",
   "execution_count": 120,
   "id": "b9bfb553-7954-4009-ae32-450dfb4e066f",
   "metadata": {},
   "outputs": [
    {
     "data": {
      "text/plain": [
       "[1, 5, 11, 41, 112, 452, 23, 78]"
      ]
     },
     "execution_count": 120,
     "metadata": {},
     "output_type": "execute_result"
    }
   ],
   "source": [
    "l"
   ]
  },
  {
   "cell_type": "code",
   "execution_count": 121,
   "id": "1f5a1b20-cc32-4b81-aa05-d7640bd8c10a",
   "metadata": {},
   "outputs": [
    {
     "ename": "TypeError",
     "evalue": "'list' object is not an iterator",
     "output_type": "error",
     "traceback": [
      "\u001b[0;31m---------------------------------------------------------------------------\u001b[0m",
      "\u001b[0;31mTypeError\u001b[0m                                 Traceback (most recent call last)",
      "Cell \u001b[0;32mIn[121], line 1\u001b[0m\n\u001b[0;32m----> 1\u001b[0m \u001b[38;5;28mnext\u001b[39m(l)\n",
      "\u001b[0;31mTypeError\u001b[0m: 'list' object is not an iterator"
     ]
    }
   ],
   "source": [
    "next(l)"
   ]
  },
  {
   "cell_type": "code",
   "execution_count": 122,
   "id": "c97be619-ded1-4725-8b25-54ac52571e5b",
   "metadata": {},
   "outputs": [],
   "source": [
    "l = iter(l)"
   ]
  },
  {
   "cell_type": "code",
   "execution_count": 123,
   "id": "07a0bf60-ea25-4ec9-a47d-fd90712b4fed",
   "metadata": {},
   "outputs": [
    {
     "data": {
      "text/plain": [
       "1"
      ]
     },
     "execution_count": 123,
     "metadata": {},
     "output_type": "execute_result"
    }
   ],
   "source": [
    "next(l)"
   ]
  },
  {
   "cell_type": "code",
   "execution_count": 124,
   "id": "fdaae570-4942-405f-bc4b-e2cb31aedcb5",
   "metadata": {},
   "outputs": [
    {
     "data": {
      "text/plain": [
       "5"
      ]
     },
     "execution_count": 124,
     "metadata": {},
     "output_type": "execute_result"
    }
   ],
   "source": [
    "next(l)"
   ]
  }
 ],
 "metadata": {
  "kernelspec": {
   "display_name": "Python 3 (ipykernel)",
   "language": "python",
   "name": "python3"
  },
  "language_info": {
   "codemirror_mode": {
    "name": "ipython",
    "version": 3
   },
   "file_extension": ".py",
   "mimetype": "text/x-python",
   "name": "python",
   "nbconvert_exporter": "python",
   "pygments_lexer": "ipython3",
   "version": "3.12.7"
  }
 },
 "nbformat": 4,
 "nbformat_minor": 5
}
