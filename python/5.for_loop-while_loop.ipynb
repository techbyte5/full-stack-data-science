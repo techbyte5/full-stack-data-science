{
 "cells": [
  {
   "cell_type": "markdown",
   "id": "d0eb817d",
   "metadata": {},
   "source": [
    "---\n",
    "# Python Loops – EXPLANATION & NOTES\n",
    "\n",
    "<details>\n",
    "<summary><strong>Overview</strong></summary>\n",
    "\n",
    "This notebook focuses on **loops in Python**:\n",
    "\n",
    "- **For loops:** Iteration over sequences  \n",
    "- **While loops:** Condition-based repetition  \n",
    "- Covers `break`, `continue`, `else` in loops, `range()`, nested loops, and iteration over lists, tuples, strings, sets, and dictionaries.  \n",
    "\n",
    "</details>\n",
    "\n",
    "<details>\n",
    "<summary><strong>Cell-wise Purpose and Workflow</strong></summary>\n",
    "\n",
    "- **Sections 1-2:** Basic `for` loops, `else` clause, `break` usage  \n",
    "- **Section 3:** `while` loops, `break`, `continue`, and handling common errors  \n",
    "- **Sections 4-5:** Using `range()` with `for` loops  \n",
    "- **Section 6:** Nested loops for creating patterns  \n",
    "- **Section 7:** Iteration over lists, tuples, strings with optional indices  \n",
    "- **Sections 8-9:** Iteration over dictionaries and sets  \n",
    "\n",
    "Workflow: Starts with simple iterations → introduces loop control statements → explores nested loops and advanced iteration over multiple data structures.\n",
    "\n",
    "</details>\n",
    "\n",
    "<details>\n",
    "<summary><strong>Function-wise Explanation</strong></summary>\n",
    "\n",
    "Uses Python **built-in functions**:\n",
    "\n",
    "- `range()`: generates a sequence of numbers for iteration  \n",
    "- `len()`: length of a sequence  \n",
    "- `print()`: outputs values to console  \n",
    "\n",
    "Purpose: Iterate over items, optionally using indices, and control flow with break/continue.\n",
    "\n",
    "</details>\n",
    "\n",
    "<details>\n",
    "<summary><strong>Algorithm & Logic Explanation</strong></summary>\n",
    "\n",
    "- **For loops:** Iterate over each element in a sequence  \n",
    "- **While loops:** Repeat until a condition becomes `False`  \n",
    "- **Break:** Exit the loop immediately  \n",
    "- **Continue:** Skip the current iteration and move to next  \n",
    "- **Else in loops:** Executes only if loop completes without `break`  \n",
    "\n",
    "</details>\n",
    "\n",
    "<details>\n",
    "<summary><strong>Best Practices and Improvements</strong></summary>\n",
    "\n",
    "- Use **for** loops when the number of iterations is known  \n",
    "- Use **while** loops for condition-based repetition  \n",
    "- Avoid infinite loops by ensuring loop variables are updated correctly  \n",
    "- Use `range()` to generate index sequences, `enumerate()` to get index-value pairs  \n",
    "- Use `else` in loops to detect successful completion without breaks  \n",
    "\n",
    "</details>\n",
    "\n",
    "<details>\n",
    "<summary><strong>Common Mistakes and Pitfalls</strong></summary>\n",
    "\n",
    "- **IndexError:** Using `range(len(t), 0, -1)` incorrectly  \n",
    "- **Infinite loops:** While condition never becomes `False`  \n",
    "- **NameError:** Undefined variables in while condition  \n",
    "- Forgetting to update loop counters in `while` loops  \n",
    "\n",
    "</details>\n",
    "\n",
    "<details>\n",
    "<summary><strong>Data Processing Explanations</strong></summary>\n",
    "\n",
    "- **Loops:** Print sequences, generate patterns, filter elements  \n",
    "- **Nested loops:** Build matrices, patterns, or iterate multi-level structures  \n",
    "- **Iterables:** Lists, tuples, strings, sets, and dictionaries can all be looped over  \n",
    "\n",
    "</details>\n",
    "\n",
    "<details>\n",
    "<summary><strong>Performance or Optimization Tips</strong></summary>\n",
    "\n",
    "- For large datasets, prefer **generators** to save memory  \n",
    "- Avoid unnecessary nested loops when possible  \n",
    "- Use `for` over `while` when iteration count is known, for clarity and performance  \n",
    "\n",
    "</details>\n",
    "\n",
    "<details>\n",
    "<summary><strong>Debugging Hints</strong></summary>\n",
    "\n",
    "- Add `print()` statements to track loop variables  \n",
    "- Check loop conditions manually before running loops  \n",
    "- Ensure counters or conditions will eventually terminate the loop  \n",
    "- Use small test cases first for nested loops  \n",
    "\n",
    "</details>\n",
    "\n",
    "<details>\n",
    "<summary><strong>Encouragement</strong></summary>\n",
    "\n",
    "Practice loops extensively! Mastering **for, while, break, continue, and else** is crucial for **data processing, pattern generation, and algorithm implementation** in Python. Experiment with different sequences and nested loops to strengthen understanding.\n",
    "\n",
    "</details>"
   ]
  },
  {
   "cell_type": "markdown",
   "id": "0d848242",
   "metadata": {},
   "source": [
    "---\n",
    "### For Loop and While Loop Notebook\n",
    "\n",
    "This notebook explores Python's looping constructs:\n",
    "- For loops: Iteration over sequences\n",
    "- While loops: Condition-based repetition\n",
    "- Control statements: break, continue, else in loops\n",
    "- Range function for numeric sequences\n",
    "- Nested loops and patterns\n",
    "\n",
    "Demonstrates syntax, control flow, common errors, and practical examples.\n",
    "\n",
    "Note: Includes examples of break/continue, else in loops, and errors like IndexError in range.\n",
    "      Fix them in real code for proper execution.\n"
   ]
  },
  {
   "cell_type": "markdown",
   "id": "9e6ef503",
   "metadata": {},
   "source": [
    "---\n",
    "### Section 1: Basic For Loops"
   ]
  },
  {
   "cell_type": "code",
   "execution_count": 1,
   "id": "40e27fde-5f68-4a8e-a4e0-634a63c7c1da",
   "metadata": {},
   "outputs": [
    {
     "name": "stdout",
     "output_type": "stream",
     "text": [
      "name\n",
      "email_id\n",
      "mob_no\n",
      "address\n"
     ]
    }
   ],
   "source": [
    "l = [\"name\", \"email_id\", \"mob_no\", \"address\"]  # List\n",
    "for i in l:  # Iterates over list\n",
    "    print(i)  # Prints each item"
   ]
  },
  {
   "cell_type": "code",
   "execution_count": 2,
   "id": "380b7090-4f35-4e68-aecd-19a1604a3e45",
   "metadata": {},
   "outputs": [
    {
     "name": "stdout",
     "output_type": "stream",
     "text": [
      "name : \n",
      "email_id : \n",
      "mob_no : \n",
      "address : \n"
     ]
    }
   ],
   "source": [
    "l = [\"name\", \"email_id\", \"mob_no\", \"address\"]\n",
    "for i in l:\n",
    "    print(i + \" : \")  # Prints with colon"
   ]
  },
  {
   "cell_type": "code",
   "execution_count": 3,
   "id": "58fa8c96-2b02-4b44-b4ef-b6a5017c6ead",
   "metadata": {},
   "outputs": [
    {
     "name": "stdout",
     "output_type": "stream",
     "text": [
      "l\n",
      "a\n",
      "n\n",
      "g\n",
      "u\n",
      "a\n",
      "g\n",
      "e\n"
     ]
    }
   ],
   "source": [
    "s = \"language\"  # String\n",
    "for i in s:  # Iterates over string\n",
    "    print(i)  # Prints each character"
   ]
  },
  {
   "cell_type": "code",
   "execution_count": 4,
   "id": "88e2c06b-dcb9-44ff-ae03-167e2f055b56",
   "metadata": {},
   "outputs": [
    {
     "data": {
      "text/plain": [
       "['name', 'email_id', 'mob_no', 'address']"
      ]
     },
     "execution_count": 4,
     "metadata": {},
     "output_type": "execute_result"
    }
   ],
   "source": [
    "l  # Displays list"
   ]
  },
  {
   "cell_type": "code",
   "execution_count": 5,
   "id": "bc57d8c2-1b5e-4b35-a8cf-92b1efb02a36",
   "metadata": {},
   "outputs": [
    {
     "name": "stdout",
     "output_type": "stream",
     "text": [
      "name\n",
      "email_id\n",
      "mob_no\n",
      "address\n",
      "if for loop is going to complete itself then it will come to else\n"
     ]
    }
   ],
   "source": [
    "for i in l:\n",
    "    print(i)\n",
    "else:  # Executes if loop completes without break\n",
    "    print(\"if for loop is going to complete itself then it will come to else\")"
   ]
  },
  {
   "cell_type": "markdown",
   "id": "04050d95",
   "metadata": {},
   "source": [
    "### Section 2: Break in For Loops"
   ]
  },
  {
   "cell_type": "code",
   "execution_count": 6,
   "id": "ca301a28-18e0-4608-a8fd-d4b8ac3a382c",
   "metadata": {},
   "outputs": [],
   "source": [
    "for i in l:\n",
    "    if i == \"name\":  # Condition\n",
    "        break  # Exits loop\n",
    "    print(i)\n",
    "else:  # Not executed due to break\n",
    "    print(\"if for loop is going to complete itself then it will come to else\")"
   ]
  },
  {
   "cell_type": "code",
   "execution_count": 7,
   "id": "830cb953-7a3c-4c81-91d5-95b6c4634c3b",
   "metadata": {},
   "outputs": [
    {
     "name": "stdout",
     "output_type": "stream",
     "text": [
      "name\n",
      "email_id\n"
     ]
    }
   ],
   "source": [
    "for i in l:\n",
    "    if i == \"mob_no\":\n",
    "        break\n",
    "    print(i)\n",
    "else:  # Not executed\n",
    "    print(\"if for loop is going to complete itself then it will come to else\")"
   ]
  },
  {
   "cell_type": "code",
   "execution_count": 8,
   "id": "568063f7-435c-435f-94b9-7118ac666604",
   "metadata": {},
   "outputs": [
    {
     "name": "stdout",
     "output_type": "stream",
     "text": [
      "loop is broken because of m\n"
     ]
    }
   ],
   "source": [
    "s = \"programming\"\n",
    "for i in s:\n",
    "    if i == \"m\":\n",
    "        break  # Breaks on 'm'\n",
    "else:  # Not executed\n",
    "    print(\"dont execute unless and until it is not printing my name\")\n",
    "print(\"loop is broken because of m\")"
   ]
  },
  {
   "cell_type": "markdown",
   "id": "56c8cad2",
   "metadata": {},
   "source": [
    "---\n",
    "### Section 3: While Loops"
   ]
  },
  {
   "cell_type": "code",
   "execution_count": 9,
   "id": "9d476597-b612-4d3d-aa5a-aa5314024aa1",
   "metadata": {},
   "outputs": [
    {
     "name": "stdout",
     "output_type": "stream",
     "text": [
      "1\n",
      "2\n",
      "3\n",
      "4\n",
      "5\n"
     ]
    }
   ],
   "source": [
    "a = 1  # Initial\n",
    "while a < 6:  # Condition\n",
    "    print(a)  # Prints a\n",
    "    a = a + 1  # Increment"
   ]
  },
  {
   "cell_type": "code",
   "execution_count": 10,
   "id": "14ff5c46-434c-43ab-b52b-53e5b4f54af7",
   "metadata": {},
   "outputs": [
    {
     "name": "stdout",
     "output_type": "stream",
     "text": [
      "1\n",
      "2\n",
      "3\n"
     ]
    }
   ],
   "source": [
    "a = 1\n",
    "while a < 5:  # Condition\n",
    "    print(a)  # Prints a\n",
    "    if a == 3:  # Condition\n",
    "        break\n",
    "    a = a + 1  # Increment"
   ]
  },
  {
   "cell_type": "code",
   "execution_count": 11,
   "id": "ab39be69-b71e-4c9c-ab67-409de576f92b",
   "metadata": {},
   "outputs": [
    {
     "name": "stdout",
     "output_type": "stream",
     "text": [
      "1\n",
      "2\n",
      "3\n",
      "4\n"
     ]
    }
   ],
   "source": [
    "a = 1\n",
    "while a < 5:  # Condition\n",
    "    print(a)\n",
    "    a = a + 1\n",
    "    if a == 2: continue  # Skips to next iteration"
   ]
  },
  {
   "cell_type": "code",
   "execution_count": 12,
   "id": "7fb8d94e-c644-41c4-a191-e491c44fb5d7",
   "metadata": {},
   "outputs": [],
   "source": [
    "while a < 4:  # False\n",
    "    pass  # Does nothing"
   ]
  },
  {
   "cell_type": "code",
   "execution_count": 13,
   "id": "0e7e9499-d0b7-4c6a-8c6c-7b8480ff591c",
   "metadata": {},
   "outputs": [],
   "source": [
    "while i in l:  # True \n",
    "    pass"
   ]
  },
  {
   "cell_type": "code",
   "execution_count": 14,
   "id": "956430d8-f31b-471b-97d7-64d5f0353d82",
   "metadata": {},
   "outputs": [],
   "source": [
    "while a < 4:  # False\n",
    "    break  # Breaks immediately"
   ]
  },
  {
   "cell_type": "code",
   "execution_count": 15,
   "id": "f181e129-74d1-4580-aac4-8424b2d6c600",
   "metadata": {},
   "outputs": [],
   "source": [
    "while a < 4:  # False\n",
    "    continue  # Continues (no effect)"
   ]
  },
  {
   "cell_type": "markdown",
   "id": "b5d93a47",
   "metadata": {},
   "source": [
    "---\n",
    "### Section 4: Range Function"
   ]
  },
  {
   "cell_type": "code",
   "execution_count": 16,
   "id": "e3f06ba8-b85f-4a0e-b0c9-5417f5d260c4",
   "metadata": {},
   "outputs": [
    {
     "data": {
      "text/plain": [
       "range(0, 6)"
      ]
     },
     "execution_count": 16,
     "metadata": {},
     "output_type": "execute_result"
    }
   ],
   "source": [
    "range(6)  # Range object: 0 to 5"
   ]
  },
  {
   "cell_type": "code",
   "execution_count": 17,
   "id": "e1e9d657-f65e-47dc-bdcf-9c8171a57ba6",
   "metadata": {},
   "outputs": [
    {
     "data": {
      "text/plain": [
       "[0, 1, 2, 3, 4, 5]"
      ]
     },
     "execution_count": 17,
     "metadata": {},
     "output_type": "execute_result"
    }
   ],
   "source": [
    "list(range(6))  # [0, 1, 2, 3, 4, 5]"
   ]
  },
  {
   "cell_type": "code",
   "execution_count": 18,
   "id": "1bf022ea-6e64-479a-8f5f-8935586ca4a7",
   "metadata": {},
   "outputs": [
    {
     "data": {
      "text/plain": [
       "range(0, 7)"
      ]
     },
     "execution_count": 18,
     "metadata": {},
     "output_type": "execute_result"
    }
   ],
   "source": [
    "range(0, 7)  # 0 to 6"
   ]
  },
  {
   "cell_type": "code",
   "execution_count": 19,
   "id": "7035612a-9436-4f5d-b678-706e6efc474c",
   "metadata": {},
   "outputs": [
    {
     "data": {
      "text/plain": [
       "[4,\n",
       " 5,\n",
       " 6,\n",
       " 7,\n",
       " 8,\n",
       " 9,\n",
       " 10,\n",
       " 11,\n",
       " 12,\n",
       " 13,\n",
       " 14,\n",
       " 15,\n",
       " 16,\n",
       " 17,\n",
       " 18,\n",
       " 19,\n",
       " 20,\n",
       " 21,\n",
       " 22,\n",
       " 23,\n",
       " 24,\n",
       " 25,\n",
       " 26,\n",
       " 27,\n",
       " 28,\n",
       " 29,\n",
       " 30,\n",
       " 31,\n",
       " 32,\n",
       " 33,\n",
       " 34,\n",
       " 35,\n",
       " 36,\n",
       " 37,\n",
       " 38,\n",
       " 39,\n",
       " 40,\n",
       " 41,\n",
       " 42,\n",
       " 43,\n",
       " 44,\n",
       " 45,\n",
       " 46,\n",
       " 47,\n",
       " 48,\n",
       " 49,\n",
       " 50,\n",
       " 51,\n",
       " 52,\n",
       " 53,\n",
       " 54,\n",
       " 55,\n",
       " 56,\n",
       " 57,\n",
       " 58,\n",
       " 59,\n",
       " 60,\n",
       " 61,\n",
       " 62,\n",
       " 63,\n",
       " 64,\n",
       " 65,\n",
       " 66,\n",
       " 67,\n",
       " 68,\n",
       " 69,\n",
       " 70,\n",
       " 71,\n",
       " 72,\n",
       " 73,\n",
       " 74,\n",
       " 75,\n",
       " 76,\n",
       " 77,\n",
       " 78,\n",
       " 79,\n",
       " 80,\n",
       " 81,\n",
       " 82,\n",
       " 83,\n",
       " 84,\n",
       " 85,\n",
       " 86,\n",
       " 87,\n",
       " 88,\n",
       " 89,\n",
       " 90,\n",
       " 91,\n",
       " 92,\n",
       " 93,\n",
       " 94,\n",
       " 95,\n",
       " 96,\n",
       " 97,\n",
       " 98,\n",
       " 99]"
      ]
     },
     "execution_count": 19,
     "metadata": {},
     "output_type": "execute_result"
    }
   ],
   "source": [
    "list(range(4, 100))  # [4 to 99]"
   ]
  },
  {
   "cell_type": "code",
   "execution_count": 20,
   "id": "dccd580f-b356-4203-a01b-ec47b858a82d",
   "metadata": {},
   "outputs": [
    {
     "data": {
      "text/plain": [
       "[5, 10, 15, 20, 25, 30, 35, 40, 45, 50]"
      ]
     },
     "execution_count": 20,
     "metadata": {},
     "output_type": "execute_result"
    }
   ],
   "source": [
    "list(range(5, 51, 5))  # [5,10,15,...50]"
   ]
  },
  {
   "cell_type": "code",
   "execution_count": 21,
   "id": "e8b99861-07e9-4b85-90a3-e794f26e1920",
   "metadata": {},
   "outputs": [
    {
     "data": {
      "text/plain": [
       "[]"
      ]
     },
     "execution_count": 21,
     "metadata": {},
     "output_type": "execute_result"
    }
   ],
   "source": [
    "list(range(3, 10, -1))  # Empty list (positive step for descending)"
   ]
  },
  {
   "cell_type": "code",
   "execution_count": 22,
   "id": "34358e61-612f-41db-9782-9acbc59057ef",
   "metadata": {},
   "outputs": [
    {
     "data": {
      "text/plain": [
       "[10, 9, 8, 7, 6, 5, 4]"
      ]
     },
     "execution_count": 22,
     "metadata": {},
     "output_type": "execute_result"
    }
   ],
   "source": [
    "list(range(10, 3, -1))  # [10 to 4]"
   ]
  },
  {
   "cell_type": "code",
   "execution_count": 23,
   "id": "01c5fcf6-cf6d-493a-a7e1-ea209836b689",
   "metadata": {},
   "outputs": [
    {
     "data": {
      "text/plain": [
       "[10, 7, 4, 1, -2]"
      ]
     },
     "execution_count": 23,
     "metadata": {},
     "output_type": "execute_result"
    }
   ],
   "source": [
    "list(range(10, -5, -3))  # [10,7,4,1,-2]\n",
    "# list(range(-5, -50, -5))  # [-5,-10,-15,...-45]"
   ]
  },
  {
   "cell_type": "markdown",
   "id": "9d848c6d",
   "metadata": {},
   "source": [
    "### Section 5: For with Range"
   ]
  },
  {
   "cell_type": "code",
   "execution_count": 24,
   "id": "6fb2c22e-b210-4509-9aef-a5a707309974",
   "metadata": {},
   "outputs": [
    {
     "name": "stdout",
     "output_type": "stream",
     "text": [
      "0\n",
      "1\n",
      "2\n",
      "3\n",
      "4\n",
      "5\n",
      "6\n"
     ]
    }
   ],
   "source": [
    "for i in range(7):  # 0 to 6\n",
    "    print(i)"
   ]
  },
  {
   "cell_type": "code",
   "execution_count": 25,
   "id": "3147f801-c312-42e8-8d7e-97221a7c1ceb",
   "metadata": {},
   "outputs": [
    {
     "name": "stdout",
     "output_type": "stream",
     "text": [
      "10\n",
      "7\n",
      "4\n",
      "1\n",
      "-2\n"
     ]
    }
   ],
   "source": [
    "for i in range(10, -5, -3):  # Descending\n",
    "    print(i)"
   ]
  },
  {
   "cell_type": "markdown",
   "id": "7b24cc48",
   "metadata": {},
   "source": [
    "---\n",
    "### Section 6: Nested Loops for Patterns"
   ]
  },
  {
   "cell_type": "code",
   "execution_count": 26,
   "id": "b39340d9-4d7f-483c-a745-d8640d2269fb",
   "metadata": {},
   "outputs": [
    {
     "name": "stdout",
     "output_type": "stream",
     "text": [
      "*\n",
      "**\n",
      "***\n",
      "****\n",
      "*****\n"
     ]
    }
   ],
   "source": [
    "n = 5  # Size\n",
    "for i in range(0, n):  # Outer loop\n",
    "    for j in range(0, i + 1):  # Inner loop\n",
    "        print(\"*\", end = \"\")  # Print * without newline\n",
    "    print(\"\\r\")  # Carriage return (for pattern)"
   ]
  },
  {
   "cell_type": "code",
   "execution_count": 27,
   "id": "7d9ef89c-027f-496c-8d7b-91f54751a98b",
   "metadata": {},
   "outputs": [
    {
     "name": "stdout",
     "output_type": "stream",
     "text": [
      "abcd\n",
      "\n",
      "abcd\n",
      "abcd\n",
      "\n",
      "abcd\n",
      "abcd\n",
      "abcd\n",
      "\n",
      "abcd\n",
      "abcd\n",
      "abcd\n",
      "abcd\n",
      "\n",
      "abcd\n",
      "abcd\n",
      "abcd\n",
      "abcd\n",
      "abcd\n",
      "\n"
     ]
    }
   ],
   "source": [
    "n = 5\n",
    "for i in range(0, n):\n",
    "    for j in range(0, i + 1):\n",
    "        print(\"abcd\")  # Prints \"abcd\" multiple times\n",
    "    print(\"\\r\")"
   ]
  },
  {
   "cell_type": "markdown",
   "id": "ea34a8e8",
   "metadata": {},
   "source": [
    "---\n",
    "### Section 7: Iterating Over Data Types"
   ]
  },
  {
   "cell_type": "code",
   "execution_count": 28,
   "id": "b207d277-bd9c-43b9-9cf7-e69a52d8e71d",
   "metadata": {},
   "outputs": [
    {
     "name": "stdout",
     "output_type": "stream",
     "text": [
      "1\n",
      "5\n",
      "8\n",
      "99\n",
      "14\n",
      "16\n",
      "18\n",
      "46\n",
      "75\n"
     ]
    }
   ],
   "source": [
    "l = [1, 5, 8, 99, 14, 16, 18, 46, 75]  # List\n",
    "for i in l:\n",
    "    print(i)"
   ]
  },
  {
   "cell_type": "code",
   "execution_count": 29,
   "id": "b7ffb2b8-8398-485c-8eec-6318d31634db",
   "metadata": {},
   "outputs": [
    {
     "name": "stdout",
     "output_type": "stream",
     "text": [
      "1\n",
      "5\n",
      "8\n",
      "99\n",
      "14\n",
      "16\n",
      "18\n",
      "46\n",
      "75\n"
     ]
    }
   ],
   "source": [
    "t = (1, 5, 8, 99, 14, 16, 18, 46, 75)  # Tuple\n",
    "for i in t:\n",
    "    print(i)"
   ]
  },
  {
   "cell_type": "code",
   "execution_count": 30,
   "id": "e84b9c64-7bb8-4cad-af9a-2c133914afa5",
   "metadata": {},
   "outputs": [
    {
     "name": "stdout",
     "output_type": "stream",
     "text": [
      "p\n",
      "r\n",
      "o\n",
      "g\n",
      "r\n",
      "a\n",
      "m\n",
      "m\n",
      "i\n",
      "n\n",
      "g\n",
      " \n",
      "l\n",
      "a\n",
      "n\n",
      "g\n",
      "u\n",
      "a\n",
      "g\n",
      "e\n"
     ]
    }
   ],
   "source": [
    "s = \"programming language\"  # String\n",
    "for i in s:\n",
    "    print(i)"
   ]
  },
  {
   "cell_type": "code",
   "execution_count": 31,
   "id": "4fc654ea-e33a-433d-a817-2570db631241",
   "metadata": {},
   "outputs": [
    {
     "name": "stdout",
     "output_type": "stream",
     "text": [
      "0\n",
      "1\n",
      "2\n",
      "3\n",
      "4\n",
      "5\n",
      "6\n",
      "7\n",
      "8\n"
     ]
    }
   ],
   "source": [
    "t = (1, 5, 8, 99, 14, 16, 18, 46, 75)\n",
    "for i in range(len(t)):  # Indices\n",
    "    print(i)"
   ]
  },
  {
   "cell_type": "code",
   "execution_count": 32,
   "id": "e5c53bc2-95e5-411c-9050-5f67d1151986",
   "metadata": {},
   "outputs": [
    {
     "ename": "IndexError",
     "evalue": "tuple index out of range",
     "output_type": "error",
     "traceback": [
      "\u001b[0;31m---------------------------------------------------------------------------\u001b[0m",
      "\u001b[0;31mIndexError\u001b[0m                                Traceback (most recent call last)",
      "Cell \u001b[0;32mIn[32], line 4\u001b[0m\n\u001b[1;32m      1\u001b[0m t \u001b[38;5;241m=\u001b[39m (\u001b[38;5;241m1\u001b[39m, \u001b[38;5;241m5\u001b[39m, \u001b[38;5;241m8\u001b[39m, \u001b[38;5;241m99\u001b[39m, \u001b[38;5;241m14\u001b[39m, \u001b[38;5;241m16\u001b[39m, \u001b[38;5;241m18\u001b[39m, \u001b[38;5;241m46\u001b[39m, \u001b[38;5;241m75\u001b[39m)\n\u001b[1;32m      2\u001b[0m \u001b[38;5;28;01mfor\u001b[39;00m i \u001b[38;5;129;01min\u001b[39;00m \u001b[38;5;28mrange\u001b[39m(\u001b[38;5;28mlen\u001b[39m(t), \u001b[38;5;241m0\u001b[39m, \u001b[38;5;241m-\u001b[39m\u001b[38;5;241m1\u001b[39m):  \u001b[38;5;66;03m# ERROR: IndexError - range(len(t)) is 9, t[9] out of range\u001b[39;00m\n\u001b[1;32m      3\u001b[0m \u001b[38;5;66;03m# for i in range(len(t)-1, -1, -1):  # Corrected: Indices from last to first\u001b[39;00m\n\u001b[0;32m----> 4\u001b[0m             \u001b[38;5;28mprint\u001b[39m(t[i])\n",
      "\u001b[0;31mIndexError\u001b[0m: tuple index out of range"
     ]
    }
   ],
   "source": [
    "t = (1, 5, 8, 99, 14, 16, 18, 46, 75)\n",
    "for i in range(len(t), 0, -1):  # ERROR: IndexError - range(len(t)) is 9, t[9] out of range\n",
    "# for i in range(len(t)-1, -1, -1):  # Corrected: Indices from last to first\n",
    "            print(t[i])"
   ]
  },
  {
   "cell_type": "code",
   "execution_count": 33,
   "id": "fd396629-e0ce-4f63-8ebc-4e913319435c",
   "metadata": {},
   "outputs": [
    {
     "name": "stdout",
     "output_type": "stream",
     "text": [
      "75\n",
      "46\n",
      "18\n",
      "16\n",
      "14\n",
      "99\n",
      "8\n",
      "5\n",
      "1\n"
     ]
    }
   ],
   "source": [
    "t = (1, 5, 8, 99, 14, 16, 18, 46, 75)\n",
    "for i in range(len(t)-1, -1, -1):  # Correct: 8 to 0\n",
    "    print(t[i])"
   ]
  },
  {
   "cell_type": "markdown",
   "id": "9f013528",
   "metadata": {},
   "source": [
    "-----\n",
    "### Section 8: Iterating Over Dictionaries"
   ]
  },
  {
   "cell_type": "code",
   "execution_count": 34,
   "id": "ee59bf1e-beb3-40ec-8d50-a8d982fb28ff",
   "metadata": {},
   "outputs": [
    {
     "name": "stdout",
     "output_type": "stream",
     "text": [
      "a\n",
      "b\n",
      "c\n",
      "d\n",
      "e\n"
     ]
    }
   ],
   "source": [
    "d = {\"a\": \"code\", \"b\": \"python\", \"c\": [8, 12, 58, 99, 147], \"d\": (945, 789, 1459, 35), \"e\": \"rule\"}  # Dict\n",
    "for i in d:  # Keys\n",
    "    print(i)"
   ]
  },
  {
   "cell_type": "code",
   "execution_count": 35,
   "id": "3031393c-e71b-4eac-9586-e25aacadcc29",
   "metadata": {},
   "outputs": [
    {
     "name": "stdout",
     "output_type": "stream",
     "text": [
      "code\n",
      "python\n",
      "[8, 12, 58, 99, 147]\n",
      "(945, 789, 1459, 35)\n",
      "rule\n"
     ]
    }
   ],
   "source": [
    "d = {\"a\": \"code\", \"b\": \"python\", \"c\": [8, 12, 58, 99, 147], \"d\": (945, 789, 1459, 35), \"e\": \"rule\"}\n",
    "for i in d:\n",
    "    print(d[i])  # Values"
   ]
  },
  {
   "cell_type": "code",
   "execution_count": 36,
   "id": "5c24b8ca-5160-491f-88f6-100f84a6d003",
   "metadata": {},
   "outputs": [
    {
     "name": "stdout",
     "output_type": "stream",
     "text": [
      "a code\n",
      "b python\n",
      "c [8, 12, 58, 99, 147]\n",
      "d (945, 789, 1459, 35)\n",
      "e rule\n"
     ]
    }
   ],
   "source": [
    "d = {\"a\": \"code\", \"b\": \"python\", \"c\": [8, 12, 58, 99, 147], \"d\": (945, 789, 1459, 35), \"e\": \"rule\"}\n",
    "for i in d:\n",
    "    print(i, d[i])  # Key-value"
   ]
  },
  {
   "cell_type": "code",
   "execution_count": 37,
   "id": "4c2a6a37-45e8-42d3-93d0-a4365d3ae493",
   "metadata": {},
   "outputs": [
    {
     "name": "stdout",
     "output_type": "stream",
     "text": [
      "('a', 'code')\n",
      "('b', 'python')\n",
      "('c', [8, 12, 58, 99, 147])\n",
      "('d', (945, 789, 1459, 35))\n",
      "('e', 'rule')\n"
     ]
    }
   ],
   "source": [
    "d = {\"a\": \"code\", \"b\": \"python\", \"c\": [8, 12, 58, 99, 147], \"d\": (945, 789, 1459, 35), \"e\": \"rule\"}\n",
    "for i in d.items():  # (key, value) tuples\n",
    "    print(i)"
   ]
  },
  {
   "cell_type": "markdown",
   "id": "44720ab1",
   "metadata": {},
   "source": [
    "### Section 9: Iterating Over Sets"
   ]
  },
  {
   "cell_type": "code",
   "execution_count": 38,
   "id": "f5144e32-6dd6-4da5-9704-47c2f4b793af",
   "metadata": {},
   "outputs": [
    {
     "name": "stdout",
     "output_type": "stream",
     "text": [
      "1\n",
      "99\n",
      "5\n",
      "8\n",
      "75\n",
      "14\n",
      "46\n",
      "16\n",
      "18\n"
     ]
    }
   ],
   "source": [
    "s = {1, 5, 8, 99, 5, 75, 14, 16, 18, 46, 75}  # Set (duplicates removed)\n",
    "for i in s:\n",
    "    print(i)"
   ]
  },
  {
   "cell_type": "markdown",
   "id": "abed2761",
   "metadata": {},
   "source": [
    "---"
   ]
  }
 ],
 "metadata": {
  "kernelspec": {
   "display_name": "Python 3 (ipykernel)",
   "language": "python",
   "name": "python3"
  },
  "language_info": {
   "codemirror_mode": {
    "name": "ipython",
    "version": 3
   },
   "file_extension": ".py",
   "mimetype": "text/x-python",
   "name": "python",
   "nbconvert_exporter": "python",
   "pygments_lexer": "ipython3",
   "version": "3.12.7"
  }
 },
 "nbformat": 4,
 "nbformat_minor": 5
}
