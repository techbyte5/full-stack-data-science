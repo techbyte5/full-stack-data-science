{
 "cells": [
  {
   "cell_type": "code",
   "execution_count": 1,
   "id": "ccf48f59-a2b5-45cf-a041-6d359618704e",
   "metadata": {},
   "outputs": [],
   "source": [
    "t = (1, 2, 3, 4, 5)"
   ]
  },
  {
   "cell_type": "code",
   "execution_count": 2,
   "id": "b96ee7b9-1f88-48cb-8578-6fbea6938599",
   "metadata": {},
   "outputs": [
    {
     "data": {
      "text/plain": [
       "tuple"
      ]
     },
     "execution_count": 2,
     "metadata": {},
     "output_type": "execute_result"
    }
   ],
   "source": [
    "type(t)"
   ]
  },
  {
   "cell_type": "code",
   "execution_count": 3,
   "id": "79d8cfe8-921a-426e-8fcf-09d484ca3ecb",
   "metadata": {},
   "outputs": [],
   "source": [
    "t1 = (\"code\", 258, 45 + 13j, 145.9, False)"
   ]
  },
  {
   "cell_type": "code",
   "execution_count": 4,
   "id": "975a713b-c032-410b-bcc7-4b03eb105691",
   "metadata": {},
   "outputs": [],
   "source": [
    "l = [\"code\", 258, 45 + 13j, 145.9, False]"
   ]
  },
  {
   "cell_type": "code",
   "execution_count": 5,
   "id": "e12f3726-cabe-4a82-93db-e873d1d5d8fc",
   "metadata": {},
   "outputs": [
    {
     "data": {
      "text/plain": [
       "tuple"
      ]
     },
     "execution_count": 5,
     "metadata": {},
     "output_type": "execute_result"
    }
   ],
   "source": [
    "type(t1)"
   ]
  },
  {
   "cell_type": "code",
   "execution_count": 6,
   "id": "539856eb-a985-41f4-960b-29633c01825d",
   "metadata": {},
   "outputs": [
    {
     "data": {
      "text/plain": [
       "list"
      ]
     },
     "execution_count": 6,
     "metadata": {},
     "output_type": "execute_result"
    }
   ],
   "source": [
    "type(l)"
   ]
  },
  {
   "cell_type": "code",
   "execution_count": 7,
   "id": "b1cc5ffb-23d4-4e9f-938a-0378d278dc71",
   "metadata": {},
   "outputs": [],
   "source": [
    "t2 = ()"
   ]
  },
  {
   "cell_type": "code",
   "execution_count": 8,
   "id": "ea68bb84-f445-463b-a383-fa1dee714c1e",
   "metadata": {},
   "outputs": [
    {
     "data": {
      "text/plain": [
       "tuple"
      ]
     },
     "execution_count": 8,
     "metadata": {},
     "output_type": "execute_result"
    }
   ],
   "source": [
    "type(t2)"
   ]
  },
  {
   "cell_type": "code",
   "execution_count": 9,
   "id": "e7c52c49-eb9c-4dfd-a524-4762e9ab3e87",
   "metadata": {},
   "outputs": [
    {
     "data": {
      "text/plain": [
       "('code', 258, (45+13j), 145.9, False)"
      ]
     },
     "execution_count": 9,
     "metadata": {},
     "output_type": "execute_result"
    }
   ],
   "source": [
    "t1"
   ]
  },
  {
   "cell_type": "code",
   "execution_count": 10,
   "id": "65940c5f-e58f-40ad-8b66-c85c640a1d67",
   "metadata": {},
   "outputs": [
    {
     "data": {
      "text/plain": [
       "['code', 258, (45+13j), 145.9, False]"
      ]
     },
     "execution_count": 10,
     "metadata": {},
     "output_type": "execute_result"
    }
   ],
   "source": [
    "l"
   ]
  },
  {
   "cell_type": "code",
   "execution_count": 11,
   "id": "39350e8b-44b4-429c-89ce-8d473b3a1054",
   "metadata": {},
   "outputs": [
    {
     "data": {
      "text/plain": [
       "['code', 258]"
      ]
     },
     "execution_count": 11,
     "metadata": {},
     "output_type": "execute_result"
    }
   ],
   "source": [
    "l[0:2]"
   ]
  },
  {
   "cell_type": "code",
   "execution_count": 12,
   "id": "724621b1-44d2-48f4-99f7-1e452ab88196",
   "metadata": {},
   "outputs": [
    {
     "data": {
      "text/plain": [
       "('code', 258)"
      ]
     },
     "execution_count": 12,
     "metadata": {},
     "output_type": "execute_result"
    }
   ],
   "source": [
    "t1[0:2]"
   ]
  },
  {
   "cell_type": "code",
   "execution_count": 13,
   "id": "8b1765c0-791c-461d-8122-d90709194da7",
   "metadata": {},
   "outputs": [
    {
     "data": {
      "text/plain": [
       "(False, 145.9, (45+13j), 258, 'code')"
      ]
     },
     "execution_count": 13,
     "metadata": {},
     "output_type": "execute_result"
    }
   ],
   "source": [
    "t1[::-1]"
   ]
  },
  {
   "cell_type": "code",
   "execution_count": 14,
   "id": "ac54a107-4079-4540-8a8d-55061e77d242",
   "metadata": {},
   "outputs": [
    {
     "data": {
      "text/plain": [
       "False"
      ]
     },
     "execution_count": 14,
     "metadata": {},
     "output_type": "execute_result"
    }
   ],
   "source": [
    "t1[-1]"
   ]
  },
  {
   "cell_type": "code",
   "execution_count": 15,
   "id": "5f15b67f-61af-4b97-9c91-043ca52186f6",
   "metadata": {},
   "outputs": [
    {
     "data": {
      "text/plain": [
       "('code', 258, (45+13j), 145.9, False)"
      ]
     },
     "execution_count": 15,
     "metadata": {},
     "output_type": "execute_result"
    }
   ],
   "source": [
    "t1"
   ]
  },
  {
   "cell_type": "code",
   "execution_count": 16,
   "id": "97a2deca-ccf6-4064-93e2-c28de84cb68b",
   "metadata": {},
   "outputs": [
    {
     "data": {
      "text/plain": [
       "('code', (45+13j), False)"
      ]
     },
     "execution_count": 16,
     "metadata": {},
     "output_type": "execute_result"
    }
   ],
   "source": [
    "t1[::2]"
   ]
  },
  {
   "cell_type": "code",
   "execution_count": 17,
   "id": "e205ff34-9f2b-4d88-9e64-5f22c7ad8b8c",
   "metadata": {},
   "outputs": [
    {
     "data": {
      "text/plain": [
       "['code', 258, (45+13j), 145.9, False]"
      ]
     },
     "execution_count": 17,
     "metadata": {},
     "output_type": "execute_result"
    }
   ],
   "source": [
    "l"
   ]
  },
  {
   "cell_type": "code",
   "execution_count": 18,
   "id": "43001dc8-218a-4eb9-933f-cc1f0710db46",
   "metadata": {},
   "outputs": [],
   "source": [
    "l1 = [1, 4, 7, 5, 9]"
   ]
  },
  {
   "cell_type": "code",
   "execution_count": 19,
   "id": "bf824494-58cf-45da-8d52-4a0d8ed11bfa",
   "metadata": {},
   "outputs": [
    {
     "data": {
      "text/plain": [
       "'code'"
      ]
     },
     "execution_count": 19,
     "metadata": {},
     "output_type": "execute_result"
    }
   ],
   "source": [
    "l[0]"
   ]
  },
  {
   "cell_type": "code",
   "execution_count": 20,
   "id": "ebd409ee-8542-4019-9776-073c31a15292",
   "metadata": {},
   "outputs": [],
   "source": [
    "l[0] = \"python\""
   ]
  },
  {
   "cell_type": "code",
   "execution_count": 21,
   "id": "26003802-01e9-418f-9ece-acf4c34d7c6e",
   "metadata": {},
   "outputs": [
    {
     "data": {
      "text/plain": [
       "['python', 258, (45+13j), 145.9, False]"
      ]
     },
     "execution_count": 21,
     "metadata": {},
     "output_type": "execute_result"
    }
   ],
   "source": [
    "l"
   ]
  },
  {
   "cell_type": "code",
   "execution_count": 22,
   "id": "112a437e-7831-4cd1-83a4-db43bf32abef",
   "metadata": {},
   "outputs": [
    {
     "data": {
      "text/plain": [
       "('code', 258, (45+13j), 145.9, False)"
      ]
     },
     "execution_count": 22,
     "metadata": {},
     "output_type": "execute_result"
    }
   ],
   "source": [
    "t1"
   ]
  },
  {
   "cell_type": "code",
   "execution_count": 23,
   "id": "e0325f73-6de4-436b-833f-6f956115d399",
   "metadata": {},
   "outputs": [
    {
     "data": {
      "text/plain": [
       "'code'"
      ]
     },
     "execution_count": 23,
     "metadata": {},
     "output_type": "execute_result"
    }
   ],
   "source": [
    "t1[0]"
   ]
  },
  {
   "cell_type": "code",
   "execution_count": 24,
   "id": "7e81a1f7-4f1e-4cac-9fd2-ef1b383ea3de",
   "metadata": {},
   "outputs": [
    {
     "ename": "TypeError",
     "evalue": "'tuple' object does not support item assignment",
     "output_type": "error",
     "traceback": [
      "\u001b[0;31m---------------------------------------------------------------------------\u001b[0m",
      "\u001b[0;31mTypeError\u001b[0m                                 Traceback (most recent call last)",
      "Cell \u001b[0;32mIn[24], line 1\u001b[0m\n\u001b[0;32m----> 1\u001b[0m t1[\u001b[38;5;241m0\u001b[39m] \u001b[38;5;241m=\u001b[39m \u001b[38;5;124m\"\u001b[39m\u001b[38;5;124mpython\u001b[39m\u001b[38;5;124m\"\u001b[39m\n",
      "\u001b[0;31mTypeError\u001b[0m: 'tuple' object does not support item assignment"
     ]
    }
   ],
   "source": [
    "t1[0] = \"python\""
   ]
  },
  {
   "cell_type": "code",
   "execution_count": 25,
   "id": "66489022-ea2b-4f4c-815f-bad0857d7cc2",
   "metadata": {},
   "outputs": [],
   "source": [
    "t2 = (12, 24, 55, 14, 77)"
   ]
  },
  {
   "cell_type": "code",
   "execution_count": 26,
   "id": "d06883eb-980e-475a-bd41-bd7efe770280",
   "metadata": {},
   "outputs": [
    {
     "data": {
      "text/plain": [
       "('code', 258, (45+13j), 145.9, False, 12, 24, 55, 14, 77)"
      ]
     },
     "execution_count": 26,
     "metadata": {},
     "output_type": "execute_result"
    }
   ],
   "source": [
    "t1 + t2"
   ]
  },
  {
   "cell_type": "code",
   "execution_count": 27,
   "id": "7007e01d-662c-464f-81e2-c65611f503c6",
   "metadata": {},
   "outputs": [
    {
     "data": {
      "text/plain": [
       "['python', 258, (45+13j), 145.9, False, 1, 4, 7, 5, 9]"
      ]
     },
     "execution_count": 27,
     "metadata": {},
     "output_type": "execute_result"
    }
   ],
   "source": [
    "l + l1"
   ]
  },
  {
   "cell_type": "code",
   "execution_count": 28,
   "id": "d6f7b0fc-21d4-4b0c-b903-1ee11d02e60c",
   "metadata": {},
   "outputs": [
    {
     "data": {
      "text/plain": [
       "('code', 258, (45+13j), 145.9, False)"
      ]
     },
     "execution_count": 28,
     "metadata": {},
     "output_type": "execute_result"
    }
   ],
   "source": [
    "t1"
   ]
  },
  {
   "cell_type": "code",
   "execution_count": 29,
   "id": "a7ce16ff-5c02-4e6c-a394-4ee5a9303d57",
   "metadata": {},
   "outputs": [
    {
     "data": {
      "text/plain": [
       "('code', 258, (45+13j), 145.9, False, 'code', 258, (45+13j), 145.9, False)"
      ]
     },
     "execution_count": 29,
     "metadata": {},
     "output_type": "execute_result"
    }
   ],
   "source": [
    "t1 * 2"
   ]
  },
  {
   "cell_type": "code",
   "execution_count": 30,
   "id": "28de515e-1713-49b3-a556-74a0345ff4c1",
   "metadata": {},
   "outputs": [
    {
     "data": {
      "text/plain": [
       "1"
      ]
     },
     "execution_count": 30,
     "metadata": {},
     "output_type": "execute_result"
    }
   ],
   "source": [
    "t1.count(258)"
   ]
  },
  {
   "cell_type": "code",
   "execution_count": 31,
   "id": "c66a35f2-8d55-4521-ad8f-b03ac7ee7cea",
   "metadata": {},
   "outputs": [
    {
     "data": {
      "text/plain": [
       "1"
      ]
     },
     "execution_count": 31,
     "metadata": {},
     "output_type": "execute_result"
    }
   ],
   "source": [
    "t1.index(258)"
   ]
  },
  {
   "cell_type": "code",
   "execution_count": 32,
   "id": "a767f5a5-389a-4edf-9580-07cfc66a1a04",
   "metadata": {},
   "outputs": [],
   "source": [
    "t = (74, 12, 33, 47, (8,9,14), (\"code\"))"
   ]
  },
  {
   "cell_type": "code",
   "execution_count": 33,
   "id": "2f2ce847-9017-4a3c-8cfb-085b8a34607e",
   "metadata": {},
   "outputs": [
    {
     "data": {
      "text/plain": [
       "(74, 12, 33, 47, (8, 9, 14), 'code')"
      ]
     },
     "execution_count": 33,
     "metadata": {},
     "output_type": "execute_result"
    }
   ],
   "source": [
    "t"
   ]
  },
  {
   "cell_type": "code",
   "execution_count": 34,
   "id": "be810619-1a59-4db9-a012-55816fef6df3",
   "metadata": {},
   "outputs": [],
   "source": [
    "t1 = ([1, 9, 4, 7], (\"web\", 123.5, True), \"page\")"
   ]
  },
  {
   "cell_type": "code",
   "execution_count": 35,
   "id": "65240714-eb6e-414a-a068-40258ee7354b",
   "metadata": {},
   "outputs": [
    {
     "data": {
      "text/plain": [
       "([1, 9, 4, 7], ('web', 123.5, True), 'page')"
      ]
     },
     "execution_count": 35,
     "metadata": {},
     "output_type": "execute_result"
    }
   ],
   "source": [
    "t1"
   ]
  },
  {
   "cell_type": "code",
   "execution_count": 36,
   "id": "e5e2afe3-5425-4609-b102-5b3aeef1b556",
   "metadata": {},
   "outputs": [
    {
     "data": {
      "text/plain": [
       "[1, 9, 4, 7]"
      ]
     },
     "execution_count": 36,
     "metadata": {},
     "output_type": "execute_result"
    }
   ],
   "source": [
    "t1[0]"
   ]
  },
  {
   "cell_type": "code",
   "execution_count": 37,
   "id": "fd5f767a-d5f1-4ecc-baea-95568a7814ef",
   "metadata": {},
   "outputs": [
    {
     "data": {
      "text/plain": [
       "4"
      ]
     },
     "execution_count": 37,
     "metadata": {},
     "output_type": "execute_result"
    }
   ],
   "source": [
    "t1[0][2]"
   ]
  },
  {
   "cell_type": "code",
   "execution_count": 38,
   "id": "7eb3083e-1209-4702-aac2-5fd8eac8c03e",
   "metadata": {},
   "outputs": [],
   "source": [
    "t1[0][2] = \"code\""
   ]
  },
  {
   "cell_type": "code",
   "execution_count": 39,
   "id": "e37ff976-4693-48fc-85f4-c6a6ca6ed39c",
   "metadata": {},
   "outputs": [
    {
     "data": {
      "text/plain": [
       "([1, 9, 'code', 7], ('web', 123.5, True), 'page')"
      ]
     },
     "execution_count": 39,
     "metadata": {},
     "output_type": "execute_result"
    }
   ],
   "source": [
    "t1"
   ]
  },
  {
   "cell_type": "code",
   "execution_count": 40,
   "id": "4e5bf25c-d023-4476-b2e5-eb4bd135adae",
   "metadata": {},
   "outputs": [
    {
     "ename": "TypeError",
     "evalue": "'tuple' object does not support item assignment",
     "output_type": "error",
     "traceback": [
      "\u001b[0;31m---------------------------------------------------------------------------\u001b[0m",
      "\u001b[0;31mTypeError\u001b[0m                                 Traceback (most recent call last)",
      "Cell \u001b[0;32mIn[40], line 1\u001b[0m\n\u001b[0;32m----> 1\u001b[0m t1[\u001b[38;5;241m0\u001b[39m] \u001b[38;5;241m=\u001b[39m \u001b[38;5;124m\"\u001b[39m\u001b[38;5;124mprogram\u001b[39m\u001b[38;5;124m\"\u001b[39m\n",
      "\u001b[0;31mTypeError\u001b[0m: 'tuple' object does not support item assignment"
     ]
    }
   ],
   "source": [
    "t1[0] = \"program\""
   ]
  },
  {
   "cell_type": "code",
   "execution_count": 41,
   "id": "871c92ac-ee8b-4015-bd91-1a89a7928781",
   "metadata": {},
   "outputs": [
    {
     "data": {
      "text/plain": [
       "[[1, 9, 'code', 7], ('web', 123.5, True), 'page']"
      ]
     },
     "execution_count": 41,
     "metadata": {},
     "output_type": "execute_result"
    }
   ],
   "source": [
    "list(t1)"
   ]
  },
  {
   "cell_type": "code",
   "execution_count": 42,
   "id": "c861d358-bc4a-4040-89a5-bdee4ea80a58",
   "metadata": {},
   "outputs": [],
   "source": [
    "l = list(t1)"
   ]
  },
  {
   "cell_type": "code",
   "execution_count": 43,
   "id": "f7dff53a-3a36-480f-94fb-0e37fa05ba6a",
   "metadata": {},
   "outputs": [
    {
     "data": {
      "text/plain": [
       "[[1, 9, 'code', 7], ('web', 123.5, True), 'page']"
      ]
     },
     "execution_count": 43,
     "metadata": {},
     "output_type": "execute_result"
    }
   ],
   "source": [
    "l"
   ]
  },
  {
   "cell_type": "code",
   "execution_count": 44,
   "id": "63fca0f4-620a-4480-a207-52ddd586dfee",
   "metadata": {},
   "outputs": [
    {
     "data": {
      "text/plain": [
       "([1, 9, 'code', 7], ('web', 123.5, True), 'page')"
      ]
     },
     "execution_count": 44,
     "metadata": {},
     "output_type": "execute_result"
    }
   ],
   "source": [
    "tuple(l)"
   ]
  },
  {
   "cell_type": "code",
   "execution_count": 45,
   "id": "4b8e5222-85f4-4b90-a5f2-cde6092dc51c",
   "metadata": {},
   "outputs": [],
   "source": [
    "l = [1, 2,4, 9, 17, 11, 15, 99, 9, 9, 3, 7, 9, 4, 15, 3, 7, 11, 85, 99, 1]"
   ]
  },
  {
   "cell_type": "code",
   "execution_count": 46,
   "id": "cc7cd4ee-7f44-4542-9b12-e87fbc0774e9",
   "metadata": {},
   "outputs": [
    {
     "data": {
      "text/plain": [
       "{1, 2, 3, 4, 7, 9, 11, 15, 17, 85, 99}"
      ]
     },
     "execution_count": 46,
     "metadata": {},
     "output_type": "execute_result"
    }
   ],
   "source": [
    "set(l)"
   ]
  },
  {
   "cell_type": "code",
   "execution_count": 47,
   "id": "bdd3fa86-7b39-4c34-a68c-e671b7edfab9",
   "metadata": {},
   "outputs": [],
   "source": [
    "s = {}"
   ]
  },
  {
   "cell_type": "code",
   "execution_count": 48,
   "id": "e7a46e39-b339-4797-baff-0cff5661b6d5",
   "metadata": {},
   "outputs": [
    {
     "data": {
      "text/plain": [
       "dict"
      ]
     },
     "execution_count": 48,
     "metadata": {},
     "output_type": "execute_result"
    }
   ],
   "source": [
    "type(s)"
   ]
  },
  {
   "cell_type": "code",
   "execution_count": 49,
   "id": "2d805d5b-447f-4c4e-9ef3-435d42c47d39",
   "metadata": {},
   "outputs": [],
   "source": [
    "s1 =  {4, 9, 12}"
   ]
  },
  {
   "cell_type": "code",
   "execution_count": 50,
   "id": "2b53f733-b158-46c6-8847-fc643cc9ee93",
   "metadata": {},
   "outputs": [
    {
     "data": {
      "text/plain": [
       "set"
      ]
     },
     "execution_count": 50,
     "metadata": {},
     "output_type": "execute_result"
    }
   ],
   "source": [
    "type(s1)"
   ]
  },
  {
   "cell_type": "code",
   "execution_count": 51,
   "id": "89302bd1-26e1-4824-b652-4c4e754253f9",
   "metadata": {},
   "outputs": [],
   "source": [
    "s2 = {9, 12, 15, 71, 33, 15, 199, 504,1, 9, 12, 15, 1,  9, 9, 12, 54, 123}"
   ]
  },
  {
   "cell_type": "code",
   "execution_count": 52,
   "id": "41c963b3-6e81-45cb-b50b-f55ea7347e22",
   "metadata": {},
   "outputs": [
    {
     "data": {
      "text/plain": [
       "{1, 9, 12, 15, 33, 54, 71, 123, 199, 504}"
      ]
     },
     "execution_count": 52,
     "metadata": {},
     "output_type": "execute_result"
    }
   ],
   "source": [
    "s2"
   ]
  },
  {
   "cell_type": "code",
   "execution_count": 53,
   "id": "495fb154-8c61-403b-8122-9579f7395ab9",
   "metadata": {},
   "outputs": [
    {
     "ename": "TypeError",
     "evalue": "'set' object is not subscriptable",
     "output_type": "error",
     "traceback": [
      "\u001b[0;31m---------------------------------------------------------------------------\u001b[0m",
      "\u001b[0;31mTypeError\u001b[0m                                 Traceback (most recent call last)",
      "Cell \u001b[0;32mIn[53], line 1\u001b[0m\n\u001b[0;32m----> 1\u001b[0m s2[\u001b[38;5;241m0\u001b[39m]\n",
      "\u001b[0;31mTypeError\u001b[0m: 'set' object is not subscriptable"
     ]
    }
   ],
   "source": [
    "s2[0]"
   ]
  },
  {
   "cell_type": "code",
   "execution_count": 54,
   "id": "c6ecb375-f3e4-4379-acfa-e9ddc6b31b9e",
   "metadata": {},
   "outputs": [
    {
     "data": {
      "text/plain": [
       "[33, 1, 199, 71, 9, 12, 15, 54, 504, 123]"
      ]
     },
     "execution_count": 54,
     "metadata": {},
     "output_type": "execute_result"
    }
   ],
   "source": [
    "list(s2)"
   ]
  },
  {
   "cell_type": "code",
   "execution_count": 55,
   "id": "82dcaf5a-5d6c-4d44-a1b7-03233be17d58",
   "metadata": {},
   "outputs": [
    {
     "data": {
      "text/plain": [
       "{1, 9, 12, 15, 33, 54, 71, 123, 199, 504}"
      ]
     },
     "execution_count": 55,
     "metadata": {},
     "output_type": "execute_result"
    }
   ],
   "source": [
    "s2"
   ]
  },
  {
   "cell_type": "code",
   "execution_count": 56,
   "id": "d9d8c9e1-c238-4c9a-b123-cde923bb1eb1",
   "metadata": {},
   "outputs": [],
   "source": [
    "s2.add(155)"
   ]
  },
  {
   "cell_type": "code",
   "execution_count": 57,
   "id": "d6cdb3e7-3a9e-4f64-9ca0-108f318f3068",
   "metadata": {},
   "outputs": [
    {
     "data": {
      "text/plain": [
       "{1, 9, 12, 15, 33, 54, 71, 123, 155, 199, 504}"
      ]
     },
     "execution_count": 57,
     "metadata": {},
     "output_type": "execute_result"
    }
   ],
   "source": [
    "s2"
   ]
  },
  {
   "cell_type": "code",
   "execution_count": 58,
   "id": "145664af-da98-404c-9ba4-22e327e30133",
   "metadata": {},
   "outputs": [],
   "source": [
    "s2.add(\"code\")"
   ]
  },
  {
   "cell_type": "code",
   "execution_count": 59,
   "id": "c25de607-781e-4581-be69-d3c5cd47dd32",
   "metadata": {},
   "outputs": [
    {
     "data": {
      "text/plain": [
       "{1, 12, 123, 15, 155, 199, 33, 504, 54, 71, 9, 'code'}"
      ]
     },
     "execution_count": 59,
     "metadata": {},
     "output_type": "execute_result"
    }
   ],
   "source": [
    "s2"
   ]
  },
  {
   "cell_type": "code",
   "execution_count": 60,
   "id": "48f80739-fef7-45c6-b396-8610e2acffa8",
   "metadata": {},
   "outputs": [
    {
     "ename": "TypeError",
     "evalue": "unhashable type: 'list'",
     "output_type": "error",
     "traceback": [
      "\u001b[0;31m---------------------------------------------------------------------------\u001b[0m",
      "\u001b[0;31mTypeError\u001b[0m                                 Traceback (most recent call last)",
      "Cell \u001b[0;32mIn[60], line 1\u001b[0m\n\u001b[0;32m----> 1\u001b[0m s2\u001b[38;5;241m.\u001b[39madd([\u001b[38;5;241m5\u001b[39m, \u001b[38;5;241m7\u001b[39m, \u001b[38;5;241m99\u001b[39m, \u001b[38;5;241m101\u001b[39m, \u001b[38;5;241m123\u001b[39m])\n",
      "\u001b[0;31mTypeError\u001b[0m: unhashable type: 'list'"
     ]
    }
   ],
   "source": [
    "s2.add([5, 7, 99, 101, 123])"
   ]
  },
  {
   "cell_type": "code",
   "execution_count": 61,
   "id": "43b30534-c724-4090-9dbb-e1bbcb41dcd0",
   "metadata": {},
   "outputs": [
    {
     "ename": "TypeError",
     "evalue": "unhashable type: 'set'",
     "output_type": "error",
     "traceback": [
      "\u001b[0;31m---------------------------------------------------------------------------\u001b[0m",
      "\u001b[0;31mTypeError\u001b[0m                                 Traceback (most recent call last)",
      "Cell \u001b[0;32mIn[61], line 1\u001b[0m\n\u001b[0;32m----> 1\u001b[0m s2\u001b[38;5;241m.\u001b[39madd({\u001b[38;5;241m1\u001b[39m, \u001b[38;5;241m4\u001b[39m, \u001b[38;5;241m5\u001b[39m, \u001b[38;5;241m9\u001b[39m, \u001b[38;5;241m4\u001b[39m, \u001b[38;5;241m5\u001b[39m})\n",
      "\u001b[0;31mTypeError\u001b[0m: unhashable type: 'set'"
     ]
    }
   ],
   "source": [
    "s2.add({1, 4, 5, 9, 4, 5})"
   ]
  },
  {
   "cell_type": "code",
   "execution_count": 62,
   "id": "83f5d59c-258b-4d01-9026-32afc4bca4bb",
   "metadata": {},
   "outputs": [
    {
     "ename": "TypeError",
     "evalue": "unhashable type: 'dict'",
     "output_type": "error",
     "traceback": [
      "\u001b[0;31m---------------------------------------------------------------------------\u001b[0m",
      "\u001b[0;31mTypeError\u001b[0m                                 Traceback (most recent call last)",
      "Cell \u001b[0;32mIn[62], line 1\u001b[0m\n\u001b[0;32m----> 1\u001b[0m s2\u001b[38;5;241m.\u001b[39madd({\u001b[38;5;241m1\u001b[39m:\u001b[38;5;241m1\u001b[39m, \u001b[38;5;241m2\u001b[39m:\u001b[38;5;241m4\u001b[39m, \u001b[38;5;241m3\u001b[39m:\u001b[38;5;241m9\u001b[39m})\n",
      "\u001b[0;31mTypeError\u001b[0m: unhashable type: 'dict'"
     ]
    }
   ],
   "source": [
    "s2.add({1:1, 2:4, 3:9})"
   ]
  },
  {
   "cell_type": "code",
   "execution_count": 63,
   "id": "a2f52683-957a-41f4-9e57-db0a99e49877",
   "metadata": {},
   "outputs": [],
   "source": [
    "s2.add((1, 5, 9, 15))"
   ]
  },
  {
   "cell_type": "code",
   "execution_count": 64,
   "id": "61540c82-8390-48b9-8ec5-caa974293609",
   "metadata": {},
   "outputs": [
    {
     "data": {
      "text/plain": [
       "{(1, 5, 9, 15), 1, 12, 123, 15, 155, 199, 33, 504, 54, 71, 9, 'code'}"
      ]
     },
     "execution_count": 64,
     "metadata": {},
     "output_type": "execute_result"
    }
   ],
   "source": [
    "s2"
   ]
  },
  {
   "cell_type": "code",
   "execution_count": 65,
   "id": "39b8895d-ca1a-45d6-a3fb-9851484a2f35",
   "metadata": {},
   "outputs": [
    {
     "ename": "TypeError",
     "evalue": "unhashable type: 'list'",
     "output_type": "error",
     "traceback": [
      "\u001b[0;31m---------------------------------------------------------------------------\u001b[0m",
      "\u001b[0;31mTypeError\u001b[0m                                 Traceback (most recent call last)",
      "Cell \u001b[0;32mIn[65], line 1\u001b[0m\n\u001b[0;32m----> 1\u001b[0m {[\u001b[38;5;241m1\u001b[39m, \u001b[38;5;241m5\u001b[39m, \u001b[38;5;241m8\u001b[39m], \u001b[38;5;241m3\u001b[39m, \u001b[38;5;241m4\u001b[39m, \u001b[38;5;241m5\u001b[39m, \u001b[38;5;241m5\u001b[39m, \u001b[38;5;241m4\u001b[39m, \u001b[38;5;241m3\u001b[39m}\n",
      "\u001b[0;31mTypeError\u001b[0m: unhashable type: 'list'"
     ]
    }
   ],
   "source": [
    "{[1, 5, 8], 3, 4, 5, 5, 4, 3}"
   ]
  },
  {
   "cell_type": "code",
   "execution_count": 66,
   "id": "83905690-5b23-4305-8b1f-88970ca85f34",
   "metadata": {},
   "outputs": [
    {
     "data": {
      "text/plain": [
       "{(1, 5, 8), 3, 4, 5}"
      ]
     },
     "execution_count": 66,
     "metadata": {},
     "output_type": "execute_result"
    }
   ],
   "source": [
    "{(1, 5, 8), 3, 4, 5, 5, 4, 3}"
   ]
  },
  {
   "cell_type": "code",
   "execution_count": 67,
   "id": "81707a0d-e20e-4657-8e88-e4813759d7ec",
   "metadata": {},
   "outputs": [
    {
     "data": {
      "text/plain": [
       "{(1, 5, 8), 3, 4, 5}"
      ]
     },
     "execution_count": 67,
     "metadata": {},
     "output_type": "execute_result"
    }
   ],
   "source": [
    "{(1, 5, 8), 3, 4, (1, 5, 8), 5, 5, 4, 3}"
   ]
  },
  {
   "cell_type": "code",
   "execution_count": 68,
   "id": "cbc5edda-5cf9-4a1f-8da6-8c1ac4922f80",
   "metadata": {},
   "outputs": [],
   "source": [
    "s = {(1, 5, 8), 3, 4, (1, 5, 8), 5, 5, 4, 3}"
   ]
  },
  {
   "cell_type": "code",
   "execution_count": 69,
   "id": "5b6f32ea-3e67-440b-a011-c91887ce7222",
   "metadata": {},
   "outputs": [
    {
     "data": {
      "text/plain": [
       "{(1, 5, 8), 3, 4, 5}"
      ]
     },
     "execution_count": 69,
     "metadata": {},
     "output_type": "execute_result"
    }
   ],
   "source": [
    "s"
   ]
  },
  {
   "cell_type": "code",
   "execution_count": 70,
   "id": "e18dfc1f-73c4-46a0-a01e-1a36e3829477",
   "metadata": {},
   "outputs": [],
   "source": [
    "s.remove(3)"
   ]
  },
  {
   "cell_type": "code",
   "execution_count": 71,
   "id": "4c53851e-4f82-47ff-8352-a01ccd8d90f5",
   "metadata": {},
   "outputs": [
    {
     "data": {
      "text/plain": [
       "{(1, 5, 8), 4, 5}"
      ]
     },
     "execution_count": 71,
     "metadata": {},
     "output_type": "execute_result"
    }
   ],
   "source": [
    "s"
   ]
  },
  {
   "cell_type": "code",
   "execution_count": 72,
   "id": "1426e60d-7336-4f7b-8bec-c3a9c3285d87",
   "metadata": {},
   "outputs": [],
   "source": [
    "s.discard(5)"
   ]
  },
  {
   "cell_type": "code",
   "execution_count": 73,
   "id": "c2b15874-5ed0-4c05-bb16-32c8802a5124",
   "metadata": {},
   "outputs": [
    {
     "data": {
      "text/plain": [
       "{(1, 5, 8), 4}"
      ]
     },
     "execution_count": 73,
     "metadata": {},
     "output_type": "execute_result"
    }
   ],
   "source": [
    "s"
   ]
  },
  {
   "cell_type": "code",
   "execution_count": 74,
   "id": "358260b3-b593-4be1-a919-6bc42dab9b0a",
   "metadata": {},
   "outputs": [],
   "source": [
    "s.discard(1)"
   ]
  },
  {
   "cell_type": "code",
   "execution_count": 75,
   "id": "bfceab22-95f7-4c75-af7f-4d71c9ed880a",
   "metadata": {},
   "outputs": [
    {
     "data": {
      "text/plain": [
       "{(1, 5, 8), 4}"
      ]
     },
     "execution_count": 75,
     "metadata": {},
     "output_type": "execute_result"
    }
   ],
   "source": [
    "s"
   ]
  },
  {
   "cell_type": "code",
   "execution_count": 76,
   "id": "c47e7e4f-2905-4961-afce-e681651a623c",
   "metadata": {},
   "outputs": [
    {
     "ename": "KeyError",
     "evalue": "1",
     "output_type": "error",
     "traceback": [
      "\u001b[0;31m---------------------------------------------------------------------------\u001b[0m",
      "\u001b[0;31mKeyError\u001b[0m                                  Traceback (most recent call last)",
      "Cell \u001b[0;32mIn[76], line 1\u001b[0m\n\u001b[0;32m----> 1\u001b[0m s\u001b[38;5;241m.\u001b[39mremove(\u001b[38;5;241m1\u001b[39m)\n",
      "\u001b[0;31mKeyError\u001b[0m: 1"
     ]
    }
   ],
   "source": [
    "s.remove(1)"
   ]
  },
  {
   "cell_type": "code",
   "execution_count": 77,
   "id": "885d3efc-bd3d-49a9-856c-f25c7caa744f",
   "metadata": {},
   "outputs": [
    {
     "data": {
      "text/plain": [
       "{'Code', 'code'}"
      ]
     },
     "execution_count": 77,
     "metadata": {},
     "output_type": "execute_result"
    }
   ],
   "source": [
    "{\"code\", \"Code\"}"
   ]
  },
  {
   "cell_type": "code",
   "execution_count": 78,
   "id": "a253b271-b101-4b94-8498-89267697dec5",
   "metadata": {},
   "outputs": [],
   "source": [
    "s = {56, 4, 7, 9, 8, 7, 6, 9, \"code\", 55, 9, \"code\"}"
   ]
  },
  {
   "cell_type": "code",
   "execution_count": 79,
   "id": "b7a90b23-d8f3-4b03-bd40-4aaad23688c4",
   "metadata": {},
   "outputs": [
    {
     "data": {
      "text/plain": [
       "{4, 55, 56, 6, 7, 8, 9, 'code'}"
      ]
     },
     "execution_count": 79,
     "metadata": {},
     "output_type": "execute_result"
    }
   ],
   "source": [
    "s"
   ]
  },
  {
   "cell_type": "code",
   "execution_count": 80,
   "id": "3db1db2c-2fbe-4fe9-9bca-3ac23d8914c2",
   "metadata": {},
   "outputs": [],
   "source": [
    "l = [5, 7, 9, 2]"
   ]
  },
  {
   "cell_type": "code",
   "execution_count": 81,
   "id": "d295a8e6-ac9d-4082-8593-3b286a07e9e2",
   "metadata": {},
   "outputs": [
    {
     "data": {
      "text/plain": [
       "{2, 5, 7, 9}"
      ]
     },
     "execution_count": 81,
     "metadata": {},
     "output_type": "execute_result"
    }
   ],
   "source": [
    "set(l)"
   ]
  },
  {
   "cell_type": "code",
   "execution_count": 92,
   "id": "1cbbffc5-cc76-4873-949f-cf91c2fe6a9f",
   "metadata": {},
   "outputs": [],
   "source": [
    "d = {5, 8}"
   ]
  },
  {
   "cell_type": "code",
   "execution_count": 93,
   "id": "3a306404-94ef-490d-b3e9-4ff2925dbefd",
   "metadata": {},
   "outputs": [
    {
     "data": {
      "text/plain": [
       "set"
      ]
     },
     "execution_count": 93,
     "metadata": {},
     "output_type": "execute_result"
    }
   ],
   "source": [
    "type(d)"
   ]
  },
  {
   "cell_type": "code",
   "execution_count": 94,
   "id": "f5d3079f-373a-418f-9fe0-deb07509aa97",
   "metadata": {},
   "outputs": [],
   "source": [
    "d = {1:1, 2:4, 3:\"code\"}"
   ]
  },
  {
   "cell_type": "code",
   "execution_count": 95,
   "id": "022fb9d3-5479-4d9f-86c8-5818d0d823b6",
   "metadata": {},
   "outputs": [
    {
     "data": {
      "text/plain": [
       "{1: 1, 2: 4, 3: 'code'}"
      ]
     },
     "execution_count": 95,
     "metadata": {},
     "output_type": "execute_result"
    }
   ],
   "source": [
    "d"
   ]
  },
  {
   "cell_type": "code",
   "execution_count": 96,
   "id": "8e77d1e1-658a-4801-a512-2e4858f1a5fb",
   "metadata": {},
   "outputs": [
    {
     "data": {
      "text/plain": [
       "dict"
      ]
     },
     "execution_count": 96,
     "metadata": {},
     "output_type": "execute_result"
    }
   ],
   "source": [
    "type(d)"
   ]
  },
  {
   "cell_type": "code",
   "execution_count": 97,
   "id": "966102aa-9ef6-46e1-8933-7964ad5eb6e2",
   "metadata": {},
   "outputs": [],
   "source": [
    "d1 = {\"k1\":123, \"k2\":456, 12:[1, 5, 2.5, True]}"
   ]
  },
  {
   "cell_type": "code",
   "execution_count": 98,
   "id": "9433d2af-51f6-4c44-b97a-e2f01625ac60",
   "metadata": {},
   "outputs": [
    {
     "data": {
      "text/plain": [
       "{'k1': 123, 'k2': 456, 12: [1, 5, 2.5, True]}"
      ]
     },
     "execution_count": 98,
     "metadata": {},
     "output_type": "execute_result"
    }
   ],
   "source": [
    "d1"
   ]
  },
  {
   "cell_type": "code",
   "execution_count": 99,
   "id": "00eb8ad4-3c29-4754-ba4d-3eeeeb56dcae",
   "metadata": {},
   "outputs": [],
   "source": [
    "l = [4, 5, 7, 9]"
   ]
  },
  {
   "cell_type": "code",
   "execution_count": 100,
   "id": "c0b8bf7b-f9f3-4b81-bd12-83d781ac1603",
   "metadata": {},
   "outputs": [
    {
     "data": {
      "text/plain": [
       "4"
      ]
     },
     "execution_count": 100,
     "metadata": {},
     "output_type": "execute_result"
    }
   ],
   "source": [
    "l[0]"
   ]
  },
  {
   "cell_type": "code",
   "execution_count": 101,
   "id": "a6f5e9fb-70db-44d8-84c4-578fdd8a9de3",
   "metadata": {},
   "outputs": [
    {
     "data": {
      "text/plain": [
       "{'k1': 123, 'k2': 456, 12: [1, 5, 2.5, True]}"
      ]
     },
     "execution_count": 101,
     "metadata": {},
     "output_type": "execute_result"
    }
   ],
   "source": [
    "d1"
   ]
  },
  {
   "cell_type": "code",
   "execution_count": 102,
   "id": "45638fb5-68f4-4d82-b321-0912dc2dffbd",
   "metadata": {},
   "outputs": [
    {
     "data": {
      "text/plain": [
       "456"
      ]
     },
     "execution_count": 102,
     "metadata": {},
     "output_type": "execute_result"
    }
   ],
   "source": [
    "d1['k2']"
   ]
  },
  {
   "cell_type": "code",
   "execution_count": 103,
   "id": "5ae8a92f-bcb6-4603-b895-3211853b9493",
   "metadata": {},
   "outputs": [
    {
     "data": {
      "text/plain": [
       "[1, 5, 2.5, True]"
      ]
     },
     "execution_count": 103,
     "metadata": {},
     "output_type": "execute_result"
    }
   ],
   "source": [
    "d1[12]"
   ]
  },
  {
   "cell_type": "code",
   "execution_count": 104,
   "id": "453107b6-3521-4e61-9d05-4203ab7d66f8",
   "metadata": {},
   "outputs": [
    {
     "data": {
      "text/plain": [
       "456"
      ]
     },
     "execution_count": 104,
     "metadata": {},
     "output_type": "execute_result"
    }
   ],
   "source": [
    "d1[\"k2\"]"
   ]
  },
  {
   "cell_type": "code",
   "execution_count": 105,
   "id": "2cfcd543-5b7b-4a4d-abdc-db66f9418454",
   "metadata": {},
   "outputs": [
    {
     "data": {
      "text/plain": [
       "123"
      ]
     },
     "execution_count": 105,
     "metadata": {},
     "output_type": "execute_result"
    }
   ],
   "source": [
    "d1[\"k1\"]"
   ]
  },
  {
   "cell_type": "code",
   "execution_count": 106,
   "id": "f90cbae4-35ae-425e-8918-3b5268bfc2e1",
   "metadata": {},
   "outputs": [
    {
     "ename": "SyntaxError",
     "evalue": "incomplete input (3237919985.py, line 1)",
     "output_type": "error",
     "traceback": [
      "\u001b[0;36m  Cell \u001b[0;32mIn[106], line 1\u001b[0;36m\u001b[0m\n\u001b[0;31m    d = {#: 1}\u001b[0m\n\u001b[0m              ^\u001b[0m\n\u001b[0;31mSyntaxError\u001b[0m\u001b[0;31m:\u001b[0m incomplete input\n"
     ]
    }
   ],
   "source": [
    "d = {#: 1}"
   ]
  },
  {
   "cell_type": "code",
   "execution_count": 107,
   "id": "d3eeb0dc-b14a-4acf-9cbc-907328c8d422",
   "metadata": {},
   "outputs": [
    {
     "ename": "SyntaxError",
     "evalue": "invalid syntax (1215979744.py, line 1)",
     "output_type": "error",
     "traceback": [
      "\u001b[0;36m  Cell \u001b[0;32mIn[107], line 1\u001b[0;36m\u001b[0m\n\u001b[0;31m    d = {@:5, 1:1}\u001b[0m\n\u001b[0m         ^\u001b[0m\n\u001b[0;31mSyntaxError\u001b[0m\u001b[0;31m:\u001b[0m invalid syntax\n"
     ]
    }
   ],
   "source": [
    "d = {@:5, 1:1}"
   ]
  },
  {
   "cell_type": "code",
   "execution_count": 108,
   "id": "f2bfcbe6-6174-455c-8b56-005f55e6d370",
   "metadata": {},
   "outputs": [],
   "source": [
    "d = {.4: 5}"
   ]
  },
  {
   "cell_type": "code",
   "execution_count": 109,
   "id": "3bf2f7e8-712b-49d8-8afb-9a9ccdead8ce",
   "metadata": {},
   "outputs": [
    {
     "data": {
      "text/plain": [
       "{0.4: 5}"
      ]
     },
     "execution_count": 109,
     "metadata": {},
     "output_type": "execute_result"
    }
   ],
   "source": [
    "d"
   ]
  },
  {
   "cell_type": "code",
   "execution_count": 110,
   "id": "7a797d28-5b5b-46e5-addd-822ff776a4ab",
   "metadata": {},
   "outputs": [],
   "source": [
    "d = {_2: 5}"
   ]
  },
  {
   "cell_type": "code",
   "execution_count": 111,
   "id": "c2b27882-1ff1-44fb-a982-e8a688dfb45c",
   "metadata": {},
   "outputs": [
    {
     "data": {
      "text/plain": [
       "{tuple: 5}"
      ]
     },
     "execution_count": 111,
     "metadata": {},
     "output_type": "execute_result"
    }
   ],
   "source": [
    "d"
   ]
  },
  {
   "cell_type": "code",
   "execution_count": 113,
   "id": "ac8e3c66-0b2f-4f40-be39-f8b0ae7a5d62",
   "metadata": {},
   "outputs": [
    {
     "ename": "NameError",
     "evalue": "name '_4' is not defined",
     "output_type": "error",
     "traceback": [
      "\u001b[0;31m---------------------------------------------------------------------------\u001b[0m",
      "\u001b[0;31mNameError\u001b[0m                                 Traceback (most recent call last)",
      "Cell \u001b[0;32mIn[113], line 1\u001b[0m\n\u001b[0;32m----> 1\u001b[0m d \u001b[38;5;241m=\u001b[39m {_4: \u001b[38;5;241m125\u001b[39m}\n",
      "\u001b[0;31mNameError\u001b[0m: name '_4' is not defined"
     ]
    }
   ],
   "source": [
    "d = {_4: 125}"
   ]
  },
  {
   "cell_type": "code",
   "execution_count": 114,
   "id": "271f28f0-5f65-40f6-8cd8-df4b0ecbb43c",
   "metadata": {},
   "outputs": [],
   "source": [
    "d = {\"l\": [1, 2, 3], \"t\": (3, 4, 5), \"s\": {4, 5, 6}, \"d\": {1:1, 2:\"code\"}}"
   ]
  },
  {
   "cell_type": "code",
   "execution_count": 115,
   "id": "850326f8-d821-4b20-b917-1196c6a12eca",
   "metadata": {},
   "outputs": [
    {
     "data": {
      "text/plain": [
       "{'l': [1, 2, 3], 't': (3, 4, 5), 's': {4, 5, 6}, 'd': {1: 1, 2: 'code'}}"
      ]
     },
     "execution_count": 115,
     "metadata": {},
     "output_type": "execute_result"
    }
   ],
   "source": [
    "d"
   ]
  },
  {
   "cell_type": "code",
   "execution_count": 116,
   "id": "154f72a0-06ca-4030-b888-bfb1def4b61c",
   "metadata": {},
   "outputs": [],
   "source": [
    "d1 = {\"k1\": [1, 2], \"k2\": \"code\", \"k1\": \"python\"}"
   ]
  },
  {
   "cell_type": "code",
   "execution_count": 117,
   "id": "5830b7cb-6722-4384-a292-38de498a5a6d",
   "metadata": {},
   "outputs": [
    {
     "data": {
      "text/plain": [
       "{'k1': 'python', 'k2': 'code'}"
      ]
     },
     "execution_count": 117,
     "metadata": {},
     "output_type": "execute_result"
    }
   ],
   "source": [
    "d1"
   ]
  },
  {
   "cell_type": "code",
   "execution_count": 120,
   "id": "4bd22dab-7293-49ab-a609-a60d7faa9df1",
   "metadata": {},
   "outputs": [
    {
     "data": {
      "text/plain": [
       "'python'"
      ]
     },
     "execution_count": 120,
     "metadata": {},
     "output_type": "execute_result"
    }
   ],
   "source": [
    "d1[\"k1\"]"
   ]
  },
  {
   "cell_type": "code",
   "execution_count": 122,
   "id": "08e1da13-c75a-4fbd-a420-ecbc8df87e40",
   "metadata": {},
   "outputs": [],
   "source": [
    "d = {\"++--\": 155}"
   ]
  },
  {
   "cell_type": "code",
   "execution_count": 123,
   "id": "94d2045f-b099-462e-84b9-0642253760ce",
   "metadata": {},
   "outputs": [
    {
     "data": {
      "text/plain": [
       "{'++--': 155}"
      ]
     },
     "execution_count": 123,
     "metadata": {},
     "output_type": "execute_result"
    }
   ],
   "source": [
    "d"
   ]
  },
  {
   "cell_type": "code",
   "execution_count": 125,
   "id": "f9f27929-d788-4e55-827f-1f69e0951fb0",
   "metadata": {},
   "outputs": [],
   "source": [
    "d = {\"name\": \"abc\", \"mob_no\": 987654321, \"mail_id\": \"xyz@email.com\", \"marks10\": [88, 90, 78, 69, 82, 78], \"marks12\": {80, 85, 90, 95, 95, 65, 80, 85}, \"grade\": {\"hindi\": \"A\", \"english\": \"A\", \"math\": \"B\", \"science\": \"S\"}}"
   ]
  },
  {
   "cell_type": "code",
   "execution_count": 126,
   "id": "9b7bc7a7-31a5-424d-bb44-4246a81b2ea7",
   "metadata": {},
   "outputs": [
    {
     "data": {
      "text/plain": [
       "{'name': 'abc',\n",
       " 'mob_no': 987654321,\n",
       " 'mail_id': 'xyz@email.com',\n",
       " 'marks10': [88, 90, 78, 69, 82, 78],\n",
       " 'marks12': {65, 80, 85, 90, 95},\n",
       " 'grade': {'hindi': 'A', 'english': 'A', 'math': 'B', 'science': 'S'}}"
      ]
     },
     "execution_count": 126,
     "metadata": {},
     "output_type": "execute_result"
    }
   ],
   "source": [
    "d"
   ]
  },
  {
   "cell_type": "code",
   "execution_count": 127,
   "id": "a3274d32-8e96-48e2-8891-2e46aebc6073",
   "metadata": {},
   "outputs": [
    {
     "data": {
      "text/plain": [
       "list"
      ]
     },
     "execution_count": 127,
     "metadata": {},
     "output_type": "execute_result"
    }
   ],
   "source": [
    "type(d[\"marks10\"])"
   ]
  },
  {
   "cell_type": "code",
   "execution_count": 128,
   "id": "ba1b1402-5de3-40cb-98b8-28d85841fbd1",
   "metadata": {},
   "outputs": [
    {
     "data": {
      "text/plain": [
       "set"
      ]
     },
     "execution_count": 128,
     "metadata": {},
     "output_type": "execute_result"
    }
   ],
   "source": [
    "type(d[\"marks12\"])"
   ]
  },
  {
   "cell_type": "code",
   "execution_count": 129,
   "id": "44e35ec6-0708-42df-b161-b2b78d2e3745",
   "metadata": {},
   "outputs": [
    {
     "data": {
      "text/plain": [
       "[88, 90, 78, 69, 82, 78]"
      ]
     },
     "execution_count": 129,
     "metadata": {},
     "output_type": "execute_result"
    }
   ],
   "source": [
    "d[\"marks10\"]"
   ]
  },
  {
   "cell_type": "code",
   "execution_count": 130,
   "id": "1631c9c5-8dc7-47fb-a01c-d183adf87cd7",
   "metadata": {},
   "outputs": [
    {
     "data": {
      "text/plain": [
       "78"
      ]
     },
     "execution_count": 130,
     "metadata": {},
     "output_type": "execute_result"
    }
   ],
   "source": [
    "d[\"marks10\"][2]"
   ]
  },
  {
   "cell_type": "code",
   "execution_count": 131,
   "id": "3f16d7b2-4b51-49e9-bf9a-c76b37c83ad7",
   "metadata": {},
   "outputs": [
    {
     "data": {
      "text/plain": [
       "dict_keys(['name', 'mob_no', 'mail_id', 'marks10', 'marks12', 'grade'])"
      ]
     },
     "execution_count": 131,
     "metadata": {},
     "output_type": "execute_result"
    }
   ],
   "source": [
    "d.keys()"
   ]
  },
  {
   "cell_type": "code",
   "execution_count": 132,
   "id": "fb601bad-4eb4-4bd2-90f9-4f63e33f28ce",
   "metadata": {},
   "outputs": [
    {
     "data": {
      "text/plain": [
       "dict_values(['abc', 987654321, 'xyz@email.com', [88, 90, 78, 69, 82, 78], {80, 65, 85, 90, 95}, {'hindi': 'A', 'english': 'A', 'math': 'B', 'science': 'S'}])"
      ]
     },
     "execution_count": 132,
     "metadata": {},
     "output_type": "execute_result"
    }
   ],
   "source": [
    "d.values()"
   ]
  },
  {
   "cell_type": "code",
   "execution_count": 133,
   "id": "568a5455-b900-4d37-80e7-93d68b7a76a2",
   "metadata": {},
   "outputs": [
    {
     "data": {
      "text/plain": [
       "dict_items([('name', 'abc'), ('mob_no', 987654321), ('mail_id', 'xyz@email.com'), ('marks10', [88, 90, 78, 69, 82, 78]), ('marks12', {80, 65, 85, 90, 95}), ('grade', {'hindi': 'A', 'english': 'A', 'math': 'B', 'science': 'S'})])"
      ]
     },
     "execution_count": 133,
     "metadata": {},
     "output_type": "execute_result"
    }
   ],
   "source": [
    "d.items()"
   ]
  },
  {
   "cell_type": "code",
   "execution_count": 134,
   "id": "2c25aa8b-15ab-43e8-a878-f7967b5de91c",
   "metadata": {},
   "outputs": [
    {
     "data": {
      "text/plain": [
       "dict_items"
      ]
     },
     "execution_count": 134,
     "metadata": {},
     "output_type": "execute_result"
    }
   ],
   "source": [
    "type(d.items())"
   ]
  },
  {
   "cell_type": "code",
   "execution_count": 135,
   "id": "672ae69a-3536-4ee3-9ae2-585c387f8750",
   "metadata": {},
   "outputs": [],
   "source": [
    "d = {\"k1\": 1, \"k2\": 5, \"k3\": 10}"
   ]
  },
  {
   "cell_type": "code",
   "execution_count": 136,
   "id": "b36e7df4-dbeb-4662-85ab-0000a65671f7",
   "metadata": {},
   "outputs": [
    {
     "data": {
      "text/plain": [
       "{'k1': 1, 'k2': 5, 'k3': 10}"
      ]
     },
     "execution_count": 136,
     "metadata": {},
     "output_type": "execute_result"
    }
   ],
   "source": [
    "d"
   ]
  },
  {
   "cell_type": "code",
   "execution_count": 137,
   "id": "d58a1109-c403-4b29-91a3-6866ea1cf967",
   "metadata": {},
   "outputs": [],
   "source": [
    "d[\"k4\"] = 15"
   ]
  },
  {
   "cell_type": "code",
   "execution_count": 138,
   "id": "d79d4e49-24ed-43d7-93fa-05a00347d493",
   "metadata": {},
   "outputs": [
    {
     "data": {
      "text/plain": [
       "{'k1': 1, 'k2': 5, 'k3': 10, 'k4': 15}"
      ]
     },
     "execution_count": 138,
     "metadata": {},
     "output_type": "execute_result"
    }
   ],
   "source": [
    "d"
   ]
  },
  {
   "cell_type": "code",
   "execution_count": 139,
   "id": "83b83e67-50b7-4d67-a4ca-f20b568879a0",
   "metadata": {},
   "outputs": [],
   "source": [
    "d[2] = \"two\""
   ]
  },
  {
   "cell_type": "code",
   "execution_count": 140,
   "id": "0e8374a0-ef95-4842-bf5b-de14cfbd8aca",
   "metadata": {},
   "outputs": [
    {
     "data": {
      "text/plain": [
       "{'k1': 1, 'k2': 5, 'k3': 10, 'k4': 15, 2: 'two'}"
      ]
     },
     "execution_count": 140,
     "metadata": {},
     "output_type": "execute_result"
    }
   ],
   "source": [
    "d"
   ]
  },
  {
   "cell_type": "code",
   "execution_count": 141,
   "id": "a55baa01-5b80-47b8-89a3-8dc314200777",
   "metadata": {},
   "outputs": [],
   "source": [
    "d[2] = \"todo\""
   ]
  },
  {
   "cell_type": "code",
   "execution_count": 142,
   "id": "f5bc45d6-2f5c-4838-b8d3-a9f260e431b3",
   "metadata": {},
   "outputs": [
    {
     "data": {
      "text/plain": [
       "{'k1': 1, 'k2': 5, 'k3': 10, 'k4': 15, 2: 'todo'}"
      ]
     },
     "execution_count": 142,
     "metadata": {},
     "output_type": "execute_result"
    }
   ],
   "source": [
    "d"
   ]
  },
  {
   "cell_type": "code",
   "execution_count": 143,
   "id": "07ee6676-e750-406d-9b80-01044857de8b",
   "metadata": {},
   "outputs": [],
   "source": [
    "del d[2]"
   ]
  },
  {
   "cell_type": "code",
   "execution_count": 144,
   "id": "8d81f2e9-612c-4031-80e3-31aca38db864",
   "metadata": {},
   "outputs": [
    {
     "data": {
      "text/plain": [
       "{'k1': 1, 'k2': 5, 'k3': 10, 'k4': 15}"
      ]
     },
     "execution_count": 144,
     "metadata": {},
     "output_type": "execute_result"
    }
   ],
   "source": [
    "d"
   ]
  },
  {
   "cell_type": "code",
   "execution_count": 145,
   "id": "5352faff-4694-4394-a66f-f44e54a82186",
   "metadata": {},
   "outputs": [],
   "source": [
    "del d[\"k2\"]"
   ]
  },
  {
   "cell_type": "code",
   "execution_count": 146,
   "id": "171b27ac-b375-45b6-9297-850374bec40a",
   "metadata": {},
   "outputs": [
    {
     "data": {
      "text/plain": [
       "{'k1': 1, 'k3': 10, 'k4': 15}"
      ]
     },
     "execution_count": 146,
     "metadata": {},
     "output_type": "execute_result"
    }
   ],
   "source": [
    "d"
   ]
  },
  {
   "cell_type": "code",
   "execution_count": 147,
   "id": "cb133e75-4041-438d-923f-728315ab1c3e",
   "metadata": {},
   "outputs": [],
   "source": [
    "del d"
   ]
  },
  {
   "cell_type": "code",
   "execution_count": 148,
   "id": "6ea46b1d-ec6d-4b97-8e1b-f7705392ae4a",
   "metadata": {},
   "outputs": [
    {
     "ename": "NameError",
     "evalue": "name 'd' is not defined",
     "output_type": "error",
     "traceback": [
      "\u001b[0;31m---------------------------------------------------------------------------\u001b[0m",
      "\u001b[0;31mNameError\u001b[0m                                 Traceback (most recent call last)",
      "Cell \u001b[0;32mIn[148], line 1\u001b[0m\n\u001b[0;32m----> 1\u001b[0m d\n",
      "\u001b[0;31mNameError\u001b[0m: name 'd' is not defined"
     ]
    }
   ],
   "source": [
    "d"
   ]
  },
  {
   "cell_type": "code",
   "execution_count": 149,
   "id": "1e245d03-8748-43f7-9837-b0fa4f9fd4a1",
   "metadata": {},
   "outputs": [
    {
     "ename": "TypeError",
     "evalue": "unhashable type: 'list'",
     "output_type": "error",
     "traceback": [
      "\u001b[0;31m---------------------------------------------------------------------------\u001b[0m",
      "\u001b[0;31mTypeError\u001b[0m                                 Traceback (most recent call last)",
      "Cell \u001b[0;32mIn[149], line 1\u001b[0m\n\u001b[0;32m----> 1\u001b[0m d1 \u001b[38;5;241m=\u001b[39m {[\u001b[38;5;241m1\u001b[39m, \u001b[38;5;241m2\u001b[39m, \u001b[38;5;241m3\u001b[39m]: \u001b[38;5;124m\"\u001b[39m\u001b[38;5;124mlist\u001b[39m\u001b[38;5;124m\"\u001b[39m}\n",
      "\u001b[0;31mTypeError\u001b[0m: unhashable type: 'list'"
     ]
    }
   ],
   "source": [
    "d1 = {[1, 2, 3]: \"list\"}"
   ]
  },
  {
   "cell_type": "code",
   "execution_count": 150,
   "id": "fc3f91a9-d02f-4a0c-9f1d-f648160a1f60",
   "metadata": {},
   "outputs": [],
   "source": [
    "d2 = {(1, 5, 3): \"tuple\"}"
   ]
  },
  {
   "cell_type": "code",
   "execution_count": 151,
   "id": "bb3ac233-fe87-47fa-9eb6-6a0b906c604d",
   "metadata": {},
   "outputs": [
    {
     "data": {
      "text/plain": [
       "{(1, 5, 3): 'tuple'}"
      ]
     },
     "execution_count": 151,
     "metadata": {},
     "output_type": "execute_result"
    }
   ],
   "source": [
    "d2"
   ]
  },
  {
   "cell_type": "code",
   "execution_count": 152,
   "id": "4326da6f-8d1b-4fd2-a773-93fa80e64a96",
   "metadata": {},
   "outputs": [
    {
     "ename": "NameError",
     "evalue": "name 'd' is not defined",
     "output_type": "error",
     "traceback": [
      "\u001b[0;31m---------------------------------------------------------------------------\u001b[0m",
      "\u001b[0;31mNameError\u001b[0m                                 Traceback (most recent call last)",
      "Cell \u001b[0;32mIn[152], line 1\u001b[0m\n\u001b[0;32m----> 1\u001b[0m d\n",
      "\u001b[0;31mNameError\u001b[0m: name 'd' is not defined"
     ]
    }
   ],
   "source": [
    "d"
   ]
  },
  {
   "cell_type": "code",
   "execution_count": 153,
   "id": "8f3975e0-c5b5-4226-828b-eed5fc8aeb50",
   "metadata": {},
   "outputs": [],
   "source": [
    "d = {\"k1\": \"code\", \"k2\": \"python\", \"k3\": [1, 5, 9, 3], (1, 4, 7): \"tuple\"}"
   ]
  },
  {
   "cell_type": "code",
   "execution_count": 154,
   "id": "d748a0df-d4a8-458d-93db-679a2909414b",
   "metadata": {},
   "outputs": [
    {
     "data": {
      "text/plain": [
       "{'k1': 'code', 'k2': 'python', 'k3': [1, 5, 9, 3], (1, 4, 7): 'tuple'}"
      ]
     },
     "execution_count": 154,
     "metadata": {},
     "output_type": "execute_result"
    }
   ],
   "source": [
    "d"
   ]
  },
  {
   "cell_type": "code",
   "execution_count": 155,
   "id": "60f15775-8a89-4c0e-850f-f9330247b3b5",
   "metadata": {},
   "outputs": [
    {
     "ename": "TypeError",
     "evalue": "get expected at least 1 argument, got 0",
     "output_type": "error",
     "traceback": [
      "\u001b[0;31m---------------------------------------------------------------------------\u001b[0m",
      "\u001b[0;31mTypeError\u001b[0m                                 Traceback (most recent call last)",
      "Cell \u001b[0;32mIn[155], line 1\u001b[0m\n\u001b[0;32m----> 1\u001b[0m d\u001b[38;5;241m.\u001b[39mget()\n",
      "\u001b[0;31mTypeError\u001b[0m: get expected at least 1 argument, got 0"
     ]
    }
   ],
   "source": [
    "d.get()"
   ]
  },
  {
   "cell_type": "code",
   "execution_count": 156,
   "id": "e12fcaec-8272-4cf3-af7d-b9ff7797cdbe",
   "metadata": {},
   "outputs": [
    {
     "data": {
      "text/plain": [
       "'python'"
      ]
     },
     "execution_count": 156,
     "metadata": {},
     "output_type": "execute_result"
    }
   ],
   "source": [
    "d.get(\"k2\")"
   ]
  },
  {
   "cell_type": "code",
   "execution_count": 157,
   "id": "c23bfd1e-2507-4eca-ab1a-40c6687a2db7",
   "metadata": {},
   "outputs": [
    {
     "data": {
      "text/plain": [
       "'python'"
      ]
     },
     "execution_count": 157,
     "metadata": {},
     "output_type": "execute_result"
    }
   ],
   "source": [
    "d[\"k2\"]"
   ]
  },
  {
   "cell_type": "code",
   "execution_count": 158,
   "id": "1481500b-1e55-4b8d-94de-14bd6fa45eb5",
   "metadata": {},
   "outputs": [],
   "source": [
    "d.get(\"k5\")"
   ]
  },
  {
   "cell_type": "code",
   "execution_count": 159,
   "id": "70be9665-1532-4055-a8ea-e4a58c31e89d",
   "metadata": {},
   "outputs": [
    {
     "ename": "KeyError",
     "evalue": "'k5'",
     "output_type": "error",
     "traceback": [
      "\u001b[0;31m---------------------------------------------------------------------------\u001b[0m",
      "\u001b[0;31mKeyError\u001b[0m                                  Traceback (most recent call last)",
      "Cell \u001b[0;32mIn[159], line 1\u001b[0m\n\u001b[0;32m----> 1\u001b[0m d[\u001b[38;5;124m\"\u001b[39m\u001b[38;5;124mk5\u001b[39m\u001b[38;5;124m\"\u001b[39m]\n",
      "\u001b[0;31mKeyError\u001b[0m: 'k5'"
     ]
    }
   ],
   "source": [
    "d[\"k5\"]"
   ]
  },
  {
   "cell_type": "code",
   "execution_count": 160,
   "id": "a3b9e094-a263-4a6a-b214-a30c3f8bafcf",
   "metadata": {},
   "outputs": [],
   "source": [
    "d1 = {\"k1\": \"code\", \"k2\": \"python\", \"k3\": \"library\"}\n",
    "d2 = {\"k4\": \"language\", \"k5\": \"machine\", \"k6\": 789}"
   ]
  },
  {
   "cell_type": "code",
   "execution_count": 161,
   "id": "7e1de347-d601-4f9f-971e-9afc8d50e8de",
   "metadata": {},
   "outputs": [],
   "source": [
    "d1.update(d2)"
   ]
  },
  {
   "cell_type": "code",
   "execution_count": 162,
   "id": "9c9a5342-976a-427f-bd1a-d13f74db758b",
   "metadata": {},
   "outputs": [
    {
     "data": {
      "text/plain": [
       "{'k1': 'code',\n",
       " 'k2': 'python',\n",
       " 'k3': 'library',\n",
       " 'k4': 'language',\n",
       " 'k5': 'machine',\n",
       " 'k6': 789}"
      ]
     },
     "execution_count": 162,
     "metadata": {},
     "output_type": "execute_result"
    }
   ],
   "source": [
    "d1"
   ]
  },
  {
   "cell_type": "code",
   "execution_count": 163,
   "id": "98ee3705-e1d7-4486-8aef-22941c4706a8",
   "metadata": {},
   "outputs": [
    {
     "data": {
      "text/plain": [
       "{'k4': 'language', 'k5': 'machine', 'k6': 789}"
      ]
     },
     "execution_count": 163,
     "metadata": {},
     "output_type": "execute_result"
    }
   ],
   "source": [
    "d2"
   ]
  },
  {
   "cell_type": "code",
   "execution_count": 164,
   "id": "5f3e9701-aafd-48c4-a3bd-777cb3ab9d0e",
   "metadata": {},
   "outputs": [
    {
     "ename": "TypeError",
     "evalue": "unsupported operand type(s) for +: 'dict' and 'dict'",
     "output_type": "error",
     "traceback": [
      "\u001b[0;31m---------------------------------------------------------------------------\u001b[0m",
      "\u001b[0;31mTypeError\u001b[0m                                 Traceback (most recent call last)",
      "Cell \u001b[0;32mIn[164], line 1\u001b[0m\n\u001b[0;32m----> 1\u001b[0m d1 \u001b[38;5;241m+\u001b[39m d2\n",
      "\u001b[0;31mTypeError\u001b[0m: unsupported operand type(s) for +: 'dict' and 'dict'"
     ]
    }
   ],
   "source": [
    "d1 + d2"
   ]
  },
  {
   "cell_type": "code",
   "execution_count": 165,
   "id": "74aa26d9-82a6-4b6b-9107-0fb5a8ee8c91",
   "metadata": {},
   "outputs": [],
   "source": [
    "key = (\"name\", \"roll_no\", \"mob_no\", \"email_id\")\n",
    "value = \"xyz\""
   ]
  },
  {
   "cell_type": "code",
   "execution_count": 166,
   "id": "970b1acb-2931-4d46-b5ee-c02f237ee5d6",
   "metadata": {},
   "outputs": [],
   "source": [
    "d = d1.fromkeys(key, value)"
   ]
  },
  {
   "cell_type": "code",
   "execution_count": 167,
   "id": "4822a36b-ef37-4957-8437-4dc9393435d3",
   "metadata": {},
   "outputs": [
    {
     "data": {
      "text/plain": [
       "{'name': 'xyz', 'roll_no': 'xyz', 'mob_no': 'xyz', 'email_id': 'xyz'}"
      ]
     },
     "execution_count": 167,
     "metadata": {},
     "output_type": "execute_result"
    }
   ],
   "source": [
    "d"
   ]
  },
  {
   "cell_type": "code",
   "execution_count": 168,
   "id": "4c7fa766-5994-4135-9b2d-7d07e066fc21",
   "metadata": {},
   "outputs": [],
   "source": [
    "key = (\"name\", \"roll_no\", \"mob_no\", \"email_id\")\n",
    "value = \"xyz\", \"abc\""
   ]
  },
  {
   "cell_type": "code",
   "execution_count": 169,
   "id": "d6eda5b3-bacb-46a8-b737-af64ac91e075",
   "metadata": {},
   "outputs": [],
   "source": [
    "d = d1.fromkeys(key, value)"
   ]
  },
  {
   "cell_type": "code",
   "execution_count": 170,
   "id": "67df888b-0244-4ea8-bdd2-cf9ed24b55bb",
   "metadata": {},
   "outputs": [
    {
     "data": {
      "text/plain": [
       "{'name': ('xyz', 'abc'),\n",
       " 'roll_no': ('xyz', 'abc'),\n",
       " 'mob_no': ('xyz', 'abc'),\n",
       " 'email_id': ('xyz', 'abc')}"
      ]
     },
     "execution_count": 170,
     "metadata": {},
     "output_type": "execute_result"
    }
   ],
   "source": [
    "d"
   ]
  }
 ],
 "metadata": {
  "kernelspec": {
   "display_name": "Python 3 (ipykernel)",
   "language": "python",
   "name": "python3"
  },
  "language_info": {
   "codemirror_mode": {
    "name": "ipython",
    "version": 3
   },
   "file_extension": ".py",
   "mimetype": "text/x-python",
   "name": "python",
   "nbconvert_exporter": "python",
   "pygments_lexer": "ipython3",
   "version": "3.12.7"
  }
 },
 "nbformat": 4,
 "nbformat_minor": 5
}
