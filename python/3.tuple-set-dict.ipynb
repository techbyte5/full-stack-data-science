{
 "cells": [
  {
   "cell_type": "markdown",
   "id": "70dcb085",
   "metadata": {},
   "source": [
    "---\n",
    "# Python Tuples, Sets & Dictionaries – EXPLANATION & NOTES\n",
    "\n",
    "<details>\n",
    "<summary><strong>Overview</strong></summary>\n",
    "\n",
    "This notebook introduces core Python data structures:\n",
    "\n",
    "- **Tuples:** Ordered, immutable sequences  \n",
    "- **Sets:** Unordered, unique collections (hashable elements only)  \n",
    "- **Dictionaries:** Key-value mappings with hashable keys  \n",
    "\n",
    "Covers creation, operations, mutability, common errors, and best practices for each.\n",
    "\n",
    "</details>\n",
    "\n",
    "<details>\n",
    "<summary><strong>Cell-wise Purpose and Workflow</strong></summary>\n",
    "\n",
    "- **Sections 1-4:** Tuple creation, slicing, and immutability vs lists  \n",
    "- **Sections 5-7:** Creating sets from lists, adding/removing elements, handling errors with unhashables  \n",
    "- **Sections 8-11:** Dictionary basics, accessing keys and values, modifying entries  \n",
    "- **Sections 12-14:** Complex keys, access methods (`get()`), updates, creating dicts with `fromkeys()`  \n",
    "\n",
    "Workflow: Starts with simple structures, highlights differences in mutability, moves to operations and error handling.\n",
    "\n",
    "</details>\n",
    "\n",
    "<details>\n",
    "<summary><strong>Function-wise Explanation</strong></summary>\n",
    "\n",
    "**Built-in functions/methods used:**\n",
    "\n",
    "- **Tuples:** `type()`, slicing `[start:stop:step]`, `count()`, `index()`  \n",
    "- **Sets:** `add()`, `remove()`, `discard()`  \n",
    "- **Dictionaries:** `keys()`, `values()`, `items()`, `get()`, `update()`, `fromkeys()`  \n",
    "\n",
    "Purpose:  \n",
    "- Input: Tuples, sets, dicts  \n",
    "- Processing: Access, modify, check existence  \n",
    "- Output: Values, indices, or transformed collections  \n",
    "\n",
    "</details>\n",
    "\n",
    "<details>\n",
    "<summary><strong>Algorithm & Logic Explanation</strong></summary>\n",
    "\n",
    "- **Tuples:** Ordered, immutable; elements cannot be changed after creation  \n",
    "- **Sets:** Unordered, unique; only hashable elements allowed  \n",
    "- **Dictionaries:** Key-value mapping; keys must be hashable; values can be any type  \n",
    "- Operations demonstrate how Python handles immutability and uniqueness, and how key-value access works efficiently  \n",
    "\n",
    "</details>\n",
    "\n",
    "<details>\n",
    "<summary><strong>Best Practices and Improvements</strong></summary>\n",
    "\n",
    "- Use **tuples** for fixed data; **lists** for mutable sequences  \n",
    "- Use **sets** for uniqueness; **dicts** for fast lookups  \n",
    "- Handle errors carefully: check hashability for sets/dict keys  \n",
    "- Use `get()` for safe dictionary access to avoid `KeyError`  \n",
    "- Avoid using mutable objects as dict keys or set elements  \n",
    "\n",
    "</details>\n",
    "\n",
    "<details>\n",
    "<summary><strong>Common Mistakes and Pitfalls</strong></summary>\n",
    "\n",
    "- Attempting to modify tuples (immutable)  \n",
    "- Using unhashable types as set elements or dict keys  \n",
    "- Duplicate keys in dictionaries overwrite previous values  \n",
    "- Indexing sets (not allowed) or trying to add (`+`) dicts  \n",
    "\n",
    "</details>\n",
    "\n",
    "<details>\n",
    "<summary><strong>Data Processing Explanations</strong></summary>\n",
    "\n",
    "- **Tuples/Sets:** Suitable for small collections and membership testing  \n",
    "- **Dictionaries:** Efficient for key-value lookups; nesting allows handling complex data  \n",
    "\n",
    "</details>\n",
    "\n",
    "<details>\n",
    "<summary><strong>Performance or Optimization Tips</strong></summary>\n",
    "\n",
    "- Dictionary access is **O(1)** on average  \n",
    "- Sets provide **fast membership testing**  \n",
    "- Avoid storing large unhashable elements in sets/dicts  \n",
    "\n",
    "</details>\n",
    "\n",
    "<details>\n",
    "<summary><strong>Debugging Hints</strong></summary>\n",
    "\n",
    "- Use `type()` to verify data structure types  \n",
    "- Catch and handle `KeyError` or `TypeError` where applicable  \n",
    "- Test operations step-by-step for immutables and unhashables  \n",
    "\n",
    "</details>\n",
    "\n",
    "<details>\n",
    "<summary><strong>Encouragement</strong></summary>\n",
    "\n",
    "Great work practicing these fundamental data structures!  \n",
    "Understanding **immutability, uniqueness, and key-value logic** is essential for Python programming and data science. Keep experimenting with small examples to build confidence.\n",
    "\n",
    "</details>\n"
   ]
  },
  {
   "cell_type": "markdown",
   "id": "6eb5c0e5",
   "metadata": {},
   "source": [
    "-----\n",
    "### Tuple, Set, and Dictionary Notebook\n",
    "\n",
    "This notebook explores Python's core data structures:\n",
    "- Tuples: Immutable ordered sequences\n",
    "- Sets: Mutable unordered collections of unique elements\n",
    "- Dictionaries: Mutable key-value mappings\n",
    "\n",
    "Demonstrates creation, indexing, slicing, methods, and common operations/errors.\n",
    "\n",
    "Note: Includes examples of immutability (tuples), uniqueness (sets), and key requirements (dicts).\n",
    "      Errors like TypeError for invalid operations are shown for learning."
   ]
  },
  {
   "cell_type": "markdown",
   "id": "8dc79289",
   "metadata": {},
   "source": [
    "---\n",
    "### Section 1: Tuple Basics\n",
    "- Creating tuples, indexing, slicing, and basic operations."
   ]
  },
  {
   "cell_type": "code",
   "execution_count": 1,
   "id": "ccf48f59-a2b5-45cf-a041-6d359618704e",
   "metadata": {},
   "outputs": [],
   "source": [
    "t = (1, 2, 3, 4, 5)  # Creates tuple with integers"
   ]
  },
  {
   "cell_type": "code",
   "execution_count": 2,
   "id": "b96ee7b9-1f88-48cb-8578-6fbea6938599",
   "metadata": {},
   "outputs": [
    {
     "data": {
      "text/plain": [
       "tuple"
      ]
     },
     "execution_count": 2,
     "metadata": {},
     "output_type": "execute_result"
    }
   ],
   "source": [
    "type(t)  # <class 'tuple'>"
   ]
  },
  {
   "cell_type": "code",
   "execution_count": 3,
   "id": "79d8cfe8-921a-426e-8fcf-09d484ca3ecb",
   "metadata": {},
   "outputs": [],
   "source": [
    "t1 = (\"code\", 258, 45 + 13j, 145.9, False)  # Mixed-type tuple"
   ]
  },
  {
   "cell_type": "code",
   "execution_count": 4,
   "id": "975a713b-c032-410b-bcc7-4b03eb105691",
   "metadata": {},
   "outputs": [],
   "source": [
    "l = [\"code\", 258, 45 + 13j, 145.9, False]  # List equivalent"
   ]
  },
  {
   "cell_type": "code",
   "execution_count": 5,
   "id": "e12f3726-cabe-4a82-93db-e873d1d5d8fc",
   "metadata": {},
   "outputs": [
    {
     "data": {
      "text/plain": [
       "tuple"
      ]
     },
     "execution_count": 5,
     "metadata": {},
     "output_type": "execute_result"
    }
   ],
   "source": [
    "type(t1)  # <class 'tuple'>"
   ]
  },
  {
   "cell_type": "code",
   "execution_count": 6,
   "id": "539856eb-a985-41f4-960b-29633c01825d",
   "metadata": {},
   "outputs": [
    {
     "data": {
      "text/plain": [
       "list"
      ]
     },
     "execution_count": 6,
     "metadata": {},
     "output_type": "execute_result"
    }
   ],
   "source": [
    "type(l)  # <class 'list'>"
   ]
  },
  {
   "cell_type": "code",
   "execution_count": 7,
   "id": "b1cc5ffb-23d4-4e9f-938a-0378d278dc71",
   "metadata": {},
   "outputs": [],
   "source": [
    "t2 = ()  # Empty tuple"
   ]
  },
  {
   "cell_type": "code",
   "execution_count": 8,
   "id": "ea68bb84-f445-463b-a383-fa1dee714c1e",
   "metadata": {},
   "outputs": [
    {
     "data": {
      "text/plain": [
       "tuple"
      ]
     },
     "execution_count": 8,
     "metadata": {},
     "output_type": "execute_result"
    }
   ],
   "source": [
    "type(t2)  # <class 'tuple'>"
   ]
  },
  {
   "cell_type": "code",
   "execution_count": 9,
   "id": "e7c52c49-eb9c-4dfd-a524-4762e9ab3e87",
   "metadata": {},
   "outputs": [
    {
     "data": {
      "text/plain": [
       "('code', 258, (45+13j), 145.9, False)"
      ]
     },
     "execution_count": 9,
     "metadata": {},
     "output_type": "execute_result"
    }
   ],
   "source": [
    "t1  # (\"code\", 258, (45+13j), 145.9, False)"
   ]
  },
  {
   "cell_type": "code",
   "execution_count": 10,
   "id": "65940c5f-e58f-40ad-8b66-c85c640a1d67",
   "metadata": {},
   "outputs": [
    {
     "data": {
      "text/plain": [
       "['code', 258, (45+13j), 145.9, False]"
      ]
     },
     "execution_count": 10,
     "metadata": {},
     "output_type": "execute_result"
    }
   ],
   "source": [
    "l  # [\"code\", 258, (45+13j), 145.9, False]"
   ]
  },
  {
   "cell_type": "code",
   "execution_count": 11,
   "id": "39350e8b-44b4-429c-89ce-8d473b3a1054",
   "metadata": {},
   "outputs": [
    {
     "data": {
      "text/plain": [
       "['code', 258]"
      ]
     },
     "execution_count": 11,
     "metadata": {},
     "output_type": "execute_result"
    }
   ],
   "source": [
    "l[0:2]  # Slices list: [\"code\", 258]"
   ]
  },
  {
   "cell_type": "code",
   "execution_count": 12,
   "id": "724621b1-44d2-48f4-99f7-1e452ab88196",
   "metadata": {},
   "outputs": [
    {
     "data": {
      "text/plain": [
       "('code', 258)"
      ]
     },
     "execution_count": 12,
     "metadata": {},
     "output_type": "execute_result"
    }
   ],
   "source": [
    "t1[0:2]  # Slices tuple: (\"code\", 258)"
   ]
  },
  {
   "cell_type": "code",
   "execution_count": 13,
   "id": "8b1765c0-791c-461d-8122-d90709194da7",
   "metadata": {},
   "outputs": [
    {
     "data": {
      "text/plain": [
       "(False, 145.9, (45+13j), 258, 'code')"
      ]
     },
     "execution_count": 13,
     "metadata": {},
     "output_type": "execute_result"
    }
   ],
   "source": [
    "t1[::-1]  # Reversed tuple"
   ]
  },
  {
   "cell_type": "code",
   "execution_count": 14,
   "id": "ac54a107-4079-4540-8a8d-55061e77d242",
   "metadata": {},
   "outputs": [
    {
     "data": {
      "text/plain": [
       "False"
      ]
     },
     "execution_count": 14,
     "metadata": {},
     "output_type": "execute_result"
    }
   ],
   "source": [
    "t1[-1]  # Last element: False"
   ]
  },
  {
   "cell_type": "code",
   "execution_count": 15,
   "id": "5f15b67f-61af-4b97-9c91-043ca52186f6",
   "metadata": {},
   "outputs": [
    {
     "data": {
      "text/plain": [
       "('code', 258, (45+13j), 145.9, False)"
      ]
     },
     "execution_count": 15,
     "metadata": {},
     "output_type": "execute_result"
    }
   ],
   "source": [
    "t1  # Original unchanged"
   ]
  },
  {
   "cell_type": "code",
   "execution_count": 16,
   "id": "97a2deca-ccf6-4064-93e2-c28de84cb68b",
   "metadata": {},
   "outputs": [
    {
     "data": {
      "text/plain": [
       "('code', (45+13j), False)"
      ]
     },
     "execution_count": 16,
     "metadata": {},
     "output_type": "execute_result"
    }
   ],
   "source": [
    "t1[::2]  # Every other: (\"code\", (45+13j), False)"
   ]
  },
  {
   "cell_type": "markdown",
   "id": "adda75c7",
   "metadata": {},
   "source": [
    "### Section 2: List vs Tuple Mutability"
   ]
  },
  {
   "cell_type": "code",
   "execution_count": 17,
   "id": "e205ff34-9f2b-4d88-9e64-5f22c7ad8b8c",
   "metadata": {},
   "outputs": [
    {
     "data": {
      "text/plain": [
       "['code', 258, (45+13j), 145.9, False]"
      ]
     },
     "execution_count": 17,
     "metadata": {},
     "output_type": "execute_result"
    }
   ],
   "source": [
    "l  # [\"code\", 258, (45+13j), 145.9, False]"
   ]
  },
  {
   "cell_type": "code",
   "execution_count": 18,
   "id": "43001dc8-218a-4eb9-933f-cc1f0710db46",
   "metadata": {},
   "outputs": [],
   "source": [
    "l1 = [1, 4, 7, 5, 9]  # New list"
   ]
  },
  {
   "cell_type": "code",
   "execution_count": 19,
   "id": "bf824494-58cf-45da-8d52-4a0d8ed11bfa",
   "metadata": {},
   "outputs": [
    {
     "data": {
      "text/plain": [
       "'code'"
      ]
     },
     "execution_count": 19,
     "metadata": {},
     "output_type": "execute_result"
    }
   ],
   "source": [
    "l[0]  # \"code\""
   ]
  },
  {
   "cell_type": "code",
   "execution_count": 20,
   "id": "ebd409ee-8542-4019-9776-073c31a15292",
   "metadata": {},
   "outputs": [],
   "source": [
    "l[0] = \"python\"  # Modifies list (mutable)"
   ]
  },
  {
   "cell_type": "code",
   "execution_count": 21,
   "id": "26003802-01e9-418f-9ece-acf4c34d7c6e",
   "metadata": {},
   "outputs": [
    {
     "data": {
      "text/plain": [
       "['python', 258, (45+13j), 145.9, False]"
      ]
     },
     "execution_count": 21,
     "metadata": {},
     "output_type": "execute_result"
    }
   ],
   "source": [
    "l  # [\"python\", 258, (45+13j), 145.9, False]"
   ]
  },
  {
   "cell_type": "code",
   "execution_count": 22,
   "id": "112a437e-7831-4cd1-83a4-db43bf32abef",
   "metadata": {},
   "outputs": [
    {
     "data": {
      "text/plain": [
       "('code', 258, (45+13j), 145.9, False)"
      ]
     },
     "execution_count": 22,
     "metadata": {},
     "output_type": "execute_result"
    }
   ],
   "source": [
    "t1  # (\"code\", 258, (45+13j), 145.9, False)"
   ]
  },
  {
   "cell_type": "code",
   "execution_count": 23,
   "id": "e0325f73-6de4-436b-833f-6f956115d399",
   "metadata": {},
   "outputs": [
    {
     "data": {
      "text/plain": [
       "'code'"
      ]
     },
     "execution_count": 23,
     "metadata": {},
     "output_type": "execute_result"
    }
   ],
   "source": [
    "t1[0]  # \"code\""
   ]
  },
  {
   "cell_type": "code",
   "execution_count": 24,
   "id": "7e81a1f7-4f1e-4cac-9fd2-ef1b383ea3de",
   "metadata": {},
   "outputs": [
    {
     "ename": "TypeError",
     "evalue": "'tuple' object does not support item assignment",
     "output_type": "error",
     "traceback": [
      "\u001b[0;31m---------------------------------------------------------------------------\u001b[0m",
      "\u001b[0;31mTypeError\u001b[0m                                 Traceback (most recent call last)",
      "Cell \u001b[0;32mIn[24], line 1\u001b[0m\n\u001b[0;32m----> 1\u001b[0m t1[\u001b[38;5;241m0\u001b[39m] \u001b[38;5;241m=\u001b[39m \u001b[38;5;124m\"\u001b[39m\u001b[38;5;124mpython\u001b[39m\u001b[38;5;124m\"\u001b[39m\n",
      "\u001b[0;31mTypeError\u001b[0m: 'tuple' object does not support item assignment"
     ]
    }
   ],
   "source": [
    "t1[0] = \"python\"  # ERROR: TypeError - tuples are immutable.\n",
    "# Fix: Convert to list, modify, convert back.\n",
    "# list_t1 = list(t1)  # Convert to list\n",
    "# list_t1[0] = \"python\"  # Modify list\n",
    "# t1 = tuple(list_t1)  # Convert back to tuple\n",
    "# t1  # (\"python\", 258, (45+13j), 145.9, False)"
   ]
  },
  {
   "cell_type": "markdown",
   "id": "ebbfb3bb",
   "metadata": {},
   "source": [
    "### Section 3: Tuple Operations"
   ]
  },
  {
   "cell_type": "code",
   "execution_count": 25,
   "id": "66489022-ea2b-4f4c-815f-bad0857d7cc2",
   "metadata": {},
   "outputs": [],
   "source": [
    "t2 = (12, 24, 55, 14, 77)  # New tuple"
   ]
  },
  {
   "cell_type": "code",
   "execution_count": 26,
   "id": "d06883eb-980e-475a-bd41-bd7efe770280",
   "metadata": {},
   "outputs": [
    {
     "data": {
      "text/plain": [
       "('code', 258, (45+13j), 145.9, False, 12, 24, 55, 14, 77)"
      ]
     },
     "execution_count": 26,
     "metadata": {},
     "output_type": "execute_result"
    }
   ],
   "source": [
    "t1 + t2  # Concatenates: (\"code\", 258, (45+13j), 145.9, False, 12, 24, 55, 14, 77)"
   ]
  },
  {
   "cell_type": "code",
   "execution_count": 27,
   "id": "7007e01d-662c-464f-81e2-c65611f503c6",
   "metadata": {},
   "outputs": [
    {
     "data": {
      "text/plain": [
       "['python', 258, (45+13j), 145.9, False, 1, 4, 7, 5, 9]"
      ]
     },
     "execution_count": 27,
     "metadata": {},
     "output_type": "execute_result"
    }
   ],
   "source": [
    "l + l1  # Concatenates lists: [\"python\", 258, (45+13j), 145.9, False, 1, 4, 7, 5, 9]"
   ]
  },
  {
   "cell_type": "code",
   "execution_count": 28,
   "id": "d6f7b0fc-21d4-4b0c-b903-1ee11d02e60c",
   "metadata": {},
   "outputs": [
    {
     "data": {
      "text/plain": [
       "('code', 258, (45+13j), 145.9, False)"
      ]
     },
     "execution_count": 28,
     "metadata": {},
     "output_type": "execute_result"
    }
   ],
   "source": [
    "t1  # Original unchanged\n"
   ]
  },
  {
   "cell_type": "code",
   "execution_count": 29,
   "id": "a7ce16ff-5c02-4e6c-a394-4ee5a9303d57",
   "metadata": {},
   "outputs": [
    {
     "data": {
      "text/plain": [
       "('code', 258, (45+13j), 145.9, False, 'code', 258, (45+13j), 145.9, False)"
      ]
     },
     "execution_count": 29,
     "metadata": {},
     "output_type": "execute_result"
    }
   ],
   "source": [
    "t1 * 2  # Repeats: (\"code\", 258, (45+13j), 145.9, False, \"code\", 258, (45+13j), 145.9, False)"
   ]
  },
  {
   "cell_type": "code",
   "execution_count": 30,
   "id": "28de515e-1713-49b3-a556-74a0345ff4c1",
   "metadata": {},
   "outputs": [
    {
     "data": {
      "text/plain": [
       "1"
      ]
     },
     "execution_count": 30,
     "metadata": {},
     "output_type": "execute_result"
    }
   ],
   "source": [
    "t1.count(258)  # Counts occurrences: 1"
   ]
  },
  {
   "cell_type": "code",
   "execution_count": 31,
   "id": "c66a35f2-8d55-4521-ad8f-b03ac7ee7cea",
   "metadata": {},
   "outputs": [
    {
     "data": {
      "text/plain": [
       "1"
      ]
     },
     "execution_count": 31,
     "metadata": {},
     "output_type": "execute_result"
    }
   ],
   "source": [
    "t1.index(258)  # Index of 258: 1"
   ]
  },
  {
   "cell_type": "markdown",
   "id": "fe8ba487",
   "metadata": {},
   "source": [
    "### Section 4: Nested Tuples"
   ]
  },
  {
   "cell_type": "code",
   "execution_count": 32,
   "id": "a767f5a5-389a-4edf-9580-07cfc66a1a04",
   "metadata": {},
   "outputs": [],
   "source": [
    "t = (74, 12, 33, 47, (8,9,14), (\"code\"))  # Nested tuple"
   ]
  },
  {
   "cell_type": "code",
   "execution_count": 33,
   "id": "2f2ce847-9017-4a3c-8cfb-085b8a34607e",
   "metadata": {},
   "outputs": [
    {
     "data": {
      "text/plain": [
       "(74, 12, 33, 47, (8, 9, 14), 'code')"
      ]
     },
     "execution_count": 33,
     "metadata": {},
     "output_type": "execute_result"
    }
   ],
   "source": [
    "t  # (74, 12, 33, 47, (8, 9, 14), \"code\")"
   ]
  },
  {
   "cell_type": "code",
   "execution_count": 34,
   "id": "be810619-1a59-4db9-a012-55816fef6df3",
   "metadata": {},
   "outputs": [],
   "source": [
    "t1 = ([1, 9, 4, 7], (\"web\", 123.5, True), \"page\")  # Tuple with mutable list"
   ]
  },
  {
   "cell_type": "code",
   "execution_count": 35,
   "id": "65240714-eb6e-414a-a068-40258ee7354b",
   "metadata": {},
   "outputs": [
    {
     "data": {
      "text/plain": [
       "([1, 9, 4, 7], ('web', 123.5, True), 'page')"
      ]
     },
     "execution_count": 35,
     "metadata": {},
     "output_type": "execute_result"
    }
   ],
   "source": [
    "t1  # ([1, 9, 4, 7], (\"web\", 123.5, True), \"page\")"
   ]
  },
  {
   "cell_type": "code",
   "execution_count": 36,
   "id": "e5e2afe3-5425-4609-b102-5b3aeef1b556",
   "metadata": {},
   "outputs": [
    {
     "data": {
      "text/plain": [
       "[1, 9, 4, 7]"
      ]
     },
     "execution_count": 36,
     "metadata": {},
     "output_type": "execute_result"
    }
   ],
   "source": [
    "t1[0]  # [1, 9, 4, 7]"
   ]
  },
  {
   "cell_type": "code",
   "execution_count": 37,
   "id": "fd5f767a-d5f1-4ecc-baea-95568a7814ef",
   "metadata": {},
   "outputs": [
    {
     "data": {
      "text/plain": [
       "4"
      ]
     },
     "execution_count": 37,
     "metadata": {},
     "output_type": "execute_result"
    }
   ],
   "source": [
    "t1[0][2]  # 4"
   ]
  },
  {
   "cell_type": "code",
   "execution_count": 38,
   "id": "7eb3083e-1209-4702-aac2-5fd8eac8c03e",
   "metadata": {},
   "outputs": [],
   "source": [
    "t1[0][2] = \"code\"  # Modifies nested list (list is mutable)"
   ]
  },
  {
   "cell_type": "code",
   "execution_count": 39,
   "id": "e37ff976-4693-48fc-85f4-c6a6ca6ed39c",
   "metadata": {},
   "outputs": [
    {
     "data": {
      "text/plain": [
       "([1, 9, 'code', 7], ('web', 123.5, True), 'page')"
      ]
     },
     "execution_count": 39,
     "metadata": {},
     "output_type": "execute_result"
    }
   ],
   "source": [
    "t1  # ([1, 9, 'code', 7], ('web', 123.5, True), 'page')"
   ]
  },
  {
   "cell_type": "code",
   "execution_count": 40,
   "id": "4e5bf25c-d023-4476-b2e5-eb4bd135adae",
   "metadata": {},
   "outputs": [
    {
     "ename": "TypeError",
     "evalue": "'tuple' object does not support item assignment",
     "output_type": "error",
     "traceback": [
      "\u001b[0;31m---------------------------------------------------------------------------\u001b[0m",
      "\u001b[0;31mTypeError\u001b[0m                                 Traceback (most recent call last)",
      "Cell \u001b[0;32mIn[40], line 1\u001b[0m\n\u001b[0;32m----> 1\u001b[0m t1[\u001b[38;5;241m0\u001b[39m] \u001b[38;5;241m=\u001b[39m \u001b[38;5;124m\"\u001b[39m\u001b[38;5;124mprogram\u001b[39m\u001b[38;5;124m\"\u001b[39m\n",
      "\u001b[0;31mTypeError\u001b[0m: 'tuple' object does not support item assignment"
     ]
    }
   ],
   "source": [
    "t1[0] = \"program\"  # ERROR: TypeError - cannot modify tuple element.\n",
    "# Fix: t1 = list(t1); t1[0] = \"program\"; t1 = tuple(t1)"
   ]
  },
  {
   "cell_type": "code",
   "execution_count": 41,
   "id": "871c92ac-ee8b-4015-bd91-1a89a7928781",
   "metadata": {},
   "outputs": [
    {
     "data": {
      "text/plain": [
       "[[1, 9, 'code', 7], ('web', 123.5, True), 'page']"
      ]
     },
     "execution_count": 41,
     "metadata": {},
     "output_type": "execute_result"
    }
   ],
   "source": [
    "list(t1)  # Converts to list: [[1, 9, 'code', 7], ('web', 123.5, True), 'page']\n",
    "# t1 = list(t1)  # Now t1 is a list"
   ]
  },
  {
   "cell_type": "code",
   "execution_count": 42,
   "id": "c861d358-bc4a-4040-89a5-bdee4ea80a58",
   "metadata": {},
   "outputs": [],
   "source": [
    "l = list(t1)  # Assigns"
   ]
  },
  {
   "cell_type": "code",
   "execution_count": 43,
   "id": "f7dff53a-3a36-480f-94fb-0e37fa05ba6a",
   "metadata": {},
   "outputs": [
    {
     "data": {
      "text/plain": [
       "[[1, 9, 'code', 7], ('web', 123.5, True), 'page']"
      ]
     },
     "execution_count": 43,
     "metadata": {},
     "output_type": "execute_result"
    }
   ],
   "source": [
    "l  # [[1, 9, 'code', 7], ('web', 123.5, True), 'page']"
   ]
  },
  {
   "cell_type": "code",
   "execution_count": 44,
   "id": "fe880c3f",
   "metadata": {},
   "outputs": [
    {
     "data": {
      "text/plain": [
       "['program', ('web', 123.5, True), 'page']"
      ]
     },
     "execution_count": 44,
     "metadata": {},
     "output_type": "execute_result"
    }
   ],
   "source": [
    "l[0] = \"program\"  # Modifies list\n",
    "l  # [\"program\", (\"web\", 123.5, True), \"page\"]"
   ]
  },
  {
   "cell_type": "code",
   "execution_count": 45,
   "id": "63fca0f4-620a-4480-a207-52ddd586dfee",
   "metadata": {},
   "outputs": [
    {
     "data": {
      "text/plain": [
       "('program', ('web', 123.5, True), 'page')"
      ]
     },
     "execution_count": 45,
     "metadata": {},
     "output_type": "execute_result"
    }
   ],
   "source": [
    "tuple(l)  # Converts back: (program, (\"web\", 123.5, True), \"page\")"
   ]
  },
  {
   "cell_type": "markdown",
   "id": "d4a0762e",
   "metadata": {},
   "source": [
    "---\n",
    "### Section 5: Sets from Lists"
   ]
  },
  {
   "cell_type": "code",
   "execution_count": 46,
   "id": "4b8e5222-85f4-4b90-a5f2-cde6092dc51c",
   "metadata": {},
   "outputs": [],
   "source": [
    "l = [1, 2,4, 9, 17, 11, 15, 99, 9, 9, 3, 7, 9, 4, 15, 3, 7, 11, 85, 99, 1]  # List with duplicates"
   ]
  },
  {
   "cell_type": "code",
   "execution_count": 47,
   "id": "cc7cd4ee-7f44-4542-9b12-e87fbc0774e9",
   "metadata": {},
   "outputs": [
    {
     "data": {
      "text/plain": [
       "{1, 2, 3, 4, 7, 9, 11, 15, 17, 85, 99}"
      ]
     },
     "execution_count": 47,
     "metadata": {},
     "output_type": "execute_result"
    }
   ],
   "source": [
    "set(l)  # Converts to set, removes duplicates: {1, 2, 3, 4, 7, 9, 11, 15, 17, 85, 99}\n",
    "# l = list(set(l))  # Now l is a list of unique elements"
   ]
  },
  {
   "cell_type": "code",
   "execution_count": 48,
   "id": "bdd3fa86-7b39-4c34-a68c-e671b7edfab9",
   "metadata": {},
   "outputs": [],
   "source": [
    "s = {}  # Empty dict, not set"
   ]
  },
  {
   "cell_type": "code",
   "execution_count": 49,
   "id": "e7a46e39-b339-4797-baff-0cff5661b6d5",
   "metadata": {},
   "outputs": [
    {
     "data": {
      "text/plain": [
       "dict"
      ]
     },
     "execution_count": 49,
     "metadata": {},
     "output_type": "execute_result"
    }
   ],
   "source": [
    "type(s)  # <class 'dict'>"
   ]
  },
  {
   "cell_type": "code",
   "execution_count": 50,
   "id": "2d805d5b-447f-4c4e-9ef3-435d42c47d39",
   "metadata": {},
   "outputs": [],
   "source": [
    "s1 = {4, 9, 12}  # Set literal"
   ]
  },
  {
   "cell_type": "code",
   "execution_count": 51,
   "id": "2b53f733-b158-46c6-8847-fc643cc9ee93",
   "metadata": {},
   "outputs": [
    {
     "data": {
      "text/plain": [
       "set"
      ]
     },
     "execution_count": 51,
     "metadata": {},
     "output_type": "execute_result"
    }
   ],
   "source": [
    "type(s1)  # <class 'set'>"
   ]
  },
  {
   "cell_type": "code",
   "execution_count": 52,
   "id": "89302bd1-26e1-4824-b652-4c4e754253f9",
   "metadata": {},
   "outputs": [],
   "source": [
    "s2 = {9, 12, 15, 71, 33, 15, 199, 504,1, 9, 12, 15, 1, 9, 9, 12, 54, 123}  # Set with duplicates"
   ]
  },
  {
   "cell_type": "code",
   "execution_count": 53,
   "id": "41c963b3-6e81-45cb-b50b-f55ea7347e22",
   "metadata": {},
   "outputs": [
    {
     "data": {
      "text/plain": [
       "{1, 9, 12, 15, 33, 54, 71, 123, 199, 504}"
      ]
     },
     "execution_count": 53,
     "metadata": {},
     "output_type": "execute_result"
    }
   ],
   "source": [
    "s2  # {1, 9, 12, 15, 33, 54, 71, 123, 199, 504} (duplicates removed)"
   ]
  },
  {
   "cell_type": "code",
   "execution_count": 54,
   "id": "495fb154-8c61-403b-8122-9579f7395ab9",
   "metadata": {},
   "outputs": [
    {
     "ename": "TypeError",
     "evalue": "'set' object is not subscriptable",
     "output_type": "error",
     "traceback": [
      "\u001b[0;31m---------------------------------------------------------------------------\u001b[0m",
      "\u001b[0;31mTypeError\u001b[0m                                 Traceback (most recent call last)",
      "Cell \u001b[0;32mIn[54], line 1\u001b[0m\n\u001b[0;32m----> 1\u001b[0m s2[\u001b[38;5;241m0\u001b[39m]\n",
      "\u001b[0;31mTypeError\u001b[0m: 'set' object is not subscriptable"
     ]
    }
   ],
   "source": [
    "s2[0]  # ERROR: TypeError - sets are unordered, no indexing.\n",
    "# Fix: Use list(s2)[0] # Access first element via list conversion."
   ]
  },
  {
   "cell_type": "code",
   "execution_count": 55,
   "id": "c6ecb375-f3e4-4379-acfa-e9ddc6b31b9e",
   "metadata": {},
   "outputs": [
    {
     "data": {
      "text/plain": [
       "[33, 1, 199, 71, 9, 12, 15, 54, 504, 123]"
      ]
     },
     "execution_count": 55,
     "metadata": {},
     "output_type": "execute_result"
    }
   ],
   "source": [
    "list(s2)  # Converts to list for indexing"
   ]
  },
  {
   "cell_type": "code",
   "execution_count": 56,
   "id": "70475516",
   "metadata": {},
   "outputs": [
    {
     "data": {
      "text/plain": [
       "33"
      ]
     },
     "execution_count": 56,
     "metadata": {},
     "output_type": "execute_result"
    }
   ],
   "source": [
    "list(s2)[0]  # Access first element via list conversion"
   ]
  },
  {
   "cell_type": "code",
   "execution_count": 57,
   "id": "82dcaf5a-5d6c-4d44-a1b7-03233be17d58",
   "metadata": {},
   "outputs": [
    {
     "data": {
      "text/plain": [
       "{1, 9, 12, 15, 33, 54, 71, 123, 199, 504}"
      ]
     },
     "execution_count": 57,
     "metadata": {},
     "output_type": "execute_result"
    }
   ],
   "source": [
    "s2  # Unchanged"
   ]
  },
  {
   "cell_type": "code",
   "execution_count": 58,
   "id": "d9d8c9e1-c238-4c9a-b123-cde923bb1eb1",
   "metadata": {},
   "outputs": [],
   "source": [
    "s2.add(155)  # Adds 155"
   ]
  },
  {
   "cell_type": "code",
   "execution_count": 59,
   "id": "d6cdb3e7-3a9e-4f64-9ca0-108f318f3068",
   "metadata": {},
   "outputs": [
    {
     "data": {
      "text/plain": [
       "{1, 9, 12, 15, 33, 54, 71, 123, 155, 199, 504}"
      ]
     },
     "execution_count": 59,
     "metadata": {},
     "output_type": "execute_result"
    }
   ],
   "source": [
    "s2  # {1, 9, 12, 15, 33, 54, 71, 123, 155, 199, 504}"
   ]
  },
  {
   "cell_type": "code",
   "execution_count": 60,
   "id": "145664af-da98-404c-9ba4-22e327e30133",
   "metadata": {},
   "outputs": [],
   "source": [
    "s2.add(\"code\")  # Adds string"
   ]
  },
  {
   "cell_type": "code",
   "execution_count": 61,
   "id": "c25de607-781e-4581-be69-d3c5cd47dd32",
   "metadata": {},
   "outputs": [
    {
     "data": {
      "text/plain": [
       "{1, 12, 123, 15, 155, 199, 33, 504, 54, 71, 9, 'code'}"
      ]
     },
     "execution_count": 61,
     "metadata": {},
     "output_type": "execute_result"
    }
   ],
   "source": [
    "s2  # {1, 12, 123, 15, 155, 199, 33, 504, 54, 71, 9, 'code'}"
   ]
  },
  {
   "cell_type": "code",
   "execution_count": 62,
   "id": "48f80739-fef7-45c6-b396-8610e2acffa8",
   "metadata": {},
   "outputs": [
    {
     "ename": "TypeError",
     "evalue": "unhashable type: 'list'",
     "output_type": "error",
     "traceback": [
      "\u001b[0;31m---------------------------------------------------------------------------\u001b[0m",
      "\u001b[0;31mTypeError\u001b[0m                                 Traceback (most recent call last)",
      "Cell \u001b[0;32mIn[62], line 1\u001b[0m\n\u001b[0;32m----> 1\u001b[0m s2\u001b[38;5;241m.\u001b[39madd([\u001b[38;5;241m5\u001b[39m, \u001b[38;5;241m7\u001b[39m, \u001b[38;5;241m99\u001b[39m, \u001b[38;5;241m101\u001b[39m, \u001b[38;5;241m123\u001b[39m])\n",
      "\u001b[0;31mTypeError\u001b[0m: unhashable type: 'list'"
     ]
    }
   ],
   "source": [
    "s2.add([5, 7, 99, 101, 123])  # ERROR: TypeError - lists are unhashable.\n",
    "# Fix: Use tuple or frozenset\n",
    "# s2.add(tuple([5, 7, 99, 101, 123]))  # Works with tuple\n",
    "# s2.add(frozenset([5, 7, 99, 101, 123]))  # Works with frozenset\n",
    "# s2  # Now contains the added element"
   ]
  },
  {
   "cell_type": "code",
   "execution_count": 63,
   "id": "43b30534-c724-4090-9dbb-e1bbcb41dcd0",
   "metadata": {},
   "outputs": [
    {
     "ename": "TypeError",
     "evalue": "unhashable type: 'set'",
     "output_type": "error",
     "traceback": [
      "\u001b[0;31m---------------------------------------------------------------------------\u001b[0m",
      "\u001b[0;31mTypeError\u001b[0m                                 Traceback (most recent call last)",
      "Cell \u001b[0;32mIn[63], line 1\u001b[0m\n\u001b[0;32m----> 1\u001b[0m s2\u001b[38;5;241m.\u001b[39madd({\u001b[38;5;241m1\u001b[39m, \u001b[38;5;241m4\u001b[39m, \u001b[38;5;241m5\u001b[39m, \u001b[38;5;241m9\u001b[39m, \u001b[38;5;241m4\u001b[39m, \u001b[38;5;241m5\u001b[39m})\n",
      "\u001b[0;31mTypeError\u001b[0m: unhashable type: 'set'"
     ]
    }
   ],
   "source": [
    "s2.add({1, 4, 5, 9, 4, 5})  # ERROR: TypeError - sets are unhashable\n",
    "# Fix: Use frozenset\n",
    "# s2.add(frozenset({1, 4, 5, 9, 4, 5}))  # Works with frozenset\n",
    "# s2  # Now contains the added element"
   ]
  },
  {
   "cell_type": "code",
   "execution_count": 64,
   "id": "83f5d59c-258b-4d01-9026-32afc4bca4bb",
   "metadata": {},
   "outputs": [
    {
     "ename": "TypeError",
     "evalue": "unhashable type: 'dict'",
     "output_type": "error",
     "traceback": [
      "\u001b[0;31m---------------------------------------------------------------------------\u001b[0m",
      "\u001b[0;31mTypeError\u001b[0m                                 Traceback (most recent call last)",
      "Cell \u001b[0;32mIn[64], line 1\u001b[0m\n\u001b[0;32m----> 1\u001b[0m s2\u001b[38;5;241m.\u001b[39madd({\u001b[38;5;241m1\u001b[39m:\u001b[38;5;241m1\u001b[39m, \u001b[38;5;241m2\u001b[39m:\u001b[38;5;241m4\u001b[39m, \u001b[38;5;241m3\u001b[39m:\u001b[38;5;241m9\u001b[39m})\n",
      "\u001b[0;31mTypeError\u001b[0m: unhashable type: 'dict'"
     ]
    }
   ],
   "source": [
    "s2.add({1:1, 2:4, 3:9})  # ERROR: TypeError - dicts are unhashable\n",
    "# Fix: Use frozenset of items\n",
    "# s2.add(frozenset({1:1, 2:4, 3:9}))  # Works with frozenset of items\n",
    "# s2  # Now contains the added element\n",
    "\n",
    "# Sets can only contain hashable (immutable) types like int, str, tuple.\n",
    "# To add a mapping, consider using a tuple of tuples:\n",
    "# Example: s2.add(((1, 1), (2, 4), (3, 9)))  # Adds a tuple of key-value pairs instead\n",
    "\n",
    "# You can add tuples to a set, but only if the tuple itself contains only hashable types.\n",
    "# Lists and dicts cannot be added to sets."
   ]
  },
  {
   "cell_type": "code",
   "execution_count": 65,
   "id": "a2f52683-957a-41f4-9e57-db0a99e49877",
   "metadata": {},
   "outputs": [],
   "source": [
    "s2.add((1, 5, 9, 15))  # Adds tuple (hashable)"
   ]
  },
  {
   "cell_type": "code",
   "execution_count": 66,
   "id": "61540c82-8390-48b9-8ec5-caa974293609",
   "metadata": {},
   "outputs": [
    {
     "data": {
      "text/plain": [
       "{(1, 5, 9, 15), 1, 12, 123, 15, 155, 199, 33, 504, 54, 71, 9, 'code'}"
      ]
     },
     "execution_count": 66,
     "metadata": {},
     "output_type": "execute_result"
    }
   ],
   "source": [
    "s2  # {(1, 5, 9, 15), 1, 12, 123, 15, 155, 199, 33, 504, 54, 71, 9, 'code'}"
   ]
  },
  {
   "cell_type": "markdown",
   "id": "badfa25e",
   "metadata": {},
   "source": [
    "### Section 6: Set Operations and Errors"
   ]
  },
  {
   "cell_type": "code",
   "execution_count": 67,
   "id": "39b8895d-ca1a-45d6-a3fb-9851484a2f35",
   "metadata": {},
   "outputs": [
    {
     "ename": "TypeError",
     "evalue": "unhashable type: 'list'",
     "output_type": "error",
     "traceback": [
      "\u001b[0;31m---------------------------------------------------------------------------\u001b[0m",
      "\u001b[0;31mTypeError\u001b[0m                                 Traceback (most recent call last)",
      "Cell \u001b[0;32mIn[67], line 1\u001b[0m\n\u001b[0;32m----> 1\u001b[0m {[\u001b[38;5;241m1\u001b[39m, \u001b[38;5;241m5\u001b[39m, \u001b[38;5;241m8\u001b[39m], \u001b[38;5;241m3\u001b[39m, \u001b[38;5;241m4\u001b[39m, \u001b[38;5;241m5\u001b[39m, \u001b[38;5;241m5\u001b[39m, \u001b[38;5;241m4\u001b[39m, \u001b[38;5;241m3\u001b[39m}\n",
      "\u001b[0;31mTypeError\u001b[0m: unhashable type: 'list'"
     ]
    }
   ],
   "source": [
    "{[1, 5, 8], 3, 4, 5, 5, 4, 3}  # ERROR: TypeError - unhashable list in set\n",
    "# Sets in Python can only contain hashable (immutable) types.\n",
    "# Lists are mutable and therefore unhashable, so they cannot be set elements.\n",
    "# Fix: Use a tuple instead of a list:\n",
    "# {(1, 5, 8), 3, 4, 5}"
   ]
  },
  {
   "cell_type": "code",
   "execution_count": 68,
   "id": "83905690-5b23-4305-8b1f-88970ca85f34",
   "metadata": {},
   "outputs": [
    {
     "data": {
      "text/plain": [
       "{(1, 5, 8), 3, 4, 5}"
      ]
     },
     "execution_count": 68,
     "metadata": {},
     "output_type": "execute_result"
    }
   ],
   "source": [
    "{(1, 5, 8), 3, 4, 5, 5, 4, 3}  # {(1, 5, 8), 3, 4, 5}"
   ]
  },
  {
   "cell_type": "code",
   "execution_count": 69,
   "id": "81707a0d-e20e-4657-8e88-e4813759d7ec",
   "metadata": {},
   "outputs": [
    {
     "data": {
      "text/plain": [
       "{(1, 5, 8), 3, 4, 5}"
      ]
     },
     "execution_count": 69,
     "metadata": {},
     "output_type": "execute_result"
    }
   ],
   "source": [
    "{(1, 5, 8), 3, 4, (1, 5, 8), 5, 5, 4, 3}  # {(1, 5, 8), 3, 4, 5}"
   ]
  },
  {
   "cell_type": "code",
   "execution_count": 70,
   "id": "cbc5edda-5cf9-4a1f-8da6-8c1ac4922f80",
   "metadata": {},
   "outputs": [],
   "source": [
    "s = {(1, 5, 8), 3, 4, (1, 5, 8), 5, 5, 4, 3}  # Assigns set"
   ]
  },
  {
   "cell_type": "code",
   "execution_count": 71,
   "id": "5b6f32ea-3e67-440b-a011-c91887ce7222",
   "metadata": {},
   "outputs": [
    {
     "data": {
      "text/plain": [
       "{(1, 5, 8), 3, 4, 5}"
      ]
     },
     "execution_count": 71,
     "metadata": {},
     "output_type": "execute_result"
    }
   ],
   "source": [
    "s  # {(1, 5, 8), 3, 4, 5}"
   ]
  },
  {
   "cell_type": "code",
   "execution_count": 72,
   "id": "e18dfc1f-73c4-46a0-a01e-1a36e3829477",
   "metadata": {},
   "outputs": [],
   "source": [
    "s.remove(3)  # Removes 3\n",
    "# s.remove(10)  # ERROR: KeyError - 10 not in set\n",
    "# Fix: Use discard to avoid error if element not present"
   ]
  },
  {
   "cell_type": "code",
   "execution_count": 73,
   "id": "4c53851e-4f82-47ff-8352-a01ccd8d90f5",
   "metadata": {},
   "outputs": [
    {
     "data": {
      "text/plain": [
       "{(1, 5, 8), 4, 5}"
      ]
     },
     "execution_count": 73,
     "metadata": {},
     "output_type": "execute_result"
    }
   ],
   "source": [
    "s  # {(1, 5, 8), 4, 5}"
   ]
  },
  {
   "cell_type": "code",
   "execution_count": 74,
   "id": "1426e60d-7336-4f7b-8bec-c3a9c3285d87",
   "metadata": {},
   "outputs": [],
   "source": [
    "s.discard(5)  # Removes 5 if present"
   ]
  },
  {
   "cell_type": "code",
   "execution_count": 75,
   "id": "c2b15874-5ed0-4c05-bb16-32c8802a5124",
   "metadata": {},
   "outputs": [
    {
     "data": {
      "text/plain": [
       "{(1, 5, 8), 4}"
      ]
     },
     "execution_count": 75,
     "metadata": {},
     "output_type": "execute_result"
    }
   ],
   "source": [
    "s  # {(1, 5, 8), 4}"
   ]
  },
  {
   "cell_type": "code",
   "execution_count": 76,
   "id": "358260b3-b593-4be1-a919-6bc42dab9b0a",
   "metadata": {},
   "outputs": [],
   "source": [
    "s.discard(1)  # 1 not present, no error"
   ]
  },
  {
   "cell_type": "code",
   "execution_count": 77,
   "id": "bfceab22-95f7-4c75-af7f-4d71c9ed880a",
   "metadata": {},
   "outputs": [
    {
     "data": {
      "text/plain": [
       "{(1, 5, 8), 4}"
      ]
     },
     "execution_count": 77,
     "metadata": {},
     "output_type": "execute_result"
    }
   ],
   "source": [
    "s  # {(1, 5, 8), 4}"
   ]
  },
  {
   "cell_type": "code",
   "execution_count": 78,
   "id": "c47e7e4f-2905-4961-afce-e681651a623c",
   "metadata": {},
   "outputs": [
    {
     "ename": "KeyError",
     "evalue": "1",
     "output_type": "error",
     "traceback": [
      "\u001b[0;31m---------------------------------------------------------------------------\u001b[0m",
      "\u001b[0;31mKeyError\u001b[0m                                  Traceback (most recent call last)",
      "Cell \u001b[0;32mIn[78], line 1\u001b[0m\n\u001b[0;32m----> 1\u001b[0m s\u001b[38;5;241m.\u001b[39mremove(\u001b[38;5;241m1\u001b[39m)\n",
      "\u001b[0;31mKeyError\u001b[0m: 1"
     ]
    }
   ],
   "source": [
    "s.remove(1)  # ERROR: KeyError - 1 not in set. Use discard for safe removal."
   ]
  },
  {
   "cell_type": "code",
   "execution_count": 79,
   "id": "885d3efc-bd3d-49a9-856c-f25c7caa744f",
   "metadata": {},
   "outputs": [
    {
     "data": {
      "text/plain": [
       "{'Code', 'code'}"
      ]
     },
     "execution_count": 79,
     "metadata": {},
     "output_type": "execute_result"
    }
   ],
   "source": [
    "{\"code\", \"Code\"}  # {\"Code\", \"code\"} (case-sensitive)"
   ]
  },
  {
   "cell_type": "markdown",
   "id": "37b53321",
   "metadata": {},
   "source": [
    "### Section 7: More Sets"
   ]
  },
  {
   "cell_type": "code",
   "execution_count": 80,
   "id": "a253b271-b101-4b94-8498-89267697dec5",
   "metadata": {},
   "outputs": [],
   "source": [
    "s = {56, 4, 7, 9, 8, 7, 6, 9, \"code\", 55, 9, \"code\"}  # Mixed set"
   ]
  },
  {
   "cell_type": "code",
   "execution_count": 81,
   "id": "b7a90b23-d8f3-4b03-bd40-4aaad23688c4",
   "metadata": {},
   "outputs": [
    {
     "data": {
      "text/plain": [
       "{4, 55, 56, 6, 7, 8, 9, 'code'}"
      ]
     },
     "execution_count": 81,
     "metadata": {},
     "output_type": "execute_result"
    }
   ],
   "source": [
    "s  # {4, 55, 56, 6, 7, 8, 9, 'code'}"
   ]
  },
  {
   "cell_type": "code",
   "execution_count": 82,
   "id": "3db1db2c-2fbe-4fe9-9bca-3ac23d8914c2",
   "metadata": {},
   "outputs": [],
   "source": [
    "l = [5, 7, 9, 2]  # List\n",
    "# s = set(l)  # Converts list to set"
   ]
  },
  {
   "cell_type": "code",
   "execution_count": 83,
   "id": "d295a8e6-ac9d-4082-8593-3b286a07e9e2",
   "metadata": {},
   "outputs": [
    {
     "data": {
      "text/plain": [
       "{2, 5, 7, 9}"
      ]
     },
     "execution_count": 83,
     "metadata": {},
     "output_type": "execute_result"
    }
   ],
   "source": [
    "set(l)  # {2, 5, 7, 9}"
   ]
  },
  {
   "cell_type": "markdown",
   "id": "4d0f8cd2",
   "metadata": {},
   "source": [
    "---\n",
    "### Section 8: Dictionaries Basics"
   ]
  },
  {
   "cell_type": "code",
   "execution_count": 84,
   "id": "1cbbffc5-cc76-4873-949f-cf91c2fe6a9f",
   "metadata": {},
   "outputs": [],
   "source": [
    "d = {5, 8}  # Set, not dict"
   ]
  },
  {
   "cell_type": "code",
   "execution_count": 85,
   "id": "3a306404-94ef-490d-b3e9-4ff2925dbefd",
   "metadata": {},
   "outputs": [
    {
     "data": {
      "text/plain": [
       "set"
      ]
     },
     "execution_count": 85,
     "metadata": {},
     "output_type": "execute_result"
    }
   ],
   "source": [
    "type(d)  # <class 'set'>"
   ]
  },
  {
   "cell_type": "code",
   "execution_count": 86,
   "id": "f5d3079f-373a-418f-9fe0-deb07509aa97",
   "metadata": {},
   "outputs": [],
   "source": [
    "d = {1:1, 2:4, 3:\"code\"}  # Dict literal"
   ]
  },
  {
   "cell_type": "code",
   "execution_count": 87,
   "id": "022fb9d3-5479-4d9f-86c8-5818d0d823b6",
   "metadata": {},
   "outputs": [
    {
     "data": {
      "text/plain": [
       "{1: 1, 2: 4, 3: 'code'}"
      ]
     },
     "execution_count": 87,
     "metadata": {},
     "output_type": "execute_result"
    }
   ],
   "source": [
    "d  # {1: 1, 2: 4, 3: \"code\"}"
   ]
  },
  {
   "cell_type": "code",
   "execution_count": 88,
   "id": "8e77d1e1-658a-4801-a512-2e4858f1a5fb",
   "metadata": {},
   "outputs": [
    {
     "data": {
      "text/plain": [
       "dict"
      ]
     },
     "execution_count": 88,
     "metadata": {},
     "output_type": "execute_result"
    }
   ],
   "source": [
    "type(d)  # <class 'dict'>"
   ]
  },
  {
   "cell_type": "code",
   "execution_count": 89,
   "id": "966102aa-9ef6-46e1-8933-7964ad5eb6e2",
   "metadata": {},
   "outputs": [],
   "source": [
    "d1 = {\"k1\":123, \"k2\":456, 12:[1, 5, 2.5, True]}  # Mixed keys/values"
   ]
  },
  {
   "cell_type": "code",
   "execution_count": 90,
   "id": "9433d2af-51f6-4c44-b97a-e2f01625ac60",
   "metadata": {},
   "outputs": [
    {
     "data": {
      "text/plain": [
       "{'k1': 123, 'k2': 456, 12: [1, 5, 2.5, True]}"
      ]
     },
     "execution_count": 90,
     "metadata": {},
     "output_type": "execute_result"
    }
   ],
   "source": [
    "d1  # {\"k1\": 123, \"k2\": 456, 12: [1, 5, 2.5, True]}"
   ]
  },
  {
   "cell_type": "code",
   "execution_count": 91,
   "id": "00eb8ad4-3c29-4754-ba4d-3eeeeb56dcae",
   "metadata": {},
   "outputs": [],
   "source": [
    "l = [4, 5, 7, 9]  # List"
   ]
  },
  {
   "cell_type": "code",
   "execution_count": 92,
   "id": "c0b8bf7b-f9f3-4b81-bd12-83d781ac1603",
   "metadata": {},
   "outputs": [
    {
     "data": {
      "text/plain": [
       "4"
      ]
     },
     "execution_count": 92,
     "metadata": {},
     "output_type": "execute_result"
    }
   ],
   "source": [
    "l[0]  # 4"
   ]
  },
  {
   "cell_type": "code",
   "execution_count": 93,
   "id": "a6f5e9fb-70db-44d8-84c4-578fdd8a9de3",
   "metadata": {},
   "outputs": [
    {
     "data": {
      "text/plain": [
       "{'k1': 123, 'k2': 456, 12: [1, 5, 2.5, True]}"
      ]
     },
     "execution_count": 93,
     "metadata": {},
     "output_type": "execute_result"
    }
   ],
   "source": [
    "d1  # {\"k1\": 123, \"k2\": 456, 12: [1, 5, 2.5, True]}"
   ]
  },
  {
   "cell_type": "code",
   "execution_count": 94,
   "id": "45638fb5-68f4-4d82-b321-0912dc2dffbd",
   "metadata": {},
   "outputs": [
    {
     "data": {
      "text/plain": [
       "456"
      ]
     },
     "execution_count": 94,
     "metadata": {},
     "output_type": "execute_result"
    }
   ],
   "source": [
    "d1['k2']  # 456"
   ]
  },
  {
   "cell_type": "code",
   "execution_count": 95,
   "id": "5ae8a92f-bcb6-4603-b895-3211853b9493",
   "metadata": {},
   "outputs": [
    {
     "data": {
      "text/plain": [
       "[1, 5, 2.5, True]"
      ]
     },
     "execution_count": 95,
     "metadata": {},
     "output_type": "execute_result"
    }
   ],
   "source": [
    "d1[12]  # [1, 5, 2.5, True]"
   ]
  },
  {
   "cell_type": "code",
   "execution_count": 96,
   "id": "453107b6-3521-4e61-9d05-4203ab7d66f8",
   "metadata": {},
   "outputs": [
    {
     "data": {
      "text/plain": [
       "456"
      ]
     },
     "execution_count": 96,
     "metadata": {},
     "output_type": "execute_result"
    }
   ],
   "source": [
    "d1[\"k2\"]  # 456"
   ]
  },
  {
   "cell_type": "code",
   "execution_count": 97,
   "id": "2cfcd543-5b7b-4a4d-abdc-db66f9418454",
   "metadata": {},
   "outputs": [
    {
     "data": {
      "text/plain": [
       "123"
      ]
     },
     "execution_count": 97,
     "metadata": {},
     "output_type": "execute_result"
    }
   ],
   "source": [
    "d1[\"k1\"]  # 123"
   ]
  },
  {
   "cell_type": "markdown",
   "id": "92477a99",
   "metadata": {},
   "source": [
    "### Section 9: Invalid Dict Keys"
   ]
  },
  {
   "cell_type": "code",
   "execution_count": 98,
   "id": "f90cbae4-35ae-425e-8918-3b5268bfc2e1",
   "metadata": {},
   "outputs": [
    {
     "ename": "SyntaxError",
     "evalue": "incomplete input (3206445300.py, line 3)",
     "output_type": "error",
     "traceback": [
      "\u001b[0;36m  Cell \u001b[0;32mIn[98], line 3\u001b[0;36m\u001b[0m\n\u001b[0;31m    # d = {\"key\": 1}  # Valid dict\u001b[0m\n\u001b[0m                                  ^\u001b[0m\n\u001b[0;31mSyntaxError\u001b[0m\u001b[0;31m:\u001b[0m incomplete input\n"
     ]
    }
   ],
   "source": [
    "d = {#: 1}  # ERROR: SyntaxError - invalid key\n",
    "# Fix: Use a valid key, e.g., string or number\n",
    "# d = {\"key\": 1}  # Valid dict"
   ]
  },
  {
   "cell_type": "code",
   "execution_count": 99,
   "id": "d3eeb0dc-b14a-4acf-9cbc-907328c8d422",
   "metadata": {},
   "outputs": [
    {
     "ename": "SyntaxError",
     "evalue": "invalid syntax (358885024.py, line 1)",
     "output_type": "error",
     "traceback": [
      "\u001b[0;36m  Cell \u001b[0;32mIn[99], line 1\u001b[0;36m\u001b[0m\n\u001b[0;31m    d = {@:5, 1:1}  # ERROR: SyntaxError - @ invalid\u001b[0m\n\u001b[0m         ^\u001b[0m\n\u001b[0;31mSyntaxError\u001b[0m\u001b[0;31m:\u001b[0m invalid syntax\n"
     ]
    }
   ],
   "source": [
    "d = {@:5, 1:1}  # ERROR: SyntaxError - @ invalid\n",
    "# Fix: Use a valid key, e.g., string or number\n",
    "# d = {\"at\":5, 1:1}  # Valid dict   \n",
    "# d = {\"k 1\":123, \"k-2\":456, 12:[1, 5, 2.5, True]}  # Valid keys with spaces/special chars"
   ]
  },
  {
   "cell_type": "code",
   "execution_count": 100,
   "id": "f2bfcbe6-6174-455c-8b56-005f55e6d370",
   "metadata": {},
   "outputs": [],
   "source": [
    "d = {.4: 5}  # Valid float key"
   ]
  },
  {
   "cell_type": "code",
   "execution_count": 101,
   "id": "3bf2f7e8-712b-49d8-8afb-9a9ccdead8ce",
   "metadata": {},
   "outputs": [
    {
     "data": {
      "text/plain": [
       "{0.4: 5}"
      ]
     },
     "execution_count": 101,
     "metadata": {},
     "output_type": "execute_result"
    }
   ],
   "source": [
    "d  # {0.4: 5}"
   ]
  },
  {
   "cell_type": "code",
   "execution_count": 102,
   "id": "7a797d28-5b5b-46e5-addd-822ff776a4ab",
   "metadata": {},
   "outputs": [],
   "source": [
    "# d = {_2: 5} \n",
    "# d = {\"_2\": 5}  # Valid key as string"
   ]
  },
  {
   "cell_type": "code",
   "execution_count": 103,
   "id": "32d2462c",
   "metadata": {},
   "outputs": [
    {
     "ename": "SyntaxError",
     "evalue": "invalid decimal literal (3402678795.py, line 1)",
     "output_type": "error",
     "traceback": [
      "\u001b[0;36m  Cell \u001b[0;32mIn[103], line 1\u001b[0;36m\u001b[0m\n\u001b[0;31m    d = {2_: 5}  # ERROR: NameError - 2_ undefined\u001b[0m\n\u001b[0m          ^\u001b[0m\n\u001b[0;31mSyntaxError\u001b[0m\u001b[0;31m:\u001b[0m invalid decimal literal\n"
     ]
    }
   ],
   "source": [
    "d = {2_: 5}  # ERROR: NameError - 2_ undefined\n",
    "# Fix: d = {\"2_\": 5}  # Valid key as string\n",
    "# Keys can be strings, numbers, or valid variable names.\n",
    "\n",
    "# Variable names cannot start with a digit, so 2_ is not valid. Use quotes to make it a string key.\n",
    "# d = {\"2_\": 5}\n",
    "# If you want to use a variable, define it first:\n",
    "# 2_ = 5  # ERROR: SyntaxError - variable names cannot start with a digit"
   ]
  },
  {
   "cell_type": "code",
   "execution_count": 104,
   "id": "c2b27882-1ff1-44fb-a982-e8a688dfb45c",
   "metadata": {},
   "outputs": [
    {
     "data": {
      "text/plain": [
       "{0.4: 5}"
      ]
     },
     "execution_count": 104,
     "metadata": {},
     "output_type": "execute_result"
    }
   ],
   "source": [
    "d  # If _2 defined, valid"
   ]
  },
  {
   "cell_type": "code",
   "execution_count": 105,
   "id": "ac8e3c66-0b2f-4f40-be39-f8b0ae7a5d62",
   "metadata": {},
   "outputs": [
    {
     "ename": "NameError",
     "evalue": "name '_4' is not defined",
     "output_type": "error",
     "traceback": [
      "\u001b[0;31m---------------------------------------------------------------------------\u001b[0m",
      "\u001b[0;31mNameError\u001b[0m                                 Traceback (most recent call last)",
      "Cell \u001b[0;32mIn[105], line 1\u001b[0m\n\u001b[0;32m----> 1\u001b[0m d \u001b[38;5;241m=\u001b[39m {_4: \u001b[38;5;241m125\u001b[39m}\n",
      "\u001b[0;31mNameError\u001b[0m: name '_4' is not defined"
     ]
    }
   ],
   "source": [
    "d = {_4: 125}  # ERROR: NameError\n",
    "# Fix: Define _4 first or use string key"
   ]
  },
  {
   "cell_type": "code",
   "execution_count": 106,
   "id": "271f28f0-5f65-40f6-8cd8-df4b0ecbb43c",
   "metadata": {},
   "outputs": [],
   "source": [
    "d = {\"l\": [1, 2, 3], \"t\": (3, 4, 5), \"s\": {4, 5, 6}, \"d\": {1:1, 2:\"code\"}}  # Nested structures"
   ]
  },
  {
   "cell_type": "code",
   "execution_count": 107,
   "id": "850326f8-d821-4b20-b917-1196c6a12eca",
   "metadata": {},
   "outputs": [
    {
     "data": {
      "text/plain": [
       "{'l': [1, 2, 3], 't': (3, 4, 5), 's': {4, 5, 6}, 'd': {1: 1, 2: 'code'}}"
      ]
     },
     "execution_count": 107,
     "metadata": {},
     "output_type": "execute_result"
    }
   ],
   "source": [
    "d  # {\"l\": [1, 2, 3], \"t\": (3, 4, 5), \"s\": {4, 5, 6}, \"d\": {1: 1, 2: \"code\"}}"
   ]
  },
  {
   "cell_type": "code",
   "execution_count": 108,
   "id": "154f72a0-06ca-4030-b888-bfb1def4b61c",
   "metadata": {},
   "outputs": [],
   "source": [
    "d1 = {\"k1\": [1, 2], \"k2\": \"code\", \"k1\": \"python\"}  # Duplicate key"
   ]
  },
  {
   "cell_type": "code",
   "execution_count": 109,
   "id": "5830b7cb-6722-4384-a292-38de498a5a6d",
   "metadata": {},
   "outputs": [
    {
     "data": {
      "text/plain": [
       "{'k1': 'python', 'k2': 'code'}"
      ]
     },
     "execution_count": 109,
     "metadata": {},
     "output_type": "execute_result"
    }
   ],
   "source": [
    "d1  # {\"k1\": \"python\", \"k2\": \"code\"} (last value wins)"
   ]
  },
  {
   "cell_type": "code",
   "execution_count": 110,
   "id": "4bd22dab-7293-49ab-a609-a60d7faa9df1",
   "metadata": {},
   "outputs": [
    {
     "data": {
      "text/plain": [
       "'python'"
      ]
     },
     "execution_count": 110,
     "metadata": {},
     "output_type": "execute_result"
    }
   ],
   "source": [
    "d1[\"k1\"]  # \"python\""
   ]
  },
  {
   "cell_type": "code",
   "execution_count": 111,
   "id": "08e1da13-c75a-4fbd-a420-ecbc8df87e40",
   "metadata": {},
   "outputs": [],
   "source": [
    "d = {\"++--\": 155}  # Valid string key"
   ]
  },
  {
   "cell_type": "code",
   "execution_count": 112,
   "id": "94d2045f-b099-462e-84b9-0642253760ce",
   "metadata": {},
   "outputs": [
    {
     "data": {
      "text/plain": [
       "{'++--': 155}"
      ]
     },
     "execution_count": 112,
     "metadata": {},
     "output_type": "execute_result"
    }
   ],
   "source": [
    "d  # {\"++--\": 155}"
   ]
  },
  {
   "cell_type": "markdown",
   "id": "59646001",
   "metadata": {},
   "source": [
    "### Section 10: Complex Dict\n"
   ]
  },
  {
   "cell_type": "code",
   "execution_count": 113,
   "id": "f9f27929-d788-4e55-827f-1f69e0951fb0",
   "metadata": {},
   "outputs": [],
   "source": [
    "d = {\"name\": \"abc\", \"mob_no\": 987654321, \"mail_id\": \"xyz@email.com\", \"marks10\": [88, 90, 78, 69, 82, 78], \"marks12\": {80, 85, 90, 95, 95, 65, 80, 85}, \"grade\": {\"hindi\": \"A\", \"english\": \"A\", \"math\": \"B\", \"science\": \"S\"}}  # Nested dict"
   ]
  },
  {
   "cell_type": "code",
   "execution_count": 114,
   "id": "9b7bc7a7-31a5-424d-bb44-4246a81b2ea7",
   "metadata": {},
   "outputs": [
    {
     "data": {
      "text/plain": [
       "{'name': 'abc',\n",
       " 'mob_no': 987654321,\n",
       " 'mail_id': 'xyz@email.com',\n",
       " 'marks10': [88, 90, 78, 69, 82, 78],\n",
       " 'marks12': {65, 80, 85, 90, 95},\n",
       " 'grade': {'hindi': 'A', 'english': 'A', 'math': 'B', 'science': 'S'}}"
      ]
     },
     "execution_count": 114,
     "metadata": {},
     "output_type": "execute_result"
    }
   ],
   "source": [
    "d  # Full dict"
   ]
  },
  {
   "cell_type": "code",
   "execution_count": 115,
   "id": "a3274d32-8e96-48e2-8891-2e46aebc6073",
   "metadata": {},
   "outputs": [
    {
     "data": {
      "text/plain": [
       "list"
      ]
     },
     "execution_count": 115,
     "metadata": {},
     "output_type": "execute_result"
    }
   ],
   "source": [
    "type(d[\"marks10\"])  # <class 'list'>"
   ]
  },
  {
   "cell_type": "code",
   "execution_count": 116,
   "id": "ba1b1402-5de3-40cb-98b8-28d85841fbd1",
   "metadata": {},
   "outputs": [
    {
     "data": {
      "text/plain": [
       "set"
      ]
     },
     "execution_count": 116,
     "metadata": {},
     "output_type": "execute_result"
    }
   ],
   "source": [
    "type(d[\"marks12\"])  # <class 'set'>"
   ]
  },
  {
   "cell_type": "code",
   "execution_count": 117,
   "id": "44e35ec6-0708-42df-b161-b2b78d2e3745",
   "metadata": {},
   "outputs": [
    {
     "data": {
      "text/plain": [
       "[88, 90, 78, 69, 82, 78]"
      ]
     },
     "execution_count": 117,
     "metadata": {},
     "output_type": "execute_result"
    }
   ],
   "source": [
    "d[\"marks10\"]  # [88, 90, 78, 69, 82, 78]"
   ]
  },
  {
   "cell_type": "code",
   "execution_count": 118,
   "id": "1631c9c5-8dc7-47fb-a01c-d183adf87cd7",
   "metadata": {},
   "outputs": [
    {
     "data": {
      "text/plain": [
       "78"
      ]
     },
     "execution_count": 118,
     "metadata": {},
     "output_type": "execute_result"
    }
   ],
   "source": [
    "d[\"marks10\"][2]  # 78"
   ]
  },
  {
   "cell_type": "code",
   "execution_count": 119,
   "id": "3f16d7b2-4b51-49e9-bf9a-c76b37c83ad7",
   "metadata": {},
   "outputs": [
    {
     "data": {
      "text/plain": [
       "dict_keys(['name', 'mob_no', 'mail_id', 'marks10', 'marks12', 'grade'])"
      ]
     },
     "execution_count": 119,
     "metadata": {},
     "output_type": "execute_result"
    }
   ],
   "source": [
    "d.keys()    # dict_keys(['name', 'mob_no', 'mail_id', 'marks10', 'marks12', 'grade'])"
   ]
  },
  {
   "cell_type": "code",
   "execution_count": 120,
   "id": "fb601bad-4eb4-4bd2-90f9-4f63e33f28ce",
   "metadata": {},
   "outputs": [
    {
     "data": {
      "text/plain": [
       "dict_values(['abc', 987654321, 'xyz@email.com', [88, 90, 78, 69, 82, 78], {80, 65, 85, 90, 95}, {'hindi': 'A', 'english': 'A', 'math': 'B', 'science': 'S'}])"
      ]
     },
     "execution_count": 120,
     "metadata": {},
     "output_type": "execute_result"
    }
   ],
   "source": [
    "d.values()  # dict_values(['abc', 987654321, 'xyz@email.com', [88, 90, 78, 69, 82, 78], {80, 65, 85, 90, 95}, {'hindi': 'A', 'english': 'A', 'math': 'B', 'science': 'S'}])"
   ]
  },
  {
   "cell_type": "code",
   "execution_count": 121,
   "id": "568a5455-b900-4d37-80e7-93d68b7a76a2",
   "metadata": {},
   "outputs": [
    {
     "data": {
      "text/plain": [
       "dict_items([('name', 'abc'), ('mob_no', 987654321), ('mail_id', 'xyz@email.com'), ('marks10', [88, 90, 78, 69, 82, 78]), ('marks12', {80, 65, 85, 90, 95}), ('grade', {'hindi': 'A', 'english': 'A', 'math': 'B', 'science': 'S'})])"
      ]
     },
     "execution_count": 121,
     "metadata": {},
     "output_type": "execute_result"
    }
   ],
   "source": [
    "d.items()  # dict_items([('name', 'abc'), ('mob_no', 987654321), ...])\n",
    "# Each item is a (key, value) tuple"
   ]
  },
  {
   "cell_type": "code",
   "execution_count": 122,
   "id": "2c25aa8b-15ab-43e8-a878-f7967b5de91c",
   "metadata": {},
   "outputs": [
    {
     "data": {
      "text/plain": [
       "dict_items"
      ]
     },
     "execution_count": 122,
     "metadata": {},
     "output_type": "execute_result"
    }
   ],
   "source": [
    "type(d.items())  # <class 'dict_items'>\n",
    "# list(d.items())  # Converts to list of tuples"
   ]
  },
  {
   "cell_type": "markdown",
   "id": "a4efc759",
   "metadata": {},
   "source": [
    "### Section 11: Dict Modification"
   ]
  },
  {
   "cell_type": "code",
   "execution_count": 123,
   "id": "672ae69a-3536-4ee3-9ae2-585c387f8750",
   "metadata": {},
   "outputs": [],
   "source": [
    "d = {\"k1\": 1, \"k2\": 5, \"k3\": 10}  # New dict\n",
    "# d[\"k2\"] = 15  # Modifies existing key"
   ]
  },
  {
   "cell_type": "code",
   "execution_count": 124,
   "id": "b36e7df4-dbeb-4662-85ab-0000a65671f7",
   "metadata": {},
   "outputs": [
    {
     "data": {
      "text/plain": [
       "{'k1': 1, 'k2': 5, 'k3': 10}"
      ]
     },
     "execution_count": 124,
     "metadata": {},
     "output_type": "execute_result"
    }
   ],
   "source": [
    "d  # {\"k1\": 1, \"k2\": 5, \"k3\": 10}"
   ]
  },
  {
   "cell_type": "code",
   "execution_count": 125,
   "id": "d58a1109-c403-4b29-91a3-6866ea1cf967",
   "metadata": {},
   "outputs": [],
   "source": [
    "d[\"k4\"] = 15  # Adds key-value"
   ]
  },
  {
   "cell_type": "code",
   "execution_count": 126,
   "id": "d79d4e49-24ed-43d7-93fa-05a00347d493",
   "metadata": {},
   "outputs": [
    {
     "data": {
      "text/plain": [
       "{'k1': 1, 'k2': 5, 'k3': 10, 'k4': 15}"
      ]
     },
     "execution_count": 126,
     "metadata": {},
     "output_type": "execute_result"
    }
   ],
   "source": [
    "d  # {\"k1\": 1, \"k2\": 5, \"k3\": 10, \"k4\": 15}"
   ]
  },
  {
   "cell_type": "code",
   "execution_count": 127,
   "id": "83b83e67-50b7-4d67-a4ca-f20b568879a0",
   "metadata": {},
   "outputs": [],
   "source": [
    "d[2] = \"two\"  # Adds numeric key"
   ]
  },
  {
   "cell_type": "code",
   "execution_count": 128,
   "id": "0e8374a0-ef95-4842-bf5b-de14cfbd8aca",
   "metadata": {},
   "outputs": [
    {
     "data": {
      "text/plain": [
       "{'k1': 1, 'k2': 5, 'k3': 10, 'k4': 15, 2: 'two'}"
      ]
     },
     "execution_count": 128,
     "metadata": {},
     "output_type": "execute_result"
    }
   ],
   "source": [
    "d  # {\"k1\": 1, \"k2\": 5, \"k3\": 10, \"k4\": 15, 2: \"two\"}"
   ]
  },
  {
   "cell_type": "code",
   "execution_count": 129,
   "id": "a55baa01-5b80-47b8-89a3-8dc314200777",
   "metadata": {},
   "outputs": [],
   "source": [
    "d[2] = \"todo\"  # Updates value"
   ]
  },
  {
   "cell_type": "code",
   "execution_count": 130,
   "id": "f5bc45d6-2f5c-4838-b8d3-a9f260e431b3",
   "metadata": {},
   "outputs": [
    {
     "data": {
      "text/plain": [
       "{'k1': 1, 'k2': 5, 'k3': 10, 'k4': 15, 2: 'todo'}"
      ]
     },
     "execution_count": 130,
     "metadata": {},
     "output_type": "execute_result"
    }
   ],
   "source": [
    "d  # {\"k1\": 1, \"k2\": 5, \"k3\": 10, \"k4\": 15, 2: \"todo\"}"
   ]
  },
  {
   "cell_type": "code",
   "execution_count": 131,
   "id": "07ee6676-e750-406d-9b80-01044857de8b",
   "metadata": {},
   "outputs": [],
   "source": [
    "del d[2]  # Deletes key"
   ]
  },
  {
   "cell_type": "code",
   "execution_count": 132,
   "id": "8d81f2e9-612c-4031-80e3-31aca38db864",
   "metadata": {},
   "outputs": [
    {
     "data": {
      "text/plain": [
       "{'k1': 1, 'k2': 5, 'k3': 10, 'k4': 15}"
      ]
     },
     "execution_count": 132,
     "metadata": {},
     "output_type": "execute_result"
    }
   ],
   "source": [
    "d  # {\"k1\": 1, \"k2\": 5, \"k3\": 10, \"k4\": 15}"
   ]
  },
  {
   "cell_type": "code",
   "execution_count": 133,
   "id": "5352faff-4694-4394-a66f-f44e54a82186",
   "metadata": {},
   "outputs": [],
   "source": [
    "del d[\"k2\"]  # Deletes key"
   ]
  },
  {
   "cell_type": "code",
   "execution_count": 134,
   "id": "171b27ac-b375-45b6-9297-850374bec40a",
   "metadata": {},
   "outputs": [
    {
     "data": {
      "text/plain": [
       "{'k1': 1, 'k3': 10, 'k4': 15}"
      ]
     },
     "execution_count": 134,
     "metadata": {},
     "output_type": "execute_result"
    }
   ],
   "source": [
    "d  # {\"k1\": 1, \"k3\": 10, \"k4\": 15}"
   ]
  },
  {
   "cell_type": "code",
   "execution_count": 135,
   "id": "cb133e75-4041-438d-923f-728315ab1c3e",
   "metadata": {},
   "outputs": [],
   "source": [
    "del d  # Deletes dict"
   ]
  },
  {
   "cell_type": "code",
   "execution_count": 136,
   "id": "6ea46b1d-ec6d-4b97-8e1b-f7705392ae4a",
   "metadata": {},
   "outputs": [
    {
     "ename": "NameError",
     "evalue": "name 'd' is not defined",
     "output_type": "error",
     "traceback": [
      "\u001b[0;31m---------------------------------------------------------------------------\u001b[0m",
      "\u001b[0;31mNameError\u001b[0m                                 Traceback (most recent call last)",
      "Cell \u001b[0;32mIn[136], line 1\u001b[0m\n\u001b[0;32m----> 1\u001b[0m d\n",
      "\u001b[0;31mNameError\u001b[0m: name 'd' is not defined"
     ]
    }
   ],
   "source": [
    "d  # ERROR: NameError - d deleted\n",
    "# Fix: Recreate d if needed"
   ]
  },
  {
   "cell_type": "markdown",
   "id": "01a805e3",
   "metadata": {},
   "source": [
    "---\n",
    "### Section 12: Dict with Complex Keys"
   ]
  },
  {
   "cell_type": "code",
   "execution_count": 137,
   "id": "1e245d03-8748-43f7-9837-b0fa4f9fd4a1",
   "metadata": {},
   "outputs": [
    {
     "ename": "TypeError",
     "evalue": "unhashable type: 'list'",
     "output_type": "error",
     "traceback": [
      "\u001b[0;31m---------------------------------------------------------------------------\u001b[0m",
      "\u001b[0;31mTypeError\u001b[0m                                 Traceback (most recent call last)",
      "Cell \u001b[0;32mIn[137], line 1\u001b[0m\n\u001b[0;32m----> 1\u001b[0m d1 \u001b[38;5;241m=\u001b[39m {[\u001b[38;5;241m1\u001b[39m, \u001b[38;5;241m2\u001b[39m, \u001b[38;5;241m3\u001b[39m]: \u001b[38;5;124m\"\u001b[39m\u001b[38;5;124mlist\u001b[39m\u001b[38;5;124m\"\u001b[39m}\n",
      "\u001b[0;31mTypeError\u001b[0m: unhashable type: 'list'"
     ]
    }
   ],
   "source": [
    "d1 = {[1, 2, 3]: \"list\"}  # ERROR: TypeError - list unhashable\n",
    "# Fix: Use tuple or frozenset as key\n",
    "# d1 = {(1, 2, 3): \"tuple\"}  # Works\n",
    "# d1 = {frozenset([1, 2, 3]): \"frozenset\"}  # Works\n",
    "# d1  # Now valid"
   ]
  },
  {
   "cell_type": "code",
   "execution_count": 138,
   "id": "fc3f91a9-d02f-4a0c-9f1d-f648160a1f60",
   "metadata": {},
   "outputs": [],
   "source": [
    "d2 = {(1, 5, 3): \"tuple\"}  # Valid tuple key"
   ]
  },
  {
   "cell_type": "code",
   "execution_count": 139,
   "id": "bb3ac233-fe87-47fa-9eb6-6a0b906c604d",
   "metadata": {},
   "outputs": [
    {
     "data": {
      "text/plain": [
       "{(1, 5, 3): 'tuple'}"
      ]
     },
     "execution_count": 139,
     "metadata": {},
     "output_type": "execute_result"
    }
   ],
   "source": [
    "d2  # {(1, 5, 3): \"tuple\"}"
   ]
  },
  {
   "cell_type": "code",
   "execution_count": 140,
   "id": "4326da6f-8d1b-4fd2-a773-93fa80e64a96",
   "metadata": {},
   "outputs": [
    {
     "ename": "NameError",
     "evalue": "name 'd' is not defined",
     "output_type": "error",
     "traceback": [
      "\u001b[0;31m---------------------------------------------------------------------------\u001b[0m",
      "\u001b[0;31mNameError\u001b[0m                                 Traceback (most recent call last)",
      "Cell \u001b[0;32mIn[140], line 1\u001b[0m\n\u001b[0;32m----> 1\u001b[0m d\n",
      "\u001b[0;31mNameError\u001b[0m: name 'd' is not defined"
     ]
    }
   ],
   "source": [
    "d  # ERROR: NameError\n",
    "# Fix: Recreate d if needed"
   ]
  },
  {
   "cell_type": "code",
   "execution_count": 141,
   "id": "8f3975e0-c5b5-4226-828b-eed5fc8aeb50",
   "metadata": {},
   "outputs": [],
   "source": [
    "d = {\"k1\": \"code\", \"k2\": \"python\", \"k3\": [1, 5, 9, 3], (1, 4, 7): \"tuple\"}  # Mixed keys"
   ]
  },
  {
   "cell_type": "code",
   "execution_count": 142,
   "id": "d748a0df-d4a8-458d-93db-679a2909414b",
   "metadata": {},
   "outputs": [
    {
     "data": {
      "text/plain": [
       "{'k1': 'code', 'k2': 'python', 'k3': [1, 5, 9, 3], (1, 4, 7): 'tuple'}"
      ]
     },
     "execution_count": 142,
     "metadata": {},
     "output_type": "execute_result"
    }
   ],
   "source": [
    "d  # {\"k1\": \"code\", \"k2\": \"python\", \"k3\": [1, 5, 9, 3], (1, 4, 7): \"tuple\"}"
   ]
  },
  {
   "cell_type": "code",
   "execution_count": 143,
   "id": "60f15775-8a89-4c0e-850f-f9330247b3b5",
   "metadata": {},
   "outputs": [
    {
     "ename": "TypeError",
     "evalue": "get expected at least 1 argument, got 0",
     "output_type": "error",
     "traceback": [
      "\u001b[0;31m---------------------------------------------------------------------------\u001b[0m",
      "\u001b[0;31mTypeError\u001b[0m                                 Traceback (most recent call last)",
      "Cell \u001b[0;32mIn[143], line 1\u001b[0m\n\u001b[0;32m----> 1\u001b[0m d\u001b[38;5;241m.\u001b[39mget()\n",
      "\u001b[0;31mTypeError\u001b[0m: get expected at least 1 argument, got 0"
     ]
    }
   ],
   "source": [
    "d.get()  # ERROR: TypeError - get needs key\n",
    "# Fix: Provide a key to get its value"
   ]
  },
  {
   "cell_type": "code",
   "execution_count": 144,
   "id": "e12fcaec-8272-4cf3-af7d-b9ff7797cdbe",
   "metadata": {},
   "outputs": [
    {
     "data": {
      "text/plain": [
       "'python'"
      ]
     },
     "execution_count": 144,
     "metadata": {},
     "output_type": "execute_result"
    }
   ],
   "source": [
    "d.get(\"k2\")  # \"python\"\n",
    "# d.get(\"k5\")  # None (key not present, no error)\n",
    "# You can provide a default value as second argument to get()\n",
    "# d.get(\"k5\", \"default\")  # \"default\" if k5 not present"
   ]
  },
  {
   "cell_type": "code",
   "execution_count": 145,
   "id": "c23bfd1e-2507-4eca-ab1a-40c6687a2db7",
   "metadata": {},
   "outputs": [
    {
     "data": {
      "text/plain": [
       "'python'"
      ]
     },
     "execution_count": 145,
     "metadata": {},
     "output_type": "execute_result"
    }
   ],
   "source": [
    "d[\"k2\"]  # \"python\""
   ]
  },
  {
   "cell_type": "code",
   "execution_count": 146,
   "id": "1481500b-1e55-4b8d-94de-14bd6fa45eb5",
   "metadata": {},
   "outputs": [],
   "source": [
    "d.get(\"k5\")  # None (safe access)"
   ]
  },
  {
   "cell_type": "code",
   "execution_count": 147,
   "id": "70be9665-1532-4055-a8ea-e4a58c31e89d",
   "metadata": {},
   "outputs": [
    {
     "ename": "KeyError",
     "evalue": "'k5'",
     "output_type": "error",
     "traceback": [
      "\u001b[0;31m---------------------------------------------------------------------------\u001b[0m",
      "\u001b[0;31mKeyError\u001b[0m                                  Traceback (most recent call last)",
      "Cell \u001b[0;32mIn[147], line 1\u001b[0m\n\u001b[0;32m----> 1\u001b[0m d[\u001b[38;5;124m\"\u001b[39m\u001b[38;5;124mk5\u001b[39m\u001b[38;5;124m\"\u001b[39m]\n",
      "\u001b[0;31mKeyError\u001b[0m: 'k5'"
     ]
    }
   ],
   "source": [
    "d[\"k5\"]  # ERROR: KeyError\n",
    "# Fix: Use get for safe access"
   ]
  },
  {
   "cell_type": "markdown",
   "id": "e4457380",
   "metadata": {},
   "source": [
    "### Section 13: Dict Updates"
   ]
  },
  {
   "cell_type": "code",
   "execution_count": 148,
   "id": "a3b9e094-a263-4a6a-b214-a30c3f8bafcf",
   "metadata": {},
   "outputs": [],
   "source": [
    "d1 = {\"k1\": \"code\", \"k2\": \"python\", \"k3\": \"library\"}  # Dict\n",
    "d2 = {\"k4\": \"language\", \"k5\": \"machine\", \"k6\": 789}  # Another dict"
   ]
  },
  {
   "cell_type": "code",
   "execution_count": 149,
   "id": "7e1de347-d601-4f9f-971e-9afc8d50e8de",
   "metadata": {},
   "outputs": [],
   "source": [
    "d1.update(d2)  # Merges d2 into d1"
   ]
  },
  {
   "cell_type": "code",
   "execution_count": 150,
   "id": "9c9a5342-976a-427f-bd1a-d13f74db758b",
   "metadata": {},
   "outputs": [
    {
     "data": {
      "text/plain": [
       "{'k1': 'code',\n",
       " 'k2': 'python',\n",
       " 'k3': 'library',\n",
       " 'k4': 'language',\n",
       " 'k5': 'machine',\n",
       " 'k6': 789}"
      ]
     },
     "execution_count": 150,
     "metadata": {},
     "output_type": "execute_result"
    }
   ],
   "source": [
    "d1  # {\"k1\": \"code\", \"k2\": \"python\", \"k3\": \"library\", \"k4\": \"language\", \"k5\": \"machine\", \"k6\": 789}"
   ]
  },
  {
   "cell_type": "code",
   "execution_count": 151,
   "id": "98ee3705-e1d7-4486-8aef-22941c4706a8",
   "metadata": {},
   "outputs": [
    {
     "data": {
      "text/plain": [
       "{'k4': 'language', 'k5': 'machine', 'k6': 789}"
      ]
     },
     "execution_count": 151,
     "metadata": {},
     "output_type": "execute_result"
    }
   ],
   "source": [
    "d2  # Unchanged"
   ]
  },
  {
   "cell_type": "code",
   "execution_count": 152,
   "id": "5f3e9701-aafd-48c4-a3bd-777cb3ab9d0e",
   "metadata": {},
   "outputs": [
    {
     "ename": "TypeError",
     "evalue": "unsupported operand type(s) for +: 'dict' and 'dict'",
     "output_type": "error",
     "traceback": [
      "\u001b[0;31m---------------------------------------------------------------------------\u001b[0m",
      "\u001b[0;31mTypeError\u001b[0m                                 Traceback (most recent call last)",
      "Cell \u001b[0;32mIn[152], line 1\u001b[0m\n\u001b[0;32m----> 1\u001b[0m d1 \u001b[38;5;241m+\u001b[39m d2\n",
      "\u001b[0;31mTypeError\u001b[0m: unsupported operand type(s) for +: 'dict' and 'dict'"
     ]
    }
   ],
   "source": [
    "d1 + d2  # ERROR: TypeError - no + for dicts. Use update or {**d1, **d2}\n",
    "# Fix: Use update or dict unpacking\n",
    "# {**d1, **d2}  # Merges into new dict"
   ]
  },
  {
   "cell_type": "markdown",
   "id": "b5e9ea67",
   "metadata": {},
   "source": [
    "### Section 14: fromkeys"
   ]
  },
  {
   "cell_type": "code",
   "execution_count": 153,
   "id": "74aa26d9-82a6-4b6b-9107-0fb5a8ee8c91",
   "metadata": {},
   "outputs": [],
   "source": [
    "key = (\"name\", \"roll_no\", \"mob_no\", \"email_id\")  # Tuple keys\n",
    "value = \"xyz\"  # Single value"
   ]
  },
  {
   "cell_type": "code",
   "execution_count": 154,
   "id": "970b1acb-2931-4d46-b5ee-c02f237ee5d6",
   "metadata": {},
   "outputs": [],
   "source": [
    "d = d1.fromkeys(key, value)  # Creates dict with keys from tuple, value \"xyz\""
   ]
  },
  {
   "cell_type": "code",
   "execution_count": 155,
   "id": "4822a36b-ef37-4957-8437-4dc9393435d3",
   "metadata": {},
   "outputs": [
    {
     "data": {
      "text/plain": [
       "{'name': 'xyz', 'roll_no': 'xyz', 'mob_no': 'xyz', 'email_id': 'xyz'}"
      ]
     },
     "execution_count": 155,
     "metadata": {},
     "output_type": "execute_result"
    }
   ],
   "source": [
    "d  # {\"name\": \"xyz\", \"roll_no\": \"xyz\", \"mob_no\": \"xyz\", \"email_id\": \"xyz\"}"
   ]
  },
  {
   "cell_type": "code",
   "execution_count": 156,
   "id": "4c7fa766-5994-4135-9b2d-7d07e066fc21",
   "metadata": {},
   "outputs": [],
   "source": [
    "key = (\"name\", \"roll_no\", \"mob_no\", \"email_id\")\n",
    "value = \"xyz\", \"abc\"  # Tuple value"
   ]
  },
  {
   "cell_type": "code",
   "execution_count": 157,
   "id": "d6eda5b3-bacb-46a8-b737-af64ac91e075",
   "metadata": {},
   "outputs": [],
   "source": [
    "d = d1.fromkeys(key, value)  # All keys get same tuple value"
   ]
  },
  {
   "cell_type": "code",
   "execution_count": 158,
   "id": "67df888b-0244-4ea8-bdd2-cf9ed24b55bb",
   "metadata": {},
   "outputs": [
    {
     "data": {
      "text/plain": [
       "{'name': ('xyz', 'abc'),\n",
       " 'roll_no': ('xyz', 'abc'),\n",
       " 'mob_no': ('xyz', 'abc'),\n",
       " 'email_id': ('xyz', 'abc')}"
      ]
     },
     "execution_count": 158,
     "metadata": {},
     "output_type": "execute_result"
    }
   ],
   "source": [
    "d  # {\"name\": (\"xyz\", \"abc\"), \"roll_no\": (\"xyz\", \"abc\"), \"mob_no\": (\"xyz\", \"abc\"), \"email_id\": (\"xyz\", \"abc\")}"
   ]
  },
  {
   "cell_type": "markdown",
   "id": "38d5b07f",
   "metadata": {},
   "source": [
    "-----"
   ]
  }
 ],
 "metadata": {
  "kernelspec": {
   "display_name": "Python 3 (ipykernel)",
   "language": "python",
   "name": "python3"
  },
  "language_info": {
   "codemirror_mode": {
    "name": "ipython",
    "version": 3
   },
   "file_extension": ".py",
   "mimetype": "text/x-python",
   "name": "python",
   "nbconvert_exporter": "python",
   "pygments_lexer": "ipython3",
   "version": "3.12.7"
  }
 },
 "nbformat": 4,
 "nbformat_minor": 5
}
