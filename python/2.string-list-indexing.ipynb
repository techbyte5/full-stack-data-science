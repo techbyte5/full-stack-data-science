{
 "cells": [
  {
   "cell_type": "code",
   "execution_count": 1,
   "id": "252360d6-0ea9-4e43-b002-4322eddd5357",
   "metadata": {},
   "outputs": [],
   "source": [
    "a = \"abcd\""
   ]
  },
  {
   "cell_type": "code",
   "execution_count": 2,
   "id": "3b3b6c3f-7278-417a-94ca-78f6330a68f9",
   "metadata": {},
   "outputs": [
    {
     "data": {
      "text/plain": [
       "str"
      ]
     },
     "execution_count": 2,
     "metadata": {},
     "output_type": "execute_result"
    }
   ],
   "source": [
    "type(a)"
   ]
  },
  {
   "cell_type": "code",
   "execution_count": 3,
   "id": "fa5dc59a-6e13-4299-8ae4-ec372c343596",
   "metadata": {},
   "outputs": [
    {
     "data": {
      "text/plain": [
       "'a'"
      ]
     },
     "execution_count": 3,
     "metadata": {},
     "output_type": "execute_result"
    }
   ],
   "source": [
    "a[0]"
   ]
  },
  {
   "cell_type": "code",
   "execution_count": 4,
   "id": "0954eae4-bcaf-43de-aa7d-b80e24605816",
   "metadata": {},
   "outputs": [
    {
     "data": {
      "text/plain": [
       "'b'"
      ]
     },
     "execution_count": 4,
     "metadata": {},
     "output_type": "execute_result"
    }
   ],
   "source": [
    "a[1]"
   ]
  },
  {
   "cell_type": "code",
   "execution_count": 5,
   "id": "8ea82ad0-1419-4f16-ad6f-70482cde0b2f",
   "metadata": {},
   "outputs": [
    {
     "data": {
      "text/plain": [
       "'c'"
      ]
     },
     "execution_count": 5,
     "metadata": {},
     "output_type": "execute_result"
    }
   ],
   "source": [
    "a[2]"
   ]
  },
  {
   "cell_type": "code",
   "execution_count": 6,
   "id": "dcea69d3-aedb-4be6-9070-ee2d536dd319",
   "metadata": {},
   "outputs": [
    {
     "data": {
      "text/plain": [
       "'d'"
      ]
     },
     "execution_count": 6,
     "metadata": {},
     "output_type": "execute_result"
    }
   ],
   "source": [
    "a[-1]"
   ]
  },
  {
   "cell_type": "code",
   "execution_count": 7,
   "id": "fd17f525-da26-4716-9d5a-c0866e160063",
   "metadata": {},
   "outputs": [
    {
     "data": {
      "text/plain": [
       "'c'"
      ]
     },
     "execution_count": 7,
     "metadata": {},
     "output_type": "execute_result"
    }
   ],
   "source": [
    "a[-2]"
   ]
  },
  {
   "cell_type": "code",
   "execution_count": 8,
   "id": "a1c254a9-b5c0-4575-aa10-c05b5395e053",
   "metadata": {},
   "outputs": [],
   "source": [
    "b = \"this is a village\""
   ]
  },
  {
   "cell_type": "code",
   "execution_count": 9,
   "id": "59045e62-45f5-4234-8451-0b209f66bbf6",
   "metadata": {},
   "outputs": [
    {
     "data": {
      "text/plain": [
       "'h'"
      ]
     },
     "execution_count": 9,
     "metadata": {},
     "output_type": "execute_result"
    }
   ],
   "source": [
    "b[1]"
   ]
  },
  {
   "cell_type": "code",
   "execution_count": 10,
   "id": "983163c8-414b-40a9-a2ab-792a315f02e8",
   "metadata": {},
   "outputs": [
    {
     "ename": "IndexError",
     "evalue": "string index out of range",
     "output_type": "error",
     "traceback": [
      "\u001b[0;31m---------------------------------------------------------------------------\u001b[0m",
      "\u001b[0;31mIndexError\u001b[0m                                Traceback (most recent call last)",
      "Cell \u001b[0;32mIn[10], line 1\u001b[0m\n\u001b[0;32m----> 1\u001b[0m b[\u001b[38;5;241m100\u001b[39m]\n",
      "\u001b[0;31mIndexError\u001b[0m: string index out of range"
     ]
    }
   ],
   "source": [
    "b[100]"
   ]
  },
  {
   "cell_type": "code",
   "execution_count": 11,
   "id": "aaad6581-3f1c-4daa-9007-cf7dffb74c72",
   "metadata": {},
   "outputs": [
    {
     "data": {
      "text/plain": [
       "'this is a '"
      ]
     },
     "execution_count": 11,
     "metadata": {},
     "output_type": "execute_result"
    }
   ],
   "source": [
    "b[0:10]"
   ]
  },
  {
   "cell_type": "code",
   "execution_count": 12,
   "id": "c3f1e212-14a6-4755-9bbc-ef1309768e5e",
   "metadata": {},
   "outputs": [
    {
     "data": {
      "text/plain": [
       "'his is a vi'"
      ]
     },
     "execution_count": 12,
     "metadata": {},
     "output_type": "execute_result"
    }
   ],
   "source": [
    "b[1:12]"
   ]
  },
  {
   "cell_type": "code",
   "execution_count": 13,
   "id": "6c9a4108-0055-4905-af50-0375ee8f2d8c",
   "metadata": {},
   "outputs": [
    {
     "data": {
      "text/plain": [
       "'this is a village'"
      ]
     },
     "execution_count": 13,
     "metadata": {},
     "output_type": "execute_result"
    }
   ],
   "source": [
    "b[0:300]"
   ]
  },
  {
   "cell_type": "code",
   "execution_count": 14,
   "id": "9616353f-c177-484f-9d2a-3d7385f27678",
   "metadata": {},
   "outputs": [
    {
     "data": {
      "text/plain": [
       "'e'"
      ]
     },
     "execution_count": 14,
     "metadata": {},
     "output_type": "execute_result"
    }
   ],
   "source": [
    "b[-1]"
   ]
  },
  {
   "cell_type": "code",
   "execution_count": 15,
   "id": "c8472bff-ce5c-4048-b994-cabbb31a47c1",
   "metadata": {},
   "outputs": [
    {
     "ename": "IndexError",
     "evalue": "string index out of range",
     "output_type": "error",
     "traceback": [
      "\u001b[0;31m---------------------------------------------------------------------------\u001b[0m",
      "\u001b[0;31mIndexError\u001b[0m                                Traceback (most recent call last)",
      "Cell \u001b[0;32mIn[15], line 1\u001b[0m\n\u001b[0;32m----> 1\u001b[0m b[\u001b[38;5;241m-\u001b[39m\u001b[38;5;241m100\u001b[39m]\n",
      "\u001b[0;31mIndexError\u001b[0m: string index out of range"
     ]
    }
   ],
   "source": [
    "b[-100]"
   ]
  },
  {
   "cell_type": "code",
   "execution_count": 16,
   "id": "04447d3a-ee7b-4996-90e5-feb6989807da",
   "metadata": {},
   "outputs": [
    {
     "data": {
      "text/plain": [
       "''"
      ]
     },
     "execution_count": 16,
     "metadata": {},
     "output_type": "execute_result"
    }
   ],
   "source": [
    "b[-1:-5]"
   ]
  },
  {
   "cell_type": "code",
   "execution_count": 17,
   "id": "172950c3-63ca-4728-8f01-50d64896938d",
   "metadata": {},
   "outputs": [
    {
     "data": {
      "text/plain": [
       "'this '"
      ]
     },
     "execution_count": 17,
     "metadata": {},
     "output_type": "execute_result"
    }
   ],
   "source": [
    "b[0:5]"
   ]
  },
  {
   "cell_type": "code",
   "execution_count": 18,
   "id": "e2dfaf44-83ec-4c35-a908-0cda869fb7c9",
   "metadata": {},
   "outputs": [
    {
     "data": {
      "text/plain": [
       "'this is a village'"
      ]
     },
     "execution_count": 18,
     "metadata": {},
     "output_type": "execute_result"
    }
   ],
   "source": [
    "b[0:100:1]"
   ]
  },
  {
   "cell_type": "code",
   "execution_count": 19,
   "id": "4908ec35-6531-41e4-8caf-8a4e07e020c6",
   "metadata": {},
   "outputs": [
    {
     "data": {
      "text/plain": [
       "'ti savlae'"
      ]
     },
     "execution_count": 19,
     "metadata": {},
     "output_type": "execute_result"
    }
   ],
   "source": [
    "b[0:100:2]"
   ]
  },
  {
   "cell_type": "code",
   "execution_count": 20,
   "id": "1a4fca38-bb3b-473d-8021-00174f46ca16",
   "metadata": {},
   "outputs": [],
   "source": [
    "a = \"village\""
   ]
  },
  {
   "cell_type": "code",
   "execution_count": 21,
   "id": "bafceff6-7c99-420f-acc6-803e4544858b",
   "metadata": {},
   "outputs": [
    {
     "data": {
      "text/plain": [
       "''"
      ]
     },
     "execution_count": 21,
     "metadata": {},
     "output_type": "execute_result"
    }
   ],
   "source": [
    "a[0:100:-1]"
   ]
  },
  {
   "cell_type": "code",
   "execution_count": 22,
   "id": "ffd1c5fe-f9df-42ec-9fc2-a67106b0d52b",
   "metadata": {},
   "outputs": [
    {
     "data": {
      "text/plain": [
       "''"
      ]
     },
     "execution_count": 22,
     "metadata": {},
     "output_type": "execute_result"
    }
   ],
   "source": [
    "a[-1:-4]"
   ]
  },
  {
   "cell_type": "code",
   "execution_count": 23,
   "id": "be2e96f6-849b-4ad9-94e4-2d9f09394c6e",
   "metadata": {},
   "outputs": [
    {
     "data": {
      "text/plain": [
       "'ega'"
      ]
     },
     "execution_count": 23,
     "metadata": {},
     "output_type": "execute_result"
    }
   ],
   "source": [
    "a[-1:-4:-1]"
   ]
  },
  {
   "cell_type": "code",
   "execution_count": 24,
   "id": "e009f63d-f50c-4d28-8e16-f8437108ad41",
   "metadata": {},
   "outputs": [
    {
     "data": {
      "text/plain": [
       "'v'"
      ]
     },
     "execution_count": 24,
     "metadata": {},
     "output_type": "execute_result"
    }
   ],
   "source": [
    "a[0:-10:-1]"
   ]
  },
  {
   "cell_type": "code",
   "execution_count": 25,
   "id": "7eaa7cb9-832a-4915-a79b-4cc50bb6621c",
   "metadata": {},
   "outputs": [
    {
     "data": {
      "text/plain": [
       "'this is a village'"
      ]
     },
     "execution_count": 25,
     "metadata": {},
     "output_type": "execute_result"
    }
   ],
   "source": [
    "b[::]"
   ]
  },
  {
   "cell_type": "code",
   "execution_count": 26,
   "id": "45f0d7ac-791e-42e2-baa7-6f391fa58970",
   "metadata": {},
   "outputs": [
    {
     "data": {
      "text/plain": [
       "'village'"
      ]
     },
     "execution_count": 26,
     "metadata": {},
     "output_type": "execute_result"
    }
   ],
   "source": [
    "a[::]"
   ]
  },
  {
   "cell_type": "code",
   "execution_count": 27,
   "id": "cf8a33d2-ff1d-414c-9e2a-869b5296684d",
   "metadata": {},
   "outputs": [
    {
     "data": {
      "text/plain": [
       "'ge'"
      ]
     },
     "execution_count": 27,
     "metadata": {},
     "output_type": "execute_result"
    }
   ],
   "source": [
    "a[-2:]"
   ]
  },
  {
   "cell_type": "code",
   "execution_count": 28,
   "id": "6b2c11fd-10e3-4a5c-be56-fc80c4308c90",
   "metadata": {},
   "outputs": [
    {
     "data": {
      "text/plain": [
       "'egalliv'"
      ]
     },
     "execution_count": 28,
     "metadata": {},
     "output_type": "execute_result"
    }
   ],
   "source": [
    "a[::-1]"
   ]
  },
  {
   "cell_type": "code",
   "execution_count": 29,
   "id": "5bf2b8e0-54be-43be-b01a-6a0bfe770ddf",
   "metadata": {},
   "outputs": [
    {
     "data": {
      "text/plain": [
       "'g'"
      ]
     },
     "execution_count": 29,
     "metadata": {},
     "output_type": "execute_result"
    }
   ],
   "source": [
    "a[-2:-1]"
   ]
  },
  {
   "cell_type": "code",
   "execution_count": 30,
   "id": "37f489c2-9165-49ea-a768-fb6a992c130b",
   "metadata": {},
   "outputs": [
    {
     "data": {
      "text/plain": [
       "'egalliv'"
      ]
     },
     "execution_count": 30,
     "metadata": {},
     "output_type": "execute_result"
    }
   ],
   "source": [
    "a[-1::-1]"
   ]
  },
  {
   "cell_type": "code",
   "execution_count": 31,
   "id": "a0470c71-f2b1-4d53-bf9b-fc9cd05ee72b",
   "metadata": {},
   "outputs": [
    {
     "data": {
      "text/plain": [
       "'vlae'"
      ]
     },
     "execution_count": 31,
     "metadata": {},
     "output_type": "execute_result"
    }
   ],
   "source": [
    "a[::2]"
   ]
  },
  {
   "cell_type": "code",
   "execution_count": 32,
   "id": "f8975f9b-6708-4393-a983-f083e0d36df9",
   "metadata": {},
   "outputs": [
    {
     "data": {
      "text/plain": [
       "'villagevillagevillage'"
      ]
     },
     "execution_count": 32,
     "metadata": {},
     "output_type": "execute_result"
    }
   ],
   "source": [
    "\"village\" * 3"
   ]
  },
  {
   "cell_type": "code",
   "execution_count": 33,
   "id": "37902747-ef7e-45da-82eb-696f69ab6c95",
   "metadata": {},
   "outputs": [
    {
     "data": {
      "text/plain": [
       "'pythonprogramming'"
      ]
     },
     "execution_count": 33,
     "metadata": {},
     "output_type": "execute_result"
    }
   ],
   "source": [
    "\"python\" + \"programming\""
   ]
  },
  {
   "cell_type": "code",
   "execution_count": 34,
   "id": "973a4f89-9fb2-4c64-93b7-1f83673494f1",
   "metadata": {},
   "outputs": [
    {
     "data": {
      "text/plain": [
       "'village'"
      ]
     },
     "execution_count": 34,
     "metadata": {},
     "output_type": "execute_result"
    }
   ],
   "source": [
    "a"
   ]
  },
  {
   "cell_type": "code",
   "execution_count": 42,
   "id": "3aace1c3-85a4-4ed4-a593-bd53b73f0256",
   "metadata": {},
   "outputs": [
    {
     "data": {
      "text/plain": [
       "7"
      ]
     },
     "execution_count": 42,
     "metadata": {},
     "output_type": "execute_result"
    }
   ],
   "source": [
    "len(a)"
   ]
  },
  {
   "cell_type": "code",
   "execution_count": 36,
   "id": "ebf943e0-879d-45ce-8607-323d3491c8ca",
   "metadata": {},
   "outputs": [
    {
     "ename": "TypeError",
     "evalue": "can't multiply sequence by non-int of type 'str'",
     "output_type": "error",
     "traceback": [
      "\u001b[0;31m---------------------------------------------------------------------------\u001b[0m",
      "\u001b[0;31mTypeError\u001b[0m                                 Traceback (most recent call last)",
      "Cell \u001b[0;32mIn[36], line 1\u001b[0m\n\u001b[0;32m----> 1\u001b[0m \u001b[38;5;124m\"\u001b[39m\u001b[38;5;124mvillage\u001b[39m\u001b[38;5;124m\"\u001b[39m \u001b[38;5;241m*\u001b[39m \u001b[38;5;124m\"\u001b[39m\u001b[38;5;124mvillage\u001b[39m\u001b[38;5;124m\"\u001b[39m\n",
      "\u001b[0;31mTypeError\u001b[0m: can't multiply sequence by non-int of type 'str'"
     ]
    }
   ],
   "source": [
    "\"village\" * \"village\""
   ]
  },
  {
   "cell_type": "code",
   "execution_count": 37,
   "id": "74c1d252-cbb5-4073-85ea-bf5a4b3517e0",
   "metadata": {},
   "outputs": [
    {
     "data": {
      "text/plain": [
       "4"
      ]
     },
     "execution_count": 37,
     "metadata": {},
     "output_type": "execute_result"
    }
   ],
   "source": [
    "a.find(\"a\")"
   ]
  },
  {
   "cell_type": "code",
   "execution_count": 38,
   "id": "2d83cd3e-ba82-424b-9445-c78ef9ec3022",
   "metadata": {},
   "outputs": [
    {
     "data": {
      "text/plain": [
       "2"
      ]
     },
     "execution_count": 38,
     "metadata": {},
     "output_type": "execute_result"
    }
   ],
   "source": [
    "a.find(\"l\")"
   ]
  },
  {
   "cell_type": "code",
   "execution_count": 39,
   "id": "2465352c-e234-4db3-bb0d-211f43c0bdb6",
   "metadata": {},
   "outputs": [
    {
     "data": {
      "text/plain": [
       "1"
      ]
     },
     "execution_count": 39,
     "metadata": {},
     "output_type": "execute_result"
    }
   ],
   "source": [
    "a.find(\"il\")"
   ]
  },
  {
   "cell_type": "code",
   "execution_count": 40,
   "id": "0791f1ae-11f9-4a9b-8a75-45647b400caa",
   "metadata": {},
   "outputs": [
    {
     "data": {
      "text/plain": [
       "-1"
      ]
     },
     "execution_count": 40,
     "metadata": {},
     "output_type": "execute_result"
    }
   ],
   "source": [
    "a.find(\"ia\")"
   ]
  },
  {
   "cell_type": "code",
   "execution_count": 41,
   "id": "ebfd81a5-014d-4fde-9271-d33fd2edc3da",
   "metadata": {},
   "outputs": [
    {
     "data": {
      "text/plain": [
       "2"
      ]
     },
     "execution_count": 41,
     "metadata": {},
     "output_type": "execute_result"
    }
   ],
   "source": [
    "a.count(\"l\")"
   ]
  },
  {
   "cell_type": "code",
   "execution_count": 43,
   "id": "ed971f8e-05a9-4057-ba8b-ef8d3749bded",
   "metadata": {},
   "outputs": [
    {
     "data": {
      "text/plain": [
       "0"
      ]
     },
     "execution_count": 43,
     "metadata": {},
     "output_type": "execute_result"
    }
   ],
   "source": [
    "a.count(\"o\")"
   ]
  },
  {
   "cell_type": "code",
   "execution_count": 44,
   "id": "61d6186a-c710-4457-87b1-9ba01d01d71a",
   "metadata": {},
   "outputs": [],
   "source": [
    "a = \"i am working on a project\""
   ]
  },
  {
   "cell_type": "code",
   "execution_count": 45,
   "id": "d3961d4d-ada3-4965-a692-a9526c906bfe",
   "metadata": {},
   "outputs": [
    {
     "data": {
      "text/plain": [
       "'i am working on a project'"
      ]
     },
     "execution_count": 45,
     "metadata": {},
     "output_type": "execute_result"
    }
   ],
   "source": [
    "a"
   ]
  },
  {
   "cell_type": "code",
   "execution_count": 46,
   "id": "478802cb-2531-490d-b5b2-f22694e70144",
   "metadata": {},
   "outputs": [
    {
     "data": {
      "text/plain": [
       "['i', 'am', 'working', 'on', 'a', 'project']"
      ]
     },
     "execution_count": 46,
     "metadata": {},
     "output_type": "execute_result"
    }
   ],
   "source": [
    "a.split()"
   ]
  },
  {
   "cell_type": "code",
   "execution_count": 47,
   "id": "61b97685-8647-4230-970a-16f822b67f33",
   "metadata": {},
   "outputs": [
    {
     "data": {
      "text/plain": [
       "list"
      ]
     },
     "execution_count": 47,
     "metadata": {},
     "output_type": "execute_result"
    }
   ],
   "source": [
    "type(a.split())"
   ]
  },
  {
   "cell_type": "code",
   "execution_count": 48,
   "id": "45378d15-9987-4712-9ad8-21bf288d3a6d",
   "metadata": {},
   "outputs": [],
   "source": [
    "l = a.split()"
   ]
  },
  {
   "cell_type": "code",
   "execution_count": 49,
   "id": "bd0bd6aa-688a-4308-bb38-1e2213c555c0",
   "metadata": {},
   "outputs": [
    {
     "data": {
      "text/plain": [
       "['i', 'am', 'working', 'on', 'a', 'project']"
      ]
     },
     "execution_count": 49,
     "metadata": {},
     "output_type": "execute_result"
    }
   ],
   "source": [
    "l"
   ]
  },
  {
   "cell_type": "code",
   "execution_count": 50,
   "id": "c16bbd75-5d13-4c31-a7ad-74b0cca324f5",
   "metadata": {},
   "outputs": [
    {
     "data": {
      "text/plain": [
       "'i'"
      ]
     },
     "execution_count": 50,
     "metadata": {},
     "output_type": "execute_result"
    }
   ],
   "source": [
    "l[0]"
   ]
  },
  {
   "cell_type": "code",
   "execution_count": 51,
   "id": "fd2fc588-048a-47a1-b00c-9566578d7530",
   "metadata": {},
   "outputs": [
    {
     "data": {
      "text/plain": [
       "'working'"
      ]
     },
     "execution_count": 51,
     "metadata": {},
     "output_type": "execute_result"
    }
   ],
   "source": [
    "l[2]"
   ]
  },
  {
   "cell_type": "code",
   "execution_count": 52,
   "id": "c5e03e4f-f718-4775-8d96-85f814c39ffc",
   "metadata": {},
   "outputs": [
    {
     "data": {
      "text/plain": [
       "['i', 'am', 'working', 'on']"
      ]
     },
     "execution_count": 52,
     "metadata": {},
     "output_type": "execute_result"
    }
   ],
   "source": [
    "l[0:4]"
   ]
  },
  {
   "cell_type": "code",
   "execution_count": 53,
   "id": "b66b651f-cf11-4ea1-be71-4879d0c20548",
   "metadata": {},
   "outputs": [
    {
     "data": {
      "text/plain": [
       "['i am wo', 'king on a p', 'oject']"
      ]
     },
     "execution_count": 53,
     "metadata": {},
     "output_type": "execute_result"
    }
   ],
   "source": [
    "a.split(\"r\")"
   ]
  },
  {
   "cell_type": "code",
   "execution_count": 54,
   "id": "73067573-ca66-4e5a-9395-8985e44dd100",
   "metadata": {},
   "outputs": [
    {
     "data": {
      "text/plain": [
       "'i am working on a project'"
      ]
     },
     "execution_count": 54,
     "metadata": {},
     "output_type": "execute_result"
    }
   ],
   "source": [
    "a"
   ]
  },
  {
   "cell_type": "code",
   "execution_count": 55,
   "id": "93580d04-3dba-4a80-a698-6350afff3ec9",
   "metadata": {},
   "outputs": [
    {
     "data": {
      "text/plain": [
       "'I AM WORKING ON A PROJECT'"
      ]
     },
     "execution_count": 55,
     "metadata": {},
     "output_type": "execute_result"
    }
   ],
   "source": [
    "a.upper()"
   ]
  },
  {
   "cell_type": "code",
   "execution_count": 56,
   "id": "51e4ce30-f0ac-404d-8adf-e9dba8bee9e4",
   "metadata": {},
   "outputs": [
    {
     "data": {
      "text/plain": [
       "'i am working on a project'"
      ]
     },
     "execution_count": 56,
     "metadata": {},
     "output_type": "execute_result"
    }
   ],
   "source": [
    "a.lower()"
   ]
  },
  {
   "cell_type": "code",
   "execution_count": 57,
   "id": "166ce734-9ed4-41f2-8b1e-98a0b7c9b082",
   "metadata": {},
   "outputs": [],
   "source": [
    "a = \"i aM woRKinG on A PROjeCt\""
   ]
  },
  {
   "cell_type": "code",
   "execution_count": 58,
   "id": "7698f150-0f59-491a-aff4-cdb212027fe8",
   "metadata": {},
   "outputs": [
    {
     "data": {
      "text/plain": [
       "'i aM woRKinG on A PROjeCt'"
      ]
     },
     "execution_count": 58,
     "metadata": {},
     "output_type": "execute_result"
    }
   ],
   "source": [
    "a"
   ]
  },
  {
   "cell_type": "code",
   "execution_count": 59,
   "id": "cd88e9b6-c678-4645-bc06-6ec80f369458",
   "metadata": {},
   "outputs": [
    {
     "data": {
      "text/plain": [
       "'I Am WOrkINg ON a proJEcT'"
      ]
     },
     "execution_count": 59,
     "metadata": {},
     "output_type": "execute_result"
    }
   ],
   "source": [
    "a.swapcase()"
   ]
  },
  {
   "cell_type": "code",
   "execution_count": 60,
   "id": "1aa4857f-5cee-41d4-9db4-2479c9cde39f",
   "metadata": {},
   "outputs": [
    {
     "data": {
      "text/plain": [
       "'I AM WORKING ON A PROJECT'"
      ]
     },
     "execution_count": 60,
     "metadata": {},
     "output_type": "execute_result"
    }
   ],
   "source": [
    "a.upper()"
   ]
  },
  {
   "cell_type": "code",
   "execution_count": 61,
   "id": "a38d4c22-ffe1-4383-a2b1-6934eca66440",
   "metadata": {},
   "outputs": [
    {
     "data": {
      "text/plain": [
       "'i am working on a project'"
      ]
     },
     "execution_count": 61,
     "metadata": {},
     "output_type": "execute_result"
    }
   ],
   "source": [
    "a.lower()"
   ]
  },
  {
   "cell_type": "code",
   "execution_count": 62,
   "id": "66656cb2-f49a-477a-af51-befcd3ca1530",
   "metadata": {},
   "outputs": [
    {
     "data": {
      "text/plain": [
       "'I Am Working On A Project'"
      ]
     },
     "execution_count": 62,
     "metadata": {},
     "output_type": "execute_result"
    }
   ],
   "source": [
    "a.title()"
   ]
  },
  {
   "cell_type": "code",
   "execution_count": 63,
   "id": "5b14d8f8-ab18-4dbc-85b8-4e3458d55eef",
   "metadata": {},
   "outputs": [
    {
     "data": {
      "text/plain": [
       "'I am working on a project'"
      ]
     },
     "execution_count": 63,
     "metadata": {},
     "output_type": "execute_result"
    }
   ],
   "source": [
    "a.capitalize()"
   ]
  },
  {
   "cell_type": "code",
   "execution_count": 65,
   "id": "3be21c4c-550a-4e9f-8e5b-2a23ab068462",
   "metadata": {},
   "outputs": [],
   "source": [
    "b = \"python\"\n",
    "c = \"programming\""
   ]
  },
  {
   "cell_type": "code",
   "execution_count": 66,
   "id": "cb615aa3-1701-4f54-94df-7ae5e3c98109",
   "metadata": {},
   "outputs": [
    {
     "data": {
      "text/plain": [
       "'ppythonrpythonopythongpythonrpythonapythonmpythonmpythonipythonnpythong'"
      ]
     },
     "execution_count": 66,
     "metadata": {},
     "output_type": "execute_result"
    }
   ],
   "source": [
    "b.join(c)"
   ]
  },
  {
   "cell_type": "code",
   "execution_count": 67,
   "id": "6ad552c0-ac74-45ac-bf3b-619687d0e250",
   "metadata": {},
   "outputs": [
    {
     "ename": "TypeError",
     "evalue": "can only join an iterable",
     "output_type": "error",
     "traceback": [
      "\u001b[0;31m---------------------------------------------------------------------------\u001b[0m",
      "\u001b[0;31mTypeError\u001b[0m                                 Traceback (most recent call last)",
      "Cell \u001b[0;32mIn[67], line 3\u001b[0m\n\u001b[1;32m      1\u001b[0m b \u001b[38;5;241m=\u001b[39m \u001b[38;5;124m\"\u001b[39m\u001b[38;5;124mpython\u001b[39m\u001b[38;5;124m\"\u001b[39m\n\u001b[1;32m      2\u001b[0m c \u001b[38;5;241m=\u001b[39m \u001b[38;5;241m12345\u001b[39m\n\u001b[0;32m----> 3\u001b[0m b\u001b[38;5;241m.\u001b[39mjoin(c)\n",
      "\u001b[0;31mTypeError\u001b[0m: can only join an iterable"
     ]
    }
   ],
   "source": [
    "b = \"python\"\n",
    "c = 12345\n",
    "b.join(c)"
   ]
  },
  {
   "cell_type": "code",
   "execution_count": 68,
   "id": "4d71331e-d62b-49dd-ae5d-20152cd0b20d",
   "metadata": {},
   "outputs": [
    {
     "data": {
      "text/plain": [
       "'1python2python3python4python5'"
      ]
     },
     "execution_count": 68,
     "metadata": {},
     "output_type": "execute_result"
    }
   ],
   "source": [
    "b = \"python\"\n",
    "c = \"12345\"\n",
    "b.join(c)"
   ]
  },
  {
   "cell_type": "code",
   "execution_count": 69,
   "id": "f9cb6980-f795-4417-808f-6ca9fa0a3038",
   "metadata": {},
   "outputs": [
    {
     "data": {
      "text/plain": [
       "'p y t h o n'"
      ]
     },
     "execution_count": 69,
     "metadata": {},
     "output_type": "execute_result"
    }
   ],
   "source": [
    "\" \".join(b)"
   ]
  },
  {
   "cell_type": "code",
   "execution_count": 70,
   "id": "4f00d5f0-a5ca-487b-9145-2b6f73e98390",
   "metadata": {},
   "outputs": [
    {
     "data": {
      "text/plain": [
       "<reversed at 0x764d2f6a7bb0>"
      ]
     },
     "execution_count": 70,
     "metadata": {},
     "output_type": "execute_result"
    }
   ],
   "source": [
    "reversed(a)"
   ]
  },
  {
   "cell_type": "code",
   "execution_count": 71,
   "id": "47099535-fa0d-4899-9e11-28c93eb4b995",
   "metadata": {},
   "outputs": [
    {
     "name": "stdout",
     "output_type": "stream",
     "text": [
      "t\n",
      "C\n",
      "e\n",
      "j\n",
      "O\n",
      "R\n",
      "P\n",
      " \n",
      "A\n",
      " \n",
      "n\n",
      "o\n",
      " \n",
      "G\n",
      "n\n",
      "i\n",
      "K\n",
      "R\n",
      "o\n",
      "w\n",
      " \n",
      "M\n",
      "a\n",
      " \n",
      "i\n"
     ]
    }
   ],
   "source": [
    "for i in reversed(a):\n",
    "    print(i)"
   ]
  },
  {
   "cell_type": "code",
   "execution_count": 72,
   "id": "d5c47c21-74cc-4428-88d7-3ec520b7355e",
   "metadata": {},
   "outputs": [
    {
     "data": {
      "text/plain": [
       "'tCejORP A no GniKRow Ma i'"
      ]
     },
     "execution_count": 72,
     "metadata": {},
     "output_type": "execute_result"
    }
   ],
   "source": [
    "a[::-1]"
   ]
  },
  {
   "cell_type": "code",
   "execution_count": 73,
   "id": "fcdab2f1-a7eb-40bf-b54b-8f4de9b000e7",
   "metadata": {},
   "outputs": [],
   "source": [
    "a = \"     python     \""
   ]
  },
  {
   "cell_type": "code",
   "execution_count": 74,
   "id": "25c710fd-d6f4-480c-b68d-7dcc0f3ab314",
   "metadata": {},
   "outputs": [
    {
     "data": {
      "text/plain": [
       "'     python     '"
      ]
     },
     "execution_count": 74,
     "metadata": {},
     "output_type": "execute_result"
    }
   ],
   "source": [
    "a"
   ]
  },
  {
   "cell_type": "code",
   "execution_count": 75,
   "id": "4b1aa14e-3cf9-410b-af32-045e0a484227",
   "metadata": {},
   "outputs": [
    {
     "data": {
      "text/plain": [
       "'python     '"
      ]
     },
     "execution_count": 75,
     "metadata": {},
     "output_type": "execute_result"
    }
   ],
   "source": [
    "a.lstrip()"
   ]
  },
  {
   "cell_type": "code",
   "execution_count": 76,
   "id": "2d761a98-7506-4bf2-a5a3-5a3a46257f39",
   "metadata": {},
   "outputs": [
    {
     "data": {
      "text/plain": [
       "'     python'"
      ]
     },
     "execution_count": 76,
     "metadata": {},
     "output_type": "execute_result"
    }
   ],
   "source": [
    "a.rstrip()"
   ]
  },
  {
   "cell_type": "code",
   "execution_count": 77,
   "id": "c535399e-d5d6-44d3-944e-ff729d056e00",
   "metadata": {},
   "outputs": [
    {
     "data": {
      "text/plain": [
       "'python'"
      ]
     },
     "execution_count": 77,
     "metadata": {},
     "output_type": "execute_result"
    }
   ],
   "source": [
    "a.strip()"
   ]
  },
  {
   "cell_type": "code",
   "execution_count": 79,
   "id": "fb06ed36-6319-4568-9a70-44266036c689",
   "metadata": {},
   "outputs": [
    {
     "data": {
      "text/plain": [
       "'     Python     '"
      ]
     },
     "execution_count": 79,
     "metadata": {},
     "output_type": "execute_result"
    }
   ],
   "source": [
    "a.replace(\"p\", \"P\")"
   ]
  },
  {
   "cell_type": "code",
   "execution_count": 80,
   "id": "88b1d537-2c74-4e6b-a9ff-c308df6089ee",
   "metadata": {},
   "outputs": [
    {
     "data": {
      "text/plain": [
       "'programming     language'"
      ]
     },
     "execution_count": 80,
     "metadata": {},
     "output_type": "execute_result"
    }
   ],
   "source": [
    "\"programming\\tlanguage\".expandtabs()"
   ]
  },
  {
   "cell_type": "code",
   "execution_count": 81,
   "id": "234ecdea-a1d5-422e-96bd-bb2c838dae62",
   "metadata": {},
   "outputs": [],
   "source": [
    "a = \"python\""
   ]
  },
  {
   "cell_type": "code",
   "execution_count": 82,
   "id": "5c2dbbb2-1d66-484d-b92e-cc43cebff084",
   "metadata": {},
   "outputs": [
    {
     "data": {
      "text/plain": [
       "'*****************python*****************'"
      ]
     },
     "execution_count": 82,
     "metadata": {},
     "output_type": "execute_result"
    }
   ],
   "source": [
    "a.center(40, \"*\")"
   ]
  },
  {
   "cell_type": "code",
   "execution_count": 83,
   "id": "e179203c-454d-44f1-8d5e-ffe408234b53",
   "metadata": {},
   "outputs": [
    {
     "ename": "TypeError",
     "evalue": "The fill character must be exactly one character long",
     "output_type": "error",
     "traceback": [
      "\u001b[0;31m---------------------------------------------------------------------------\u001b[0m",
      "\u001b[0;31mTypeError\u001b[0m                                 Traceback (most recent call last)",
      "Cell \u001b[0;32mIn[83], line 1\u001b[0m\n\u001b[0;32m----> 1\u001b[0m a\u001b[38;5;241m.\u001b[39mcenter(\u001b[38;5;241m40\u001b[39m, \u001b[38;5;124m\"\u001b[39m\u001b[38;5;124m@#\u001b[39m\u001b[38;5;124m\"\u001b[39m)\n",
      "\u001b[0;31mTypeError\u001b[0m: The fill character must be exactly one character long"
     ]
    }
   ],
   "source": [
    "a.center(40, \"@#\")"
   ]
  },
  {
   "cell_type": "code",
   "execution_count": 84,
   "id": "05fec8af-d6fb-43ca-9d38-7e2fd04e3e2a",
   "metadata": {},
   "outputs": [
    {
     "data": {
      "text/plain": [
       "False"
      ]
     },
     "execution_count": 84,
     "metadata": {},
     "output_type": "execute_result"
    }
   ],
   "source": [
    " a.isupper()"
   ]
  },
  {
   "cell_type": "code",
   "execution_count": 85,
   "id": "afe9a5a6-6096-4710-b104-79d21d2782e1",
   "metadata": {},
   "outputs": [
    {
     "data": {
      "text/plain": [
       "True"
      ]
     },
     "execution_count": 85,
     "metadata": {},
     "output_type": "execute_result"
    }
   ],
   "source": [
    "a.islower()"
   ]
  },
  {
   "cell_type": "code",
   "execution_count": 86,
   "id": "c59d2c02-afd9-4bea-91cb-c3d413004edd",
   "metadata": {},
   "outputs": [
    {
     "data": {
      "text/plain": [
       "False"
      ]
     },
     "execution_count": 86,
     "metadata": {},
     "output_type": "execute_result"
    }
   ],
   "source": [
    "a.isspace()"
   ]
  },
  {
   "cell_type": "code",
   "execution_count": 87,
   "id": "00dd958e-5253-43aa-8ad6-455a0e682f39",
   "metadata": {},
   "outputs": [],
   "source": [
    "b = \"     code\"\n",
    "c = \"     \""
   ]
  },
  {
   "cell_type": "code",
   "execution_count": 88,
   "id": "7e5dcc4b-c212-4b8c-8dce-1e466fd7362c",
   "metadata": {},
   "outputs": [
    {
     "data": {
      "text/plain": [
       "False"
      ]
     },
     "execution_count": 88,
     "metadata": {},
     "output_type": "execute_result"
    }
   ],
   "source": [
    "b.isspace()"
   ]
  },
  {
   "cell_type": "code",
   "execution_count": 89,
   "id": "a20865b7-f41d-4f04-9095-bcd12a87629f",
   "metadata": {},
   "outputs": [
    {
     "data": {
      "text/plain": [
       "True"
      ]
     },
     "execution_count": 89,
     "metadata": {},
     "output_type": "execute_result"
    }
   ],
   "source": [
    "c.isspace()"
   ]
  },
  {
   "cell_type": "code",
   "execution_count": 90,
   "id": "6d421988-3259-4e8d-8c4b-5b34c485062d",
   "metadata": {},
   "outputs": [
    {
     "data": {
      "text/plain": [
       "False"
      ]
     },
     "execution_count": 90,
     "metadata": {},
     "output_type": "execute_result"
    }
   ],
   "source": [
    "a.isdigit()"
   ]
  },
  {
   "cell_type": "code",
   "execution_count": 91,
   "id": "d9ae7bf5-ec65-4a23-ab58-b6a98e736c74",
   "metadata": {},
   "outputs": [
    {
     "data": {
      "text/plain": [
       "True"
      ]
     },
     "execution_count": 91,
     "metadata": {},
     "output_type": "execute_result"
    }
   ],
   "source": [
    "d = \"4567\"\n",
    "d.isdigit()"
   ]
  },
  {
   "cell_type": "code",
   "execution_count": 92,
   "id": "232ffaab-9f12-4737-89eb-eb51b59ba8f4",
   "metadata": {},
   "outputs": [
    {
     "data": {
      "text/plain": [
       "True"
      ]
     },
     "execution_count": 92,
     "metadata": {},
     "output_type": "execute_result"
    }
   ],
   "source": [
    "a.endswith(\"n\")"
   ]
  },
  {
   "cell_type": "code",
   "execution_count": 93,
   "id": "c51ea649-4098-4f3f-a6e2-793337a0f831",
   "metadata": {},
   "outputs": [
    {
     "data": {
      "text/plain": [
       "False"
      ]
     },
     "execution_count": 93,
     "metadata": {},
     "output_type": "execute_result"
    }
   ],
   "source": [
    "a.startswith(\"P\")"
   ]
  },
  {
   "cell_type": "code",
   "execution_count": 95,
   "id": "5d1a3d38-1b52-4748-b50a-a3af6831ea05",
   "metadata": {},
   "outputs": [
    {
     "data": {
      "text/plain": [
       "True"
      ]
     },
     "execution_count": 95,
     "metadata": {},
     "output_type": "execute_result"
    }
   ],
   "source": [
    "a.startswith(\"p\")"
   ]
  },
  {
   "cell_type": "code",
   "execution_count": 96,
   "id": "2fa41e81-2dba-4503-bc5e-b5c662e8d0a7",
   "metadata": {},
   "outputs": [
    {
     "data": {
      "text/plain": [
       "b'python'"
      ]
     },
     "execution_count": 96,
     "metadata": {},
     "output_type": "execute_result"
    }
   ],
   "source": [
    "a.encode()"
   ]
  },
  {
   "cell_type": "code",
   "execution_count": 97,
   "id": "3958cb87-c78b-4be3-ba24-6717573ae14e",
   "metadata": {},
   "outputs": [
    {
     "ename": "LookupError",
     "evalue": "unknown encoding: JIS X 0201",
     "output_type": "error",
     "traceback": [
      "\u001b[0;31m---------------------------------------------------------------------------\u001b[0m",
      "\u001b[0;31mLookupError\u001b[0m                               Traceback (most recent call last)",
      "Cell \u001b[0;32mIn[97], line 1\u001b[0m\n\u001b[0;32m----> 1\u001b[0m a\u001b[38;5;241m.\u001b[39mencode(\u001b[38;5;124m\"\u001b[39m\u001b[38;5;124mJIS X 0201\u001b[39m\u001b[38;5;124m\"\u001b[39m)\n",
      "\u001b[0;31mLookupError\u001b[0m: unknown encoding: JIS X 0201"
     ]
    }
   ],
   "source": [
    "a.encode(\"JIS X 0201\") # Shift JIS encoding --> japanese encoding"
   ]
  },
  {
   "cell_type": "code",
   "execution_count": 98,
   "id": "2c65b1c2-1ae0-43f7-aab0-8be8097bca4a",
   "metadata": {},
   "outputs": [],
   "source": [
    "l = [\"code\", \"python\", 12345, 2+5j, True, 25.65]"
   ]
  },
  {
   "cell_type": "code",
   "execution_count": 99,
   "id": "7eacbffb-9579-46f6-889c-ddc4cabeffa3",
   "metadata": {},
   "outputs": [
    {
     "data": {
      "text/plain": [
       "list"
      ]
     },
     "execution_count": 99,
     "metadata": {},
     "output_type": "execute_result"
    }
   ],
   "source": [
    "type(l)"
   ]
  },
  {
   "cell_type": "code",
   "execution_count": 100,
   "id": "9bfe5dbc-1c03-425e-96bb-9c3c4fb6a195",
   "metadata": {},
   "outputs": [
    {
     "data": {
      "text/plain": [
       "['code', 'python', 12345, (2+5j)]"
      ]
     },
     "execution_count": 100,
     "metadata": {},
     "output_type": "execute_result"
    }
   ],
   "source": [
    "l[0:4]"
   ]
  },
  {
   "cell_type": "code",
   "execution_count": 101,
   "id": "6c7d6278-57d3-4756-a89a-5f8ac4e4e551",
   "metadata": {},
   "outputs": [
    {
     "data": {
      "text/plain": [
       "[25.65, True, (2+5j), 12345, 'python', 'code']"
      ]
     },
     "execution_count": 101,
     "metadata": {},
     "output_type": "execute_result"
    }
   ],
   "source": [
    "l[::-1]"
   ]
  },
  {
   "cell_type": "code",
   "execution_count": 102,
   "id": "7d64c7d7-d199-4f3c-9eb3-6137f91e6434",
   "metadata": {},
   "outputs": [
    {
     "data": {
      "text/plain": [
       "[25.65]"
      ]
     },
     "execution_count": 102,
     "metadata": {},
     "output_type": "execute_result"
    }
   ],
   "source": [
    "l[-1:6]"
   ]
  },
  {
   "cell_type": "code",
   "execution_count": 103,
   "id": "89b6cb4f-1f6e-4219-a640-19698f0e5ef8",
   "metadata": {},
   "outputs": [
    {
     "data": {
      "text/plain": [
       "'code'"
      ]
     },
     "execution_count": 103,
     "metadata": {},
     "output_type": "execute_result"
    }
   ],
   "source": [
    "l[0]"
   ]
  },
  {
   "cell_type": "code",
   "execution_count": 104,
   "id": "fd8a1429-3981-4494-8c03-4ff4ba36bc3e",
   "metadata": {},
   "outputs": [
    {
     "data": {
      "text/plain": [
       "str"
      ]
     },
     "execution_count": 104,
     "metadata": {},
     "output_type": "execute_result"
    }
   ],
   "source": [
    "type(l[0])"
   ]
  },
  {
   "cell_type": "code",
   "execution_count": 105,
   "id": "427466a6-5e1d-4ff7-bdc5-300e418a200c",
   "metadata": {},
   "outputs": [
    {
     "data": {
      "text/plain": [
       "bool"
      ]
     },
     "execution_count": 105,
     "metadata": {},
     "output_type": "execute_result"
    }
   ],
   "source": [
    "type(l[4])"
   ]
  },
  {
   "cell_type": "code",
   "execution_count": 106,
   "id": "97b02a01-7bf2-4b01-a6b3-119d6e2eeb7a",
   "metadata": {},
   "outputs": [
    {
     "data": {
      "text/plain": [
       "'o'"
      ]
     },
     "execution_count": 106,
     "metadata": {},
     "output_type": "execute_result"
    }
   ],
   "source": [
    "l[0][1]"
   ]
  },
  {
   "cell_type": "code",
   "execution_count": 108,
   "id": "93e7c8ca-2b67-46a0-933e-634789a8daa9",
   "metadata": {},
   "outputs": [
    {
     "data": {
      "text/plain": [
       "0"
      ]
     },
     "execution_count": 108,
     "metadata": {},
     "output_type": "execute_result"
    }
   ],
   "source": [
    "l[2].imag"
   ]
  },
  {
   "cell_type": "code",
   "execution_count": 109,
   "id": "f119420f-6ca4-45aa-9251-cebacf38b1cc",
   "metadata": {},
   "outputs": [
    {
     "data": {
      "text/plain": [
       "5.0"
      ]
     },
     "execution_count": 109,
     "metadata": {},
     "output_type": "execute_result"
    }
   ],
   "source": [
    "l[3].imag"
   ]
  },
  {
   "cell_type": "code",
   "execution_count": 111,
   "id": "e65a2d9b-2046-4eb5-8819-8a6c0298c521",
   "metadata": {},
   "outputs": [],
   "source": [
    "l1 = [\"code\", \"python\", 456]\n",
    "l2 = [\"xyz\", \"abc\", 1253.5]"
   ]
  },
  {
   "cell_type": "code",
   "execution_count": 112,
   "id": "9bf47c30-2e5b-4198-bb17-315b72905662",
   "metadata": {},
   "outputs": [
    {
     "data": {
      "text/plain": [
       "['code', 'python', 456, 'xyz', 'abc', 1253.5]"
      ]
     },
     "execution_count": 112,
     "metadata": {},
     "output_type": "execute_result"
    }
   ],
   "source": [
    "l1 + l2"
   ]
  },
  {
   "cell_type": "code",
   "execution_count": 113,
   "id": "c7069b1f-3799-42ec-a0c4-a99c414f6ff0",
   "metadata": {},
   "outputs": [
    {
     "ename": "TypeError",
     "evalue": "can only concatenate list (not \"str\") to list",
     "output_type": "error",
     "traceback": [
      "\u001b[0;31m---------------------------------------------------------------------------\u001b[0m",
      "\u001b[0;31mTypeError\u001b[0m                                 Traceback (most recent call last)",
      "Cell \u001b[0;32mIn[113], line 1\u001b[0m\n\u001b[0;32m----> 1\u001b[0m l1 \u001b[38;5;241m+\u001b[39m \u001b[38;5;124m\"\u001b[39m\u001b[38;5;124mlanguage\u001b[39m\u001b[38;5;124m\"\u001b[39m\n",
      "\u001b[0;31mTypeError\u001b[0m: can only concatenate list (not \"str\") to list"
     ]
    }
   ],
   "source": [
    "l1 + \"language\""
   ]
  },
  {
   "cell_type": "code",
   "execution_count": 114,
   "id": "5ecff8f1-75e7-42bd-8100-782a91080386",
   "metadata": {},
   "outputs": [
    {
     "data": {
      "text/plain": [
       "['code', 'python', 456, 'language']"
      ]
     },
     "execution_count": 114,
     "metadata": {},
     "output_type": "execute_result"
    }
   ],
   "source": [
    "l1 + [\"language\"]"
   ]
  },
  {
   "cell_type": "code",
   "execution_count": 115,
   "id": "f90a1463-ff1e-485b-89e8-c38641b57d66",
   "metadata": {},
   "outputs": [
    {
     "data": {
      "text/plain": [
       "['code',\n",
       " 'python',\n",
       " 456,\n",
       " 'code',\n",
       " 'python',\n",
       " 456,\n",
       " 'code',\n",
       " 'python',\n",
       " 456,\n",
       " 'code',\n",
       " 'python',\n",
       " 456]"
      ]
     },
     "execution_count": 115,
     "metadata": {},
     "output_type": "execute_result"
    }
   ],
   "source": [
    "l1 * 4"
   ]
  },
  {
   "cell_type": "code",
   "execution_count": 116,
   "id": "3639914b-5f3e-47f9-96f6-4e115eaf8827",
   "metadata": {},
   "outputs": [
    {
     "data": {
      "text/plain": [
       "['code', 'python', 456]"
      ]
     },
     "execution_count": 116,
     "metadata": {},
     "output_type": "execute_result"
    }
   ],
   "source": [
    "l1"
   ]
  },
  {
   "cell_type": "code",
   "execution_count": 117,
   "id": "d36fbc6d-9f11-40bd-82cf-411744eb2f01",
   "metadata": {},
   "outputs": [],
   "source": [
    "l1[0] = 123456"
   ]
  },
  {
   "cell_type": "code",
   "execution_count": 118,
   "id": "c951f657-25b0-4de4-8e88-3a352ab850f4",
   "metadata": {},
   "outputs": [
    {
     "data": {
      "text/plain": [
       "[123456, 'python', 456]"
      ]
     },
     "execution_count": 118,
     "metadata": {},
     "output_type": "execute_result"
    }
   ],
   "source": [
    "l1"
   ]
  },
  {
   "cell_type": "code",
   "execution_count": 119,
   "id": "c60b8cf7-9070-4419-baf2-377bdad62b8c",
   "metadata": {},
   "outputs": [
    {
     "data": {
      "text/plain": [
       "'python'"
      ]
     },
     "execution_count": 119,
     "metadata": {},
     "output_type": "execute_result"
    }
   ],
   "source": [
    "l1[1]"
   ]
  },
  {
   "cell_type": "code",
   "execution_count": 120,
   "id": "093eb11a-e62b-47ad-922c-b78b6a275524",
   "metadata": {},
   "outputs": [
    {
     "data": {
      "text/plain": [
       "'python'"
      ]
     },
     "execution_count": 120,
     "metadata": {},
     "output_type": "execute_result"
    }
   ],
   "source": [
    "a"
   ]
  },
  {
   "cell_type": "code",
   "execution_count": 121,
   "id": "09a6d22b-0d3e-4727-8396-4cb27897a827",
   "metadata": {},
   "outputs": [
    {
     "ename": "TypeError",
     "evalue": "'str' object does not support item assignment",
     "output_type": "error",
     "traceback": [
      "\u001b[0;31m---------------------------------------------------------------------------\u001b[0m",
      "\u001b[0;31mTypeError\u001b[0m                                 Traceback (most recent call last)",
      "Cell \u001b[0;32mIn[121], line 1\u001b[0m\n\u001b[0;32m----> 1\u001b[0m a[\u001b[38;5;241m0\u001b[39m] \u001b[38;5;241m=\u001b[39m \u001b[38;5;124m\"\u001b[39m\u001b[38;5;124mP\u001b[39m\u001b[38;5;124m\"\u001b[39m\n",
      "\u001b[0;31mTypeError\u001b[0m: 'str' object does not support item assignment"
     ]
    }
   ],
   "source": [
    "a[0] = \"P\""
   ]
  },
  {
   "cell_type": "code",
   "execution_count": 122,
   "id": "79851d38-d989-41c8-9f70-a3b6dd2b6fee",
   "metadata": {},
   "outputs": [
    {
     "data": {
      "text/plain": [
       "[123456, 'python', 456]"
      ]
     },
     "execution_count": 122,
     "metadata": {},
     "output_type": "execute_result"
    }
   ],
   "source": [
    "l1"
   ]
  },
  {
   "cell_type": "code",
   "execution_count": 123,
   "id": "075f9ec3-a7ff-4e04-bb48-0020ef824219",
   "metadata": {},
   "outputs": [],
   "source": [
    "l1[0] = \"mutability\""
   ]
  },
  {
   "cell_type": "code",
   "execution_count": 124,
   "id": "092c6f9e-2709-421f-8ea3-1648fdebb0a6",
   "metadata": {},
   "outputs": [
    {
     "data": {
      "text/plain": [
       "['mutability', 'python', 456]"
      ]
     },
     "execution_count": 124,
     "metadata": {},
     "output_type": "execute_result"
    }
   ],
   "source": [
    "l1"
   ]
  },
  {
   "cell_type": "code",
   "execution_count": 125,
   "id": "7cd2b5c2-1419-482f-a178-a7950c218aae",
   "metadata": {},
   "outputs": [
    {
     "ename": "TypeError",
     "evalue": "'str' object does not support item assignment",
     "output_type": "error",
     "traceback": [
      "\u001b[0;31m---------------------------------------------------------------------------\u001b[0m",
      "\u001b[0;31mTypeError\u001b[0m                                 Traceback (most recent call last)",
      "Cell \u001b[0;32mIn[125], line 1\u001b[0m\n\u001b[0;32m----> 1\u001b[0m l1[\u001b[38;5;241m0\u001b[39m][\u001b[38;5;241m0\u001b[39m] \u001b[38;5;241m=\u001b[39m \u001b[38;5;124m\"\u001b[39m\u001b[38;5;124mmutable\u001b[39m\u001b[38;5;124m\"\u001b[39m\n",
      "\u001b[0;31mTypeError\u001b[0m: 'str' object does not support item assignment"
     ]
    }
   ],
   "source": [
    "l1[0][0] = \"mutable\""
   ]
  },
  {
   "cell_type": "code",
   "execution_count": 126,
   "id": "e8546be1-870b-4676-a60b-3a0252b57d26",
   "metadata": {},
   "outputs": [
    {
     "data": {
      "text/plain": [
       "'Python'"
      ]
     },
     "execution_count": 126,
     "metadata": {},
     "output_type": "execute_result"
    }
   ],
   "source": [
    "a.replace(\"p\", \"P\")"
   ]
  },
  {
   "cell_type": "code",
   "execution_count": 127,
   "id": "f8cb2fda-9ae3-42dd-bfbe-6c076fd328b3",
   "metadata": {},
   "outputs": [
    {
     "data": {
      "text/plain": [
       "3"
      ]
     },
     "execution_count": 127,
     "metadata": {},
     "output_type": "execute_result"
    }
   ],
   "source": [
    "len(l1)"
   ]
  },
  {
   "cell_type": "code",
   "execution_count": 128,
   "id": "89145c7b-2443-47b2-9367-e289dd2cfaac",
   "metadata": {},
   "outputs": [
    {
     "data": {
      "text/plain": [
       "True"
      ]
     },
     "execution_count": 128,
     "metadata": {},
     "output_type": "execute_result"
    }
   ],
   "source": [
    "\"python\" in l1"
   ]
  },
  {
   "cell_type": "code",
   "execution_count": 129,
   "id": "160505f5-ff53-45cb-8925-e7baf0393e4c",
   "metadata": {},
   "outputs": [
    {
     "data": {
      "text/plain": [
       "False"
      ]
     },
     "execution_count": 129,
     "metadata": {},
     "output_type": "execute_result"
    }
   ],
   "source": [
    "455 in l1"
   ]
  },
  {
   "cell_type": "code",
   "execution_count": 130,
   "id": "9ce4b1fe-547a-4c51-a5ab-bf56316d4a60",
   "metadata": {},
   "outputs": [
    {
     "data": {
      "text/plain": [
       "['xyz', 'abc', 1253.5]"
      ]
     },
     "execution_count": 130,
     "metadata": {},
     "output_type": "execute_result"
    }
   ],
   "source": [
    "l2"
   ]
  },
  {
   "cell_type": "code",
   "execution_count": 131,
   "id": "d6f53b13-24e7-4050-8df8-93bfa5984a1d",
   "metadata": {},
   "outputs": [],
   "source": [
    "l2.append(\"code\")"
   ]
  },
  {
   "cell_type": "code",
   "execution_count": 132,
   "id": "c0eabcb3-aa34-410b-b64f-b0788088ac2e",
   "metadata": {},
   "outputs": [
    {
     "data": {
      "text/plain": [
       "['xyz', 'abc', 1253.5, 'code']"
      ]
     },
     "execution_count": 132,
     "metadata": {},
     "output_type": "execute_result"
    }
   ],
   "source": [
    "l2"
   ]
  },
  {
   "cell_type": "code",
   "execution_count": 133,
   "id": "2d493f1c-40df-4065-b837-6a4b985180c2",
   "metadata": {},
   "outputs": [
    {
     "data": {
      "text/plain": [
       "['xyz', 'abc', 1253.5]"
      ]
     },
     "execution_count": 133,
     "metadata": {},
     "output_type": "execute_result"
    }
   ],
   "source": [
    "l2.pop()\n",
    "l2"
   ]
  },
  {
   "cell_type": "code",
   "execution_count": 134,
   "id": "f4b1f892-bbf7-4102-a5ef-17c174132086",
   "metadata": {},
   "outputs": [
    {
     "data": {
      "text/plain": [
       "['abc', 1253.5]"
      ]
     },
     "execution_count": 134,
     "metadata": {},
     "output_type": "execute_result"
    }
   ],
   "source": [
    "l2.pop(0)\n",
    "l2"
   ]
  },
  {
   "cell_type": "code",
   "execution_count": 135,
   "id": "b8251997-f2d6-4b12-926f-51b8434995f9",
   "metadata": {},
   "outputs": [
    {
     "data": {
      "text/plain": [
       "1253.5"
      ]
     },
     "execution_count": 135,
     "metadata": {},
     "output_type": "execute_result"
    }
   ],
   "source": [
    "l2.pop(1)"
   ]
  },
  {
   "cell_type": "code",
   "execution_count": 136,
   "id": "cc938642-9ff8-4133-a094-36cdcc1a2381",
   "metadata": {},
   "outputs": [],
   "source": [
    "l2.append(\"list\")"
   ]
  },
  {
   "cell_type": "code",
   "execution_count": 137,
   "id": "7781537d-74c0-4fe4-a5ae-65315a168214",
   "metadata": {},
   "outputs": [
    {
     "data": {
      "text/plain": [
       "['abc', 'list']"
      ]
     },
     "execution_count": 137,
     "metadata": {},
     "output_type": "execute_result"
    }
   ],
   "source": [
    "l2"
   ]
  },
  {
   "cell_type": "code",
   "execution_count": 138,
   "id": "85a3fa6c-8ba7-4d6e-b2ff-aa49164eb436",
   "metadata": {},
   "outputs": [],
   "source": [
    "l2.insert(1, \"string\")"
   ]
  },
  {
   "cell_type": "code",
   "execution_count": 139,
   "id": "a750f0b1-651d-4590-836c-461513dc0d8a",
   "metadata": {},
   "outputs": [
    {
     "data": {
      "text/plain": [
       "['abc', 'string', 'list']"
      ]
     },
     "execution_count": 139,
     "metadata": {},
     "output_type": "execute_result"
    }
   ],
   "source": [
    "l2"
   ]
  },
  {
   "cell_type": "code",
   "execution_count": 140,
   "id": "90747e6e-f045-41d5-beed-3b6a3663f583",
   "metadata": {},
   "outputs": [],
   "source": [
    "l2.insert(2, [14, 15, 18, 100, \"new\"])"
   ]
  },
  {
   "cell_type": "code",
   "execution_count": 141,
   "id": "4e1e908f-1ac6-4af7-8565-75f400a8443f",
   "metadata": {},
   "outputs": [
    {
     "data": {
      "text/plain": [
       "['abc', 'string', [14, 15, 18, 100, 'new'], 'list']"
      ]
     },
     "execution_count": 141,
     "metadata": {},
     "output_type": "execute_result"
    }
   ],
   "source": [
    "l2"
   ]
  },
  {
   "cell_type": "code",
   "execution_count": 142,
   "id": "9686d8d0-0a77-4c3f-b58d-e762fe11c45e",
   "metadata": {},
   "outputs": [
    {
     "data": {
      "text/plain": [
       "['list', [14, 15, 18, 100, 'new'], 'string', 'abc']"
      ]
     },
     "execution_count": 142,
     "metadata": {},
     "output_type": "execute_result"
    }
   ],
   "source": [
    "l2[::-1]"
   ]
  },
  {
   "cell_type": "code",
   "execution_count": 143,
   "id": "5dd1aa27-a15e-4848-b023-93ee6f4bd3e5",
   "metadata": {},
   "outputs": [
    {
     "data": {
      "text/plain": [
       "['abc', 'string', [14, 15, 18, 100, 'new'], 'list']"
      ]
     },
     "execution_count": 143,
     "metadata": {},
     "output_type": "execute_result"
    }
   ],
   "source": [
    "l2"
   ]
  },
  {
   "cell_type": "code",
   "execution_count": 144,
   "id": "0696ebed-9ba5-4413-abf0-428c78cfafca",
   "metadata": {},
   "outputs": [],
   "source": [
    "l2.reverse()"
   ]
  },
  {
   "cell_type": "code",
   "execution_count": 145,
   "id": "db8cf0e9-7702-47ee-9284-a6c61a2b41e0",
   "metadata": {},
   "outputs": [
    {
     "data": {
      "text/plain": [
       "['list', [14, 15, 18, 100, 'new'], 'string', 'abc']"
      ]
     },
     "execution_count": 145,
     "metadata": {},
     "output_type": "execute_result"
    }
   ],
   "source": [
    "l2"
   ]
  },
  {
   "cell_type": "code",
   "execution_count": 146,
   "id": "09eb71a3-2011-4a90-bff7-5c144fb10d91",
   "metadata": {},
   "outputs": [
    {
     "data": {
      "text/plain": [
       "15"
      ]
     },
     "execution_count": 146,
     "metadata": {},
     "output_type": "execute_result"
    }
   ],
   "source": [
    "l2[1][1]"
   ]
  },
  {
   "cell_type": "code",
   "execution_count": 147,
   "id": "3a8eff21-f00f-4ab4-ba3e-2f211537a9af",
   "metadata": {},
   "outputs": [
    {
     "data": {
      "text/plain": [
       "1"
      ]
     },
     "execution_count": 147,
     "metadata": {},
     "output_type": "execute_result"
    }
   ],
   "source": [
    "l2.count(\"abc\")"
   ]
  },
  {
   "cell_type": "code",
   "execution_count": 148,
   "id": "233c2852-1e97-457b-bbfa-81efbf7d4b3f",
   "metadata": {},
   "outputs": [
    {
     "data": {
      "text/plain": [
       "1"
      ]
     },
     "execution_count": 148,
     "metadata": {},
     "output_type": "execute_result"
    }
   ],
   "source": [
    "l2.count(\"string\")"
   ]
  },
  {
   "cell_type": "code",
   "execution_count": 149,
   "id": "22dcb3c2-85c4-487a-9176-66ff492fc866",
   "metadata": {},
   "outputs": [
    {
     "data": {
      "text/plain": [
       "0"
      ]
     },
     "execution_count": 149,
     "metadata": {},
     "output_type": "execute_result"
    }
   ],
   "source": [
    "l2.count(\"dict\")"
   ]
  },
  {
   "cell_type": "code",
   "execution_count": 151,
   "id": "6619e7f6-031f-48a5-bbde-0c4a3803af15",
   "metadata": {},
   "outputs": [],
   "source": [
    "l2.append(\"count\")"
   ]
  },
  {
   "cell_type": "code",
   "execution_count": 152,
   "id": "17eee094-47c5-4fe4-b392-e796816406a6",
   "metadata": {},
   "outputs": [],
   "source": [
    "l2.append([4, 5, \"index\"])"
   ]
  },
  {
   "cell_type": "code",
   "execution_count": 153,
   "id": "a767aad0-8e6b-4e06-ab7d-24b42c36e24d",
   "metadata": {},
   "outputs": [
    {
     "data": {
      "text/plain": [
       "['list', [14, 15, 18, 100, 'new'], 'string', 'abc', 'count', [4, 5, 'index']]"
      ]
     },
     "execution_count": 153,
     "metadata": {},
     "output_type": "execute_result"
    }
   ],
   "source": [
    "l2"
   ]
  },
  {
   "cell_type": "code",
   "execution_count": 154,
   "id": "8e20a566-3b26-4084-85f0-6532b32c5dac",
   "metadata": {},
   "outputs": [
    {
     "data": {
      "text/plain": [
       "['mutability', 'python', 456]"
      ]
     },
     "execution_count": 154,
     "metadata": {},
     "output_type": "execute_result"
    }
   ],
   "source": [
    "l1"
   ]
  },
  {
   "cell_type": "code",
   "execution_count": 155,
   "id": "b565ec55-e7f0-4bf4-9804-1ca99571d796",
   "metadata": {},
   "outputs": [],
   "source": [
    "l1.extend([4, 5, \"index\"])"
   ]
  },
  {
   "cell_type": "code",
   "execution_count": 156,
   "id": "7e66f554-6b26-430b-b755-e3f267fde6af",
   "metadata": {},
   "outputs": [
    {
     "data": {
      "text/plain": [
       "['mutability', 'python', 456, 4, 5, 'index']"
      ]
     },
     "execution_count": 156,
     "metadata": {},
     "output_type": "execute_result"
    }
   ],
   "source": [
    "l1"
   ]
  }
 ],
 "metadata": {
  "kernelspec": {
   "display_name": "Python 3 (ipykernel)",
   "language": "python",
   "name": "python3"
  },
  "language_info": {
   "codemirror_mode": {
    "name": "ipython",
    "version": 3
   },
   "file_extension": ".py",
   "mimetype": "text/x-python",
   "name": "python",
   "nbconvert_exporter": "python",
   "pygments_lexer": "ipython3",
   "version": "3.12.7"
  }
 },
 "nbformat": 4,
 "nbformat_minor": 5
}
