{
 "cells": [
  {
   "cell_type": "code",
   "execution_count": 1,
   "id": "ef5abeec-8874-4bd0-a7b1-6b824b026678",
   "metadata": {},
   "outputs": [],
   "source": [
    "a = 15"
   ]
  },
  {
   "cell_type": "code",
   "execution_count": 2,
   "id": "9ea50ffa-eecb-44ca-8f9a-60af39e588f9",
   "metadata": {},
   "outputs": [
    {
     "data": {
      "text/plain": [
       "True"
      ]
     },
     "execution_count": 2,
     "metadata": {},
     "output_type": "execute_result"
    }
   ],
   "source": [
    "a < 30"
   ]
  },
  {
   "cell_type": "code",
   "execution_count": 3,
   "id": "7a4f42ed-c20b-483f-8a65-4d8f60307002",
   "metadata": {},
   "outputs": [
    {
     "name": "stdout",
     "output_type": "stream",
     "text": [
      "fifteen\n"
     ]
    }
   ],
   "source": [
    "if a < 30:\n",
    "    print(\"fifteen\")"
   ]
  },
  {
   "cell_type": "code",
   "execution_count": 4,
   "id": "eafbbade-f420-4ac2-878c-0c38b64a9a9d",
   "metadata": {},
   "outputs": [
    {
     "ename": "SyntaxError",
     "evalue": "expected ':' (626556469.py, line 1)",
     "output_type": "error",
     "traceback": [
      "\u001b[0;36m  Cell \u001b[0;32mIn[4], line 1\u001b[0;36m\u001b[0m\n\u001b[0;31m    if a < 30\u001b[0m\n\u001b[0m             ^\u001b[0m\n\u001b[0;31mSyntaxError\u001b[0m\u001b[0;31m:\u001b[0m expected ':'\n"
     ]
    }
   ],
   "source": [
    "if a < 30\n",
    "    print(\"fifteen\")"
   ]
  },
  {
   "cell_type": "code",
   "execution_count": 5,
   "id": "204a3df9-bbfc-473c-8b24-d8d6e4d0fbe4",
   "metadata": {},
   "outputs": [
    {
     "ename": "SyntaxError",
     "evalue": "incomplete input (571335576.py, line 1)",
     "output_type": "error",
     "traceback": [
      "\u001b[0;36m  Cell \u001b[0;32mIn[5], line 1\u001b[0;36m\u001b[0m\n\u001b[0;31m    if a < 30:\u001b[0m\n\u001b[0m              ^\u001b[0m\n\u001b[0;31mSyntaxError\u001b[0m\u001b[0;31m:\u001b[0m incomplete input\n"
     ]
    }
   ],
   "source": [
    "if a < 30:"
   ]
  },
  {
   "cell_type": "code",
   "execution_count": 6,
   "id": "9a1c0095-156a-45d2-8fd4-a980490d3135",
   "metadata": {},
   "outputs": [],
   "source": [
    "if a < 30:\n",
    "    pass"
   ]
  },
  {
   "cell_type": "code",
   "execution_count": 7,
   "id": "48dd371a-346d-4c0f-a494-39e0c16d6c13",
   "metadata": {},
   "outputs": [],
   "source": [
    "if a > 30:\n",
    "    print(\"False\")"
   ]
  },
  {
   "cell_type": "code",
   "execution_count": 8,
   "id": "484be03c-86fb-4734-ae63-99b0aca0a89e",
   "metadata": {},
   "outputs": [
    {
     "name": "stdout",
     "output_type": "stream",
     "text": [
      "if statment is wrong\n"
     ]
    }
   ],
   "source": [
    "if 10 < 5:\n",
    "    print(\"10 is less than 5\")\n",
    "else:\n",
    "    print(\"if statment is wrong\")"
   ]
  },
  {
   "cell_type": "code",
   "execution_count": 11,
   "id": "af1fdd4b-78e7-4d3b-8436-f2166090ab86",
   "metadata": {},
   "outputs": [
    {
     "ename": "IndentationError",
     "evalue": "expected an indented block after 'else' statement on line 3 (533213351.py, line 4)",
     "output_type": "error",
     "traceback": [
      "\u001b[0;36m  Cell \u001b[0;32mIn[11], line 4\u001b[0;36m\u001b[0m\n\u001b[0;31m    print(\"if statment is wrong\")\u001b[0m\n\u001b[0m    ^\u001b[0m\n\u001b[0;31mIndentationError\u001b[0m\u001b[0;31m:\u001b[0m expected an indented block after 'else' statement on line 3\n"
     ]
    }
   ],
   "source": [
    "if 10 < 5:\n",
    "    print(\"10 is less than 5\")\n",
    "else:\n",
    "print(\"if statment is wrong\")"
   ]
  },
  {
   "cell_type": "code",
   "execution_count": 12,
   "id": "d4e9d25b-78c8-4b38-9303-d113bcc7548d",
   "metadata": {},
   "outputs": [
    {
     "name": "stdout",
     "output_type": "stream",
     "text": [
      "i wont be able to buy anything\n"
     ]
    }
   ],
   "source": [
    "income = 1000\n",
    "if income < 500:\n",
    "    print(\"i will buy books\")\n",
    "elif income < 700:\n",
    "    print(\"i will buy reference books\")\n",
    "elif income < 900:\n",
    "    print(\"i will buy coding books\")\n",
    "else:\n",
    "    print(\"i wont be able to buy anything\")"
   ]
  },
  {
   "cell_type": "code",
   "execution_count": 13,
   "id": "0e213644-15b5-4390-b4b9-d2e8c43723f5",
   "metadata": {},
   "outputs": [
    {
     "name": "stdin",
     "output_type": "stream",
     "text": [
      " 600\n"
     ]
    },
    {
     "name": "stdout",
     "output_type": "stream",
     "text": [
      "i will buy reference books\n"
     ]
    }
   ],
   "source": [
    "income = int(input())\n",
    "if income < 500:\n",
    "    print(\"i will buy books\")\n",
    "elif income < 700:\n",
    "    print(\"i will buy reference books\")\n",
    "elif income < 900:\n",
    "    print(\"i will buy coding books\")\n",
    "else:\n",
    "    print(\"i wont be able to buy anything\")"
   ]
  },
  {
   "cell_type": "code",
   "execution_count": 14,
   "id": "db379ac3-f826-4fa5-9a89-4a7ebae0d658",
   "metadata": {},
   "outputs": [
    {
     "name": "stdin",
     "output_type": "stream",
     "text": [
      " 6500\n"
     ]
    },
    {
     "name": "stdout",
     "output_type": "stream",
     "text": [
      "discount will be 325.0\n"
     ]
    }
   ],
   "source": [
    "total_price = int(input())\n",
    "if total_price > 20000:\n",
    "    discount = total_price * 0.2\n",
    "    print(\"discount will be\", discount)\n",
    "elif total_price <= 7000:\n",
    "    discount = total_price * 0.05\n",
    "    print(\"discount will be\", discount)\n",
    "else:\n",
    "    print(\"wont be able to give any discount\")"
   ]
  },
  {
   "cell_type": "code",
   "execution_count": 15,
   "id": "58f51a95-b3cd-4d71-a7b9-7b8e6267f0d5",
   "metadata": {},
   "outputs": [
    {
     "name": "stdin",
     "output_type": "stream",
     "text": [
      " 10000\n"
     ]
    },
    {
     "name": "stdout",
     "output_type": "stream",
     "text": [
      "wont be able to give any discount\n"
     ]
    }
   ],
   "source": [
    "total_price = int(input())\n",
    "if total_price > 20000:\n",
    "    discount = total_price * 0.2\n",
    "    print(\"discount will be\", discount)\n",
    "elif total_price <= 7000:\n",
    "    discount = total_price * 0.05\n",
    "    print(\"discount will be\", discount)\n",
    "else:\n",
    "    print(\"wont be able to give any discount\")"
   ]
  },
  {
   "cell_type": "code",
   "execution_count": 18,
   "id": "2a5c4bad-544f-4755-9433-47679999dcab",
   "metadata": {},
   "outputs": [
    {
     "name": "stdin",
     "output_type": "stream",
     "text": [
      " CODE55\n"
     ]
    },
    {
     "name": "stdout",
     "output_type": "stream",
     "text": [
      "you will be able to get a discount of 5%\n",
      "you will be able to get onetech with this amount 6726.0\n"
     ]
    }
   ],
   "source": [
    "coup = input()\n",
    "if coup == \"CODE55\":\n",
    "    print(\"you will be able to get a discount of 5%\")\n",
    "    paid_amount = 7080 * 0.95\n",
    "    print(\"you will be able to get onetech with this amount\", paid_amount)\n",
    "else:\n",
    "    (\"kindly use a valid coupoun code\")"
   ]
  },
  {
   "cell_type": "code",
   "execution_count": 19,
   "id": "79bf2b68-101d-4ce4-8083-7725e03c5737",
   "metadata": {},
   "outputs": [
    {
     "name": "stdin",
     "output_type": "stream",
     "text": [
      " 2\n"
     ]
    },
    {
     "name": "stdout",
     "output_type": "stream",
     "text": [
      "it may take 6 month for transition\n"
     ]
    }
   ],
   "source": [
    "study_hour = int(input())\n",
    "if study_hour < 1:\n",
    "    print(\"it may take 8-9 month of time to make a transition\")\n",
    "elif study_hour < 4 and study_hour >1:\n",
    "    print(\"it may take 6 month for transition\")\n",
    "elif study_hour > 10:\n",
    "    print(\"it will take 3 month of time for transition\")\n",
    "else:\n",
    "    print(\"it will be difficult\")"
   ]
  },
  {
   "cell_type": "code",
   "execution_count": 21,
   "id": "b5d2d05f-bb63-423a-9b5c-5ffc7780c7a4",
   "metadata": {},
   "outputs": [
    {
     "name": "stdin",
     "output_type": "stream",
     "text": [
      " 3\n"
     ]
    },
    {
     "ename": "TypeError",
     "evalue": "unsupported operand type(s) for &: 'int' and 'float'",
     "output_type": "error",
     "traceback": [
      "\u001b[0;31m---------------------------------------------------------------------------\u001b[0m",
      "\u001b[0;31mTypeError\u001b[0m                                 Traceback (most recent call last)",
      "Cell \u001b[0;32mIn[21], line 2\u001b[0m\n\u001b[1;32m      1\u001b[0m study_hour \u001b[38;5;241m=\u001b[39m \u001b[38;5;28mfloat\u001b[39m(\u001b[38;5;28minput\u001b[39m())\n\u001b[0;32m----> 2\u001b[0m \u001b[38;5;28;01mif\u001b[39;00m study_hour \u001b[38;5;241m<\u001b[39m \u001b[38;5;241m1\u001b[39m \u001b[38;5;241m&\u001b[39m study_hour \u001b[38;5;241m>\u001b[39m \u001b[38;5;241m0.5\u001b[39m:\n\u001b[1;32m      3\u001b[0m     \u001b[38;5;28mprint\u001b[39m(\u001b[38;5;124m\"\u001b[39m\u001b[38;5;124myou may succeed\u001b[39m\u001b[38;5;124m\"\u001b[39m)\n\u001b[1;32m      4\u001b[0m \u001b[38;5;28;01melif\u001b[39;00m study_hour \u001b[38;5;241m<\u001b[39m \u001b[38;5;241m6\u001b[39m \u001b[38;5;129;01mand\u001b[39;00m study_hour \u001b[38;5;241m>\u001b[39m \u001b[38;5;241m1\u001b[39m:\n",
      "\u001b[0;31mTypeError\u001b[0m: unsupported operand type(s) for &: 'int' and 'float'"
     ]
    }
   ],
   "source": [
    "study_hour = float(input())\n",
    "if study_hour < 1 & study_hour > 0.5:\n",
    "    print(\"you may succeed\")\n",
    "elif study_hour < 6 and study_hour > 1:\n",
    "    print(\"succeed\")\n",
    "else:\n",
    "    print(\"fail\")"
   ]
  },
  {
   "cell_type": "code",
   "execution_count": 22,
   "id": "c5a42905-9380-454d-88f1-31445396183b",
   "metadata": {},
   "outputs": [
    {
     "name": "stdin",
     "output_type": "stream",
     "text": [
      " 3\n"
     ]
    },
    {
     "name": "stdout",
     "output_type": "stream",
     "text": [
      "succeed\n"
     ]
    }
   ],
   "source": [
    "study_hour = float(input())\n",
    "if study_hour < 1 and study_hour > 0.5:\n",
    "    print(\"you may succeed\")\n",
    "elif study_hour < 6 and study_hour > 1:\n",
    "    print(\"succeed\")\n",
    "else:\n",
    "    print(\"fail\")"
   ]
  },
  {
   "cell_type": "code",
   "execution_count": 23,
   "id": "2c71723a-931c-49c7-9af7-488800e15452",
   "metadata": {},
   "outputs": [
    {
     "name": "stdout",
     "output_type": "stream",
     "text": [
      "valid\n"
     ]
    }
   ],
   "source": [
    "a = 10\n",
    "if a == 10: print(\"valid\")"
   ]
  },
  {
   "cell_type": "code",
   "execution_count": 24,
   "id": "321a8681-6c7a-42b2-86e4-521d84cb535d",
   "metadata": {},
   "outputs": [
    {
     "name": "stdout",
     "output_type": "stream",
     "text": [
      "valid\n"
     ]
    }
   ],
   "source": [
    "a = 10\n",
    "if a == 10:\n",
    "    print(\"valid\")"
   ]
  },
  {
   "cell_type": "code",
   "execution_count": 27,
   "id": "2f25b480-2995-4ccb-8c41-e07aa6f53ac0",
   "metadata": {},
   "outputs": [
    {
     "name": "stdin",
     "output_type": "stream",
     "text": [
      "enter a string to start onetechservice\n",
      "enter a service name doubt\n"
     ]
    },
    {
     "name": "stdout",
     "output_type": "stream",
     "text": [
      "*NOTE: Dear Learner, you can raise demand related to any doubt clearing, and we will fulfil your need in the next 30 days\n"
     ]
    }
   ],
   "source": [
    "s = input(\"enter a string to start\")\n",
    "if s == \"onetech\":\n",
    "    course = input(\"enter a course name\")\n",
    "    if course == \"DSA\":\n",
    "        print(\"yes, its available under onetech and in multiple mode for job prepration and core concept\")\n",
    "    elif course == \"Blockchain\":\n",
    "        print(\"this is not available as of now, kindly raise your demand and we will fulfil in 60 days\")\n",
    "    elif course == \"FSDS\":\n",
    "        print(\"yes, its abailable, you can start learning\")\n",
    "    else:\n",
    "        print(\"this course is not available, kindly raise your demand\")\n",
    "elif s == \"onetechservice\":\n",
    "    service = input(\"enter a service name\")\n",
    "    if service == \"courserequest\":\n",
    "        print(\"*NOTE: Dear Learner, you can raise demand related to any new course, and we will fulfil your need in the next 60 days\")\n",
    "    elif service == \"module\":\n",
    "        print(\"*NOTE: Dear Learner, you can raise demand related to any new course module, and we will fulfil your need in the next 30 days\")\n",
    "    elif service == \"doubt\":\n",
    "        print(\"*NOTE: Dear Learner, you can raise demand related to any doubt clearing, and we will fulfil your need in the next 30 days\")\n",
    "    elif service == \"workwithus\":\n",
    "        print(\"*NOTE: Dear Learner, you can raise demand to work with our team; our HR will evaluate and get back to you in 24 hours\")\n",
    "    else:\n",
    "        print(\"kindly provide us your feedback and we will fulfil\")\n",
    "else:\n",
    "    print(\"kindly connect with our team\")"
   ]
  },
  {
   "cell_type": "code",
   "execution_count": 28,
   "id": "decd95a8-caf2-488e-af90-0b2aca3a9305",
   "metadata": {},
   "outputs": [
    {
     "name": "stdout",
     "output_type": "stream",
     "text": [
      "1\n",
      "2\n",
      "3\n",
      "4\n",
      "5\n",
      "6\n",
      "7\n",
      "8\n",
      "9\n"
     ]
    }
   ],
   "source": [
    "l = [1, 2, 3, 4, 5, 6, 7, 8, 9]\n",
    "for i in l:\n",
    "    print(i)"
   ]
  },
  {
   "cell_type": "code",
   "execution_count": 29,
   "id": "96daea0a-3969-4a04-a085-30019acae52d",
   "metadata": {},
   "outputs": [
    {
     "name": "stdout",
     "output_type": "stream",
     "text": [
      "o\n",
      "n\n",
      "e\n",
      "t\n",
      "e\n",
      "c\n",
      "h\n"
     ]
    }
   ],
   "source": [
    "s = \"onetech\"\n",
    "for i in s:\n",
    "    print(i)"
   ]
  },
  {
   "cell_type": "code",
   "execution_count": 30,
   "id": "4d64db62-207d-4743-b33b-3b0b905d5ccc",
   "metadata": {},
   "outputs": [
    {
     "name": "stdout",
     "output_type": "stream",
     "text": [
      "1\n",
      "2\n",
      "3\n",
      "4\n",
      "5\n",
      "6\n",
      "7\n"
     ]
    }
   ],
   "source": [
    "t = (1, 2, 3, 4, 5, 6, 7)\n",
    "for i in t:\n",
    "    print(i)"
   ]
  },
  {
   "cell_type": "code",
   "execution_count": 31,
   "id": "d0a36600-7ed1-47c4-a442-52e4f64b0ed8",
   "metadata": {},
   "outputs": [
    {
     "name": "stdout",
     "output_type": "stream",
     "text": [
      "<class 'int'>\n",
      "<class 'int'>\n",
      "<class 'int'>\n",
      "<class 'float'>\n",
      "<class 'complex'>\n",
      "<class 'str'>\n",
      "<class 'bool'>\n"
     ]
    }
   ],
   "source": [
    "l = [2, 5, 7, 4.1, 5+9j, \"code\", False]\n",
    "for i in l:\n",
    "    print(type(i))"
   ]
  },
  {
   "cell_type": "code",
   "execution_count": 32,
   "id": "2e362da0-4a13-46d1-b7cf-d7c8565269af",
   "metadata": {},
   "outputs": [
    {
     "name": "stdout",
     "output_type": "stream",
     "text": [
      "<class 'int'> type of  2\n",
      "<class 'int'> type of  5\n",
      "<class 'int'> type of  7\n",
      "<class 'float'> type of  4.1\n",
      "<class 'complex'> type of  (5+9j)\n",
      "<class 'str'> type of  code\n",
      "<class 'bool'> type of  False\n"
     ]
    }
   ],
   "source": [
    "l = [2, 5, 7, 4.1, 5+9j, \"code\", False]\n",
    "for i in l:\n",
    "    print(type(i), \"type of \", i)"
   ]
  },
  {
   "cell_type": "code",
   "execution_count": 33,
   "id": "d0fd12fa-979c-47c1-ad39-41a2880532cd",
   "metadata": {},
   "outputs": [
    {
     "name": "stdout",
     "output_type": "stream",
     "text": [
      "6\n",
      "10\n",
      "11\n",
      "13\n",
      "46\n",
      "47\n",
      "57\n"
     ]
    }
   ],
   "source": [
    "l = [4, 8, 9, 11, 44, 45, 55]\n",
    "for i in l:\n",
    "    print(i + 2)"
   ]
  },
  {
   "cell_type": "code",
   "execution_count": 35,
   "id": "bd1cf042-124d-4ef8-b2b6-41d7611cf175",
   "metadata": {},
   "outputs": [
    {
     "name": "stdout",
     "output_type": "stream",
     "text": [
      "[6, 10, 11, 13, 46, 47, 57]\n"
     ]
    }
   ],
   "source": [
    "l = [4, 8, 9, 11, 44, 45, 55]\n",
    "l1 = []\n",
    "for i in l:\n",
    "    l1.append(i + 2)\n",
    "print(l1)"
   ]
  },
  {
   "cell_type": "code",
   "execution_count": 36,
   "id": "dfec1872-a5b5-4050-90a1-41f1b7293eeb",
   "metadata": {},
   "outputs": [
    {
     "name": "stdout",
     "output_type": "stream",
     "text": [
      "1\n",
      "45\n",
      "44\n",
      "99\n"
     ]
    }
   ],
   "source": [
    "l = [1, 45, 44, 99, \"code\", 4 + 7j, (5, 9, 88), \"python\", [585, 6985, 12, 56]]\n",
    "for i in l:\n",
    "    if type(i) == int:\n",
    "        print(i)"
   ]
  },
  {
   "cell_type": "code",
   "execution_count": 38,
   "id": "b7c157cb-589d-4925-bd09-1a16aa0f98fa",
   "metadata": {},
   "outputs": [
    {
     "name": "stdout",
     "output_type": "stream",
     "text": [
      "1\n",
      "45\n",
      "44\n",
      "99\n",
      "585\n",
      "6985\n",
      "12\n",
      "56\n"
     ]
    }
   ],
   "source": [
    "l = [1, 45, 44, 99, \"code\", 4 + 7j, (5, 9, 88), \"python\", [585, 6985, \"list\", 12, 56]]\n",
    "for i in l:\n",
    "    if type(i) == int:\n",
    "        print(i)\n",
    "    elif type(i) == list:\n",
    "        for j in i:\n",
    "            if type(j) == int:\n",
    "                print(j)"
   ]
  },
  {
   "cell_type": "code",
   "execution_count": 39,
   "id": "fddedb99-ac69-4e36-ac10-b933a3727e11",
   "metadata": {},
   "outputs": [
    {
     "name": "stdout",
     "output_type": "stream",
     "text": [
      "0\n",
      "1\n",
      "2\n",
      "3\n",
      "4\n",
      "5\n",
      "6\n",
      "7\n",
      "8\n"
     ]
    }
   ],
   "source": [
    "l = [1, 45, 44, 99, \"code\", 4 + 7j, (5, 9, 88), \"python\", [585, 6985, \"list\", 12, 56]]\n",
    "for i in l:\n",
    "    print(l.index(i))"
   ]
  },
  {
   "cell_type": "code",
   "execution_count": 51,
   "id": "d67aef17-9e80-4043-8212-f95091341a16",
   "metadata": {},
   "outputs": [
    {
     "name": "stdout",
     "output_type": "stream",
     "text": [
      "['c', 'o', 'd', 'e']\n",
      "['p', 'y', 't', 'h', 'o', 'n']\n"
     ]
    }
   ],
   "source": [
    "l = [1, 45, 44, 99, \"code\", 4 + 7j, (5, 9, 88), \"python\", [585, 6985, \"list\", 12, 56]]\n",
    "for i in l:\n",
    "    if type(i) == str:\n",
    "        l1 = []\n",
    "        for j in i:\n",
    "            l1.append(j)\n",
    "        print(l1)"
   ]
  },
  {
   "cell_type": "code",
   "execution_count": 45,
   "id": "aea0b8bc-71c2-4f37-a66c-69073ddfdd43",
   "metadata": {},
   "outputs": [
    {
     "name": "stdout",
     "output_type": "stream",
     "text": [
      "[1, 2025, 1936, 9801, 25, 81, 7744, 342225, 48790225, 144, 3136]\n"
     ]
    }
   ],
   "source": [
    "l = [1, 45, 44, 99, \"code\", 4 + 7j, (5, 9, 88), \"python\", [585, 6985, \"list\", 12, 56]]\n",
    "l1 = []\n",
    "for i in l:\n",
    "    if type(i) == int:\n",
    "        l1.append(i ** 2)\n",
    "    elif type(i) == list or type(i) == tuple:\n",
    "        for j in i:\n",
    "            if type(j) == int:\n",
    "                l1.append(j ** 2)\n",
    "print(l1)"
   ]
  },
  {
   "cell_type": "code",
   "execution_count": 47,
   "id": "484ab87d-542a-4ab3-9e33-83cafa90d454",
   "metadata": {},
   "outputs": [
    {
     "name": "stdout",
     "output_type": "stream",
     "text": [
      "0\n",
      "1\n",
      "2\n",
      "2\n",
      "4\n",
      "4\n",
      "4\n",
      "7\n",
      "8\n",
      "9\n",
      "10\n",
      "11\n"
     ]
    }
   ],
   "source": [
    "l = [1, 45, 44, 44, 99, 99, 99, \"code\", 4 + 7j, (5, 9, 88), \"python\", [585, 6985, \"list\", 12, 56]]\n",
    "for i in l:\n",
    "    print(l.index(i))"
   ]
  },
  {
   "cell_type": "code",
   "execution_count": 48,
   "id": "0f616abf-06ba-4919-8332-0cda4bfb63ed",
   "metadata": {},
   "outputs": [
    {
     "name": "stdout",
     "output_type": "stream",
     "text": [
      "index 0 for an element  1\n",
      "index 1 for an element  45\n",
      "index 2 for an element  44\n",
      "index 3 for an element  44\n",
      "index 4 for an element  99\n",
      "index 5 for an element  99\n",
      "index 6 for an element  99\n",
      "index 7 for an element  code\n",
      "index 8 for an element  (4+7j)\n",
      "index 9 for an element  (5, 9, 88)\n",
      "index 10 for an element  python\n",
      "index 11 for an element  [585, 6985, 'list', 12, 56]\n"
     ]
    }
   ],
   "source": [
    "l = [1, 45, 44, 44, 99, 99, 99, \"code\", 4 + 7j, (5, 9, 88), \"python\", [585, 6985, \"list\", 12, 56]]\n",
    "for i in range(len(l)):\n",
    "    print(\"index\", i, \"for an element \", l[i])"
   ]
  },
  {
   "cell_type": "code",
   "execution_count": 49,
   "id": "06546bca-7331-4d83-9ad8-15256c083841",
   "metadata": {},
   "outputs": [
    {
     "name": "stdout",
     "output_type": "stream",
     "text": [
      "(0, 1)\n",
      "(1, 45)\n",
      "(2, 44)\n",
      "(3, 44)\n",
      "(4, 99)\n",
      "(5, 99)\n",
      "(6, 99)\n",
      "(7, 'code')\n",
      "(8, (4+7j))\n",
      "(9, (5, 9, 88))\n",
      "(10, 'python')\n",
      "(11, [585, 6985, 'list', 12, 56])\n"
     ]
    }
   ],
   "source": [
    "l = [1, 45, 44, 44, 99, 99, 99, \"code\", 4 + 7j, (5, 9, 88), \"python\", [585, 6985, \"list\", 12, 56]]\n",
    "for i in enumerate(l):\n",
    "    print(i)"
   ]
  }
 ],
 "metadata": {
  "kernelspec": {
   "display_name": "Python 3 (ipykernel)",
   "language": "python",
   "name": "python3"
  },
  "language_info": {
   "codemirror_mode": {
    "name": "ipython",
    "version": 3
   },
   "file_extension": ".py",
   "mimetype": "text/x-python",
   "name": "python",
   "nbconvert_exporter": "python",
   "pygments_lexer": "ipython3",
   "version": "3.12.7"
  }
 },
 "nbformat": 4,
 "nbformat_minor": 5
}
