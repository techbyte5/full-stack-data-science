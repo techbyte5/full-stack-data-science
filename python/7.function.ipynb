{
 "cells": [
  {
   "cell_type": "markdown",
   "id": "2c404056",
   "metadata": {},
   "source": [
    "---\n",
    "# Python Functions – EXPLANATION & NOTES\n",
    "\n",
    "<details>\n",
    "<summary><strong>Overview</strong></summary>\n",
    "\n",
    "This notebook teaches **Python functions**:\n",
    "\n",
    "- Definition, parameters, and return values  \n",
    "- Type checking and multiple returns  \n",
    "- Practical applications: list filtering, extending lists, pattern printing  \n",
    "- Includes intentional syntax errors for learning\n",
    "\n",
    "</details>\n",
    "\n",
    "<details>\n",
    "<summary><strong>Cell-wise Purpose and Workflow</strong></summary>\n",
    "\n",
    "- **Sections 1-2:** Difference between built-ins and custom functions; syntax errors (missing colon)  \n",
    "- **Sections 3-7:** Print vs return, multiple returns, unpacking returned values  \n",
    "- **Sections 8-12:** Parameters, type checking, list operations within functions  \n",
    "- **Sections 13-15:** Pattern printing functions (triangle, centered triangle), docstrings, help()  \n",
    "\n",
    "Workflow: Demonstrates basic function definition, gradually builds to parameter handling, return values, list manipulation, and pattern printing. Outputs show practical examples and errors for understanding.\n",
    "\n",
    "</details>\n",
    "\n",
    "<details>\n",
    "<summary><strong>Function-wise Explanation</strong></summary>\n",
    "\n",
    "**Custom functions explained:**\n",
    "\n",
    "- `test1()`: Prints inside function; returns `None`  \n",
    "- `test2()`: Returns a string  \n",
    "- `test3()`: Returns an integer  \n",
    "- `test4()`: Returns a tuple  \n",
    "- `test5()`: Returns a calculated value  \n",
    "- `test6()`: Filters integers from a mixed list  \n",
    "- `test8()`: Returns dictionary keys or a message  \n",
    "- `test9()`: Extends lists with new elements  \n",
    "- `triangle()`: Prints a left-aligned triangle pattern  \n",
    "- `triangle1()`: Prints a centered triangle pattern  \n",
    "\n",
    "**Built-in functions/methods used:** `type()`, `len()`, `print()`, `help()`, `isinstance()`, list methods like `append()` and `extend()`.\n",
    "\n",
    "</details>\n",
    "\n",
    "<details>\n",
    "<summary><strong>Algorithm & Logic Explanation</strong></summary>\n",
    "\n",
    "- Functions **encapsulate logic** for reuse and readability  \n",
    "- `return` sends a value back to the caller; missing `return` implies `None`  \n",
    "- Parameters allow dynamic inputs  \n",
    "- Multiple returns return tuples, which can be unpacked  \n",
    "- Filtering functions use loops or comprehensions to select values  \n",
    "- Pattern printing functions use nested loops for alignment and repetition  \n",
    "\n",
    "</details>\n",
    "\n",
    "<details>\n",
    "<summary><strong>Best Practices and Improvements</strong></summary>\n",
    "\n",
    "- Always include **docstrings** describing purpose, parameters, and returns  \n",
    "- Validate parameter types for robustness (`isinstance()`)  \n",
    "- Return meaningful values; avoid unnecessary side effects  \n",
    "- Keep functions **short and focused**  \n",
    "- Prefer **list comprehensions** and built-in functions for efficiency  \n",
    "\n",
    "</details>\n",
    "\n",
    "<details>\n",
    "<summary><strong>Common Mistakes and Pitfalls</strong></summary>\n",
    "\n",
    "- Missing colons in `def` statements → `SyntaxError`  \n",
    "- Forgetting to `return` a value → function returns `None`  \n",
    "- Type mismatches when processing parameters or lists  \n",
    "- Unpacking returned tuples incorrectly  \n",
    "- Printing inside functions when a return is expected for further computation  \n",
    "\n",
    "</details>\n",
    "\n",
    "<details>\n",
    "<summary><strong>Data Processing Explanations</strong></summary>\n",
    "\n",
    "- Functions handle **filtering and extending lists**  \n",
    "- Reusable logic for **pattern generation** or value calculations  \n",
    "- Parameters allow processing different datasets without rewriting code  \n",
    "\n",
    "</details>\n",
    "\n",
    "<details>\n",
    "<summary><strong>Performance or Optimization Tips</strong></summary>\n",
    "\n",
    "- Keep functions **simple and modular**  \n",
    "- Use built-ins (`len()`, `append()`, `extend()`) for efficiency  \n",
    "- Avoid nested loops for large datasets when a comprehension or generator can be used  \n",
    "\n",
    "</details>\n",
    "\n",
    "<details>\n",
    "<summary><strong>Debugging Hints</strong></summary>\n",
    "\n",
    "- Use `print()` inside functions to check intermediate values  \n",
    "- Verify return types and unpacking correctly  \n",
    "- Check input types with `isinstance()` to prevent errors  \n",
    "- Test functions with a variety of inputs to ensure correctness  \n",
    "\n",
    "</details>\n",
    "\n",
    "<details>\n",
    "<summary><strong>Encouragement</strong></summary>\n",
    "\n",
    "Excellent practice for mastering **functions in Python**!  \n",
    "Experiment with different parameter types, return multiple values, and use functions for real-world tasks to solidify understanding.\n",
    "\n",
    "</details>"
   ]
  },
  {
   "cell_type": "markdown",
   "id": "d052b199",
   "metadata": {},
   "source": [
    "---\n",
    "### Function Notebook\n",
    "\n",
    "This notebook introduces Python functions:\n",
    "- Defining functions with def\n",
    "- Return statements and values\n",
    "- Parameters and arguments\n",
    "- Type checking and list operations\n",
    "- Docstrings and help()\n",
    "\n",
    "Demonstrates function creation, calling, and practical examples like filtering and patterns.\n",
    "\n",
    "Note: Includes syntax errors (e.g., missing colons) and logical issues (e.g., return None implicitly).\n",
    "      Fix for proper execution."
   ]
  },
  {
   "cell_type": "markdown",
   "id": "74d4a5d0",
   "metadata": {},
   "source": [
    "---\n",
    "### Section 1: Built-in Functions"
   ]
  },
  {
   "cell_type": "code",
   "execution_count": 1,
   "id": "9aceb094-32f9-4e5f-a991-5c332007b40c",
   "metadata": {},
   "outputs": [
    {
     "data": {
      "text/plain": [
       "4"
      ]
     },
     "execution_count": 1,
     "metadata": {},
     "output_type": "execute_result"
    }
   ],
   "source": [
    "len(\"code\")  # Length of string: 4"
   ]
  },
  {
   "cell_type": "code",
   "execution_count": 2,
   "id": "e75aa7f4-8c4a-489e-a089-31df77c5a306",
   "metadata": {},
   "outputs": [
    {
     "name": "stdout",
     "output_type": "stream",
     "text": [
      "code\n"
     ]
    }
   ],
   "source": [
    "print(\"code\")  # Prints \"code\""
   ]
  },
  {
   "cell_type": "markdown",
   "id": "d2b1124d",
   "metadata": {},
   "source": [
    "### Section 2: Function Definitions (Errors)"
   ]
  },
  {
   "cell_type": "code",
   "execution_count": 3,
   "id": "7dba75c5-2448-4cba-8318-ed02f65b2adb",
   "metadata": {},
   "outputs": [
    {
     "ename": "SyntaxError",
     "evalue": "expected ':' (170180531.py, line 1)",
     "output_type": "error",
     "traceback": [
      "\u001b[0;36m  Cell \u001b[0;32mIn[3], line 1\u001b[0;36m\u001b[0m\n\u001b[0;31m    def test()  # ERROR: SyntaxError - missing colon\u001b[0m\n\u001b[0m                ^\u001b[0m\n\u001b[0;31mSyntaxError\u001b[0m\u001b[0;31m:\u001b[0m expected ':'\n"
     ]
    }
   ],
   "source": [
    "def test()  # ERROR: SyntaxError - missing colon\n",
    "# def test():  # Correct function definition\n",
    "  #  pass"
   ]
  },
  {
   "cell_type": "code",
   "execution_count": 4,
   "id": "96de17ca-5d61-4e54-96dd-f0dcff514ea6",
   "metadata": {},
   "outputs": [
    {
     "ename": "SyntaxError",
     "evalue": "incomplete input (2718977340.py, line 2)",
     "output_type": "error",
     "traceback": [
      "\u001b[0;36m  Cell \u001b[0;32mIn[4], line 2\u001b[0;36m\u001b[0m\n\u001b[0;31m    # print(\"This is a test function.\")\u001b[0m\n\u001b[0m                                       ^\u001b[0m\n\u001b[0;31mSyntaxError\u001b[0m\u001b[0;31m:\u001b[0m incomplete input\n"
     ]
    }
   ],
   "source": [
    "def test():  # SyntaxError: incomplete input\n",
    "    # print(\"This is a test function.\")\n"
   ]
  },
  {
   "cell_type": "code",
   "execution_count": 5,
   "id": "f28a992b-cd0d-436d-9875-48de883a005e",
   "metadata": {},
   "outputs": [],
   "source": [
    "def test():  # Another\n",
    "    pass  # Does nothing"
   ]
  },
  {
   "cell_type": "code",
   "execution_count": 6,
   "id": "7a097098-59c8-4c32-9c25-84c2eebe45b4",
   "metadata": {},
   "outputs": [
    {
     "data": {
      "text/plain": [
       "NoneType"
      ]
     },
     "execution_count": 6,
     "metadata": {},
     "output_type": "execute_result"
    }
   ],
   "source": [
    "type(test())  # Calls test(), returns None, type: <class 'NoneType'>"
   ]
  },
  {
   "cell_type": "markdown",
   "id": "5b73f554",
   "metadata": {},
   "source": [
    "---\n",
    "### Section 3: Function with Print"
   ]
  },
  {
   "cell_type": "code",
   "execution_count": 7,
   "id": "03914daf-fb5d-4098-8627-0b6352353ed8",
   "metadata": {},
   "outputs": [],
   "source": [
    "def test1():  # Define\n",
    "    print(\"this is test code\")  # Print inside"
   ]
  },
  {
   "cell_type": "code",
   "execution_count": 8,
   "id": "e98cc606-cd46-49cc-9fd3-a77d54ab30f5",
   "metadata": {},
   "outputs": [
    {
     "name": "stdout",
     "output_type": "stream",
     "text": [
      "this is test code\n"
     ]
    }
   ],
   "source": [
    "test1()  # Call: prints \"this is test code\""
   ]
  },
  {
   "cell_type": "code",
   "execution_count": 9,
   "id": "3eb66174-0fc2-46b2-84fe-23d3bfc711c7",
   "metadata": {},
   "outputs": [
    {
     "name": "stdout",
     "output_type": "stream",
     "text": [
      "this is test code\n"
     ]
    }
   ],
   "source": [
    "a = test1()  # Assign return (None)"
   ]
  },
  {
   "cell_type": "code",
   "execution_count": 10,
   "id": "d6cc1201-adf1-4993-830f-8ad060f2bf3b",
   "metadata": {},
   "outputs": [
    {
     "data": {
      "text/plain": [
       "function"
      ]
     },
     "execution_count": 10,
     "metadata": {},
     "output_type": "execute_result"
    }
   ],
   "source": [
    "type(test1)  # Function type: <class 'function'>"
   ]
  },
  {
   "cell_type": "code",
   "execution_count": 11,
   "id": "ea548e4f-7338-49dd-b61b-8e2581432a16",
   "metadata": {},
   "outputs": [
    {
     "name": "stdout",
     "output_type": "stream",
     "text": [
      "this is test code\n"
     ]
    },
    {
     "data": {
      "text/plain": [
       "NoneType"
      ]
     },
     "execution_count": 11,
     "metadata": {},
     "output_type": "execute_result"
    }
   ],
   "source": [
    "type(test1())  # Return type: <class 'NoneType'>"
   ]
  },
  {
   "cell_type": "code",
   "execution_count": 12,
   "id": "c4ff5988-3757-489c-b773-516468508649",
   "metadata": {},
   "outputs": [
    {
     "data": {
      "text/plain": [
       "NoneType"
      ]
     },
     "execution_count": 12,
     "metadata": {},
     "output_type": "execute_result"
    }
   ],
   "source": [
    "type(a)  # <class 'NoneType'>"
   ]
  },
  {
   "cell_type": "code",
   "execution_count": 13,
   "id": "29d90848-6498-460f-867b-730576b11af5",
   "metadata": {},
   "outputs": [
    {
     "ename": "TypeError",
     "evalue": "unsupported operand type(s) for +: 'NoneType' and 'str'",
     "output_type": "error",
     "traceback": [
      "\u001b[0;31m---------------------------------------------------------------------------\u001b[0m",
      "\u001b[0;31mTypeError\u001b[0m                                 Traceback (most recent call last)",
      "Cell \u001b[0;32mIn[13], line 1\u001b[0m\n\u001b[0;32m----> 1\u001b[0m a \u001b[38;5;241m+\u001b[39m \u001b[38;5;124m\"\u001b[39m\u001b[38;5;124m in python\u001b[39m\u001b[38;5;124m\"\u001b[39m\n",
      "\u001b[0;31mTypeError\u001b[0m: unsupported operand type(s) for +: 'NoneType' and 'str'"
     ]
    }
   ],
   "source": [
    "a + \" in python\"  # ERROR: TypeError - cannot concatenate None and str\n",
    "# Corrected: str(a) + \" in python\""
   ]
  },
  {
   "cell_type": "code",
   "execution_count": 14,
   "id": "f211c6eb-b03a-4b97-b5f4-16fd1775038b",
   "metadata": {},
   "outputs": [
    {
     "data": {
      "text/plain": [
       "'this is test code in python'"
      ]
     },
     "execution_count": 14,
     "metadata": {},
     "output_type": "execute_result"
    }
   ],
   "source": [
    "\"this is test code\" + \" in python\"  # Works: \"this is test code in python\""
   ]
  },
  {
   "cell_type": "code",
   "execution_count": 15,
   "id": "46fd6d89-89d8-43a4-b63c-59a6ef1580a8",
   "metadata": {},
   "outputs": [
    {
     "name": "stdout",
     "output_type": "stream",
     "text": [
      "this is test code\n"
     ]
    },
    {
     "data": {
      "text/plain": [
       "'None'"
      ]
     },
     "execution_count": 15,
     "metadata": {},
     "output_type": "execute_result"
    }
   ],
   "source": [
    "str(test1())  # str(None): \"None\""
   ]
  },
  {
   "cell_type": "code",
   "execution_count": 16,
   "id": "ecf71dd2-0445-4b0e-bb44-24558a90d52c",
   "metadata": {},
   "outputs": [
    {
     "data": {
      "text/plain": [
       "'None'"
      ]
     },
     "execution_count": 16,
     "metadata": {},
     "output_type": "execute_result"
    }
   ],
   "source": [
    "str(a)  # \"None\""
   ]
  },
  {
   "cell_type": "code",
   "execution_count": 17,
   "id": "5d666285-f124-4a3c-b0d8-f49f67f3c40d",
   "metadata": {},
   "outputs": [],
   "source": [
    "a  # None"
   ]
  },
  {
   "cell_type": "markdown",
   "id": "86c86df4",
   "metadata": {},
   "source": [
    "### Section 4: Function with Return"
   ]
  },
  {
   "cell_type": "code",
   "execution_count": 18,
   "id": "b4741a28-5bb0-4b84-8260-592574268f14",
   "metadata": {},
   "outputs": [],
   "source": [
    "def test2():  # Define\n",
    "    return \"this is test code\"  # Return string"
   ]
  },
  {
   "cell_type": "code",
   "execution_count": 19,
   "id": "fa5b4ae4-4e37-4491-bf53-e7379d6bb6a2",
   "metadata": {},
   "outputs": [
    {
     "data": {
      "text/plain": [
       "str"
      ]
     },
     "execution_count": 19,
     "metadata": {},
     "output_type": "execute_result"
    }
   ],
   "source": [
    "type(test2())  # <class 'str'>"
   ]
  },
  {
   "cell_type": "code",
   "execution_count": 20,
   "id": "5ad0313f-40e4-41b9-9bfb-38e9424e4d65",
   "metadata": {},
   "outputs": [
    {
     "data": {
      "text/plain": [
       "'this is test code'"
      ]
     },
     "execution_count": 20,
     "metadata": {},
     "output_type": "execute_result"
    }
   ],
   "source": [
    "test2()  # \"this is test code\""
   ]
  },
  {
   "cell_type": "code",
   "execution_count": 21,
   "id": "d030d570-3b38-4969-b9c3-60a442b02e0d",
   "metadata": {},
   "outputs": [
    {
     "data": {
      "text/plain": [
       "'this is test code in python'"
      ]
     },
     "execution_count": 21,
     "metadata": {},
     "output_type": "execute_result"
    }
   ],
   "source": [
    "test2() + \" in python\"  # \"this is test code in python\""
   ]
  },
  {
   "cell_type": "markdown",
   "id": "127fe2d9",
   "metadata": {},
   "source": [
    "### Section 5: Function Returning Number"
   ]
  },
  {
   "cell_type": "code",
   "execution_count": 22,
   "id": "8b676ba3-a465-415c-af3f-ee0a785fa82a",
   "metadata": {},
   "outputs": [],
   "source": [
    "def test3():  # Define\n",
    "    return 12345  # Return int"
   ]
  },
  {
   "cell_type": "code",
   "execution_count": 23,
   "id": "1686b0b3-a2c2-4081-869c-a8f8eef2b348",
   "metadata": {},
   "outputs": [
    {
     "data": {
      "text/plain": [
       "int"
      ]
     },
     "execution_count": 23,
     "metadata": {},
     "output_type": "execute_result"
    }
   ],
   "source": [
    "type(test3())  # <class 'int'>"
   ]
  },
  {
   "cell_type": "code",
   "execution_count": 24,
   "id": "b2448e3b-1cd7-4310-a566-da83c1f1df03",
   "metadata": {},
   "outputs": [
    {
     "data": {
      "text/plain": [
       "12345"
      ]
     },
     "execution_count": 24,
     "metadata": {},
     "output_type": "execute_result"
    }
   ],
   "source": [
    "test3()  # 12345\n",
    "# test3() + 5  # 12350\n",
    "# type(test3() + 5)  # <class 'int'>\n",
    "# str(test3())  # \"12345\""
   ]
  },
  {
   "cell_type": "markdown",
   "id": "db1cd261",
   "metadata": {},
   "source": [
    "### Section 6: Function Returning Multiple Values"
   ]
  },
  {
   "cell_type": "code",
   "execution_count": 25,
   "id": "c21f6136-fd1a-4287-8d5b-232eef6b2165",
   "metadata": {},
   "outputs": [],
   "source": [
    "def test4():  # Define\n",
    "    return 125, 1258.58, 1+58j, False, \"code\", [158, 3258, 44842]  # Tuple return"
   ]
  },
  {
   "cell_type": "code",
   "execution_count": 26,
   "id": "b29b4534-cafb-40c8-b427-3430c34c889b",
   "metadata": {},
   "outputs": [
    {
     "data": {
      "text/plain": [
       "(125, 1258.58, (1+58j), False, 'code', [158, 3258, 44842])"
      ]
     },
     "execution_count": 26,
     "metadata": {},
     "output_type": "execute_result"
    }
   ],
   "source": [
    "test4()  # (125, 1258.58, (1+58j), False, \"code\", [158, 3258, 44842])"
   ]
  },
  {
   "cell_type": "code",
   "execution_count": 27,
   "id": "80f525d6",
   "metadata": {},
   "outputs": [
    {
     "data": {
      "text/plain": [
       "tuple"
      ]
     },
     "execution_count": 27,
     "metadata": {},
     "output_type": "execute_result"
    }
   ],
   "source": [
    "type(test4())  # <class 'tuple'>"
   ]
  },
  {
   "cell_type": "code",
   "execution_count": 28,
   "id": "970a6075-1eca-4716-9cea-220f195da1e6",
   "metadata": {},
   "outputs": [],
   "source": [
    "b = test4()  # Assign tuple"
   ]
  },
  {
   "cell_type": "code",
   "execution_count": 29,
   "id": "c683cf5a-cfc6-485a-8719-2a58e4b18861",
   "metadata": {},
   "outputs": [
    {
     "data": {
      "text/plain": [
       "1258.58"
      ]
     },
     "execution_count": 29,
     "metadata": {},
     "output_type": "execute_result"
    }
   ],
   "source": [
    "b[1]  # 1258.58"
   ]
  },
  {
   "cell_type": "markdown",
   "id": "59188565",
   "metadata": {},
   "source": [
    "### Section 7: Unpacking Returns"
   ]
  },
  {
   "cell_type": "code",
   "execution_count": 30,
   "id": "75893d30-2e4d-4131-9fd8-4f7f3722bd07",
   "metadata": {},
   "outputs": [],
   "source": [
    "a = 1254  # Reassign\n",
    "b = 48.58\n",
    "c = \"code\"\n",
    "d = [1541, 5212, 121, 1515]"
   ]
  },
  {
   "cell_type": "code",
   "execution_count": 31,
   "id": "e9eecc7c-c048-4860-b777-398062e4b0f0",
   "metadata": {},
   "outputs": [],
   "source": [
    "a, b, c, d = 64, 546.45, \"code\", [665, 4548, 86321]  # Unpack"
   ]
  },
  {
   "cell_type": "code",
   "execution_count": 32,
   "id": "a3a36b3c-bf35-4559-99e5-e26f648fd65e",
   "metadata": {},
   "outputs": [],
   "source": [
    "x, y, z, u, v, w = test4()  # Unpack return"
   ]
  },
  {
   "cell_type": "code",
   "execution_count": 33,
   "id": "79b20bde-246d-40b1-8d65-2d4622f0e4fd",
   "metadata": {},
   "outputs": [
    {
     "data": {
      "text/plain": [
       "(1+58j)"
      ]
     },
     "execution_count": 33,
     "metadata": {},
     "output_type": "execute_result"
    }
   ],
   "source": [
    "z  # (1+58j)"
   ]
  },
  {
   "cell_type": "code",
   "execution_count": 34,
   "id": "c73508dd-d830-4d9b-928f-2aed36d0c792",
   "metadata": {},
   "outputs": [
    {
     "ename": "ValueError",
     "evalue": "too many values to unpack (expected 5)",
     "output_type": "error",
     "traceback": [
      "\u001b[0;31m---------------------------------------------------------------------------\u001b[0m",
      "\u001b[0;31mValueError\u001b[0m                                Traceback (most recent call last)",
      "Cell \u001b[0;32mIn[34], line 1\u001b[0m\n\u001b[0;32m----> 1\u001b[0m x, y, z, u, v \u001b[38;5;241m=\u001b[39m test4()\n",
      "\u001b[0;31mValueError\u001b[0m: too many values to unpack (expected 5)"
     ]
    }
   ],
   "source": [
    "x, y, z, u, v = test4()  # ERROR: ValueError - too few variables"
   ]
  },
  {
   "cell_type": "code",
   "execution_count": 35,
   "id": "14b416ae-6f66-46c4-adc6-419d62e07be3",
   "metadata": {},
   "outputs": [
    {
     "ename": "ValueError",
     "evalue": "not enough values to unpack (expected 7, got 6)",
     "output_type": "error",
     "traceback": [
      "\u001b[0;31m---------------------------------------------------------------------------\u001b[0m",
      "\u001b[0;31mValueError\u001b[0m                                Traceback (most recent call last)",
      "Cell \u001b[0;32mIn[35], line 1\u001b[0m\n\u001b[0;32m----> 1\u001b[0m x, y, z, u, v, w, m \u001b[38;5;241m=\u001b[39m test4()\n",
      "\u001b[0;31mValueError\u001b[0m: not enough values to unpack (expected 7, got 6)"
     ]
    }
   ],
   "source": [
    "x, y, z, u, v, w, m = test4()  # ERROR: ValueError - too many variables"
   ]
  },
  {
   "cell_type": "markdown",
   "id": "a03a9776",
   "metadata": {},
   "source": [
    "---\n",
    "### Section 8: Function with Calculation"
   ]
  },
  {
   "cell_type": "code",
   "execution_count": 36,
   "id": "d21b79b3-6652-4945-94e5-19d75b829a1f",
   "metadata": {},
   "outputs": [],
   "source": [
    "def test5():  # Define\n",
    "    a = 6 * 7 / 6  # 7.0\n",
    "    return a"
   ]
  },
  {
   "cell_type": "code",
   "execution_count": 37,
   "id": "00865bcf-34c5-4658-b8fb-f75438e0ed07",
   "metadata": {},
   "outputs": [
    {
     "data": {
      "text/plain": [
       "7.0"
      ]
     },
     "execution_count": 37,
     "metadata": {},
     "output_type": "execute_result"
    }
   ],
   "source": [
    "test5()  # 7.0"
   ]
  },
  {
   "cell_type": "code",
   "execution_count": 38,
   "id": "e1dbc829-53b6-475f-9a0f-9fd25b0185c7",
   "metadata": {},
   "outputs": [
    {
     "data": {
      "text/plain": [
       "float"
      ]
     },
     "execution_count": 38,
     "metadata": {},
     "output_type": "execute_result"
    }
   ],
   "source": [
    "type(test5())  # <class 'float'>"
   ]
  },
  {
   "cell_type": "markdown",
   "id": "244c549e",
   "metadata": {},
   "source": [
    "### Section 9: Function with Parameter\n"
   ]
  },
  {
   "cell_type": "code",
   "execution_count": 39,
   "id": "22bf357a-dfad-4246-aa97-7081caf34b4c",
   "metadata": {},
   "outputs": [
    {
     "data": {
      "text/plain": [
       "6"
      ]
     },
     "execution_count": 39,
     "metadata": {},
     "output_type": "execute_result"
    }
   ],
   "source": [
    "len(\"python\")  # 6"
   ]
  },
  {
   "cell_type": "code",
   "execution_count": 40,
   "id": "b67c5992-8d5e-4f82-9be6-d4da8447d6c6",
   "metadata": {},
   "outputs": [],
   "source": [
    "l = [15, 545, 547, 2482, 152.48, \"code\", [545, 5488, 2122]]  # List"
   ]
  },
  {
   "cell_type": "code",
   "execution_count": 41,
   "id": "378be07d-d2b0-482f-af3b-8c2af3e021cf",
   "metadata": {},
   "outputs": [],
   "source": [
    "def test6(a):  # Parameter 'a'\n",
    "    n = []  # Empty list\n",
    "    if type(a) == list:  # Type check\n",
    "        for i in a:  # Iterate\n",
    "            if type(i) == int:  # If int\n",
    "                n.append(i)  # Append\n",
    "    return n  # Return filtered list"
   ]
  },
  {
   "cell_type": "code",
   "execution_count": 42,
   "id": "4b5e4405-6f26-43ce-aec7-e9ad28cc6046",
   "metadata": {},
   "outputs": [
    {
     "ename": "TypeError",
     "evalue": "test6() missing 1 required positional argument: 'a'",
     "output_type": "error",
     "traceback": [
      "\u001b[0;31m---------------------------------------------------------------------------\u001b[0m",
      "\u001b[0;31mTypeError\u001b[0m                                 Traceback (most recent call last)",
      "Cell \u001b[0;32mIn[42], line 1\u001b[0m\n\u001b[0;32m----> 1\u001b[0m test6()\n",
      "\u001b[0;31mTypeError\u001b[0m: test6() missing 1 required positional argument: 'a'"
     ]
    }
   ],
   "source": [
    "test6()  # ERROR: TypeError - missing argument\n",
    "# test6(l)  # [15, 545, 547, 2482]"
   ]
  },
  {
   "cell_type": "code",
   "execution_count": 43,
   "id": "6f4fd4bd-6703-4b0d-84ff-d396dfba9c35",
   "metadata": {},
   "outputs": [
    {
     "data": {
      "text/plain": [
       "[15, 545, 547, 2482]"
      ]
     },
     "execution_count": 43,
     "metadata": {},
     "output_type": "execute_result"
    }
   ],
   "source": [
    "test6(l)  # [15, 545, 547, 2482]"
   ]
  },
  {
   "cell_type": "markdown",
   "id": "e72bfd8c",
   "metadata": {},
   "source": [
    "### Section 10: Function with Dict Check"
   ]
  },
  {
   "cell_type": "code",
   "execution_count": 44,
   "id": "4a6ffe26-c9c2-40af-8336-b196c3a4cd90",
   "metadata": {},
   "outputs": [],
   "source": [
    "def test8(c):  # Parameter 'c'\n",
    "    if type(c) == dict:  # If dict\n",
    "        return c.keys()  # Return keys\n",
    "    else:\n",
    "        return \"you have not passed a dic\"  # Typo: \"dic\" should be \"dict\""
   ]
  },
  {
   "cell_type": "code",
   "execution_count": 45,
   "id": "fceb4133-7bef-41a1-9bdb-bf20fe6b7ab6",
   "metadata": {},
   "outputs": [
    {
     "data": {
      "text/plain": [
       "'you have not passed a dic'"
      ]
     },
     "execution_count": 45,
     "metadata": {},
     "output_type": "execute_result"
    }
   ],
   "source": [
    "test8(\"abcd\")  # \"you have not passed a dic\""
   ]
  },
  {
   "cell_type": "code",
   "execution_count": 46,
   "id": "9091b980-bfd4-487d-962c-a8de6b44cad2",
   "metadata": {},
   "outputs": [
    {
     "data": {
      "text/plain": [
       "dict_keys(['a', 'b', 'c'])"
      ]
     },
     "execution_count": 46,
     "metadata": {},
     "output_type": "execute_result"
    }
   ],
   "source": [
    "test8({\"a\": \"code\", \"b\": 1224822, \"c\": [5548, 4845, 87521, 44]})  # dict_keys(['a', 'b', 'c'])"
   ]
  },
  {
   "cell_type": "markdown",
   "id": "fd958004",
   "metadata": {},
   "source": [
    "### Section 11: Function Extending Lists"
   ]
  },
  {
   "cell_type": "code",
   "execution_count": 47,
   "id": "50fc82d5-76f4-4938-b917-dd4ea03f1cc1",
   "metadata": {},
   "outputs": [],
   "source": [
    "def test9(a, b):  # Parameters\n",
    "    if type(a) == list and type(b) == list:  # Type check\n",
    "        return a.extend(b)  # Extend a with b, return None\n",
    "        # return a + b  # Alternative: concatenate and return new list\n",
    "    else:\n",
    "        return \"either of your data is not a list\"  # Error message"
   ]
  },
  {
   "cell_type": "code",
   "execution_count": 48,
   "id": "8bab85b4-7e1c-46e5-9d24-4f2f8725c631",
   "metadata": {},
   "outputs": [
    {
     "ename": "TypeError",
     "evalue": "test9() missing 1 required positional argument: 'b'",
     "output_type": "error",
     "traceback": [
      "\u001b[0;31m---------------------------------------------------------------------------\u001b[0m",
      "\u001b[0;31mTypeError\u001b[0m                                 Traceback (most recent call last)",
      "Cell \u001b[0;32mIn[48], line 1\u001b[0m\n\u001b[0;32m----> 1\u001b[0m test9(\u001b[38;5;241m546515\u001b[39m)\n",
      "\u001b[0;31mTypeError\u001b[0m: test9() missing 1 required positional argument: 'b'"
     ]
    }
   ],
   "source": [
    "test9(546515)  # ERROR: TypeError - missing b"
   ]
  },
  {
   "cell_type": "code",
   "execution_count": 49,
   "id": "3fdee854-4883-41e0-9138-7ee6b2239a19",
   "metadata": {},
   "outputs": [
    {
     "data": {
      "text/plain": [
       "'either of your data is not a list'"
      ]
     },
     "execution_count": 49,
     "metadata": {},
     "output_type": "execute_result"
    }
   ],
   "source": [
    "test9(15, \"abcd\")  # \"either of your data is not a list\""
   ]
  },
  {
   "cell_type": "code",
   "execution_count": 50,
   "id": "74d102f4-980b-4219-87be-b06a9fe8e6ee",
   "metadata": {},
   "outputs": [],
   "source": [
    "test9([1556, 625, 3154, 45], [845, 481, 4558, 125])  # None (extend returns None)"
   ]
  },
  {
   "cell_type": "code",
   "execution_count": 51,
   "id": "58b91148-97aa-42ff-aeec-7340d0ebbc1b",
   "metadata": {},
   "outputs": [],
   "source": [
    "n = test9([1556, 625, 3154, 45], [845, 481, 4558, 125])  # n = None"
   ]
  },
  {
   "cell_type": "code",
   "execution_count": 52,
   "id": "9517ae62-9999-4950-afcc-2930c2a3b99d",
   "metadata": {},
   "outputs": [],
   "source": [
    "n  # None"
   ]
  },
  {
   "cell_type": "code",
   "execution_count": 53,
   "id": "759920e7-241a-4897-a52d-4c69b2f29658",
   "metadata": {},
   "outputs": [],
   "source": [
    "a = [1556, 625, 3154, 45, 11]  # New list\n",
    "b = [845, 481, 4558, 125, 88]"
   ]
  },
  {
   "cell_type": "code",
   "execution_count": 54,
   "id": "9ede9a28-2844-4caa-9e09-256e73b11290",
   "metadata": {},
   "outputs": [],
   "source": [
    "test9(a, b)  # None, but a is extended"
   ]
  },
  {
   "cell_type": "code",
   "execution_count": 55,
   "id": "63fe096e-6bf6-464e-b57a-56ee812fad10",
   "metadata": {},
   "outputs": [
    {
     "data": {
      "text/plain": [
       "[1556, 625, 3154, 45, 11, 845, 481, 4558, 125, 88]"
      ]
     },
     "execution_count": 55,
     "metadata": {},
     "output_type": "execute_result"
    }
   ],
   "source": [
    "a  # [1556, 625, 3154, 45, 11, 845, 481, 4558, 125, 88]"
   ]
  },
  {
   "cell_type": "markdown",
   "id": "6f9ebd3b",
   "metadata": {},
   "source": [
    "### Section 12: Improved Extend Function"
   ]
  },
  {
   "cell_type": "code",
   "execution_count": 56,
   "id": "fb530c4b-10ac-4fa7-ae21-36e3976b21a1",
   "metadata": {},
   "outputs": [],
   "source": [
    "c = [1556, 625, 3154, 45, 11]  # New\n",
    "d = [845, 481, 4558, 125, 88]\n",
    "def test9(c, d):  # Redefine\n",
    "    if type(c) == list and type(d) == list:\n",
    "        c.extend(d)  # Extend\n",
    "        return c  # Return extended list\n",
    "    else:\n",
    "        return \"either of your data is not a list\""
   ]
  },
  {
   "cell_type": "code",
   "execution_count": 57,
   "id": "972c348c-3e64-4936-9501-3bdac28bea32",
   "metadata": {},
   "outputs": [
    {
     "data": {
      "text/plain": [
       "[1556, 625, 3154, 45, 11, 845, 481, 4558, 125, 88]"
      ]
     },
     "execution_count": 57,
     "metadata": {},
     "output_type": "execute_result"
    }
   ],
   "source": [
    "test9(c, d)  # [1556, 625, 3154, 45, 11, 845, 481, 4558, 125, 88]"
   ]
  },
  {
   "cell_type": "code",
   "execution_count": 58,
   "id": "e2585b0c-0844-4352-8fbc-99ace2368cbb",
   "metadata": {},
   "outputs": [
    {
     "data": {
      "text/plain": [
       "[1556, 625, 3154, 45, 11, 845, 481, 4558, 125, 88]"
      ]
     },
     "execution_count": 58,
     "metadata": {},
     "output_type": "execute_result"
    }
   ],
   "source": [
    "c  # Same"
   ]
  },
  {
   "cell_type": "markdown",
   "id": "6e25c08c",
   "metadata": {},
   "source": [
    "---\n",
    "### Section 13: Triangle Pattern Function"
   ]
  },
  {
   "cell_type": "code",
   "execution_count": 59,
   "id": "351977cb-e16d-4a78-ae90-480425f90bb7",
   "metadata": {},
   "outputs": [],
   "source": [
    "def triangle(row):  # Parameter 'row'\n",
    "    \"\"\"this is a function which will help you to create a triangle with any number of rows.\"\"\"  # Docstring\n",
    "    for i in range(1, row + 1):  # 1 to row\n",
    "        print(\"* \" * i, end = \"\")  # Print stars\n",
    "        print(\"\\r\")  # New line"
   ]
  },
  {
   "cell_type": "code",
   "execution_count": 60,
   "id": "82ffa5cd-4d57-433d-82a5-794dc036d4ba",
   "metadata": {},
   "outputs": [
    {
     "name": "stdin",
     "output_type": "stream",
     "text": [
      " 7\n"
     ]
    },
    {
     "name": "stdout",
     "output_type": "stream",
     "text": [
      "* \n",
      "* * \n",
      "* * * \n",
      "* * * * \n",
      "* * * * * \n",
      "* * * * * * \n",
      "* * * * * * * \n"
     ]
    }
   ],
   "source": [
    "triangle(int(input()))  # Call with input"
   ]
  },
  {
   "cell_type": "markdown",
   "id": "6d80182c",
   "metadata": {},
   "source": [
    "### Section 14: Centered Triangle"
   ]
  },
  {
   "cell_type": "code",
   "execution_count": 61,
   "id": "b8854fc2-7539-4edd-85af-73827216b9e4",
   "metadata": {},
   "outputs": [],
   "source": [
    "def triangle1(n):  # Parameter 'n'\n",
    "    k = n - 1  # Spaces\n",
    "    for i in range(0, n):\n",
    "        for j in range(0, k):  # Print spaces\n",
    "            print(end = \" \") # zero space - left align, single space - centre align, double space - right align \n",
    "        k -= 1  # Decrease spaces\n",
    "        for j in range(0, i + 1):  # Print stars\n",
    "            print(\"* \", end = \"\")\n",
    "        print(\"\\r\")  # New line"
   ]
  },
  {
   "cell_type": "code",
   "execution_count": 62,
   "id": "818c13f8-8a04-49a0-bb71-593884f0a741",
   "metadata": {},
   "outputs": [
    {
     "name": "stdin",
     "output_type": "stream",
     "text": [
      " 7\n"
     ]
    },
    {
     "name": "stdout",
     "output_type": "stream",
     "text": [
      "      * \n",
      "     * * \n",
      "    * * * \n",
      "   * * * * \n",
      "  * * * * * \n",
      " * * * * * * \n",
      "* * * * * * * \n"
     ]
    }
   ],
   "source": [
    "triangle1(int(input()))  # Call with input"
   ]
  },
  {
   "cell_type": "markdown",
   "id": "34d80866",
   "metadata": {},
   "source": [
    "### Section 15: Help and Docstrings"
   ]
  },
  {
   "cell_type": "code",
   "execution_count": 63,
   "id": "1fa9d288-af44-4341-b415-1221f6bad479",
   "metadata": {},
   "outputs": [
    {
     "name": "stdout",
     "output_type": "stream",
     "text": [
      "Help on function triangle in module __main__:\n",
      "\n",
      "triangle(row)\n",
      "    this is a function which will help you to create a triangle with any number of rows.\n",
      "\n"
     ]
    }
   ],
   "source": [
    "help(triangle)  # Shows docstring\n",
    "# help(triangle1)  # No docstring"
   ]
  },
  {
   "cell_type": "code",
   "execution_count": 64,
   "id": "a5722bdb-8b37-4946-8be1-c1ea862af3ff",
   "metadata": {},
   "outputs": [
    {
     "name": "stdout",
     "output_type": "stream",
     "text": [
      "* \n",
      "* * \n",
      "* * * \n",
      "* * * * \n",
      "* * * * * \n",
      "Help on NoneType object:\n",
      "\n",
      "class NoneType(object)\n",
      " |  Methods defined here:\n",
      " |\n",
      " |  __bool__(self, /)\n",
      " |      True if self else False\n",
      " |\n",
      " |  __eq__(self, value, /)\n",
      " |      Return self==value.\n",
      " |\n",
      " |  __ge__(self, value, /)\n",
      " |      Return self>=value.\n",
      " |\n",
      " |  __gt__(self, value, /)\n",
      " |      Return self>value.\n",
      " |\n",
      " |  __hash__(self, /)\n",
      " |      Return hash(self).\n",
      " |\n",
      " |  __le__(self, value, /)\n",
      " |      Return self<=value.\n",
      " |\n",
      " |  __lt__(self, value, /)\n",
      " |      Return self<value.\n",
      " |\n",
      " |  __ne__(self, value, /)\n",
      " |      Return self!=value.\n",
      " |\n",
      " |  __repr__(self, /)\n",
      " |      Return repr(self).\n",
      " |\n",
      " |  ----------------------------------------------------------------------\n",
      " |  Static methods defined here:\n",
      " |\n",
      " |  __new__(*args, **kwargs)\n",
      " |      Create and return a new object.  See help(type) for accurate signature.\n",
      "\n"
     ]
    }
   ],
   "source": [
    "help(triangle(5))  # ERROR: triangle(5) returns None, help on None\n",
    "# help(triangle1(5))  # ERROR: triangle1(5) returns None, help on None"
   ]
  },
  {
   "cell_type": "markdown",
   "id": "2beca8f3",
   "metadata": {},
   "source": [
    "-----"
   ]
  }
 ],
 "metadata": {
  "kernelspec": {
   "display_name": "Python 3 (ipykernel)",
   "language": "python",
   "name": "python3"
  },
  "language_info": {
   "codemirror_mode": {
    "name": "ipython",
    "version": 3
   },
   "file_extension": ".py",
   "mimetype": "text/x-python",
   "name": "python",
   "nbconvert_exporter": "python",
   "pygments_lexer": "ipython3",
   "version": "3.12.7"
  }
 },
 "nbformat": 4,
 "nbformat_minor": 5
}
