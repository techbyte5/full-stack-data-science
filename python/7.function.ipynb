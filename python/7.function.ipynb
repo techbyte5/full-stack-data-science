{
 "cells": [
  {
   "cell_type": "code",
   "execution_count": 1,
   "id": "9aceb094-32f9-4e5f-a991-5c332007b40c",
   "metadata": {},
   "outputs": [
    {
     "data": {
      "text/plain": [
       "4"
      ]
     },
     "execution_count": 1,
     "metadata": {},
     "output_type": "execute_result"
    }
   ],
   "source": [
    "len(\"code\")"
   ]
  },
  {
   "cell_type": "code",
   "execution_count": 2,
   "id": "e75aa7f4-8c4a-489e-a089-31df77c5a306",
   "metadata": {},
   "outputs": [
    {
     "name": "stdout",
     "output_type": "stream",
     "text": [
      "code\n"
     ]
    }
   ],
   "source": [
    "print(\"code\")"
   ]
  },
  {
   "cell_type": "code",
   "execution_count": 3,
   "id": "7dba75c5-2448-4cba-8318-ed02f65b2adb",
   "metadata": {},
   "outputs": [
    {
     "ename": "SyntaxError",
     "evalue": "expected ':' (1800053262.py, line 1)",
     "output_type": "error",
     "traceback": [
      "\u001b[0;36m  Cell \u001b[0;32mIn[3], line 1\u001b[0;36m\u001b[0m\n\u001b[0;31m    def test()\u001b[0m\n\u001b[0m              ^\u001b[0m\n\u001b[0;31mSyntaxError\u001b[0m\u001b[0;31m:\u001b[0m expected ':'\n"
     ]
    }
   ],
   "source": [
    "def test()"
   ]
  },
  {
   "cell_type": "code",
   "execution_count": 4,
   "id": "96de17ca-5d61-4e54-96dd-f0dcff514ea6",
   "metadata": {},
   "outputs": [
    {
     "ename": "SyntaxError",
     "evalue": "incomplete input (2690612609.py, line 2)",
     "output_type": "error",
     "traceback": [
      "\u001b[0;36m  Cell \u001b[0;32mIn[4], line 2\u001b[0;36m\u001b[0m\n\u001b[0;31m    \u001b[0m\n\u001b[0m    ^\u001b[0m\n\u001b[0;31mSyntaxError\u001b[0m\u001b[0;31m:\u001b[0m incomplete input\n"
     ]
    }
   ],
   "source": [
    "def test():\n",
    "    "
   ]
  },
  {
   "cell_type": "code",
   "execution_count": 5,
   "id": "f28a992b-cd0d-436d-9875-48de883a005e",
   "metadata": {},
   "outputs": [],
   "source": [
    "def test():\n",
    "    pass"
   ]
  },
  {
   "cell_type": "code",
   "execution_count": 6,
   "id": "7a097098-59c8-4c32-9c25-84c2eebe45b4",
   "metadata": {},
   "outputs": [
    {
     "data": {
      "text/plain": [
       "NoneType"
      ]
     },
     "execution_count": 6,
     "metadata": {},
     "output_type": "execute_result"
    }
   ],
   "source": [
    "type(test())"
   ]
  },
  {
   "cell_type": "code",
   "execution_count": 7,
   "id": "03914daf-fb5d-4098-8627-0b6352353ed8",
   "metadata": {},
   "outputs": [],
   "source": [
    "def test1():\n",
    "    print(\"this is test code\")"
   ]
  },
  {
   "cell_type": "code",
   "execution_count": 8,
   "id": "e98cc606-cd46-49cc-9fd3-a77d54ab30f5",
   "metadata": {},
   "outputs": [
    {
     "name": "stdout",
     "output_type": "stream",
     "text": [
      "this is test code\n"
     ]
    }
   ],
   "source": [
    "test1()"
   ]
  },
  {
   "cell_type": "code",
   "execution_count": 9,
   "id": "3eb66174-0fc2-46b2-84fe-23d3bfc711c7",
   "metadata": {},
   "outputs": [
    {
     "name": "stdout",
     "output_type": "stream",
     "text": [
      "this is test code\n"
     ]
    }
   ],
   "source": [
    "a = test1()"
   ]
  },
  {
   "cell_type": "code",
   "execution_count": 10,
   "id": "d6cc1201-adf1-4993-830f-8ad060f2bf3b",
   "metadata": {},
   "outputs": [
    {
     "data": {
      "text/plain": [
       "function"
      ]
     },
     "execution_count": 10,
     "metadata": {},
     "output_type": "execute_result"
    }
   ],
   "source": [
    "type(test1)"
   ]
  },
  {
   "cell_type": "code",
   "execution_count": 11,
   "id": "ea548e4f-7338-49dd-b61b-8e2581432a16",
   "metadata": {},
   "outputs": [
    {
     "name": "stdout",
     "output_type": "stream",
     "text": [
      "this is test code\n"
     ]
    },
    {
     "data": {
      "text/plain": [
       "NoneType"
      ]
     },
     "execution_count": 11,
     "metadata": {},
     "output_type": "execute_result"
    }
   ],
   "source": [
    "type(test1())"
   ]
  },
  {
   "cell_type": "code",
   "execution_count": 12,
   "id": "c4ff5988-3757-489c-b773-516468508649",
   "metadata": {},
   "outputs": [
    {
     "data": {
      "text/plain": [
       "NoneType"
      ]
     },
     "execution_count": 12,
     "metadata": {},
     "output_type": "execute_result"
    }
   ],
   "source": [
    "type(a)"
   ]
  },
  {
   "cell_type": "code",
   "execution_count": 13,
   "id": "29d90848-6498-460f-867b-730576b11af5",
   "metadata": {},
   "outputs": [
    {
     "ename": "TypeError",
     "evalue": "unsupported operand type(s) for +: 'NoneType' and 'str'",
     "output_type": "error",
     "traceback": [
      "\u001b[0;31m---------------------------------------------------------------------------\u001b[0m",
      "\u001b[0;31mTypeError\u001b[0m                                 Traceback (most recent call last)",
      "Cell \u001b[0;32mIn[13], line 1\u001b[0m\n\u001b[0;32m----> 1\u001b[0m a \u001b[38;5;241m+\u001b[39m \u001b[38;5;124m\"\u001b[39m\u001b[38;5;124m in python\u001b[39m\u001b[38;5;124m\"\u001b[39m\n",
      "\u001b[0;31mTypeError\u001b[0m: unsupported operand type(s) for +: 'NoneType' and 'str'"
     ]
    }
   ],
   "source": [
    "a + \" in python\""
   ]
  },
  {
   "cell_type": "code",
   "execution_count": null,
   "id": "f211c6eb-b03a-4b97-b5f4-16fd1775038b",
   "metadata": {},
   "outputs": [],
   "source": [
    "\"this is test code\" + \" in python\""
   ]
  },
  {
   "cell_type": "code",
   "execution_count": null,
   "id": "46fd6d89-89d8-43a4-b63c-59a6ef1580a8",
   "metadata": {},
   "outputs": [],
   "source": [
    "str(test1())"
   ]
  },
  {
   "cell_type": "code",
   "execution_count": null,
   "id": "ecf71dd2-0445-4b0e-bb44-24558a90d52c",
   "metadata": {},
   "outputs": [],
   "source": [
    "str(a)"
   ]
  },
  {
   "cell_type": "code",
   "execution_count": null,
   "id": "5d666285-f124-4a3c-b0d8-f49f67f3c40d",
   "metadata": {},
   "outputs": [],
   "source": [
    "a"
   ]
  },
  {
   "cell_type": "code",
   "execution_count": null,
   "id": "b4741a28-5bb0-4b84-8260-592574268f14",
   "metadata": {},
   "outputs": [],
   "source": [
    "def test2():\n",
    "    return \"this is test code\""
   ]
  },
  {
   "cell_type": "code",
   "execution_count": null,
   "id": "fa5b4ae4-4e37-4491-bf53-e7379d6bb6a2",
   "metadata": {},
   "outputs": [],
   "source": [
    "type(test2())"
   ]
  },
  {
   "cell_type": "code",
   "execution_count": null,
   "id": "5ad0313f-40e4-41b9-9bfb-38e9424e4d65",
   "metadata": {},
   "outputs": [],
   "source": [
    "test2()"
   ]
  },
  {
   "cell_type": "code",
   "execution_count": 14,
   "id": "d030d570-3b38-4969-b9c3-60a442b02e0d",
   "metadata": {},
   "outputs": [
    {
     "ename": "NameError",
     "evalue": "name 'test2' is not defined",
     "output_type": "error",
     "traceback": [
      "\u001b[0;31m---------------------------------------------------------------------------\u001b[0m",
      "\u001b[0;31mNameError\u001b[0m                                 Traceback (most recent call last)",
      "Cell \u001b[0;32mIn[14], line 1\u001b[0m\n\u001b[0;32m----> 1\u001b[0m test2() \u001b[38;5;241m+\u001b[39m \u001b[38;5;124m\"\u001b[39m\u001b[38;5;124m in python\u001b[39m\u001b[38;5;124m\"\u001b[39m\n",
      "\u001b[0;31mNameError\u001b[0m: name 'test2' is not defined"
     ]
    }
   ],
   "source": [
    "test2() + \" in python\""
   ]
  },
  {
   "cell_type": "code",
   "execution_count": 15,
   "id": "8b676ba3-a465-415c-af3f-ee0a785fa82a",
   "metadata": {},
   "outputs": [],
   "source": [
    "def test3():\n",
    "    return 12345"
   ]
  },
  {
   "cell_type": "code",
   "execution_count": 16,
   "id": "1686b0b3-a2c2-4081-869c-a8f8eef2b348",
   "metadata": {},
   "outputs": [
    {
     "data": {
      "text/plain": [
       "int"
      ]
     },
     "execution_count": 16,
     "metadata": {},
     "output_type": "execute_result"
    }
   ],
   "source": [
    "type(test3())"
   ]
  },
  {
   "cell_type": "code",
   "execution_count": 17,
   "id": "b2448e3b-1cd7-4310-a566-da83c1f1df03",
   "metadata": {},
   "outputs": [
    {
     "data": {
      "text/plain": [
       "12345"
      ]
     },
     "execution_count": 17,
     "metadata": {},
     "output_type": "execute_result"
    }
   ],
   "source": [
    "test3()"
   ]
  },
  {
   "cell_type": "code",
   "execution_count": 18,
   "id": "c21f6136-fd1a-4287-8d5b-232eef6b2165",
   "metadata": {},
   "outputs": [],
   "source": [
    "def test4():\n",
    "    return 125, 1258.58, 1+58j, False, \"code\", [158, 3258, 44842]"
   ]
  },
  {
   "cell_type": "code",
   "execution_count": 19,
   "id": "b29b4534-cafb-40c8-b427-3430c34c889b",
   "metadata": {},
   "outputs": [
    {
     "data": {
      "text/plain": [
       "(125, 1258.58, (1+58j), False, 'code', [158, 3258, 44842])"
      ]
     },
     "execution_count": 19,
     "metadata": {},
     "output_type": "execute_result"
    }
   ],
   "source": [
    "test4()"
   ]
  },
  {
   "cell_type": "code",
   "execution_count": 20,
   "id": "e8e559d2-efd7-44bf-a681-b0071d481dd6",
   "metadata": {},
   "outputs": [
    {
     "data": {
      "text/plain": [
       "tuple"
      ]
     },
     "execution_count": 20,
     "metadata": {},
     "output_type": "execute_result"
    }
   ],
   "source": [
    "type(test4())"
   ]
  },
  {
   "cell_type": "code",
   "execution_count": 21,
   "id": "970a6075-1eca-4716-9cea-220f195da1e6",
   "metadata": {},
   "outputs": [],
   "source": [
    "b = test4()"
   ]
  },
  {
   "cell_type": "code",
   "execution_count": 22,
   "id": "c683cf5a-cfc6-485a-8719-2a58e4b18861",
   "metadata": {},
   "outputs": [
    {
     "data": {
      "text/plain": [
       "1258.58"
      ]
     },
     "execution_count": 22,
     "metadata": {},
     "output_type": "execute_result"
    }
   ],
   "source": [
    "b[1]"
   ]
  },
  {
   "cell_type": "code",
   "execution_count": 23,
   "id": "75893d30-2e4d-4131-9fd8-4f7f3722bd07",
   "metadata": {},
   "outputs": [],
   "source": [
    "a = 1254\n",
    "b = 48.58\n",
    "c = \"code\"\n",
    "d = [1541, 5212, 121, 1515]"
   ]
  },
  {
   "cell_type": "code",
   "execution_count": 24,
   "id": "e9eecc7c-c048-4860-b777-398062e4b0f0",
   "metadata": {},
   "outputs": [],
   "source": [
    "a, b, c, d = 64, 546.45, \"code\", [665, 4548, 86321]"
   ]
  },
  {
   "cell_type": "code",
   "execution_count": 25,
   "id": "a3a36b3c-bf35-4559-99e5-e26f648fd65e",
   "metadata": {},
   "outputs": [],
   "source": [
    "x, y, z, u, v, w = test4()"
   ]
  },
  {
   "cell_type": "code",
   "execution_count": 26,
   "id": "79b20bde-246d-40b1-8d65-2d4622f0e4fd",
   "metadata": {},
   "outputs": [
    {
     "data": {
      "text/plain": [
       "(1+58j)"
      ]
     },
     "execution_count": 26,
     "metadata": {},
     "output_type": "execute_result"
    }
   ],
   "source": [
    "z"
   ]
  },
  {
   "cell_type": "code",
   "execution_count": 27,
   "id": "c73508dd-d830-4d9b-928f-2aed36d0c792",
   "metadata": {},
   "outputs": [
    {
     "ename": "ValueError",
     "evalue": "too many values to unpack (expected 5)",
     "output_type": "error",
     "traceback": [
      "\u001b[0;31m---------------------------------------------------------------------------\u001b[0m",
      "\u001b[0;31mValueError\u001b[0m                                Traceback (most recent call last)",
      "Cell \u001b[0;32mIn[27], line 1\u001b[0m\n\u001b[0;32m----> 1\u001b[0m x, y, z, u, v \u001b[38;5;241m=\u001b[39m test4()\n",
      "\u001b[0;31mValueError\u001b[0m: too many values to unpack (expected 5)"
     ]
    }
   ],
   "source": [
    "x, y, z, u, v = test4()"
   ]
  },
  {
   "cell_type": "code",
   "execution_count": 28,
   "id": "14b416ae-6f66-46c4-adc6-419d62e07be3",
   "metadata": {},
   "outputs": [
    {
     "ename": "ValueError",
     "evalue": "not enough values to unpack (expected 7, got 6)",
     "output_type": "error",
     "traceback": [
      "\u001b[0;31m---------------------------------------------------------------------------\u001b[0m",
      "\u001b[0;31mValueError\u001b[0m                                Traceback (most recent call last)",
      "Cell \u001b[0;32mIn[28], line 1\u001b[0m\n\u001b[0;32m----> 1\u001b[0m x, y, z, u, v, w, m \u001b[38;5;241m=\u001b[39m test4()\n",
      "\u001b[0;31mValueError\u001b[0m: not enough values to unpack (expected 7, got 6)"
     ]
    }
   ],
   "source": [
    "x, y, z, u, v, w, m = test4()"
   ]
  },
  {
   "cell_type": "code",
   "execution_count": 29,
   "id": "d21b79b3-6652-4945-94e5-19d75b829a1f",
   "metadata": {},
   "outputs": [],
   "source": [
    "def test5():\n",
    "    a = 6 * 7 / 6\n",
    "    return a"
   ]
  },
  {
   "cell_type": "code",
   "execution_count": 30,
   "id": "00865bcf-34c5-4658-b8fb-f75438e0ed07",
   "metadata": {},
   "outputs": [
    {
     "data": {
      "text/plain": [
       "7.0"
      ]
     },
     "execution_count": 30,
     "metadata": {},
     "output_type": "execute_result"
    }
   ],
   "source": [
    "test5()"
   ]
  },
  {
   "cell_type": "code",
   "execution_count": 31,
   "id": "e1dbc829-53b6-475f-9a0f-9fd25b0185c7",
   "metadata": {},
   "outputs": [
    {
     "data": {
      "text/plain": [
       "float"
      ]
     },
     "execution_count": 31,
     "metadata": {},
     "output_type": "execute_result"
    }
   ],
   "source": [
    "type(test5())"
   ]
  },
  {
   "cell_type": "code",
   "execution_count": 32,
   "id": "22bf357a-dfad-4246-aa97-7081caf34b4c",
   "metadata": {},
   "outputs": [
    {
     "data": {
      "text/plain": [
       "6"
      ]
     },
     "execution_count": 32,
     "metadata": {},
     "output_type": "execute_result"
    }
   ],
   "source": [
    "len(\"python\")"
   ]
  },
  {
   "cell_type": "code",
   "execution_count": 33,
   "id": "b67c5992-8d5e-4f82-9be6-d4da8447d6c6",
   "metadata": {},
   "outputs": [],
   "source": [
    "l = [15, 545, 547, 2482, 152.48, \"code\", [545, 5488, 2122]]"
   ]
  },
  {
   "cell_type": "code",
   "execution_count": 34,
   "id": "378be07d-d2b0-482f-af3b-8c2af3e021cf",
   "metadata": {},
   "outputs": [],
   "source": [
    "def test6(a):\n",
    "    n = []\n",
    "    if type(a) == list:\n",
    "        for i in a:\n",
    "            if type(i) == int:\n",
    "                n.append(i)\n",
    "    return n"
   ]
  },
  {
   "cell_type": "code",
   "execution_count": 35,
   "id": "4b5e4405-6f26-43ce-aec7-e9ad28cc6046",
   "metadata": {},
   "outputs": [
    {
     "ename": "TypeError",
     "evalue": "test6() missing 1 required positional argument: 'a'",
     "output_type": "error",
     "traceback": [
      "\u001b[0;31m---------------------------------------------------------------------------\u001b[0m",
      "\u001b[0;31mTypeError\u001b[0m                                 Traceback (most recent call last)",
      "Cell \u001b[0;32mIn[35], line 1\u001b[0m\n\u001b[0;32m----> 1\u001b[0m test6()\n",
      "\u001b[0;31mTypeError\u001b[0m: test6() missing 1 required positional argument: 'a'"
     ]
    }
   ],
   "source": [
    "test6()"
   ]
  },
  {
   "cell_type": "code",
   "execution_count": 36,
   "id": "6f4fd4bd-6703-4b0d-84ff-d396dfba9c35",
   "metadata": {},
   "outputs": [
    {
     "data": {
      "text/plain": [
       "[15, 545, 547, 2482]"
      ]
     },
     "execution_count": 36,
     "metadata": {},
     "output_type": "execute_result"
    }
   ],
   "source": [
    "test6(l)"
   ]
  },
  {
   "cell_type": "code",
   "execution_count": 37,
   "id": "4a6ffe26-c9c2-40af-8336-b196c3a4cd90",
   "metadata": {},
   "outputs": [],
   "source": [
    "def test8(c):\n",
    "    if type(c) == dict:\n",
    "        return c.keys()\n",
    "    else:\n",
    "        return \"you have not passed a dic\""
   ]
  },
  {
   "cell_type": "code",
   "execution_count": 38,
   "id": "fceb4133-7bef-41a1-9bdb-bf20fe6b7ab6",
   "metadata": {},
   "outputs": [
    {
     "data": {
      "text/plain": [
       "'you have not passed a dic'"
      ]
     },
     "execution_count": 38,
     "metadata": {},
     "output_type": "execute_result"
    }
   ],
   "source": [
    "test8(\"abcd\")"
   ]
  },
  {
   "cell_type": "code",
   "execution_count": 39,
   "id": "9091b980-bfd4-487d-962c-a8de6b44cad2",
   "metadata": {},
   "outputs": [
    {
     "data": {
      "text/plain": [
       "dict_keys(['a', 'b', 'c'])"
      ]
     },
     "execution_count": 39,
     "metadata": {},
     "output_type": "execute_result"
    }
   ],
   "source": [
    "test8({\"a\": \"code\", \"b\": 1224822, \"c\": [5548, 4845, 87521, 44]})"
   ]
  },
  {
   "cell_type": "code",
   "execution_count": 40,
   "id": "50fc82d5-76f4-4938-b917-dd4ea03f1cc1",
   "metadata": {},
   "outputs": [],
   "source": [
    "def test9(a, b):\n",
    "    if type(a) == list and type(b) == list:\n",
    "        return a.extend(b)\n",
    "    else:\n",
    "        return \"either of your data is not a list\""
   ]
  },
  {
   "cell_type": "code",
   "execution_count": 41,
   "id": "8bab85b4-7e1c-46e5-9d24-4f2f8725c631",
   "metadata": {},
   "outputs": [
    {
     "ename": "TypeError",
     "evalue": "test9() missing 1 required positional argument: 'b'",
     "output_type": "error",
     "traceback": [
      "\u001b[0;31m---------------------------------------------------------------------------\u001b[0m",
      "\u001b[0;31mTypeError\u001b[0m                                 Traceback (most recent call last)",
      "Cell \u001b[0;32mIn[41], line 1\u001b[0m\n\u001b[0;32m----> 1\u001b[0m test9(\u001b[38;5;241m546515\u001b[39m)\n",
      "\u001b[0;31mTypeError\u001b[0m: test9() missing 1 required positional argument: 'b'"
     ]
    }
   ],
   "source": [
    "test9(546515)"
   ]
  },
  {
   "cell_type": "code",
   "execution_count": 42,
   "id": "3fdee854-4883-41e0-9138-7ee6b2239a19",
   "metadata": {},
   "outputs": [
    {
     "data": {
      "text/plain": [
       "'either of your data is not a list'"
      ]
     },
     "execution_count": 42,
     "metadata": {},
     "output_type": "execute_result"
    }
   ],
   "source": [
    "test9(15, \"abcd\")"
   ]
  },
  {
   "cell_type": "code",
   "execution_count": 43,
   "id": "74d102f4-980b-4219-87be-b06a9fe8e6ee",
   "metadata": {},
   "outputs": [],
   "source": [
    "test9([1556, 625, 3154, 45], [845, 481, 4558, 125])"
   ]
  },
  {
   "cell_type": "code",
   "execution_count": 44,
   "id": "58b91148-97aa-42ff-aeec-7340d0ebbc1b",
   "metadata": {},
   "outputs": [],
   "source": [
    "n = test9([1556, 625, 3154, 45], [845, 481, 4558, 125])"
   ]
  },
  {
   "cell_type": "code",
   "execution_count": 45,
   "id": "9517ae62-9999-4950-afcc-2930c2a3b99d",
   "metadata": {},
   "outputs": [],
   "source": [
    "n"
   ]
  },
  {
   "cell_type": "code",
   "execution_count": 46,
   "id": "759920e7-241a-4897-a52d-4c69b2f29658",
   "metadata": {},
   "outputs": [],
   "source": [
    "a = [1556, 625, 3154, 45, 11]\n",
    "b = [845, 481, 4558, 125, 88]"
   ]
  },
  {
   "cell_type": "code",
   "execution_count": 47,
   "id": "9ede9a28-2844-4caa-9e09-256e73b11290",
   "metadata": {},
   "outputs": [],
   "source": [
    "test9(a, b)"
   ]
  },
  {
   "cell_type": "code",
   "execution_count": 48,
   "id": "63fe096e-6bf6-464e-b57a-56ee812fad10",
   "metadata": {},
   "outputs": [
    {
     "data": {
      "text/plain": [
       "[1556, 625, 3154, 45, 11, 845, 481, 4558, 125, 88]"
      ]
     },
     "execution_count": 48,
     "metadata": {},
     "output_type": "execute_result"
    }
   ],
   "source": [
    "a"
   ]
  },
  {
   "cell_type": "code",
   "execution_count": 49,
   "id": "fb530c4b-10ac-4fa7-ae21-36e3976b21a1",
   "metadata": {},
   "outputs": [],
   "source": [
    "c = [1556, 625, 3154, 45, 11]\n",
    "d = [845, 481, 4558, 125, 88]\n",
    "def test9(c, d):\n",
    "    if type(c) == list and type(d) == list:\n",
    "        c.extend(d)\n",
    "        return c\n",
    "    else:\n",
    "        return \"either of your data is not a list\""
   ]
  },
  {
   "cell_type": "code",
   "execution_count": 50,
   "id": "972c348c-3e64-4936-9501-3bdac28bea32",
   "metadata": {},
   "outputs": [
    {
     "data": {
      "text/plain": [
       "[1556, 625, 3154, 45, 11, 845, 481, 4558, 125, 88]"
      ]
     },
     "execution_count": 50,
     "metadata": {},
     "output_type": "execute_result"
    }
   ],
   "source": [
    "test9(c, d)"
   ]
  },
  {
   "cell_type": "code",
   "execution_count": 51,
   "id": "e2585b0c-0844-4352-8fbc-99ace2368cbb",
   "metadata": {},
   "outputs": [
    {
     "data": {
      "text/plain": [
       "[1556, 625, 3154, 45, 11, 845, 481, 4558, 125, 88]"
      ]
     },
     "execution_count": 51,
     "metadata": {},
     "output_type": "execute_result"
    }
   ],
   "source": [
    "c"
   ]
  },
  {
   "cell_type": "code",
   "execution_count": 52,
   "id": "351977cb-e16d-4a78-ae90-480425f90bb7",
   "metadata": {},
   "outputs": [],
   "source": [
    "def triangle(row):\n",
    "    \"\"\"this is a function which will help you to create a triangle with any number of rows.\"\"\"\n",
    "    for i in range(1, row + 1):\n",
    "        print(\"* \" * i, end = \"\")\n",
    "        print(\"\\r\")"
   ]
  },
  {
   "cell_type": "code",
   "execution_count": 53,
   "id": "82ffa5cd-4d57-433d-82a5-794dc036d4ba",
   "metadata": {},
   "outputs": [
    {
     "name": "stdin",
     "output_type": "stream",
     "text": [
      " 7\n"
     ]
    },
    {
     "name": "stdout",
     "output_type": "stream",
     "text": [
      "* \n",
      "* * \n",
      "* * * \n",
      "* * * * \n",
      "* * * * * \n",
      "* * * * * * \n",
      "* * * * * * * \n"
     ]
    }
   ],
   "source": [
    "triangle(int(input()))"
   ]
  },
  {
   "cell_type": "code",
   "execution_count": 55,
   "id": "b8854fc2-7539-4edd-85af-73827216b9e4",
   "metadata": {},
   "outputs": [],
   "source": [
    "def triangle1(n):\n",
    "    k = n - 1\n",
    "    for i in range(0, n):\n",
    "        for j in range(0, k):\n",
    "            print(end = \" \")\n",
    "        k -= 1\n",
    "        for j in range(0, i + 1):\n",
    "            print(\"* \", end = \"\")\n",
    "        print(\"\\r\")"
   ]
  },
  {
   "cell_type": "code",
   "execution_count": 56,
   "id": "818c13f8-8a04-49a0-bb71-593884f0a741",
   "metadata": {},
   "outputs": [
    {
     "name": "stdin",
     "output_type": "stream",
     "text": [
      " 5\n"
     ]
    },
    {
     "name": "stdout",
     "output_type": "stream",
     "text": [
      "    * \n",
      "   * * \n",
      "  * * * \n",
      " * * * * \n",
      "* * * * * \n"
     ]
    }
   ],
   "source": [
    "triangle1(int(input()))"
   ]
  },
  {
   "cell_type": "code",
   "execution_count": 57,
   "id": "1fa9d288-af44-4341-b415-1221f6bad479",
   "metadata": {},
   "outputs": [
    {
     "name": "stdout",
     "output_type": "stream",
     "text": [
      "Help on function triangle in module __main__:\n",
      "\n",
      "triangle(row)\n",
      "    this is a function which will help you to create a triangle with any number of rows.\n",
      "\n"
     ]
    }
   ],
   "source": [
    "help(triangle)"
   ]
  },
  {
   "cell_type": "code",
   "execution_count": 58,
   "id": "a5722bdb-8b37-4946-8be1-c1ea862af3ff",
   "metadata": {},
   "outputs": [
    {
     "name": "stdout",
     "output_type": "stream",
     "text": [
      "* \n",
      "* * \n",
      "* * * \n",
      "* * * * \n",
      "* * * * * \n",
      "Help on NoneType object:\n",
      "\n",
      "class NoneType(object)\n",
      " |  Methods defined here:\n",
      " |\n",
      " |  __bool__(self, /)\n",
      " |      True if self else False\n",
      " |\n",
      " |  __eq__(self, value, /)\n",
      " |      Return self==value.\n",
      " |\n",
      " |  __ge__(self, value, /)\n",
      " |      Return self>=value.\n",
      " |\n",
      " |  __gt__(self, value, /)\n",
      " |      Return self>value.\n",
      " |\n",
      " |  __hash__(self, /)\n",
      " |      Return hash(self).\n",
      " |\n",
      " |  __le__(self, value, /)\n",
      " |      Return self<=value.\n",
      " |\n",
      " |  __lt__(self, value, /)\n",
      " |      Return self<value.\n",
      " |\n",
      " |  __ne__(self, value, /)\n",
      " |      Return self!=value.\n",
      " |\n",
      " |  __repr__(self, /)\n",
      " |      Return repr(self).\n",
      " |\n",
      " |  ----------------------------------------------------------------------\n",
      " |  Static methods defined here:\n",
      " |\n",
      " |  __new__(*args, **kwargs)\n",
      " |      Create and return a new object.  See help(type) for accurate signature.\n",
      "\n"
     ]
    }
   ],
   "source": [
    "help(triangle(5))"
   ]
  }
 ],
 "metadata": {
  "kernelspec": {
   "display_name": "Python 3 (ipykernel)",
   "language": "python",
   "name": "python3"
  },
  "language_info": {
   "codemirror_mode": {
    "name": "ipython",
    "version": 3
   },
   "file_extension": ".py",
   "mimetype": "text/x-python",
   "name": "python",
   "nbconvert_exporter": "python",
   "pygments_lexer": "ipython3",
   "version": "3.12.7"
  }
 },
 "nbformat": 4,
 "nbformat_minor": 5
}
